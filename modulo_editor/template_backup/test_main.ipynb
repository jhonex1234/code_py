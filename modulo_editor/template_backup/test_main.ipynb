{
 "cells": [
  {
   "cell_type": "code",
   "execution_count": 4,
   "metadata": {},
   "outputs": [],
   "source": [
    "#import edit_script as es\n",
    "import json"
   ]
  },
  {
   "cell_type": "code",
   "execution_count": 5,
   "metadata": {},
   "outputs": [],
   "source": [
    "load = {'opc':1,'dato':''}\n",
    "j_son ={'id': 'agente', 'length': [60], 'message': 'Permitame por favor, en un momento le brindo la información.'}"
   ]
  },
  {
   "cell_type": "code",
   "execution_count": 6,
   "metadata": {},
   "outputs": [],
   "source": [
    "class editoreplate():\n",
    "    def __init__(self,file):\n",
    "        self.file = file\n",
    "        self.loadJson(file)\n",
    "        self.findIndex('')\n",
    "        self.name = file\n",
    "        \n",
    "    #load template, into json ---\n",
    "    def loadJson(self,file):\n",
    "        try:\n",
    "            self.file = json.load(open(file))\n",
    "        except FileNotFoundError:\n",
    "            self.file = []\n",
    "        return self.file\n",
    "    \n",
    "    #find index, method soport ---\n",
    "    def findIndex(self,keyvalue):\n",
    "        index = []\n",
    "        try:\n",
    "            if (self.file != []):\n",
    "                   for i in range(0,len(self.file)):\n",
    "                        if(self.file[i]['id'] == keyvalue):\n",
    "                            index = self.file.index(self.file[i])\n",
    "            else:\n",
    "                index = ['none']\n",
    "        except UnboundLocalError:\n",
    "            index = ['error']\n",
    "        return index\n",
    "    \n",
    "    ## edit dictionary list\n",
    "    def editJson(self,keyvalue,newdata):\n",
    "        if(self.file != []):\n",
    "            answer = ''\n",
    "            for i in range(0,len(self.file)):\n",
    "                if(self.file[i]['id'] == keyvalue):\n",
    "                    self.file.remove(self.file[i])\n",
    "                    self.file.append({'id':keyvalue,'length':len(newdata),'message':newdata})\n",
    "        else:\n",
    "            answer = 'seleccione una llave'\n",
    "        return answer\n",
    "  \n",
    "    #delete keyvalues and\n",
    "    def deleteScript(self,keyvalue):\n",
    "        if (self.file != [] and keyvalue != ''):\n",
    "            answer = ''\n",
    "            self.file.remove(self.file[self.findIndex(keyvalue)])\n",
    "        else:\n",
    "            answer = 'seleccione una llave'\n",
    "        return answer\n",
    "    \n",
    "    #create template\n",
    "    def makeJsonData(self,keyvalue,newdata):\n",
    "        if (self.file != []):\n",
    "            a = self.findIndex(keyvalue)\n",
    "            if(a == ['none'] and a != ['']):\n",
    "                self.file.append({'id':keyvalue,'length':len(newdata),'message':newdata})\n",
    "            answer = ''\n",
    "        else:\n",
    "            self.file.append({'id':keyvalue,'length':len(newdata),'message':newdata}) \n",
    "            answer = 'As Creado un template'\n",
    "        return answer\n",
    "    \n",
    "    #make json file, with list \n",
    "    def makeJson(self,name):\n",
    "        if(name == ''):\n",
    "            answer = 'Creado'\n",
    "            name = self.name\n",
    "        else:\n",
    "            answer = 'Guardado'\n",
    "        file = name+'.json'\n",
    "        with open(file, 'w') as outfile:\n",
    "             json.dump(self.file, outfile)\n",
    "        return answer\n",
    "        \n",
    "\n",
    "    #create list keys load\n",
    "    def loadlistkey(self):\n",
    "        listkeys = []\n",
    "        for i in range(0,len(self.file)):\n",
    "             listkeys.append(self.file[i]['id'])\n",
    "        return listkeys"
   ]
  },
  {
   "cell_type": "code",
   "execution_count": 7,
   "metadata": {},
   "outputs": [],
   "source": [
    "templateObj = editoreplate('testoson')"
   ]
  },
  {
   "cell_type": "code",
   "execution_count": 5,
   "metadata": {},
   "outputs": [
    {
     "data": {
      "text/plain": [
       "''"
      ]
     },
     "execution_count": 5,
     "metadata": {},
     "output_type": "execute_result"
    }
   ],
   "source": [
    "#templateObj.makeJsonData('aggente','no señor')\n",
    "#templateObj.loadlistkey()\n",
    "#templateObj.editJson('aggente','perdones')\n",
    "#templateObj.makeJson('testo')\n",
    "#templateObj.deleteScript('aggente')"
   ]
  },
  {
   "cell_type": "code",
   "execution_count": 7,
   "metadata": {},
   "outputs": [
    {
     "data": {
      "text/plain": [
       "[{'id': 'aggente', 'length': 8, 'message': 'perdones'}]"
      ]
     },
     "execution_count": 7,
     "metadata": {},
     "output_type": "execute_result"
    }
   ],
   "source": [
    "templateObj.file"
   ]
  },
  {
   "cell_type": "code",
   "execution_count": null,
   "metadata": {},
   "outputs": [],
   "source": [
    "if (load['opc'] == 1):\n",
    "    a = es.loadJson('templates.json')\n",
    "elif(load['opc'] == 2):\n",
    "    es.editJson()"
   ]
  },
  {
   "cell_type": "code",
   "execution_count": null,
   "metadata": {},
   "outputs": [],
   "source": [
    "if (file):\n",
    "    file = file\n",
    "else:\n",
    "    file = ''\n"
   ]
  },
  {
   "cell_type": "code",
   "execution_count": null,
   "metadata": {},
   "outputs": [],
   "source": [
    "def loadJson(file):\n",
    "    try:\n",
    "        file = json.load(open(file))\n",
    "    except FileNotFoundError:\n",
    "        file = []\n",
    "    return file\n",
    "\n",
    "#find index, method soport ---\n",
    "def findIndex(listdata,keyvalue):\n",
    "    index = []\n",
    "    try:\n",
    "        if (listdata != []):\n",
    "               for i in range(0,len(listdata)):\n",
    "                    if(listdata[i]['id'] == keyvalue):\n",
    "                        index = listdata.index(listdata[i])\n",
    "        else:\n",
    "            index = 1\n",
    "    except UnboundLocalError:\n",
    "        index = 1\n",
    "    return index\n",
    "\n",
    "## edit dictionary list\n",
    "def editJson(listdata,keyvalue,newdata):\n",
    "    if(listdata != []):\n",
    "        for i in range(0,len(listdata)):\n",
    "            if(listdata[i]['id'] == keyvalue):\n",
    "                listdata.remove(listdata[i])\n",
    "                listdata.append({'id':keyvalue,'length':len(newdata),'message':newdata})\n",
    "    else:\n",
    "        listdata = 'seleccione una llave'\n",
    "    return listdata\n",
    "\n",
    "#delete keyvalues and\n",
    "def deleteScript(listdata,keyvalue):\n",
    "    if (listdata != [] and keyvalue != ''):    \n",
    "        listdata.remove(listdata[findIndex(listdata,keyvalue)])\n",
    "    else:\n",
    "        listdata = 'seleccione una llave'\n",
    "    return listdata\n",
    "\n",
    "#create template\n",
    "def makeJsonData(listdata,keyvalue,newdata):\n",
    "    if (listdata != []):\n",
    "        a = findIndex(listdata,keyvalue)\n",
    "        if(a != [''] and a != 1):\n",
    "            listdata.append({'id':keyvalue,'length':len(newdata),'message':newdata})\n",
    "    else:\n",
    "        listdata.append({'id':keyvalue,'length':len(newdata),'message':newdata})\n",
    "    return listdata\n",
    "\n",
    "#make json file, with list \n",
    "\n",
    "\n",
    "#create list keys\n",
    "def loadlistkey(listjson):\n",
    "    listkeys = []\n",
    "    for i in range(0,len(read_json)):\n",
    "         listkeys.append(read_json[i]['id'])\n",
    "    return listkeys"
   ]
  },
  {
   "cell_type": "code",
   "execution_count": 57,
   "metadata": {},
   "outputs": [],
   "source": [
    "def extract_basename(path):\n",
    "    \"\"\"Extracts basename of a given path. Should Work with any OS Path on any OS\"\"\"\n",
    "    basename = re.search(r'[^\\\\/]+(?=[\\\\/]?$)', path)\n",
    "    return basename.group(0)"
   ]
  },
  {
   "cell_type": "code",
   "execution_count": 60,
   "metadata": {},
   "outputs": [],
   "source": [
    "a = extract_basename('C:\\fakepath\\templates.json')"
   ]
  },
  {
   "cell_type": "code",
   "execution_count": 61,
   "metadata": {},
   "outputs": [
    {
     "data": {
      "text/plain": [
       "'C:\\x0cakepath\\templates.json'"
      ]
     },
     "execution_count": 61,
     "metadata": {},
     "output_type": "execute_result"
    }
   ],
   "source": [
    "a"
   ]
  },
  {
   "cell_type": "code",
   "execution_count": 8,
   "metadata": {},
   "outputs": [],
   "source": [
    "def makeJson(data,name):\n",
    "    file = name+'.json'\n",
    "    with open(file, 'w') as outfile:\n",
    "         json.dump(data, outfile)"
   ]
  },
  {
   "cell_type": "code",
   "execution_count": 9,
   "metadata": {},
   "outputs": [],
   "source": [
    "makeJson([],'j')\n"
   ]
  },
  {
   "cell_type": "code",
   "execution_count": 10,
   "metadata": {},
   "outputs": [
    {
     "ename": "NameError",
     "evalue": "name '__file__' is not defined",
     "output_type": "error",
     "traceback": [
      "\u001b[0;31m--------------------------------------------------------------------------\u001b[0m",
      "\u001b[0;31mNameError\u001b[0m                                Traceback (most recent call last)",
      "\u001b[0;32m<ipython-input-10-5c4e5eb8e0fd>\u001b[0m in \u001b[0;36m<module>\u001b[0;34m()\u001b[0m\n\u001b[1;32m      3\u001b[0m \u001b[0;32mimport\u001b[0m \u001b[0mjson\u001b[0m\u001b[0;34m\u001b[0m\u001b[0m\n\u001b[1;32m      4\u001b[0m \u001b[0;34m\u001b[0m\u001b[0m\n\u001b[0;32m----> 5\u001b[0;31m \u001b[0mscript_dir\u001b[0m \u001b[0;34m=\u001b[0m \u001b[0mos\u001b[0m\u001b[0;34m.\u001b[0m\u001b[0mpath\u001b[0m\u001b[0;34m.\u001b[0m\u001b[0mdirname\u001b[0m\u001b[0;34m(\u001b[0m\u001b[0m__file__\u001b[0m\u001b[0;34m)\u001b[0m \u001b[0;31m#<-- absolute dir the script is in\u001b[0m\u001b[0;34m\u001b[0m\u001b[0m\n\u001b[0m\u001b[1;32m      6\u001b[0m \u001b[0mrel_path\u001b[0m \u001b[0;34m=\u001b[0m \u001b[0;34m\"templates.json\"\u001b[0m\u001b[0;34m\u001b[0m\u001b[0m\n\u001b[1;32m      7\u001b[0m \u001b[0mpath\u001b[0m \u001b[0;34m=\u001b[0m \u001b[0mos\u001b[0m\u001b[0;34m.\u001b[0m\u001b[0mpath\u001b[0m\u001b[0;34m.\u001b[0m\u001b[0mjoin\u001b[0m\u001b[0;34m(\u001b[0m\u001b[0mscript_dir\u001b[0m\u001b[0;34m,\u001b[0m \u001b[0;34m\"uploads/\"\u001b[0m\u001b[0;34m+\u001b[0m\u001b[0mrel_path\u001b[0m\u001b[0;34m)\u001b[0m\u001b[0;34m\u001b[0m\u001b[0m\n",
      "\u001b[0;31mNameError\u001b[0m: name '__file__' is not defined"
     ]
    }
   ],
   "source": [
    "#\"/home/jhonex/Documentos/codigo_py_soport/modulo_editor/template_backup\"\n",
    "import os\n",
    "import json\n",
    "\n",
    "script_dir = os.path.dirname(__file__) #<-- absolute dir the script is in\n",
    "rel_path = \"templates.json\"\n",
    "path = os.path.join(script_dir, \"uploads/\"+rel_path)\n",
    "fp = json.load(open(path,'r+'))\n",
    "fp"
   ]
  },
  {
   "cell_type": "code",
   "execution_count": null,
   "metadata": {},
   "outputs": [],
   "source": []
  }
 ],
 "metadata": {
  "kernelspec": {
   "display_name": "Python 3",
   "language": "python",
   "name": "python3"
  },
  "language_info": {
   "codemirror_mode": {
    "name": "ipython",
    "version": 3
   },
   "file_extension": ".py",
   "mimetype": "text/x-python",
   "name": "python",
   "nbconvert_exporter": "python",
   "pygments_lexer": "ipython3",
   "version": "3.5.4"
  }
 },
 "nbformat": 4,
 "nbformat_minor": 2
}
