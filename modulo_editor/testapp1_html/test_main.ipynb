{
 "cells": [
  {
   "cell_type": "code",
   "execution_count": 1,
   "metadata": {},
   "outputs": [],
   "source": [
    "#import edit_script as es\n",
    "import json"
   ]
  },
  {
   "cell_type": "code",
   "execution_count": 2,
   "metadata": {},
   "outputs": [],
   "source": [
    "class editoreplate():\n",
    "    def __init__(self,file):\n",
    "        self.file = file\n",
    "        self.loadJson(file)\n",
    "        self.name = file\n",
    "        \n",
    "    def loadJson(self,file):\n",
    "        try:\n",
    "            self.file = json.load(open(file))\n",
    "        except FileNotFoundError:\n",
    "            self.file = {}\n",
    "        return self.file\n",
    "    \n",
    "    def editJson(self,keyvalue,newdata):\n",
    "        self.file[keyvalue] = newdata\n",
    "        return self.file[keyvalue]\n",
    "\n",
    "    def makeJsonData(self,keyvalue,newdata):\n",
    "        self.file[keyvalue] = newdata\n",
    "  \n",
    "    def deleteScript(self,keyvalue):\n",
    "        return self.file.pop(keyvalue)\n",
    "       \n",
    "    def makeJson(self,name):\n",
    "        if(self.name != '' ):\n",
    "            self.name = self.name\n",
    "        else:\n",
    "            self.name = name+'.json'\n",
    "        with open(self.name, 'w') as outfile:\n",
    "             json.dump(self.file, outfile)\n",
    "        return self.name\n",
    "        \n",
    "    def loadlistkey(self):\n",
    "        return list(self.file.keys())\n",
    "    \n",
    "    def loadmjs(self,key):\n",
    "        return self.file[key]\n",
    "         "
   ]
  },
  {
   "cell_type": "code",
   "execution_count": 3,
   "metadata": {},
   "outputs": [],
   "source": [
    "templateObj = editoreplate('templates.json')"
   ]
  },
  {
   "cell_type": "code",
   "execution_count": null,
   "metadata": {},
   "outputs": [],
   "source": [
    "li = ['[UserFirstName], en un momento un asesor especializado lo atendera para brindarle una mejor información.',\n",
    " '[UserFirstName], lo voy a transferir a un asesor especializado para que lo pueda ayudar con este tema',\n",
    " '[UserFirstName], para responder a su inquietud de una forma más precisa, lo comunicare con un asesor especializado.']"
   ]
  },
  {
   "cell_type": "code",
   "execution_count": 4,
   "metadata": {},
   "outputs": [
    {
     "data": {
      "text/plain": [
       "['[UserFirstName], en un momento un asesor especializado lo atendera para brindarle una mejor información.',\n",
       " '[UserFirstName], lo voy a transferir a un asesor especializado para que lo pueda ayudar con este tema',\n",
       " '[UserFirstName], para responder a su inquietud de una forma más precisa, lo comunicare con un asesor especializado.']"
      ]
     },
     "execution_count": 4,
     "metadata": {},
     "output_type": "execute_result"
    }
   ],
   "source": [
    "templateObj.loadlistkey()\n",
    "templateObj.loadmjs('agente')\n",
    "#templateObj.makeJsonData('agente',li)#templateObj.loadlistkey()\n",
    "#templateObj.deleteScript('agente')\n",
    "#templateObj.editJson('agente',li)\n",
    "#templateObj.makeJson('templates.json')\n",
    "#templates.json"
   ]
  },
  {
   "cell_type": "code",
   "execution_count": null,
   "metadata": {},
   "outputs": [],
   "source": [
    "dicionario = loadJson('templates.json')"
   ]
  },
  {
   "cell_type": "code",
   "execution_count": null,
   "metadata": {},
   "outputs": [],
   "source": [
    "dicionario.pop(keyvalue)\n",
    "dicionario.keys()"
   ]
  },
  {
   "cell_type": "code",
   "execution_count": null,
   "metadata": {},
   "outputs": [],
   "source": [
    "dic = {'hola':'buenas'}"
   ]
  },
  {
   "cell_type": "code",
   "execution_count": null,
   "metadata": {},
   "outputs": [],
   "source": [
    "dic['quetas'] = 'buen'"
   ]
  },
  {
   "cell_type": "code",
   "execution_count": null,
   "metadata": {},
   "outputs": [],
   "source": [
    "dic"
   ]
  },
  {
   "cell_type": "code",
   "execution_count": 6,
   "metadata": {},
   "outputs": [],
   "source": [
    "flag =True"
   ]
  },
  {
   "cell_type": "code",
   "execution_count": 8,
   "metadata": {},
   "outputs": [
    {
     "name": "stdout",
     "output_type": "stream",
     "text": [
      "False\n"
     ]
    }
   ],
   "source": [
    "file = {'s'}\n",
    "if(file):\n",
    "    flag =False\n",
    "print(flag)"
   ]
  },
  {
   "cell_type": "code",
   "execution_count": 7,
   "metadata": {},
   "outputs": [
    {
     "data": {
      "text/plain": [
       "['lorenita', 'lorenota', ' lorenitas']"
      ]
     },
     "execution_count": 7,
     "metadata": {},
     "output_type": "execute_result"
    }
   ],
   "source": [
    "a = \"lorenita,lorenota,lorenitas\"\n"
   ]
  },
  {
   "cell_type": "code",
   "execution_count": null,
   "metadata": {},
   "outputs": [],
   "source": []
  },
  {
   "cell_type": "code",
   "execution_count": null,
   "metadata": {},
   "outputs": [],
   "source": []
  }
 ],
 "metadata": {
  "kernelspec": {
   "display_name": "Python 3",
   "language": "python",
   "name": "python3"
  },
  "language_info": {
   "codemirror_mode": {
    "name": "ipython",
    "version": 3
   },
   "file_extension": ".py",
   "mimetype": "text/x-python",
   "name": "python",
   "nbconvert_exporter": "python",
   "pygments_lexer": "ipython3",
   "version": "3.5.4"
  }
 },
 "nbformat": 4,
 "nbformat_minor": 2
}
