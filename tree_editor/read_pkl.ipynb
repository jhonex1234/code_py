{
 "cells": [
  {
   "cell_type": "code",
   "execution_count": 1,
   "metadata": {},
   "outputs": [],
   "source": [
    "import json as js\n",
    "import joblib\n"
   ]
  },
  {
   "cell_type": "markdown",
   "metadata": {},
   "source": [
    "### Name Tree file"
   ]
  },
  {
   "cell_type": "code",
   "execution_count": 2,
   "metadata": {},
   "outputs": [],
   "source": [
    "tree = 'tree_dialog_config.json'\n",
    "filepkl = 'trained_package.pkl'"
   ]
  },
  {
   "cell_type": "markdown",
   "metadata": {},
   "source": [
    "## cl_Tree"
   ]
  },
  {
   "cell_type": "code",
   "execution_count": 30,
   "metadata": {},
   "outputs": [],
   "source": [
    "import json\n",
    "import os\n",
    "#route files\n",
    "script_dir = ''#os.path.dirname(os.path.abspath(__file__))\n",
    "\n",
    "class clTree():\n",
    "    \n",
    "    def __init__(self,a):\n",
    "        self.a = a\n",
    "        self.nameFile = ''\n",
    "        self.nameKeyVal = ''\n",
    "        \n",
    "        self.listState = []\n",
    "        self.listKeysTemplates = []\n",
    "        self.listLabelPkl = []\n",
    "        \n",
    "        self.listModels = []\n",
    "        self.listTransitions = []\n",
    "        self.listTemplates = []\n",
    "        self.Tree = {}\n",
    "    \n",
    "    def loadTree(self,nameTree,+nameKey):\n",
    "        try:\n",
    "            path_tree = os.path.join(script_dir, \"uploads/\"+nameTree)\n",
    "            file_tree =  json.load(open(path_tree,'r+'))\n",
    "            \n",
    "            path_key = os.path.join(script_dir, \"keystate/\"+nameKey)\n",
    "            file_tree =  json.load(open(path,'r+'))\n",
    "            \n",
    "        except OSError:\n",
    "            msj = 'Archivo No encontrado'\n",
    "        return self.file\n",
    "    \n",
    "    def makeStateList(self,state):\n",
    "        #read pkl\n",
    "        self.listState = [\n",
    "            'saludo',\n",
    "             'principal',\n",
    "             'costo_procedimiento',\n",
    "             'costo_fusion',\n",
    "             'costo_procedimiento',\n",
    "             'inscripcion',\n",
    "             'temas_renovacion',\n",
    "             'tipo_renovacion',\n",
    "             'medios_pago',\n",
    "             'clave_segura',\n",
    "             'despedida'\n",
    "             ]\n",
    "        return self.listState\n",
    "    \n",
    "    def makeModel(id_state,state):\n",
    "        self.listModels.append({\"id\": id_state, \"state\":state})\n",
    "        \n",
    "    def newTreeFile(self,name):\n",
    "        \n",
    "        self.nameFile = name+'.json'\n",
    "        self.nameKeyVal = name+'_keys'+'.json'\n",
    "        \n",
    "        file_Tree = os.path.join(script_dir, \"uploads/\"+self.nameFile)\n",
    "        file_Key = os.path.join(script_dir,\"keystate/\"+self.nameKeyVal)\n",
    "        \n",
    "        with open(file_Tree, 'w+', encoding='utf-8') as outfile:\n",
    "             json.dump('{}', outfile)\n",
    "        \n",
    "        with open(file_Key, 'w+', encoding='utf-8') as out_file:\n",
    "             json.dump('{}', out_file)\n",
    "                \n",
    "        msj = 'Archivo Creado'\n",
    "        return msj\n",
    "    \n",
    "    \n",
    "    def makeFileTree(self, max_attempts, initstate, endstate):\n",
    "        \n",
    "        self.Tree ={\n",
    "            \"max_attempts\": max_attempts,\n",
    "            \"initial_state\": initstate,\n",
    "            \"final_state\": endstate,\n",
    "            \"models\": self.listModels,\n",
    "            \"transitions\": self.listTransitions,\n",
    "            \"templates\": self.listTemplates\n",
    "         \n",
    "        }\n",
    "        \n",
    "        file_Tree = os.path.join(script_dir, \"uploads/\"+self.nameFile)\n",
    "        with open(file_Tree, 'w+', encoding='utf-8') as outfile:\n",
    "             json.dump(self.Tree, outfile)\n",
    "        \n",
    "        return  self.Tree\n",
    "   # def makeListState(self):\n",
    "    "
   ]
  },
  {
   "cell_type": "code",
   "execution_count": 31,
   "metadata": {},
   "outputs": [],
   "source": [
    "treeobj = clTree('a')"
   ]
  },
  {
   "cell_type": "code",
   "execution_count": 32,
   "metadata": {},
   "outputs": [
    {
     "data": {
      "text/plain": [
       "'Archivo Creado'"
      ]
     },
     "execution_count": 32,
     "metadata": {},
     "output_type": "execute_result"
    }
   ],
   "source": [
    "treeobj.newTreeFile('test')"
   ]
  },
  {
   "cell_type": "code",
   "execution_count": 33,
   "metadata": {},
   "outputs": [
    {
     "data": {
      "text/plain": [
       "{'final_state': 's8',\n",
       " 'initial_state': 's1',\n",
       " 'max_attempts': 0,\n",
       " 'models': [],\n",
       " 'templates': [],\n",
       " 'transitions': []}"
      ]
     },
     "execution_count": 33,
     "metadata": {},
     "output_type": "execute_result"
    }
   ],
   "source": [
    "treeobj.makeFileTree(0,'s1','s8')"
   ]
  },
  {
   "cell_type": "code",
   "execution_count": null,
   "metadata": {},
   "outputs": [],
   "source": []
  },
  {
   "cell_type": "code",
   "execution_count": 6,
   "metadata": {},
   "outputs": [],
   "source": [
    "a = file['models']"
   ]
  },
  {
   "cell_type": "code",
   "execution_count": 7,
   "metadata": {},
   "outputs": [],
   "source": [
    "b = []\n",
    "for i in a:\n",
    "    b.append(i['id'])"
   ]
  },
  {
   "cell_type": "code",
   "execution_count": 3,
   "metadata": {},
   "outputs": [],
   "source": [
    "#read tree json file name file\n",
    "def loadTree(tree):\n",
    "    try:\n",
    "        js_tree = js.load(open(tree))\n",
    "    except OSError:\n",
    "        js_tree = {}\n",
    "    return js_tree\n",
    "\n",
    "def loadPkl(filepkl):\n",
    "    return filepkl\n",
    "\n",
    "def makeTree():\n",
    "    "
   ]
  },
  {
   "cell_type": "code",
   "execution_count": 4,
   "metadata": {},
   "outputs": [],
   "source": [
    "file = loadTree(tree)\n",
    "#read = loadPkl(filepkl)"
   ]
  },
  {
   "cell_type": "markdown",
   "metadata": {},
   "source": [
    "## archivo que debe ser generado"
   ]
  },
  {
   "cell_type": "code",
   "execution_count": 65,
   "metadata": {},
   "outputs": [],
   "source": [
    "#{\n",
    "#'initial_state' = str = 's1'\n",
    "#'templates' = list = {\n",
    "#           'id': (list_pkl_trained), \n",
    "#           'label': (list_json_templa), \n",
    "#           'state': (list_make_state), \n",
    "#           'topic': (list_topic)}\n",
    "#'max_attempts' = int = 0\n",
    "#'topics' = {'pendiente'}\n",
    "#'transitions' = List_dic =  {\n",
    "#                 'ending_state': (list_make_state),\n",
    "#                 'is_forced': (bool),\n",
    "#                 'label': (list_json_templa),\n",
    "#                 'starting_state': (list_make_state)\n",
    "#                 }\n",
    "#'models' = List_dic = {'id': 'saludo', 'state': 's1'}]\n",
    "#'final_state'  = str = 's8'\n",
    "#}"
   ]
  },
  {
   "cell_type": "code",
   "execution_count": null,
   "metadata": {},
   "outputs": [],
   "source": [
    "import json\n",
    "import os\n",
    "script_dir = os.path.dirname(os.path.abspath(__file__))\n",
    "\n",
    "class editoreplate():\n",
    "    def __init__(self,file):\n",
    "        self.file = file\n",
    "        self.loadJson(file)\n",
    "        self.name = file\n",
    "        \n",
    "    #load template, into json ---\n",
    "    def loadJson(self,rel_path):\n",
    "        try:\n",
    "            path = os.path.join(script_dir, \"uploads/\"+rel_path)\n",
    "            self.file =  json.load(open(path,'r+'))\n",
    "        except OSError:\n",
    "            self.file = {}\n",
    "        return self.file\n",
    "    \n",
    "    def editJson(self,keyvalue,selectkey,newdata):\n",
    "        self.file.pop(selectkey)\n",
    "        newdata = newdata.split('<>')\n",
    "        self.file[keyvalue] = newdata\n",
    "        \n",
    "    def makeJsonData(self,keyvalue,newdata):\n",
    "        newdata = newdata.split('<>')\n",
    "        self.file[keyvalue] = newdata\n",
    "  \n",
    "    def deleteScript(self,keyvalue):\n",
    "        self.file.pop(keyvalue)\n",
    "       \n",
    "    def makeJson(self,name):\n",
    "        if(self.file != [] ):\n",
    "            if(name != ''):\n",
    "                file = name+'.json'\n",
    "                self.name = name+'.json'\n",
    "            else:\n",
    "                file = self.name\n",
    "        else:\n",
    "            file = name+'.json'\n",
    "            self.name = name+'.json'\n",
    "         \n",
    "        file = os.path.join(script_dir, \"uploads/\"+file)\n",
    "        with open(file, 'w+', encoding='utf-8') as outfile:\n",
    "             json.dump(self.file, outfile)\n",
    "        return self.name\n",
    "        \n",
    "    def loadlistkey(self):\n",
    "        return list(self.file.keys())\n",
    "    \n",
    "    def loadmjs(self,key):\n",
    "        return self.file[key]\n",
    "         "
   ]
  }
 ],
 "metadata": {
  "kernelspec": {
   "display_name": "Python 3",
   "language": "python",
   "name": "python3"
  },
  "language_info": {
   "codemirror_mode": {
    "name": "ipython",
    "version": 3
   },
   "file_extension": ".py",
   "mimetype": "text/x-python",
   "name": "python",
   "nbconvert_exporter": "python",
   "pygments_lexer": "ipython3",
   "version": "3.5.4"
  }
 },
 "nbformat": 4,
 "nbformat_minor": 2
}
