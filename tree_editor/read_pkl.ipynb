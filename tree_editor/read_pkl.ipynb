{
 "cells": [
  {
   "cell_type": "code",
   "execution_count": 1,
   "metadata": {},
   "outputs": [],
   "source": [
    "import json as js\n",
    "import joblib\n"
   ]
  },
  {
   "cell_type": "markdown",
   "metadata": {},
   "source": [
    "### Name Tree file"
   ]
  },
  {
   "cell_type": "code",
   "execution_count": 2,
   "metadata": {},
   "outputs": [],
   "source": [
    "tree = 'tree_dialog_config.json'\n",
    "filepkl = 'trained_package.pkl'"
   ]
  },
  {
   "cell_type": "markdown",
   "metadata": {},
   "source": [
    "## cl_Tree"
   ]
  },
  {
   "cell_type": "code",
   "execution_count": 154,
   "metadata": {},
   "outputs": [],
   "source": [
    "import json\n",
    "import os\n",
    "import sqlite3 as db\n",
    "\n",
    "#route files\n",
    "\n",
    "#os.path.dirname(os.path.abspath(__file__))\n",
    "script_dir = ''\n",
    "\n",
    "#os.path.dirname(os.path.abspath(__file__))\n",
    "script_data_ddir = '/home/jhonex/Documentos/codigo/codigo_py_soport/tree_editor/resource_bd/bd_script/'\n",
    "dir_name = '/home/jhonex/Documentos/codigo/codigo_py_soport/tree_editor/resource_bd/bd_script/resource_db_tree.sql'\n",
    "\n",
    "\n",
    "class clTree():\n",
    "    \n",
    "    def __init__(self,namefile):\n",
    "        self.a = namefile\n",
    "        \n",
    "        self.conectDBList(dir_name)\n",
    "        self.valdata('')\n",
    "        self.nameFile = ''\n",
    "        self.nameKeyVal = ''\n",
    "        \n",
    "        self.listState = []\n",
    "        self.listKeysTemplates = []\n",
    "        self.listLabelPkl = []\n",
    "        \n",
    "        self.listModels = []\n",
    "        self.listTransitions = []\n",
    "        self.listTemplates = []\n",
    "        self.Tree = {}\n",
    "    \n",
    "    def conectDBList(self,namefile):\n",
    "        cn = db.connect(namefile)\n",
    "        \n",
    "    \n",
    "    def newTreeFile(self,name):\n",
    "        \n",
    "        self.nameFile = name+'.json'\n",
    "        \n",
    "        file_Tree = os.path.join(script_dir, \"uploads/\"+self.nameFile)\n",
    "        \n",
    "        with open(file_Tree, 'w+', encoding='utf-8') as outfile:\n",
    "             json.dump('{}', outfile)\n",
    "        \n",
    "        msj = 'Archivo Creado'\n",
    "        return msj\n",
    "    \n",
    "    def valdata(self,val):\n",
    "        a = True\n",
    "        if(self.nameFile != '' and val != ''):\n",
    "            cn = db.connect(dir_name)\n",
    "            cur = cn.cursor()\n",
    "            cur.execute(\"select * from tbl_listState where nameFile='%s' and keylistState='%s'\"%(self.nameFile,val))\n",
    "            if(cur.fetchall() != []):\n",
    "                a = False\n",
    "            else:\n",
    "                a = True\n",
    "            cur.close()\n",
    "        else:\n",
    "            a = True\n",
    "        return a\n",
    "    \n",
    "    def createState(self,state):\n",
    "        if(self.nameFile != '' and state != ''):\n",
    "            msj = ''\n",
    "            if(self.valdata(self.nameFile,state)):\n",
    "                cn = db.connect(dir_name)\n",
    "                cur = cn.cursor()\n",
    "                cur.execute(\"insert into tbl_listState (nameFile,keylistState) values ('%s','%s')\"%(self.nameFile,state))\n",
    "                cn.commit()\n",
    "                cur.close()\n",
    "                msj = 'clave creada'\n",
    "            else:\n",
    "                msj = 'La clave no se pudo crear'\n",
    "        return msj \n",
    "\n",
    "    def makelistlabel(filetemplatte):\n",
    "        \n",
    "    \n",
    "    def makeFileTree(self, max_attempts, initstate, endstate):\n",
    "        \n",
    "        self.Tree ={\n",
    "            \"max_attempts\": max_attempts,\n",
    "            \"initial_state\": initstate,\n",
    "            \"final_state\": endstate,\n",
    "            \"models\": self.listModels,\n",
    "            \"transitions\": self.listTransitions,\n",
    "            \"templates\": self.listTemplates\n",
    "         \n",
    "        }\n",
    "        \n",
    "        file_Tree = os.path.join(script_dir, \"uploads/\"+self.nameFile)\n",
    "        with open(file_Tree, 'w+', encoding='utf-8') as outfile:\n",
    "             json.dump(self.Tree, outfile)\n",
    "        \n",
    "\n",
    "    "
   ]
  },
  {
   "cell_type": "code",
   "execution_count": 140,
   "metadata": {},
   "outputs": [],
   "source": [
    "    \n",
    "    def makeState(self,state):\n",
    "        self.listState.append(state)\n",
    "        \n",
    "        \n",
    "    \n",
    "    \n",
    "    def makeModel(id_state,state):\n",
    "        self.listModels.append({\"id\": id_state, \"state\":state})\n",
    "                return  self.Tree\n",
    "   # def makeListState(self):\n",
    "   "
   ]
  },
  {
   "cell_type": "markdown",
   "metadata": {},
   "source": [
    "### Metodos pendientes para clase"
   ]
  },
  {
   "cell_type": "code",
   "execution_count": null,
   "metadata": {},
   "outputs": [],
   "source": [
    "def loadTree(self,nameTree,nameKey):\n",
    "        try:\n",
    "            path_tree = os.path.join(script_dir, \"uploads/\"+nameTree)\n",
    "            file_tree =  json.load(open(path_tree,'r+'))\n",
    "            \n",
    "            path_key = os.path.join(script_dir, \"keystate/\"+nameKey)\n",
    "            file_tree =  json.load(open(path,'r+'))\n",
    "            \n",
    "        except OSError:\n",
    "            msj = 'Archivo No encontrado'\n",
    "        return self.file"
   ]
  },
  {
   "cell_type": "code",
   "execution_count": 4,
   "metadata": {},
   "outputs": [],
   "source": [
    "import sqlite3 as db"
   ]
  },
  {
   "cell_type": "code",
   "execution_count": 15,
   "metadata": {},
   "outputs": [],
   "source": [
    "\n",
    "script_data_dir = '/home/jhonex/Documentos/codigo/codigo_py_soport/tree_editor/resource_bd/bd_script/'\n",
    "\n",
    "def createDBList(namefile):\n",
    "    d_b = namefile+\".\"+\"sqlite_master\"\n",
    "    dir_name = script_data_dir+namefile+\".sql\"\n",
    "\n",
    "    cn = db.connect(dir_name)\n",
    "    cur = cn.cursor()\n",
    "    cur.execute(\"SELECT name FROM sqlite_master WHERE type='table';\")\n",
    "    reg = cur.fetchall()\n",
    "    cur.close()\n",
    "    if(reg == []):\n",
    "        cn = db.connect(dir_name)\n",
    "        cur = cn.cursor()\n",
    "        cur.execute(\n",
    "            \"create table tbl_keyslabel \"+\"(idReg INTEGER PRIMARY KEY AUTOINCREMENT,\"+\n",
    "            \"nameFile varchar(25),keylabel)\" )"
   ]
  },
  {
   "cell_type": "code",
   "execution_count": null,
   "metadata": {},
   "outputs": [],
   "source": [
    "self.listState = []\n",
    "self.listKeysTemplates = []\n",
    "self.listLabelPkl = []"
   ]
  },
  {
   "cell_type": "code",
   "execution_count": 21,
   "metadata": {},
   "outputs": [
    {
     "data": {
      "text/plain": [
       "[('tbl_keyslabel',),\n",
       " ('sqlite_sequence',),\n",
       " ('tbl_listState',),\n",
       " ('tbl_LabelPkl',)]"
      ]
     },
     "execution_count": 21,
     "metadata": {},
     "output_type": "execute_result"
    }
   ],
   "source": [
    "a"
   ]
  },
  {
   "cell_type": "code",
   "execution_count": null,
   "metadata": {},
   "outputs": [],
   "source": [
    "cur.execute(\"select keylistState from tbl_listState where nameFile=\") \n",
    "listState = cur.fetchall()\n",
    "cur.execute(\"select keyLabelPkl from tbl_LabelPkl where nameFile=\") \n",
    "listLabelPkl = cur.fetchall()"
   ]
  },
  {
   "cell_type": "code",
   "execution_count": 23,
   "metadata": {},
   "outputs": [],
   "source": [
    "def loadresource(name):\n",
    "    dir_name = '/home/jhonex/Documentos/codigo/codigo_py_soport/tree_editor/resource_bd/bd_script/resource_tree.sql'\n",
    "    \n",
    "    cn = db.connect(dir_name)\n",
    "    cur = cn.cursor()\n",
    "    cur.execute(\"select keylistState from tbl_listState where nameFile='%s'\"%(name)) \n",
    "    \n",
    "    listState = cur.fetchall()\n",
    "    \n",
    "    cur.execute(\"select keyLabelPkl from tbl_LabelPkl where nameFile='%s'\"%(name)) \n",
    "    \n",
    "    listLabelPkl = cur.fetchall()\n",
    "    \n",
    "    cur.execute(\"select keylabel from tbl_keyslabel where nameFile='%s'\"%(name))\n",
    "    \n",
    "    listKeysTemplates = cur.fetchall()\n",
    "    \n",
    "    cur.close()\n",
    "    return 'cargado'\n",
    "    "
   ]
  },
  {
   "cell_type": "code",
   "execution_count": 4,
   "metadata": {},
   "outputs": [],
   "source": [
    "file = loadTree(tree)\n",
    "#read = loadPkl(filepkl)"
   ]
  },
  {
   "cell_type": "code",
   "execution_count": null,
   "metadata": {},
   "outputs": [],
   "source": []
  },
  {
   "cell_type": "code",
   "execution_count": 145,
   "metadata": {},
   "outputs": [
    {
     "name": "stdout",
     "output_type": "stream",
     "text": [
      "[]\n"
     ]
    }
   ],
   "source": [
    "dir_name = '/home/jhonex/Documentos/codigo/codigo_py_soport/tree_editor/resource_bd/bd_script/resource_db_tree.sql'\n",
    "  \n",
    "cn = db.connect(dir_name)\n",
    "cur = cn.cursor()\n",
    "cur.execute(\"DELETE FROM tbl_listState \")\n",
    "print(cur.fetchall())\n",
    "cn.commit()\n",
    "cur.close()"
   ]
  },
  {
   "cell_type": "code",
   "execution_count": 124,
   "metadata": {},
   "outputs": [],
   "source": []
  },
  {
   "cell_type": "code",
   "execution_count": 150,
   "metadata": {},
   "outputs": [
    {
     "data": {
      "text/plain": [
       "False"
      ]
     },
     "execution_count": 150,
     "metadata": {},
     "output_type": "execute_result"
    }
   ],
   "source": [
    "valdata('treen_test.json','s1')"
   ]
  },
  {
   "cell_type": "code",
   "execution_count": 151,
   "metadata": {},
   "outputs": [
    {
     "data": {
      "text/plain": [
       "'La clave no se pudo crear'"
      ]
     },
     "execution_count": 151,
     "metadata": {},
     "output_type": "execute_result"
    }
   ],
   "source": [
    "createState('treen_test.json','s1')"
   ]
  },
  {
   "cell_type": "markdown",
   "metadata": {},
   "source": [
    "## archivo que debe ser generado"
   ]
  },
  {
   "cell_type": "code",
   "execution_count": 65,
   "metadata": {},
   "outputs": [],
   "source": [
    "#{\n",
    "#'initial_state' = str = 's1'\n",
    "#'templates' = list = {\n",
    "#           'id': (list_pkl_trained), \n",
    "#           'label': (list_json_templa), \n",
    "#           'state': (list_make_state), \n",
    "#           'topic': (list_topic)}\n",
    "#'max_attempts' = int = 0\n",
    "#'topics' = {'pendiente'}\n",
    "#'transitions' = List_dic =  {\n",
    "#                 'ending_state': (list_make_state),\n",
    "#                 'is_forced': (bool),\n",
    "#                 'label': (list_json_templa),\n",
    "#                 'starting_state': (list_make_state)\n",
    "#                 }\n",
    "#'models' = List_dic = {'id': 'saludo', 'state': 's1'}]\n",
    "#'final_state'  = str = 's8'\n",
    "#}"
   ]
  },
  {
   "cell_type": "code",
   "execution_count": null,
   "metadata": {},
   "outputs": [],
   "source": [
    "import json\n",
    "import os\n",
    "script_dir = os.path.dirname(os.path.abspath(__file__))\n",
    "\n",
    "class editoreplate():\n",
    "    def __init__(self,file):\n",
    "        self.file = file\n",
    "        self.loadJson(file)\n",
    "        self.name = file\n",
    "        \n",
    "    #load template, into json ---\n",
    "    def loadJson(self,rel_path):\n",
    "        try:\n",
    "            path = os.path.join(script_dir, \"uploads/\"+rel_path)\n",
    "            self.file =  json.load(open(path,'r+'))\n",
    "        except OSError:\n",
    "            self.file = {}\n",
    "        return self.file\n",
    "    \n",
    "    def editJson(self,keyvalue,selectkey,newdata):\n",
    "        self.file.pop(selectkey)\n",
    "        newdata = newdata.split('<>')\n",
    "        self.file[keyvalue] = newdata\n",
    "        \n",
    "    def makeJsonData(self,keyvalue,newdata):\n",
    "        newdata = newdata.split('<>')\n",
    "        self.file[keyvalue] = newdata\n",
    "  \n",
    "    def deleteScript(self,keyvalue):\n",
    "        self.file.pop(keyvalue)\n",
    "       \n",
    "    def makeJson(self,name):\n",
    "        if(self.file != [] ):\n",
    "            if(name != ''):\n",
    "                file = name+'.json'\n",
    "                self.name = name+'.json'\n",
    "            else:\n",
    "                file = self.name\n",
    "        else:\n",
    "            file = name+'.json'\n",
    "            self.name = name+'.json'\n",
    "         \n",
    "        file = os.path.join(script_dir, \"uploads/\"+file)\n",
    "        with open(file, 'w+', encoding='utf-8') as outfile:\n",
    "             json.dump(self.file, outfile)\n",
    "        return self.name\n",
    "        \n",
    "    def loadlistkey(self):\n",
    "        return list(self.file.keys())\n",
    "    \n",
    "    def loadmjs(self,key):\n",
    "        return self.file[key]\n",
    "         "
   ]
  },
  {
   "cell_type": "code",
   "execution_count": null,
   "metadata": {},
   "outputs": [],
   "source": []
  },
  {
   "cell_type": "code",
   "execution_count": null,
   "metadata": {},
   "outputs": [],
   "source": []
  },
  {
   "cell_type": "markdown",
   "metadata": {},
   "source": [
    "### create db_tree_resource"
   ]
  },
  {
   "cell_type": "code",
   "execution_count": 18,
   "metadata": {},
   "outputs": [],
   "source": [
    "dir_name = '/home/jhonex/Documentos/codigo/codigo_py_soport/tree_editor/resource_bd/bd_script/resource_db_tree.sql'\n",
    "\n",
    "cn = db.connect(dir_name)\n",
    "cur = cn.cursor()\n",
    "cur.execute(\n",
    "    \"create table tbl_keyslabel \"+\"(idReg INTEGER PRIMARY KEY AUTOINCREMENT,\"+\n",
    "    \"nameFile varchar(25),keylabel varchar(25))\" )\n",
    "\n",
    "cur.execute(\"create table tbl_listState \"+\"(idReg INTEGER PRIMARY KEY AUTOINCREMENT,\"+\n",
    "    \"nameFile varchar(25),keylistState varchar(25))\" )\n",
    "\n",
    "cur.execute(\"create table tbl_LabelPkl \"+\"(idReg INTEGER PRIMARY KEY AUTOINCREMENT,\"+\n",
    "    \"nameFile varchar(25),keyLabelPkl varchar(25))\" )\n",
    "\n",
    "cn.commit()\n",
    "\n",
    "cur.close()"
   ]
  },
  {
   "cell_type": "markdown",
   "metadata": {},
   "source": [
    "## test creacion"
   ]
  },
  {
   "cell_type": "code",
   "execution_count": 34,
   "metadata": {},
   "outputs": [],
   "source": [
    "dir_name = '/home/jhonex/Documentos/codigo/codigo_py_soport/tree_editor/resource_bd/bd_script/resource_db_tree.sql'\n",
    "\n",
    "\n",
    "cn = db.connect(dir_name)\n",
    "cur = cn.cursor()\n",
    "cur.execute(\"SELECT * FROM tbl_listState \")\n",
    "a = cur.fetchall()\n",
    "cn.commit()\n",
    "\n",
    "cur.close()"
   ]
  },
  {
   "cell_type": "code",
   "execution_count": 35,
   "metadata": {},
   "outputs": [
    {
     "data": {
      "text/plain": [
       "[]"
      ]
     },
     "execution_count": 35,
     "metadata": {},
     "output_type": "execute_result"
    }
   ],
   "source": [
    "a"
   ]
  },
  {
   "cell_type": "code",
   "execution_count": 135,
   "metadata": {},
   "outputs": [],
   "source": [
    "dir_name = '/home/jhonex/Documentos/codigo/codigo_py_soport/tree_editor/resource_bd/bd_script/resource_db_tree.sql'\n",
    "\n",
    "\n",
    "cn = db.connect(dir_name)\n",
    "cur = cn.cursor()\n",
    "cur.execute(\"DELETE FROM tbl_listState \")\n",
    "cur.close()"
   ]
  },
  {
   "cell_type": "code",
   "execution_count": null,
   "metadata": {},
   "outputs": [],
   "source": []
  }
 ],
 "metadata": {
  "kernelspec": {
   "display_name": "Python 3",
   "language": "python",
   "name": "python3"
  },
  "language_info": {
   "codemirror_mode": {
    "name": "ipython",
    "version": 3
   },
   "file_extension": ".py",
   "mimetype": "text/x-python",
   "name": "python",
   "nbconvert_exporter": "python",
   "pygments_lexer": "ipython3",
   "version": "3.5.4"
  }
 },
 "nbformat": 4,
 "nbformat_minor": 2
}
