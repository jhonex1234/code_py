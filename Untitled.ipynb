{
 "cells": [
  {
   "cell_type": "code",
   "execution_count": 1,
   "metadata": {},
   "outputs": [],
   "source": [
    "import json"
   ]
  },
  {
   "cell_type": "code",
   "execution_count": 17,
   "metadata": {},
   "outputs": [
    {
     "name": "stdout",
     "output_type": "stream",
     "text": [
      "Chat_ST_2.json\n"
     ]
    }
   ],
   "source": [
    "file = 'Chat_ST_2.json'\n",
    "dictest = {} \n",
    "try:\n",
    "    with open(file,'r+',encoding='utf-8') as f:\n",
    "        file_1 = json.load(f)\n",
    "    print(file)\n",
    "    for key in file_1:\n",
    "        if(\"message\" not in file_1[key]):\n",
    "            dictest[key] = {\"message\":file_1[key],\"saveData\":\"\",\"valueField\":\"\"}\n",
    "    if(dictest != {}):\n",
    "        file = dictest\n",
    "    else:\n",
    "         file = file_1   \n",
    "except OSError:\n",
    "    file = {}\n"
   ]
  },
  {
   "cell_type": "code",
   "execution_count": 14,
   "metadata": {},
   "outputs": [
    {
     "data": {
      "text/plain": [
       "dict"
      ]
     },
     "execution_count": 14,
     "metadata": {},
     "output_type": "execute_result"
    }
   ],
   "source": [
    "type(file)"
   ]
  },
  {
   "cell_type": "code",
   "execution_count": 18,
   "metadata": {},
   "outputs": [
    {
     "data": {
      "text/plain": [
       "{'Salida': {'message': ['gracias por visitarnos'],\n",
       "  'saveData': '',\n",
       "  'valueField': ''},\n",
       " 'Servicio': {'message': ['[json.button][{\\\\\\\\\\\\\"message\\\\\\\\\\\\\":\\\\\\\\\\\\\"Por favor seleccione el tipo de Trámite a realizar:\\\\\\\\\\\\\", \\\\\\\\\\\\\"buttons\\\\\\\\\\\\\":[{\\\\\\\\\\\\Id\\\\\\\\\\\\\":0, \\\\\\\\\\\\\"label\\\\\\\\\\\\\":\\\\\\\\\\\\\"Estado Autorizaciones\\\\\\\\\\\\\"}]'],\n",
       "  'saveData': '',\n",
       "  'valueField': ''}}"
      ]
     },
     "execution_count": 18,
     "metadata": {},
     "output_type": "execute_result"
    }
   ],
   "source": [
    "file"
   ]
  },
  {
   "cell_type": "code",
   "execution_count": 16,
   "metadata": {},
   "outputs": [
    {
     "ename": "KeyError",
     "evalue": "'Salida'",
     "output_type": "error",
     "traceback": [
      "\u001b[0;31m---------------------------------------------------------------------------\u001b[0m",
      "\u001b[0;31mKeyError\u001b[0m                                  Traceback (most recent call last)",
      "\u001b[0;32m<ipython-input-16-f07224bbbdd8>\u001b[0m in \u001b[0;36m<module>\u001b[0;34m()\u001b[0m\n\u001b[0;32m----> 1\u001b[0;31m \u001b[0mfile\u001b[0m\u001b[0;34m[\u001b[0m\u001b[0;34m'sii'\u001b[0m\u001b[0;34m]\u001b[0m \u001b[0;34m=\u001b[0m\u001b[0;34m{\u001b[0m\u001b[0;34m\"message\"\u001b[0m\u001b[0;34m:\u001b[0m\u001b[0mfile\u001b[0m\u001b[0;34m[\u001b[0m\u001b[0mkey\u001b[0m\u001b[0;34m]\u001b[0m\u001b[0;34m,\u001b[0m\u001b[0;34m\"saveData\"\u001b[0m\u001b[0;34m:\u001b[0m\u001b[0;34m\"\"\u001b[0m\u001b[0;34m,\u001b[0m\u001b[0;34m\"valueField\"\u001b[0m\u001b[0;34m:\u001b[0m\u001b[0;34m\"\"\u001b[0m\u001b[0;34m}\u001b[0m\u001b[0;34m\u001b[0m\u001b[0m\n\u001b[0m",
      "\u001b[0;31mKeyError\u001b[0m: 'Salida'"
     ]
    }
   ],
   "source": [
    "file['sii'] ={\"message\":file[key],\"saveData\":\"\",\"valueField\":\"\"}"
   ]
  },
  {
   "cell_type": "code",
   "execution_count": null,
   "metadata": {},
   "outputs": [],
   "source": [
    "dictest"
   ]
  },
  {
   "cell_type": "code",
   "execution_count": 1,
   "metadata": {},
   "outputs": [
    {
     "data": {
      "text/plain": [
       "1"
      ]
     },
     "execution_count": 1,
     "metadata": {},
     "output_type": "execute_result"
    }
   ],
   "source": [
    "int('1')"
   ]
  },
  {
   "cell_type": "code",
   "execution_count": 2,
   "metadata": {},
   "outputs": [
    {
     "data": {
      "text/plain": [
       "1"
      ]
     },
     "execution_count": 2,
     "metadata": {},
     "output_type": "execute_result"
    }
   ],
   "source": [
    "int(1)"
   ]
  },
  {
   "cell_type": "code",
   "execution_count": 3,
   "metadata": {},
   "outputs": [
    {
     "data": {
      "text/plain": [
       "'insert into tbl_people(id_cedula, first_name, second_name, first_last_name, second_last_name, birthdate, citizenship, state_company) values (122,juan,perez,califan,grey,29/05/1995,colombiano,inactivate)'"
      ]
     },
     "execution_count": 3,
     "metadata": {},
     "output_type": "execute_result"
    }
   ],
   "source": [
    "\"\"\"insert into tbl_people(id_cedula, first_name, second_name, first_last_name, second_last_name, birthdate, citizenship, state_company) values ({0},{1},{2},{3},{4},{5},{6},{7})\"\"\".format(122,'juan','perez','califan','grey','29/05/1995','colombiano','inactivate')"
   ]
  },
  {
   "cell_type": "code",
   "execution_count": 5,
   "metadata": {},
   "outputs": [],
   "source": [
    "import psycopg2"
   ]
  },
  {
   "cell_type": "code",
   "execution_count": 7,
   "metadata": {},
   "outputs": [
    {
     "name": "stdout",
     "output_type": "stream",
     "text": [
      "[(1, 'jajoya', '1234567890', 1022403971, 1005, 2005, 3005)]\n"
     ]
    }
   ],
   "source": [
    "dbname = 'miller_face_enrolamiento'\n",
    "user = 'postgres'\n",
    "password = '1234'\n",
    "host='localhost'\n",
    "cn = psycopg2.connect(\"host='{0}' dbname='{1}' user='{2}' password='{3}'\".format(host,dbname,user,password ))\n",
    "cur = cn.cursor()\n",
    "\n",
    "sql = \"\"\"select * from tbl_user\"\"\"\n",
    "cur.execute(sql,)\n",
    "print(cur.fetchall())\n",
    "cur.close()"
   ]
  },
  {
   "cell_type": "code",
   "execution_count": null,
   "metadata": {},
   "outputs": [],
   "source": []
  }
 ],
 "metadata": {
  "kernelspec": {
   "display_name": "Python 3",
   "language": "python",
   "name": "python3"
  },
  "language_info": {
   "codemirror_mode": {
    "name": "ipython",
    "version": 3
   },
   "file_extension": ".py",
   "mimetype": "text/x-python",
   "name": "python",
   "nbconvert_exporter": "python",
   "pygments_lexer": "ipython3",
   "version": "3.5.5"
  }
 },
 "nbformat": 4,
 "nbformat_minor": 2
}
