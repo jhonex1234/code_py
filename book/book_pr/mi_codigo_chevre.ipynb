{
 "cells": [
  {
   "cell_type": "code",
   "execution_count": null,
   "metadata": {},
   "outputs": [],
   "source": [
    "#jhon este codigo te podra servir :) algun dia, te quiero"
   ]
  },
  {
   "cell_type": "code",
   "execution_count": 22,
   "metadata": {},
   "outputs": [],
   "source": [
    "import csv, operator"
   ]
  },
  {
   "cell_type": "code",
   "execution_count": 20,
   "metadata": {},
   "outputs": [
    {
     "name": "stdout",
     "output_type": "stream",
     "text": [
      "{'id_ex2': 's2', 'id_ex3': 's3', 'id_ex1': 's1'}\n",
      "{'id_ex2': 's2', 'id_ex3': 's3', 'id_ex1': 's1'}\n",
      "{'id_ex2': 's2', 'id_ex3': 's3', 'id_ex1': 's1'}\n"
     ]
    }
   ],
   "source": [
    "save=[(1,'s1',0),(2,'s2',1),(3,'s3',0),(4,'s2',1)]\n",
    "dc = {'id_ex1' : prueba[0][1],'id_ex2' : prueba[1][1],'id_ex3':prueba[2][1]}\n",
    "for dic in dc:\n",
    "    print(dc)\n",
    "    "
   ]
  },
  {
   "cell_type": "code",
   "execution_count": null,
   "metadata": {},
   "outputs": [],
   "source": [
    "prueba[0][1]=s2"
   ]
  },
  {
   "cell_type": "code",
   "execution_count": 17,
   "metadata": {},
   "outputs": [
    {
     "data": {
      "text/plain": [
       "[['1', 's1', '0'], ['2', 's2', '1'], ['3', 's3', '0'], ['4', 's2', '1']]"
      ]
     },
     "execution_count": 17,
     "metadata": {},
     "output_type": "execute_result"
    }
   ],
   "source": [
    "save=[]\n",
    "with open('estados_intentos_p.csv') as miarchivo:\n",
    "    registro= miarchivo.read().splitlines()\n",
    "    registro.pop(0)\n",
    "    for l in registro:\n",
    "        registro= l.split(',')\n",
    "        #save.apppend([])}\n",
    "        save.append(registro)\n",
    "save\n",
    "\n",
    "\n",
    "entrega=[]\n",
    "entrega.append('S1')\n",
    "entrega.append(1)\n",
    "entrega.append('se pudo')\n",
    "save"
   ]
  },
  {
   "cell_type": "code",
   "execution_count": 16,
   "metadata": {},
   "outputs": [
    {
     "data": {
      "text/plain": [
       "[['2', 's2', '1'], ['3', 's3', '0'], ['4', 's2', '1']]"
      ]
     },
     "execution_count": 16,
     "metadata": {},
     "output_type": "execute_result"
    }
   ],
   "source": [
    "\n",
    "save.pop(0)\n",
    "save"
   ]
  },
  {
   "cell_type": "code",
   "execution_count": null,
   "metadata": {},
   "outputs": [],
   "source": [
    "id_ex=\n",
    "\n",
    "actLive='false'\n",
    "\n",
    "\n",
    "\n",
    "\n",
    "if lista==[]:\n",
    "     #insertar en csv, si no existe   \n",
    "        #Segunda condicional, encaso de que exista\n",
    "else:\n",
    "    #Segunda condicional, en caso de que la activdad del id = true\n",
    "    if actLive =='true':\n",
    "      #llamado del metodo dialog recibe dos parametros y retorna un lista de itms 3 \n",
    "        recepcion =dialog('s1',1)\n",
    "            \n",
    "        cur.execute(\"update estados_intentos set estado='\"+recepcion[0]+\"', intento=\"+recepcion[1]+\" WHERE id_ex=\"+idex)\n",
    "        cn.commit()\n",
    "        print('hacer algo')\n",
    "        final = recepcion[1]\n",
    "    else: \n",
    "        cur.execute(\"delete from estados_intentos WHERE id_ex=\"+idex)\n",
    "        cn.commit()\n",
    "        final='muerto id'    \n",
    "        "
   ]
  },
  {
   "cell_type": "code",
   "execution_count": null,
   "metadata": {},
   "outputs": [],
   "source": [
    "datos = [(2,'aaa', 111)]\n",
    "csvsalida = open('estados_intentos.csv', 'w', newline='')"
   ]
  },
  {
   "cell_type": "code",
   "execution_count": null,
   "metadata": {},
   "outputs": [],
   "source": []
  },
  {
   "cell_type": "code",
   "execution_count": 24,
   "metadata": {},
   "outputs": [],
   "source": [
    "csvsalida = open('estados_intentos_p.csv', 'w', newline='')\n",
    "salida = csv.writer(csvsalida)\n",
    "salida.writerow(['id_ex', 'estado','intento'])\n",
    "salida.writerows(save)\n",
    "del salida\n",
    "csvsalida.close()"
   ]
  },
  {
   "cell_type": "code",
   "execution_count": null,
   "metadata": {},
   "outputs": [],
   "source": [
    "#15/11/2017\n",
    "save=[] \n",
    "    #apertura de csv\n",
    "with open('estados_intentos_p.csv') as miarchivo:\n",
    "            #lectura por lineas csv\n",
    "            registro= miarchivo.read().splitlines()\n",
    "\n",
    "       #eliminar nombres cada columna\n",
    "registro.pop(0)\n",
    "    #almacenamiento de datos en csv\n",
    "for reg in registro:\n",
    "    linea= reg.split(',')\n",
    "    #almacenamiento de datos\n",
    "    save.append(linea)\n",
    "for conv in range(len(save)):\n",
    "    a=save[conv][0]\n",
    "    save[conv][0]=int(a)\n",
    "save\n",
    "#//////////////////////////part2///////7\n",
    "def gestion_id(id_ex, activate_id,mensaje):    \n",
    "    msj = ''\n",
    "    indicio=1\n",
    "    flag=0\n",
    "    #creación de lista\n",
    "    save=[]\n",
    "    \n",
    "    #apertura de csv\n",
    "    with open('estados_intentos_p.csv') as miarchivo:\n",
    "        #lectura por lineas csv\n",
    "        registro= miarchivo.read().splitlines()\n",
    "        #eliminar nombres cada columna\n",
    "        registro.pop(0)\n",
    "        \n",
    "    #almacenamiento de datos en csv\n",
    "    for reg in registro:\n",
    "        linea= reg.split(',')\n",
    "        #almacenamiento de datos\n",
    "        save.append(linea)\n",
    "        \n",
    "    #conversion de enteros todos los id\n",
    "    for conv in range(len(save)):\n",
    "        a=save[conv][0]\n",
    "        save[conv][0]=int(a)\n",
    "    \n",
    "    \n",
    "    #recorre lista en busca del id\n",
    "    for reco in range(len(save)):        \n",
    "        #consulta en el archivo\n",
    "        if save[reco][0]==id_ex:\n",
    "            flag=1\n",
    "            print('registro encontrdo \\n-> ',save[reco])\n",
    "            #metodo de juan\n",
    "            recepcion =dialogo('s1',1,mensaje)\n",
    "             # primera condiciónal                 \n",
    "            if activate_id =='true':\n",
    "                              \n",
    "                save[reco][1]=recepcion[0]\n",
    "                save[reco][2]=recepcion[1]\n",
    "                msj=recepcion[2]\n",
    "                \n",
    "            # segunda condiciónal                  \n",
    "            elif activate_id =='false':\n",
    "                              \n",
    "                save.pop(reco)\n",
    "                print('id eliminado')\n",
    "            else:\n",
    "                print('no hubo acción')\n",
    "                vara='no hubo acción'\n",
    "        \n",
    "        #en caso de no encontrarse \n",
    "        if indicio==len(save)||:\n",
    "            save.append([id_ex,0,0])\n",
    "            print('no encontrado, ha sido insertado ')\n",
    "            \n",
    "        indicio=indicio+1\n",
    "    # escritura del archivo   \n",
    "    csvsalida = open('estados_intentos_p.csv', 'w', newline='')\n",
    "    salida = csv.writer(csvsalida)\n",
    "    salida.writerow(['id_ex', 'estado','intento'])\n",
    "    salida.writerows(save)\n",
    "    del salida\n",
    "    csvsalida.close()\n",
    "        \n"
   ]
  },
  {
   "cell_type": "code",
   "execution_count": 58,
   "metadata": {},
   "outputs": [],
   "source": [
    "\n",
    "a = {'a001': ['s1', 0], 'a002': ['s2', 1], 'a003': ['s3', 3]}"
   ]
  },
  {
   "cell_type": "code",
   "execution_count": 29,
   "metadata": {},
   "outputs": [],
   "source": [
    "a['a003'] = ['s10', 4]"
   ]
  },
  {
   "cell_type": "code",
   "execution_count": 31,
   "metadata": {},
   "outputs": [
    {
     "data": {
      "text/plain": [
       "['s4', 4]"
      ]
     },
     "execution_count": 31,
     "metadata": {},
     "output_type": "execute_result"
    }
   ],
   "source": [
    "a.pop('a004')"
   ]
  },
  {
   "cell_type": "code",
   "execution_count": 59,
   "metadata": {},
   "outputs": [],
   "source": [
    "import json\n",
    "with open('identifiers.json', 'w') as jsonfile:\n",
    "    json.dump(a, jsonfile)"
   ]
  },
  {
   "cell_type": "code",
   "execution_count": 61,
   "metadata": {},
   "outputs": [],
   "source": [
    "with open('identifiers.json', 'r') as jsonfile:\n",
    "    a = json.load(jsonfile)"
   ]
  },
  {
   "cell_type": "code",
   "execution_count": 62,
   "metadata": {},
   "outputs": [
    {
     "data": {
      "text/plain": [
       "{'a001': ['s1', 0], 'a002': ['s2', 1], 'a003': ['s3', 3]}"
      ]
     },
     "execution_count": 62,
     "metadata": {},
     "output_type": "execute_result"
    }
   ],
   "source": [
    "a"
   ]
  },
  {
   "cell_type": "code",
   "execution_count": 47,
   "metadata": {},
   "outputs": [
    {
     "name": "stdout",
     "output_type": "stream",
     "text": [
      ":)\n"
     ]
    }
   ],
   "source": [
    "if b:\n",
    "    print(':)')"
   ]
  },
  {
   "cell_type": "code",
   "execution_count": 46,
   "metadata": {},
   "outputs": [
    {
     "name": "stdout",
     "output_type": "stream",
     "text": [
      ":(\n"
     ]
    }
   ],
   "source": [
    "if 'a01' in b:\n",
    "    print('esta')\n",
    "else:\n",
    "    print(':(')"
   ]
  },
  {
   "cell_type": "code",
   "execution_count": 49,
   "metadata": {},
   "outputs": [
    {
     "data": {
      "text/plain": [
       "'s1'"
      ]
     },
     "execution_count": 49,
     "metadata": {},
     "output_type": "execute_result"
    }
   ],
   "source": [
    "b['a001'][0]"
   ]
  },
  {
   "cell_type": "code",
   "execution_count": 50,
   "metadata": {},
   "outputs": [],
   "source": [
    "b['a001']=['2',1]"
   ]
  },
  {
   "cell_type": "code",
   "execution_count": 51,
   "metadata": {},
   "outputs": [
    {
     "data": {
      "text/plain": [
       "'2'"
      ]
     },
     "execution_count": 51,
     "metadata": {},
     "output_type": "execute_result"
    }
   ],
   "source": [
    "b['a001'][0]"
   ]
  },
  {
   "cell_type": "code",
   "execution_count": 67,
   "metadata": {},
   "outputs": [],
   "source": [
    "listJ={'a001': ['s1', 0], 'a002': ['s2', 1], 'a003': ['s10', 4]}\n"
   ]
  },
  {
   "cell_type": "code",
   "execution_count": 69,
   "metadata": {},
   "outputs": [
    {
     "data": {
      "text/plain": [
       "False"
      ]
     },
     "execution_count": 69,
     "metadata": {},
     "output_type": "execute_result"
    }
   ],
   "source": [
    "'a' in l"
   ]
  },
  {
   "cell_type": "code",
   "execution_count": null,
   "metadata": {},
   "outputs": [],
   "source": [
    "id_all[id_ex] = [listJ[0], listJ[1]]"
   ]
  },
  {
   "cell_type": "code",
   "execution_count": null,
   "metadata": {},
   "outputs": [],
   "source": []
  },
  {
   "cell_type": "code",
   "execution_count": null,
   "metadata": {},
   "outputs": [],
   "source": []
  },
  {
   "cell_type": "code",
   "execution_count": null,
   "metadata": {},
   "outputs": [],
   "source": []
  },
  {
   "cell_type": "code",
   "execution_count": null,
   "metadata": {},
   "outputs": [],
   "source": []
  },
  {
   "cell_type": "code",
   "execution_count": null,
   "metadata": {},
   "outputs": [],
   "source": []
  }
 ],
 "metadata": {
  "kernelspec": {
   "display_name": "Python 3",
   "language": "python",
   "name": "python3"
  },
  "language_info": {
   "codemirror_mode": {
    "name": "ipython",
    "version": 3
   },
   "file_extension": ".py",
   "mimetype": "text/x-python",
   "name": "python",
   "nbconvert_exporter": "python",
   "pygments_lexer": "ipython3",
   "version": "3.5.4"
  }
 },
 "nbformat": 4,
 "nbformat_minor": 2
}
