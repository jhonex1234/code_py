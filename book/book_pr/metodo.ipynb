{
 "cells": [
  {
   "cell_type": "code",
   "execution_count": 1,
   "metadata": {},
   "outputs": [],
   "source": [
    "import csv, operator"
   ]
  },
  {
   "cell_type": "code",
   "execution_count": 1,
   "metadata": {},
   "outputs": [
    {
     "ename": "SyntaxError",
     "evalue": "invalid syntax (<ipython-input-1-e7f0abeeca84>, line 13)",
     "output_type": "error",
     "traceback": [
      "\u001b[1;36m  File \u001b[1;32m\"<ipython-input-1-e7f0abeeca84>\"\u001b[1;36m, line \u001b[1;32m13\u001b[0m\n\u001b[1;33m    return cerrar=cn.close()\u001b[0m\n\u001b[1;37m                 ^\u001b[0m\n\u001b[1;31mSyntaxError\u001b[0m\u001b[1;31m:\u001b[0m invalid syntax\n"
     ]
    }
   ],
   "source": [
    "#conexion\n",
    "def conectar(user,pas,database,dire):\n",
    "    dato={\n",
    "        'user':user,\n",
    "        'password':pas,\n",
    "        'db':database,\n",
    "        'host':dire\n",
    "    }\n",
    "    cn= db.connect(** dato)\n",
    "    return cn\n",
    "#cierrar una conexion  \n",
    "def desconectar(cerrar):\n",
    "    return cerrar=cn.close()\n",
    "\n",
    "#retorna una lista\n",
    "def datos_est_in(cur):\n",
    "        try:\n",
    "            cur.execute('select * from estados_intentos')\n",
    "            lista= cur.fetchall()\n",
    "            \n",
    "        except db.errors:\n",
    "            print('error')\n",
    "        finally:\n",
    "            desconectar(cn)\n",
    "        return lista"
   ]
  },
  {
   "cell_type": "code",
   "execution_count": 22,
   "metadata": {
    "collapsed": true
   },
   "outputs": [],
   "source": [
    " #creación de conexion   \n",
    "cn= conectar('root','','sessionspython','127.0.0.1')\n",
    " #cursor\n",
    "cur= cn.cursor()\n",
    "\n",
    "#validar_estado('S3','0')"
   ]
  },
  {
   "cell_type": "code",
   "execution_count": 23,
   "metadata": {
    "collapsed": true
   },
   "outputs": [],
   "source": [
    "def dialog(estado,intento):\n",
    "    msj='cambio de estado'\n",
    "    entrega=[]\n",
    "    entrega.append(estado)\n",
    "    entrega.append(intento)\n",
    "    entrega.append(msj)\n",
    "    return entrega"
   ]
  },
  {
   "cell_type": "code",
   "execution_count": 45,
   "metadata": {
    "collapsed": true
   },
   "outputs": [],
   "source": [
    "def gestion_id(id_ex,activate_id):\n",
    "    archivo= open('estados_intentos.csv',a)\n",
    "    return final    "
   ]
  },
  {
   "cell_type": "code",
   "execution_count": 41,
   "metadata": {
    "collapsed": true
   },
   "outputs": [],
   "source": [
    "#desconectar(cn)"
   ]
  },
  {
   "cell_type": "code",
   "execution_count": 1,
   "metadata": {},
   "outputs": [
    {
     "name": "stdout",
     "output_type": "stream",
     "text": [
      "ingresa\n",
      "error\n"
     ]
    }
   ],
   "source": [
    "    final=''\n",
    "    try:\n",
    "        #consulta id\n",
    "        #cur.execute('select * from estados_intentos where id_ex='+id_ex)\n",
    "        print('ingresa')\n",
    "        \n",
    "        #almacenamiento de los datos en una lista.\n",
    "        lista= cur.fetchall()\n",
    "        \n",
    "        #primera condicional, encaso de que no exista insertar valores\n",
    "        if lista==[]:\n",
    "            cur.execute(\"insert into estados_intentos values(\"+idex+\",'S1',0 \")\n",
    "            cn.commit()            \n",
    "            final='cargado nuevo registro'\n",
    "        \n",
    "        #Segunda condicional, encaso de que exista\n",
    "        else:\n",
    "            #Segunda condicional, en caso de que la activdad del id = true\n",
    "            if actLive =='true':\n",
    "                #llamado del metodo dialog recibe dos parametros y retorna un lista de itms 3 \n",
    "                recepcion =dialog('s1',1)\n",
    "                \n",
    "                cur.execute(\"update estados_intentos set estado='\"+recepcion[0]+\"', intento=\"+recepcion[1]+\" WHERE id_ex=\"+idex)\n",
    "                cn.commit()\n",
    "                print('hacer algo')\n",
    "                final = recepcion[1]\n",
    "            else: \n",
    "                cur.execute(\"delete from estados_intentos WHERE id_ex=\"+idex)\n",
    "                cn.commit()\n",
    "                final='muerto id'\n",
    "                 \n",
    "    except:\n",
    "        print('error')"
   ]
  },
  {
   "cell_type": "code",
   "execution_count": null,
   "metadata": {
    "collapsed": true
   },
   "outputs": [],
   "source": []
  }
 ],
 "metadata": {
  "kernelspec": {
   "display_name": "Python 3",
   "language": "python",
   "name": "python3"
  },
  "language_info": {
   "codemirror_mode": {
    "name": "ipython",
    "version": 3
   },
   "file_extension": ".py",
   "mimetype": "text/x-python",
   "name": "python",
   "nbconvert_exporter": "python",
   "pygments_lexer": "ipython3",
   "version": "3.5.4"
  }
 },
 "nbformat": 4,
 "nbformat_minor": 2
}
