{
 "cells": [
  {
   "cell_type": "code",
   "execution_count": 39,
   "metadata": {
    "collapsed": true
   },
   "outputs": [],
   "source": [
    "#librerias\n",
    "from glob import glob\n",
    "import nltk \n",
    "from nltk import tokenize\n",
    "from nltk.corpus import stopwords\n",
    "# nombrando la libreria\n",
    "import numpy as np\n",
    "import pandas as pd\n",
    "import re\n",
    "from time import time\n",
    "from unicodedata import normalize\n",
    "#nltk.download()\n",
    "pd.set_option('display.max_colwidth',-1)"
   ]
  },
  {
   "cell_type": "code",
   "execution_count": 40,
   "metadata": {
    "collapsed": true
   },
   "outputs": [],
   "source": [
    "filelist = glob('/home/jhonex/Documentos/proyectos/natural_language_processing/entes_de_control/resolucion_entes/entes_de_control_test/a1/*.txt')"
   ]
  },
  {
   "cell_type": "code",
   "execution_count": 41,
   "metadata": {
    "scrolled": true
   },
   "outputs": [
    {
     "data": {
      "text/html": [
       "<div>\n",
       "<table border=\"1\" class=\"dataframe\">\n",
       "  <thead>\n",
       "    <tr style=\"text-align: right;\">\n",
       "      <th></th>\n",
       "      <th>Text</th>\n",
       "      <th>Name</th>\n",
       "    </tr>\n",
       "  </thead>\n",
       "  <tbody>\n",
       "    <tr>\n",
       "      <th>0</th>\n",
       "      <td>[auualulu, uf..rl, :, lut..lt.l'llr, UCÍII.ÍU, ue|, [, EÍTT'IIÍ'IO, Ie, artículos, 154, y, 159, de, la, Ley, 142, de, 199, de, Procedimiento, Administrativo, y, lo, Cont, ncioso, Ad, qalmente, consagrado, conforme, a, lo, dispuesto, pºr, los, asi, como, lo, consagrado, en, el, articulo, ?, ?, del, Código, ministrativo, ., Revisada, la, actuación, ,, se, advierte, que, el, Recurso, de, Reposición, en, Subsidio, el, de, Apelación, fue, presentado, dentro, del, término, le, resolver, el, recurso, de, alzada, ., IV, ., CONSIDERA, De, acuerdo, con, lo, previsto, en, la, Ley, 142, Uniformes, ,, se, analizarán, los, argumento, esclarecer, en, el, presente, caso, si, ...]</td>\n",
       "      <td>userFile1498167279833</td>\n",
       "    </tr>\n",
       "  </tbody>\n",
       "</table>\n",
       "</div>"
      ],
      "text/plain": [
       "                                                                                                                                                                                                                                                                                                                                                                                                                                                                                                                                                                                                                                                                                               Text  \\\n",
       "0  [auualulu, uf..rl, :, lut..lt.l'llr, UCÍII.ÍU, ue|, [, EÍTT'IIÍ'IO, Ie, artículos, 154, y, 159, de, la, Ley, 142, de, 199, de, Procedimiento, Administrativo, y, lo, Cont, ncioso, Ad, qalmente, consagrado, conforme, a, lo, dispuesto, pºr, los, asi, como, lo, consagrado, en, el, articulo, ?, ?, del, Código, ministrativo, ., Revisada, la, actuación, ,, se, advierte, que, el, Recurso, de, Reposición, en, Subsidio, el, de, Apelación, fue, presentado, dentro, del, término, le, resolver, el, recurso, de, alzada, ., IV, ., CONSIDERA, De, acuerdo, con, lo, previsto, en, la, Ley, 142, Uniformes, ,, se, analizarán, los, argumento, esclarecer, en, el, presente, caso, si, ...]   \n",
       "\n",
       "                    Name  \n",
       "0  userFile1498167279833  "
      ]
     },
     "execution_count": 41,
     "metadata": {},
     "output_type": "execute_result"
    }
   ],
   "source": [
    "prueba = []\n",
    "for file in filelist:\n",
    "    #apertura de todos los documentos que concuerden con la condicion\n",
    "    \n",
    "    with open(file, 'r') as txtfile:\n",
    "        prueba.append((tokenize.word_tokenize(txtfile.read()), re.match('.*/(.*)-.*', file).group(1)))  \n",
    "prueba = pd.DataFrame(prueba, columns=['Text', 'Name'])\n",
    "prueba = pd.DataFrame([(np.concatenate(prueba[prueba.Name == name].Text.values), name) \n",
    "                        for name in prueba.Name.unique()], columns=['Text', 'Name'])\n",
    "prueba"
   ]
  },
  {
   "cell_type": "code",
   "execution_count": 42,
   "metadata": {
    "collapsed": true
   },
   "outputs": [],
   "source": [
    "#https://chrisalbon.com/python/pandas_apply_operations_to_groups.html"
   ]
  },
  {
   "cell_type": "code",
   "execution_count": 43,
   "metadata": {},
   "outputs": [
    {
     "name": "stdout",
     "output_type": "stream",
     "text": [
      "Cleaning took 1.13 seconds\n"
     ]
    }
   ],
   "source": [
    "def cleanDocs(prueba):\n",
    "    start = time()\n",
    "    clean_letters = []\n",
    "    for _, letter in prueba.iterrows():\n",
    "\t#proceso de normalizacion\n",
    "        words = [normalize('NFKD', word.lower()).encode('ascii', 'ignore').decode('utf-8') for word in letter['Text']]\n",
    "        # is alphabetic character, not is a stopword, not is a custom word, has at least three letters, \n",
    "        # has at least one vowel, has at least one consonant\n",
    "        words = [word for word in words if word not in stopwords.words('spanish')]\n",
    "        clean_letters.append(' '.join(words))\n",
    "\t#impresion de tiempo de ejecucion\n",
    "    print('Cleaning took %.2f seconds' % (time() - start))\n",
    "    return pd.DataFrame(clean_letters)\n",
    "dup = prueba.insert(1, 'CleanText', cleanDocs(prueba))"
   ]
  },
  {
   "cell_type": "code",
   "execution_count": 44,
   "metadata": {},
   "outputs": [
    {
     "name": "stdout",
     "output_type": "stream",
     "text": [
      "0\n"
     ]
    }
   ],
   "source": [
    "l=0\n",
    "t=len(prueba)-1\n",
    "while(l<=(len(prueba)-1)):\n",
    "    \n",
    "    print(l)\n",
    "    l=l+1\n",
    "   \n",
    "\n"
   ]
  },
  {
   "cell_type": "code",
   "execution_count": 45,
   "metadata": {
    "collapsed": true
   },
   "outputs": [],
   "source": [
    "def context(target_word, tar_passage, left_margin = 10, right_margin = 10):\n",
    "    tokens = tokenize.word_tokenize(tar_passage)\n",
    "    text = nltk.Text(tokens)\n",
    "    c = nltk.ConcordanceIndex(text.tokens)\n",
    "    \n",
    "    concordance_txt = [text.tokens[offset - left_margin : offset + right_margin]                       \n",
    "                       for offset in c.offsets(target_word)] \n",
    "    for offset in c.offsets(target_word):\n",
    "        print(offset)\n",
    "    return [' '.join(con_sub) for con_sub in concordance_txt]\n",
    "\n",
    "# nltk.ConcordanceIndex"
   ]
  },
  {
   "cell_type": "code",
   "execution_count": 46,
   "metadata": {},
   "outputs": [
    {
     "data": {
      "text/html": [
       "<div>\n",
       "<table border=\"1\" class=\"dataframe\">\n",
       "  <thead>\n",
       "    <tr style=\"text-align: right;\">\n",
       "      <th></th>\n",
       "      <th>Text</th>\n",
       "      <th>CleanText</th>\n",
       "      <th>Name</th>\n",
       "    </tr>\n",
       "  </thead>\n",
       "  <tbody>\n",
       "    <tr>\n",
       "      <th>0</th>\n",
       "      <td>[auualulu, uf..rl, :, lut..lt.l'llr, UCÍII.ÍU, ue|, [, EÍTT'IIÍ'IO, Ie, artículos, 154, y, 159, de, la, Ley, 142, de, 199, de, Procedimiento, Administrativo, y, lo, Cont, ncioso, Ad, qalmente, consagrado, conforme, a, lo, dispuesto, pºr, los, asi, como, lo, consagrado, en, el, articulo, ?, ?, del, Código, ministrativo, ., Revisada, la, actuación, ,, se, advierte, que, el, Recurso, de, Reposición, en, Subsidio, el, de, Apelación, fue, presentado, dentro, del, término, le, resolver, el, recurso, de, alzada, ., IV, ., CONSIDERA, De, acuerdo, con, lo, previsto, en, la, Ley, 142, Uniformes, ,, se, analizarán, los, argumento, esclarecer, en, el, presente, caso, si, ...]</td>\n",
       "      <td>auualulu uf..rl : lut..lt.l'llr uciii.iu ue| [ eitt'iii'io ie articulos 154 159 ley 142 199 procedimiento administrativo cont ncioso ad qalmente consagrado conforme dispuesto asi consagrado articulo ? ? codigo ministrativo . revisada actuacion , advierte recurso reposicion subsidio apelacion presentado dentro termino resolver recurso alzada . iv . considera acuerdo previsto ley 142 uniformes , analizaran argumento esclarecer presente caso si asiste empresa ajusta derecho , 7.1 pruebas cuenta- presente caso tendran cuent allegadas debida forma expediente cobro . oia gal pr visto , ( ) senor ( ) al0l055 pino saucedo empresa electrificadora caribe debidamente legitimada , existiendo ca sal in s.a. e.s.p , encuentra hibicion , razon procedera ciones despacho 1994 , regulacion contrato condiciones partes pruebas obrantes , entrar razon usuario ( ) si contrario actuacion todas pruebas relacionadas capitulo vi , principalmente factura impone 7.2 normatividad aplicable acuerdo conflicto planteado : analisis debera hacer atendiendo constitucion politica , leyes 142 ci resolucion creg 7098 ; contrato co analisis : presente caso debe tenerse claro q analisis pronunciamiento parte normas legales consignadas articulo 29 1994 . 689 2002 ; resolucion creg 10897 : ciones uniformes . inconformidad debe desprenderse despacho , cobro consumo dejado facturar aplica empr electr ! ficadora cartbe s.a. e.s.p producto anomalia detectada acometida predio . topico frente hara siguiente analisis : primero dejar claro empresas servicios publicos pueden traves actuacion administrativa recuperar energia dejad facturar casos compruebe existieron irregularidades anomatias medidores acometidas , atribuibles empresa , conllevaron consu reales registrados totalidad instrumento medida , actuacion debe adelantar observando debido proceso . derecho defensa contradiccion . teniendose claro debido proceso 3 garantiza indica usuarios medios prueba seran utilizados , plazos terminos dentro cuales podra usuario realizar defensa ; decisi n debidamente motivada , brindando inicio actuacion derecho defensa c tradiccion elementos pueden incidir toma decision . . mas dejados facturar debe ser resultado coeso realiza empresa determinar origen situacion anomala permitido midan consumos puede obedecer diferentes causas , dentro cuales , inclusive , pueden conexiones 76metidas defectuosas o. incluso , uso irregular servicio , conseouencia ello . cobro cons cadena elementos dentro p ewicios publit : domiciliarios superintendencia - sspdsupersemicios.gov.co m.superservicios.gmc ... ... ... ... .. unuvnuu . qulcu uu ... :  : = ! unauul.a , i i 'd l : n nu o'ibur ' ae barranquilla - atlantico , haciend enirega copia misma . ser posibie efectuar notificacion personal , 3 notificara aviso . articulo cuarto : empresa elec rificadora caribe s.a. e.s.p . debera dar cumpiimiento dispuesto prese resolucion . dentro diez ( 10 ) dias habiles siguientes fecha ejecutoria . mismo , debera enviar superintendencia servicios pubiicos domiciliarios . dia hain siguiente aquel haga efectivo cumplimiento ia presente resolucion , onstancia mismo acompanada ias pruebas respectivas ei incumplimiento gacion acarreara sancion prestador . conforme dispone articulo 90 ley 1437 2 11 . articulo quinto : presente resol procede recurso alguno . ion rige par1ir fecha notificacion notifiq cumplase dada barranquilla . ; ? elve h santos romero director territorial norte proyecto : cynthia molinares - proyectista externa reviso ' diana margarta alejo  revisora externa superintendencia servicios publicos domiciliarios www.superservicios.gov.cb  sspdsupersewicius.gov.cc 20158200320615 articulo 29 constitucion politica establece debido | : actuaciones judiciales administrativas . d principios rigen debido proceso , , | contradiccion . asi cobro consumos dejados facturar , ac respetando debido proceso conformidad articulo 29 previsto ley 142 1994 demas normas concordantes . consecuencia , eventos determine facturar , debe garantizarse usuario derecho defensa concepto factura , , empre determinar causa impidio medicion tos consumos ( co 2010 ) puede entonces entenderse garantizado ei debido proceso . d sola expedicion factura consumos dejados factu usuario haga uso recursos procedimiento administr usuario debe tener derecho interactuar frente cada conocerlas razones tacticas , tecnicas juridicas p consumos dejados facturar . jte pagiw receso aplicarse riva deban respetarse s principios tegaiidad tuacion debe adelantarse constitucion politica xist noia consumos dejados incluya valor da inicio actuacion acepto unificado sspd-21 efensa contradiccion , rar posibilidad et vo , sino previo elementos probatorios ) i ' sele imputa pago consecuencia . eventos determinacion consumos dejados facturar debe garantizarse usuarios derecho defensa contradice valores cobrados dentro factura , regia cum medida adelanto actuacion administrativa . decir , efectivo cobro expidiendo factura , obra expedient on incluyan &gt; ie presente caso empresa decide hacer . cobra concepto recuperacion consumos costo inspeccion valor 57.878.300oo factura claramente establece fecha emision , limite d fecha oportuna pago debidamente tirmada representante legal entidad pre adora . debe recordarse todas actuaciones procedimientos prestadoras encaminadas recuperacion consumos . deben debido proceso transparencia permita idoneidad efectivo cobro determinado deviene dicha actuacion . ultimo , respecto cobro inspeccion demas adopten entidades star revestidas ia garantia misma actuacion hacer ceptos cargados factura reclamada , corren misma suerte concepto recuperacion consumos hacer parte misma actuacion . asi cosas , despues analisis tactico juridico acerv &lt; probatorio reposa expediente caso bajo examen . despacho revocar . ta decision violacion debido proceso , conformidad premisas anteriores . merito expuesto . despacho resuelve articulo primero : revocar decision empresarial proferida empresa electr1f ! cadora caribe lugar retirar factura concepto energia dejada f contribucion , iva demas valor $ 57.878.300.oo , parte motiva resolucion . articulo segundo : notif ! car personalmente contenic representante legat empresa electreftcadora carrera 55 . 72 - 109 , piso ? , ciudad barranquili copia misma . ser posible efectuar notificacion pen 40 , 274280 ? dei 04103 ! 2015 . s.a. e.s.p , ordenando cturar , costos inspeccion , rmidad expuesto presente resolucion l caribe s.a . e.s.p. , , haciendole entrega , onal , notificara aviso . superintendencia servicios publicos domiciti ww.superservicios.gov.co - sspdsuperservici rios .gov.co w ? s...pofw... oon_=af crasas publicos domiciliarios ... eoumm ! nucwow llllllllililllilillllllillllillllillilllllilillllll sc-foos v.2 pagina 1 4 resolucion . sspd - 20158200320615 31 ! 12 ! 2015 expediente . expediente201sbzdssg1dbz1se decide recurso apelacion director territorial norte superintendencia servicios publicos ejercicio facultades , especial connere articuio 79 numeral 29 , articulos 154 159 ley 142 1994. modificada porla ley 689 2001 articulo 20 numerales 18 19 decreto 990 2002 . resolucion sspd . 0021 2005 , modificada porla resolucion . 201250000027085 30 agosto 2012 ; ley 1437 2011 ; v fundamento siguientes antecedentes mediante escrito radicado sede empresarial . re'9510201503531 1210312015. senor ( ) alcides pino saucedo , interpuso recurso reposicion subsidio apelacion decision empresarial . 274280 ? 04 ! 03 ! 2015 . proferida porla empresa electrificadora caribe s.a. e.s.p . mediante resolvio reclamacion concepto energia dejada facturar cargada facturacion predio identificado nic 2070009 . empresa electrificadora caribe s.a. e.s.p , resolvio recurso reposicion mediante decision empresarial . 2775379 200312015 . confirmando decision inicial concedio recurso apelacion superintendencia . consecuencia , procedio remitir respectivo expediente . radicado despacho bajo . 0 | . hechos antecedentes procesales ( ) senor ( ) alcides pino saucedo presento reclamacion empresa electrificadora caribe s.a. e.s.p.por cobro energia dejada facturar . empresa electrificadora caribe s.a. e.s.p.l atan io dicho reclamo acto empresarial . 274280 ? 04i03 ! 2015 , accediendo pret sion decidiendo confirmar cobro . il . argumentos recurso ( ) senor ( ) alcides pino saucedo , dentro termino . mediante escrito recibido empresa numero radicacion re95102015035 1 1210312015. interpuso recurso reposicion subsidio apelacion . decision empresarial 274280 ? 04i03 ! 2015 , expresando desacuerdo misma empresa electrificadora caribe s.a . e.s.p. , decision . 2775379 2010312015. desata recurso reposicion ratificando ision inicial disponiendo remision expediente organismo control tramit curso apelacion . c.....5527 ' lil . presupuestos procedencia recur apelacion cra . 59 . 75 -134 barranquilla . colombia - codigo postal : 05000 ? net : 800.250.934.6 , , pbx : 36022 ? 2 533175 - fax : 369190 ? - dinonesupersenicios.govoo anima ? linea atencron ( 1 ) 591 3006 bogota linea gratuita nacional ( 18000 9103 05 ....superservicios.gov.co  sspdsupersewicios.gov co</td>\n",
       "      <td>userFile1498167279833</td>\n",
       "    </tr>\n",
       "  </tbody>\n",
       "</table>\n",
       "</div>"
      ],
      "text/plain": [
       "                                                                                                                                                                                                                                                                                                                                                                                                                                                                                                                                                                                                                                                                                               Text  \\\n",
       "0  [auualulu, uf..rl, :, lut..lt.l'llr, UCÍII.ÍU, ue|, [, EÍTT'IIÍ'IO, Ie, artículos, 154, y, 159, de, la, Ley, 142, de, 199, de, Procedimiento, Administrativo, y, lo, Cont, ncioso, Ad, qalmente, consagrado, conforme, a, lo, dispuesto, pºr, los, asi, como, lo, consagrado, en, el, articulo, ?, ?, del, Código, ministrativo, ., Revisada, la, actuación, ,, se, advierte, que, el, Recurso, de, Reposición, en, Subsidio, el, de, Apelación, fue, presentado, dentro, del, término, le, resolver, el, recurso, de, alzada, ., IV, ., CONSIDERA, De, acuerdo, con, lo, previsto, en, la, Ley, 142, Uniformes, ,, se, analizarán, los, argumento, esclarecer, en, el, presente, caso, si, ...]   \n",
       "\n",
       "                                                                                                                                                                                                                                                                                                                                                                                                                                                                                                                                                                                                                                                                                                                                                                                                                                                                                                                                                                                                                                                                                                                                                                                                                                                                                                                                                                                                                                                                                                                                                                                                                                                                                                                                                                                                                                                                                                                                                                                                                                                                                                                                                                                                                                                                                                                                                                                                                                                                                                                                                                                                                                                                                                                                                                                                                                                                                                                                                                                                                                                                                                                                                                                                                                                                                                                                                                                                                                                                                                                                                                                                                                                                                                                                                                                                                                                                                                                                                                                                                                                                                                                                                                                                                                                                                                                                                                                                                                                                                                                                                                                                                                                                                                                                                                                                                                                                                                                                                                                                                                                                                                                                                                                                                                                                                                                                                                                                                                                                                                                                                                                                                                                                                                                                                                                                                                                                                                                                                                                                                                                                                                                                                                                                                                                                                                                                                                                                                                                                                                                                                                                                                                                                                                                                                                                                                                                                                                                                                                                                                                                                                                                                                                                                                                                                                                                                                                                                                                                                                                                                                                                                                                                                                                                                                                                                                                                                                                                                                                                                                                                                                                                                                                                                                                                                                                                                                                                                                                                                                                                                                                                                                                                                                                                                                                                                                                                                                                                                                                                                                                                                                                                                                                                                                                                                                                                                                                                                                                                                   CleanText  \\\n",
       "0  auualulu uf..rl : lut..lt.l'llr uciii.iu ue| [ eitt'iii'io ie articulos 154 159 ley 142 199 procedimiento administrativo cont ncioso ad qalmente consagrado conforme dispuesto asi consagrado articulo ? ? codigo ministrativo . revisada actuacion , advierte recurso reposicion subsidio apelacion presentado dentro termino resolver recurso alzada . iv . considera acuerdo previsto ley 142 uniformes , analizaran argumento esclarecer presente caso si asiste empresa ajusta derecho , 7.1 pruebas cuenta- presente caso tendran cuent allegadas debida forma expediente cobro . oia gal pr visto , ( ) senor ( ) al0l055 pino saucedo empresa electrificadora caribe debidamente legitimada , existiendo ca sal in s.a. e.s.p , encuentra hibicion , razon procedera ciones despacho 1994 , regulacion contrato condiciones partes pruebas obrantes , entrar razon usuario ( ) si contrario actuacion todas pruebas relacionadas capitulo vi , principalmente factura impone 7.2 normatividad aplicable acuerdo conflicto planteado : analisis debera hacer atendiendo constitucion politica , leyes 142 ci resolucion creg 7098 ; contrato co analisis : presente caso debe tenerse claro q analisis pronunciamiento parte normas legales consignadas articulo 29 1994 . 689 2002 ; resolucion creg 10897 : ciones uniformes . inconformidad debe desprenderse despacho , cobro consumo dejado facturar aplica empr electr ! ficadora cartbe s.a. e.s.p producto anomalia detectada acometida predio . topico frente hara siguiente analisis : primero dejar claro empresas servicios publicos pueden traves actuacion administrativa recuperar energia dejad facturar casos compruebe existieron irregularidades anomatias medidores acometidas , atribuibles empresa , conllevaron consu reales registrados totalidad instrumento medida , actuacion debe adelantar observando debido proceso . derecho defensa contradiccion . teniendose claro debido proceso 3 garantiza indica usuarios medios prueba seran utilizados , plazos terminos dentro cuales podra usuario realizar defensa ; decisi n debidamente motivada , brindando inicio actuacion derecho defensa c tradiccion elementos pueden incidir toma decision . . mas dejados facturar debe ser resultado coeso realiza empresa determinar origen situacion anomala permitido midan consumos puede obedecer diferentes causas , dentro cuales , inclusive , pueden conexiones 76metidas defectuosas o. incluso , uso irregular servicio , conseouencia ello . cobro cons cadena elementos dentro p ewicios publit : domiciliarios superintendencia - sspdsupersemicios.gov.co m.superservicios.gmc ... ... ... ... .. unuvnuu . qulcu uu ... :  : = ! unauul.a , i i 'd l : n nu o'ibur ' ae barranquilla - atlantico , haciend enirega copia misma . ser posibie efectuar notificacion personal , 3 notificara aviso . articulo cuarto : empresa elec rificadora caribe s.a. e.s.p . debera dar cumpiimiento dispuesto prese resolucion . dentro diez ( 10 ) dias habiles siguientes fecha ejecutoria . mismo , debera enviar superintendencia servicios pubiicos domiciliarios . dia hain siguiente aquel haga efectivo cumplimiento ia presente resolucion , onstancia mismo acompanada ias pruebas respectivas ei incumplimiento gacion acarreara sancion prestador . conforme dispone articulo 90 ley 1437 2 11 . articulo quinto : presente resol procede recurso alguno . ion rige par1ir fecha notificacion notifiq cumplase dada barranquilla . ; ? elve h santos romero director territorial norte proyecto : cynthia molinares - proyectista externa reviso ' diana margarta alejo  revisora externa superintendencia servicios publicos domiciliarios www.superservicios.gov.cb  sspdsupersewicius.gov.cc 20158200320615 articulo 29 constitucion politica establece debido | : actuaciones judiciales administrativas . d principios rigen debido proceso , , | contradiccion . asi cobro consumos dejados facturar , ac respetando debido proceso conformidad articulo 29 previsto ley 142 1994 demas normas concordantes . consecuencia , eventos determine facturar , debe garantizarse usuario derecho defensa concepto factura , , empre determinar causa impidio medicion tos consumos ( co 2010 ) puede entonces entenderse garantizado ei debido proceso . d sola expedicion factura consumos dejados factu usuario haga uso recursos procedimiento administr usuario debe tener derecho interactuar frente cada conocerlas razones tacticas , tecnicas juridicas p consumos dejados facturar . jte pagiw receso aplicarse riva deban respetarse s principios tegaiidad tuacion debe adelantarse constitucion politica xist noia consumos dejados incluya valor da inicio actuacion acepto unificado sspd-21 efensa contradiccion , rar posibilidad et vo , sino previo elementos probatorios ) i ' sele imputa pago consecuencia . eventos determinacion consumos dejados facturar debe garantizarse usuarios derecho defensa contradice valores cobrados dentro factura , regia cum medida adelanto actuacion administrativa . decir , efectivo cobro expidiendo factura , obra expedient on incluyan > ie presente caso empresa decide hacer . cobra concepto recuperacion consumos costo inspeccion valor 57.878.300oo factura claramente establece fecha emision , limite d fecha oportuna pago debidamente tirmada representante legal entidad pre adora . debe recordarse todas actuaciones procedimientos prestadoras encaminadas recuperacion consumos . deben debido proceso transparencia permita idoneidad efectivo cobro determinado deviene dicha actuacion . ultimo , respecto cobro inspeccion demas adopten entidades star revestidas ia garantia misma actuacion hacer ceptos cargados factura reclamada , corren misma suerte concepto recuperacion consumos hacer parte misma actuacion . asi cosas , despues analisis tactico juridico acerv < probatorio reposa expediente caso bajo examen . despacho revocar . ta decision violacion debido proceso , conformidad premisas anteriores . merito expuesto . despacho resuelve articulo primero : revocar decision empresarial proferida empresa electr1f ! cadora caribe lugar retirar factura concepto energia dejada f contribucion , iva demas valor $ 57.878.300.oo , parte motiva resolucion . articulo segundo : notif ! car personalmente contenic representante legat empresa electreftcadora carrera 55 . 72 - 109 , piso ? , ciudad barranquili copia misma . ser posible efectuar notificacion pen 40 , 274280 ? dei 04103 ! 2015 . s.a. e.s.p , ordenando cturar , costos inspeccion , rmidad expuesto presente resolucion l caribe s.a . e.s.p. , , haciendole entrega , onal , notificara aviso . superintendencia servicios publicos domiciti ww.superservicios.gov.co - sspdsuperservici rios .gov.co w ? s...pofw... oon_=af crasas publicos domiciliarios ... eoumm ! nucwow llllllllililllilillllllillllillllillilllllilillllll sc-foos v.2 pagina 1 4 resolucion . sspd - 20158200320615 31 ! 12 ! 2015 expediente . expediente201sbzdssg1dbz1se decide recurso apelacion director territorial norte superintendencia servicios publicos ejercicio facultades , especial connere articuio 79 numeral 29 , articulos 154 159 ley 142 1994. modificada porla ley 689 2001 articulo 20 numerales 18 19 decreto 990 2002 . resolucion sspd . 0021 2005 , modificada porla resolucion . 201250000027085 30 agosto 2012 ; ley 1437 2011 ; v fundamento siguientes antecedentes mediante escrito radicado sede empresarial . re'9510201503531 1210312015. senor ( ) alcides pino saucedo , interpuso recurso reposicion subsidio apelacion decision empresarial . 274280 ? 04 ! 03 ! 2015 . proferida porla empresa electrificadora caribe s.a. e.s.p . mediante resolvio reclamacion concepto energia dejada facturar cargada facturacion predio identificado nic 2070009 . empresa electrificadora caribe s.a. e.s.p , resolvio recurso reposicion mediante decision empresarial . 2775379 200312015 . confirmando decision inicial concedio recurso apelacion superintendencia . consecuencia , procedio remitir respectivo expediente . radicado despacho bajo . 0 | . hechos antecedentes procesales ( ) senor ( ) alcides pino saucedo presento reclamacion empresa electrificadora caribe s.a. e.s.p.por cobro energia dejada facturar . empresa electrificadora caribe s.a. e.s.p.l atan io dicho reclamo acto empresarial . 274280 ? 04i03 ! 2015 , accediendo pret sion decidiendo confirmar cobro . il . argumentos recurso ( ) senor ( ) alcides pino saucedo , dentro termino . mediante escrito recibido empresa numero radicacion re95102015035 1 1210312015. interpuso recurso reposicion subsidio apelacion . decision empresarial 274280 ? 04i03 ! 2015 , expresando desacuerdo misma empresa electrificadora caribe s.a . e.s.p. , decision . 2775379 2010312015. desata recurso reposicion ratificando ision inicial disponiendo remision expediente organismo control tramit curso apelacion . c.....5527 ' lil . presupuestos procedencia recur apelacion cra . 59 . 75 -134 barranquilla . colombia - codigo postal : 05000 ? net : 800.250.934.6 , , pbx : 36022 ? 2 533175 - fax : 369190 ? - dinonesupersenicios.govoo anima ? linea atencron ( 1 ) 591 3006 bogota linea gratuita nacional ( 18000 9103 05 ....superservicios.gov.co  sspdsupersewicios.gov co   \n",
       "\n",
       "                    Name  \n",
       "0  userFile1498167279833  "
      ]
     },
     "execution_count": 46,
     "metadata": {},
     "output_type": "execute_result"
    }
   ],
   "source": [
    "prueba"
   ]
  },
  {
   "cell_type": "code",
   "execution_count": 47,
   "metadata": {},
   "outputs": [
    {
     "name": "stdout",
     "output_type": "stream",
     "text": [
      "Palabra que coicide: ['resuelve articulo primero  revocar']\n",
      "5603\n"
     ]
    }
   ],
   "source": [
    "nom_ar,valor=0,0\n",
    "lista=[]\n",
    "while (nom_ar<=(len(prueba)-1)):\n",
    "    cleanText = re.sub('[^\\w\\s]', '', prueba[prueba.Name == prueba['Name'][nom_ar]].CleanText.values[0])\n",
    "    nom_ar=nom_ar+1\n",
    "    #val1=re.findall('(\\d{16})', cleanText)\n",
    "    #val2=set(re.findall('sspd\\s*(\\d{14})', cleanText))\n",
    "    #numero=set(re.findall('\\s(\\d{14})\\s', cleanText))\n",
    "    #val3=set(numero)-set(val2)\n",
    "    #contexto\n",
    "    resoluciones = ['requerir', 'apertura de investigacion', 'sancion', 'archivar', 'confirmar', 'revocar', \n",
    "                    'rechazar', 'tramitar', 'improcedente', 'rechazo', 'procedente', 'modificar', 'inhibirse', \n",
    "                    'no acceder', 'corregir', 'aclarar']\n",
    "    #palabras que coiciden dentro del texto\n",
    "    for resolucion in resoluciones:\n",
    "        coincidence = re.findall('.*(resuelve\\s*articulo\\s*primero\\s*' + resolucion + ').*', cleanText)\n",
    "        #valor=valor+1\n",
    "       # print(valor,'\\n ','\\n')\n",
    "        if coincidence:\n",
    "           #resoluciones.index[]\n",
    "            print('Palabra que coicide:',coincidence)\n",
    "        if coincidence!=[]:            \n",
    "            print(cleanText.index(resolucion))\n",
    "    #results=context('modificar', cleanText, 10, 10,)\n",
    "    #almacenamiento dc\n",
    "    #dc = {'Expediente' : [val1],'sspd' : [val2],'Radicado':[val3],'Resulve':[results]}\n",
    "    #df = pd.DataFrame(dc) \n",
    "    #lista.append(df)\n",
    "    \n",
    "    \n"
   ]
  },
  {
   "cell_type": "code",
   "execution_count": 48,
   "metadata": {},
   "outputs": [
    {
     "data": {
      "text/plain": [
       "'r'"
      ]
     },
     "execution_count": 48,
     "metadata": {},
     "output_type": "execute_result"
    }
   ],
   "source": [
    "cleanText[5603]"
   ]
  },
  {
   "cell_type": "code",
   "execution_count": 27,
   "metadata": {
    "collapsed": true
   },
   "outputs": [],
   "source": [
    "#for result in results:\n",
    "#    print('Contexto',v+1,' ',result,'\\n') "
   ]
  },
  {
   "cell_type": "code",
   "execution_count": null,
   "metadata": {
    "collapsed": true
   },
   "outputs": [],
   "source": [
    "dup = prueba.insert(1, 'diccionario', lista)"
   ]
  },
  {
   "cell_type": "code",
   "execution_count": null,
   "metadata": {
    "collapsed": true
   },
   "outputs": [],
   "source": [
    "prueba"
   ]
  },
  {
   "cell_type": "code",
   "execution_count": null,
   "metadata": {
    "collapsed": true
   },
   "outputs": [],
   "source": [
    "'hola buenos j'"
   ]
  },
  {
   "cell_type": "code",
   "execution_count": null,
   "metadata": {
    "collapsed": true
   },
   "outputs": [],
   "source": []
  },
  {
   "cell_type": "code",
   "execution_count": null,
   "metadata": {
    "collapsed": true
   },
   "outputs": [],
   "source": []
  },
  {
   "cell_type": "code",
   "execution_count": null,
   "metadata": {
    "collapsed": true
   },
   "outputs": [],
   "source": []
  },
  {
   "cell_type": "code",
   "execution_count": null,
   "metadata": {
    "collapsed": true
   },
   "outputs": [],
   "source": []
  }
 ],
 "metadata": {
  "kernelspec": {
   "display_name": "Python 3",
   "language": "python",
   "name": "python3"
  },
  "language_info": {
   "codemirror_mode": {
    "name": "ipython",
    "version": 3
   },
   "file_extension": ".py",
   "mimetype": "text/x-python",
   "name": "python",
   "nbconvert_exporter": "python",
   "pygments_lexer": "ipython3",
   "version": "3.5.4"
  }
 },
 "nbformat": 4,
 "nbformat_minor": 2
}
