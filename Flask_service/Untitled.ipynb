{
 "cells": [
  {
   "cell_type": "code",
   "execution_count": 2,
   "metadata": {},
   "outputs": [
    {
     "name": "stderr",
     "output_type": "stream",
     "text": [
      "/home/jhonex/miniconda3/envs/nlp/lib/python3.5/site-packages/ipykernel_launcher.py:2: ExtDeprecationWarning: Importing flask.ext.uploads is deprecated, use flask_uploads instead.\n",
      "  \n"
     ]
    }
   ],
   "source": [
    "from flask import Flask, render_template, request\n",
    "from flask.ext.uploads import UploadSet, configure_uploads, IMAGES"
   ]
  },
  {
   "cell_type": "code",
   "execution_count": 3,
   "metadata": {},
   "outputs": [],
   "source": [
    "\n",
    "app = Flask(__name__)\n",
    "photos = UploadSet('photos',IMAGES)\n",
    "\n",
    "app.config['UPLOADED_PHOTOS_DEST'] = 'static/img'\n",
    "\n",
    "@app.route('/upload', methods=['GET','POST'])\n",
    "def upload():\n",
    "    if request.method == 'POST' and 'photo' in request.file:\n",
    "        filename = photos.save(request.files['photo'])\n",
    "        return filename\n",
    "    return render_template('upload.html')\n",
    "if __name__=='__main__':\n",
    "    app.run (debug=True)"
   ]
  },
  {
   "cell_type": "code",
   "execution_count": null,
   "metadata": {},
   "outputs": [],
   "source": []
  }
 ],
 "metadata": {
  "kernelspec": {
   "display_name": "Python 3",
   "language": "python",
   "name": "python3"
  },
  "language_info": {
   "codemirror_mode": {
    "name": "ipython",
    "version": 3
   },
   "file_extension": ".py",
   "mimetype": "text/x-python",
   "name": "python",
   "nbconvert_exporter": "python",
   "pygments_lexer": "ipython3",
   "version": "3.5.5"
  }
 },
 "nbformat": 4,
 "nbformat_minor": 2
}
