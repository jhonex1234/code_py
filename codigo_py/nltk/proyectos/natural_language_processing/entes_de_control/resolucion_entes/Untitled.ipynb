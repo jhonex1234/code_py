{
 "cells": [
  {
   "cell_type": "code",
   "execution_count": 2,
   "metadata": {},
   "outputs": [],
   "source": [
    "import extractField as ef"
   ]
  },
  {
   "cell_type": "code",
   "execution_count": null,
   "metadata": {},
   "outputs": [],
   "source": [
    "ef.extractField('/home/jhonex/document_e/')"
   ]
  },
  {
   "cell_type": "code",
   "execution_count": null,
   "metadata": {},
   "outputs": [],
   "source": [
    "object_a = ef('/home/jhonex/document_e/')"
   ]
  },
  {
   "cell_type": "code",
   "execution_count": null,
   "metadata": {},
   "outputs": [],
   "source": [
    "object_a.organizeDocs()"
   ]
  },
  {
   "cell_type": "code",
   "execution_count": null,
   "metadata": {},
   "outputs": [],
   "source": [
    "object_a.cleanDocs()"
   ]
  },
  {
   "cell_type": "code",
   "execution_count": null,
   "metadata": {},
   "outputs": [],
   "source": [
    "object_a.extractFields()"
   ]
  },
  {
   "cell_type": "code",
   "execution_count": null,
   "metadata": {},
   "outputs": [],
   "source": [
    "class fields():\n",
    "    def getresolucion(self,cleanText):\n",
    "        #resolution art first\n",
    "        result  = re.findall('\\s*resuelve\\s*articulo\\s*(primero|1)\\s*(\\w*)', cleanText)\n",
    "        return result\n",
    "\n",
    "    def getsspd(self,cleanText):\n",
    "        # number sspd\n",
    "        val_sspd=set(re.findall('\\s*sspd\\s(\\d{14})\\s', cleanText))\n",
    "        return val_sspd\n",
    "\n",
    "    def getdatesspd(self,cleanText):\n",
    "        #date sspd\n",
    "        val_sspd_fe=set(re.findall('sspd\\s*\\d*\\sfecha\\s*(\\d*\\S*|\\d)', cleanText))\n",
    "        return val_sspd_fe   \n",
    "\n",
    "    def getnumberexpedient(self,cleanText):\n",
    "        #expedient\n",
    "        val_expedient=set(re.findall('\\s(\\d*\\e)\\s', cleanText))  \n",
    "        return val_expedient    \n",
    "\n",
    "    def getexpedientfather(self,cleanText):\n",
    "        #expedient father\n",
    "        val_expedient_father=set(re.findall('radicado\\spadre\\s(\\d{14})\\s', cleanText))  \n",
    "        return val_expedient_father\n",
    "\n",
    "    def getnumberdecision(self,cleanText):\n",
    "        #number solve of decision \n",
    "        val_solve_decision=re.findall('\\s*resuelve\\s*articulo\\s*(primero|1)\\s*\\w*\\s*decision\\s*(administrativa| )\\s*(no|n0| )(\\d*)\\s', cleanText)\n",
    "        return val_solve_decision\n",
    "\n",
    "    def getdatedecision(self,cleanText):\n",
    "        #date decision\n",
    "        val_decision_fe= re.findall('\\s*resuelve\\s*articulo\\s*(primero|1)\\s*\\w*\\s*decision\\s*(administrativa| )\\s*(no|n0| )\\d*(\\s*\\d*\\s\\w*\\s\\d*\\s\\d*)', cleanText)\n",
    "        return val_decision_fe\n",
    "\n",
    "    def getnumberRE(self,cleanText):\n",
    "        # number_RE\n",
    "        val_number_re=set(re.findall('(no|n0| )\\s*(re\\d*)\\s', cleanText)) \n",
    "        return val_number_re\n",
    "\n",
    "    def getdateRE(self,cleanText):\n",
    "        # RE_date\n",
    "        val_re_fe=re.findall('(no|n0| )\\s*re\\d*\\s(\\d{2}\\s\\w*\\s\\d{4})',cleanText)\n",
    "        return val_re_fe\n",
    "    \n",
    "    def getfields(self,cleanText):\n",
    "        dc = {\n",
    "                'resolucion':getresolucion(cleanText),\n",
    "                'sspd' : (getsspd(cleanText) , getdatesspd(cleanText)),\n",
    "                'expediente_padre' : getexpedientfather(cleanText), \n",
    "                'num_decision':(getnumberdecision(cleanText) , getdatedecision(cleanText)) , \n",
    "                'radicado_RE':(getnumberRE(cleanText) , getdateRE(cleanText))\n",
    "            }\n",
    "        return dc    "
   ]
  }
 ],
 "metadata": {
  "kernelspec": {
   "display_name": "Python 3",
   "language": "python",
   "name": "python3"
  },
  "language_info": {
   "codemirror_mode": {
    "name": "ipython",
    "version": 3
   },
   "file_extension": ".py",
   "mimetype": "text/x-python",
   "name": "python",
   "nbconvert_exporter": "python",
   "pygments_lexer": "ipython3",
   "version": "3.5.4"
  }
 },
 "nbformat": 4,
 "nbformat_minor": 2
}
