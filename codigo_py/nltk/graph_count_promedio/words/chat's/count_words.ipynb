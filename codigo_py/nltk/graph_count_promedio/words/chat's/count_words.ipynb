{
 "cells": [
  {
   "cell_type": "code",
   "execution_count": 68,
   "metadata": {},
   "outputs": [],
   "source": [
    "from unicodedata import normalize\n",
    "import pandas as pd\n",
    "from nltk import tokenize\n",
    "import nltk \n",
    "\n",
    "from nltk.corpus import gutenberg\n",
    "import random\n",
    "import re\n",
    "import numpy as np\n",
    "from numpy.random import normal, uniform\n",
    "\n",
    "import matplotlib.mlab as mlab\n",
    "from matplotlib import pyplot as  plt\n",
    "import plotly.plotly as py\n",
    "from time import time\n",
    "from nltk.corpus import stopwords\n",
    "from wordcloud import WordCloud, STOPWORDS\n",
    "from unicodedata import normalize\n",
    "\n",
    "\n",
    "from mpl_toolkits.mplot3d import proj3d"
   ]
  },
  {
   "cell_type": "code",
   "execution_count": 2,
   "metadata": {},
   "outputs": [],
   "source": [
    "def reading_csv(dir):\n",
    "    start = time()\n",
    "    dataframe = pd.read_excel(dir)\n",
    "    print('Save '+dir+' in dataframe %.2f seconds' % (time() - start))\n",
    "    return dataframe\n",
    "\n",
    "def filter_chat(dataframelist):\n",
    "    df = dataframelist.loc[dataframelist['id sesion'] == dataframelist['id sesion']]\n",
    "    df =  df.loc[(df['tipo participante'] == 'Usuario')]\n",
    "    return df"
   ]
  },
  {
   "cell_type": "code",
   "execution_count": 3,
   "metadata": {},
   "outputs": [
    {
     "name": "stdout",
     "output_type": "stream",
     "text": [
      "Save chatccb_full_mar_2016.xlsx in dataframe 403.42 seconds\n"
     ]
    }
   ],
   "source": [
    "dataframe = reading_csv('chatccb_full_mar_2016.xlsx')"
   ]
  },
  {
   "cell_type": "code",
   "execution_count": 4,
   "metadata": {},
   "outputs": [],
   "source": [
    "def filter_chat(dataframelist,human):\n",
    "    df = dataframelist.loc[dataframelist['id sesion'] == dataframelist['id sesion']]\n",
    "    df =  df.loc[(df['tipo participante'] == human)]\n",
    "    return df"
   ]
  },
  {
   "cell_type": "code",
   "execution_count": 5,
   "metadata": {},
   "outputs": [],
   "source": [
    "datafram_filtered_user = filter_chat(dataframe,'Usuario')"
   ]
  },
  {
   "cell_type": "code",
   "execution_count": 6,
   "metadata": {},
   "outputs": [],
   "source": [
    "def filter_chat(dataframelist,human):\n",
    "    df = dataframelist.loc[dataframelist['id sesion'] == dataframelist['id sesion']]\n",
    "    df =  df.loc[(df['tipo participante'] == human)]\n",
    "    return df"
   ]
  },
  {
   "cell_type": "code",
   "execution_count": 7,
   "metadata": {},
   "outputs": [],
   "source": [
    "datafram_filtered_user.dropna(subset=['mensaje'], inplace=True)"
   ]
  },
  {
   "cell_type": "markdown",
   "metadata": {},
   "source": [
    "## exclusionList"
   ]
  },
  {
   "cell_type": "code",
   "execution_count": 8,
   "metadata": {},
   "outputs": [],
   "source": [
    "text_chat = datafram_filtered_user['mensaje']\n",
    "exclusionList = ['#', '$', '%', '&', \"'\", \"''\", '(', ')', '+', '+03', '+3', ',4759', '-', '--', '-0', '-2', '-3',\n",
    " '-5', '-5207621','!', '..','202', '2022', '2029', '2032918', '2062263', '2094337', '20agencia.pdf', '20cambio',\n",
    " '20cancelaci', '20comercio', '20comercio.pdf', '20de', '20establecimiento', '20matr', '20natural.pdf', '20nombre',\n",
    " '20o', '20persona', '21', '211129248', '2123793', '22', '22/09/2015', '2200397', '22393', '2244235', '2250799',\n",
    " '22549', '2263132', '2282703', '22961', '23', '23.652.171', '2347648', '2353096', '2353097','2359075', '2390238',\n",
    " '2390241', '24', '24.023.207', '2482895', '25', '251300', '25130000', '2568995', '2587674', '2591963', '26', '2639795', '2649', '2649.', '26832', '27', '276832',\n",
    " '28', '283876', '28472260', '2847226_0', '3/10/2016', '3/31/2016', '30', '30/06/2015', '3004223412', '3013324988', '30160391304', '3024352',\n",
    " '3024775', '3030683', '3039974', '3053630', '3056150', '3076958', '3081935', '3086127', '31', '3105802608', '3107318', '3108503211',\n",
    " '3109888', '3114743', '3114811496', '3115790', '3115815', '3115843', '3118639580', '3124155', '313', '313,000.00', '3131385', '3133765350', '3134195', '3134559296', '3136737', '3141907',\n",
    " '3162453', '3163688', '3167172', '3168251', '3170554', '3183176', '3184899', '3185147173', '3188863-8', '3204320',\n",
    " '3204831', '3207866', '3211161', '3212181', '3224828', '3226242', '3227165', '3232034', '3233344', '3236679', '3236700', '3244053', '3245866', '3249948', '3259001', '3268768', '3274037', '3275453', '3282206', '3283359', '3294750', '3296930', '3302775', '3311009', '3317246', '3318900', '3330632', '3336354', '3343306', '3472729', '35221264',\n",
    " '3524', '354593906', '35477868', '36,000.00', '36.000', '376.000', '383-03-30', '3830330', '388873', '39782714', '4', '400.000',\n",
    " '4014380', '40800', '41781621', '417952007', '45.000.000', '4645', '4664', '466609731', '4669', '4711-1',\n",
    " '4719', '4719-1', '4729', '4763824', '48', '4800', '4818158', '4830496', '4853377', '4862621', '4878473',\n",
    " '4881425', '490', '4:00','4:15', '5', '50', '500.000.000', '5000000', '51', '51.850.777', '51646404', '517489942',\n",
    " '51789194', '51904300', '51985721-4', '51992345', '52.155.103', '52.209.511', '52.345.373', '52.781.989', '52063781', '52096707',\n",
    " '5209775', '52110978', '521109789', '52222224', '52345373', '524,000.00', '52454082-1', '524634664', '52484106', '524929938',\n",
    " '52520164', '52543993', '52554964', '52793221', '52837581', '52851147', '53032447', '53092314', '53118737', '54', '54636', '55','5714014380',\n",
    " '57508461', '58.000.000', '589004', '5908250', '5912324', '6', '60101100', '6129454/3202938557', '63,000.00',\n",
    " '65765842', '663704', '6:14:44', '6b', '7', \"7.140'954.582\", '70.000', '7010', '7020', '7140954582', '720', '729',\n",
    " '74.333.437', '77', '77.000', '78111800', '79.665.615-1', '79259415-2', '79287227-4', '793010665', '79325772', '79627325', '797318135', '797489492',\n",
    " '79790750', '797907501', '79948017', '799613273', '79979010', '8', '80', '80.000.000', '800.000',\n",
    " '800.073.493-2', '800.141.819-1', '800.164.764-4', '8000299833', '8000734932','800089364-0', '8000893640', '8000969698', '8001061667', '800110970',\n",
    " '800110970-3', '800120578-1', '8001414095', '800141819', '8001472025', '800149994', '8001706181', '800171845-1',\n",
    " '8001969551', '800231182-5', '800235665-9', '80051021', '80137455', '80184676', '801846769', '80225079', '8040165774', '8080009083', '808471', '8106283', '8299',\n",
    " '830.008.872-3', '830.017.569', '830.074.158-3', '830.093.422-4', '830.125575-1', '830.507.746-4', '830.515.294-0',\n",
    " '8300073799', '830017419-8', '8300175694', '8300184382', '830023797-1', '8300310471', '830044266-2', '830050476-7',\n",
    " '8300545036', '8300606609', '8300630871', '8300727609', '830074805', '830075303-1', '830083670-1', '830085241', '830089010-8',\n",
    " '830089318-', '8301144985', '8301173601', '8301195979', '8301199165', '8301255751', '8301288545', '830129050-5', '830143689', '830145128-8', '8305068482', '830515061-1', '860.002.185-3', '860.053.976-0', '860.509.639-2', '8600072141',\n",
    " '8600073229', '8600141355', '8600272297', '8600370738', '860037293-1', '8600490421', '860050420-4', '860144566', '8604029341', '8605066881', '860509639', '860510003', '860510030',\n",
    " '8605123303', '8605154029', '860517566-7', '8605289588', '860529319-6', '860530482-0', '860600006-9', '8606000069',\n",
    " '87000', '89,000.00', '89.000.00', '890203194-1', '8902039449', '890300234', '8903010714', '8:36:32', '8am', '9', '9-22803', '9-23089', '9.700', '9.700.oo', '90',\n",
    " '900', '900-532.511-1', '900.064.854-2', '900.100.046-2', '900.156.700-2', '900.213.063-3', '900.245.670-1', '900.270.439-1', '900.355.646-6', '900.367.546-1', '900.376.042-8', '900.422.080-5', '900.480.924-3', '900.571.9191-7',\n",
    " '900.645.471', '900.667.024-4', '900.747.634-0', '900.845.285-3', '900.912.867-7', '900.922.501-1', '9000183356',\n",
    " '900020031', '900053354-4', '9000533711', '9000648542', '9000674930', '9000710403', '9000964199', '9001216811', '9001306968', '900143108-5',\n",
    " '900144233', '9001442332', '900144754-8', '900164444-5', '9001668794',\n",
    " '900171498', '9001923335', '900200194-3', '9002066705', '900212129-6', '900220174-1', '900228646-2', '900235445-8', '9002354458',\n",
    " '9002471907', '9002523182', '9002617681', '9002657959', '9002724193', '900276527-9','9002765279', '900283039-5', '900292275-5', '900296079-6', '9002960796', '9002965795-9',\n",
    " '900296929', '900307641', '900325596-8', '900331138-2', '900339586-5', '9003401398', '9003454030', '9003495567', '900363888', '9003638885',\n",
    " '9003819668', '900383424', '900388924', '9004089753', '900424856-2', '900429923', '900435450-3', '900440851-3', '900456613',\n",
    " '9004566137', '900469443-8', '9004723502', '900472551', '900473073', '900482978-1', '900496013-9', '9005006769', '900511868-3', '9005252542', '900534407-0', '900536172-4', '900536724', '9005384964', '900544356-6', '900546430', '9005464302', '900549765', '900550778', '9005507785', '900552595-3', '9005617618', '900575653-1', '9005819136', '900587466.2', '900587504-4',\n",
    " '900595811-4.', '900598552', '9005985525', '9006069951', '9006085505', '900615053-5', '9006155091', '9006303969', '9006349887', '900636629-7', '9006395966', '9006398344', '900641182-4', '9006416756', '900644411-2', '900649101-7', '900654487-4', '9006587766', '9006669995', '9006670244', '9006705751', '9006732782', '9006825792', '9006903094', '900692118-3', '9007035257', '900705747', '900719260-0', '900719411', '9007210625', '9007244961',\n",
    " '9007267625', '900729853-0', '900730241-5', '900742043-5', '900743069-0', '9007430690', '900744235', '900749623-9', '9007535243', '9007577563', '9007579212', '9007623055', '900769930', '9007699303', '900779136', '900779136-1', '900787011-2', '9007877887', '900792675', '900792859-1', '900796758', '900797905', '900801190', '9008011903', '9008014241', '9008095554', '900810833-9', '900813237', '9008202404', '9008209393',\n",
    " '900823653-6', '9008236536', '9008274158', '900829506', '9008295069', '900832012-3', '9008320621', '9008375301', '9008421156', '9008432546', '9008673057', '9008687276', '900870917', '9008709175', '900876963-1', '900877274-1', '900891853-2', '900896033-2', '9009128677', '900913496-2', '900920473-2', '900931477-9', '9009320573',\n",
    " '919-7', '95', '963945327', '9700', ':30', ';', '=',  '..gracias', '..hice', '..ps', '.33', '.e',\n",
    " '.entonces', '.estoy', '.genere', '.gracias', '.muy', '.ç', '/', '0', '0,00','0.00', '0.7', '00', '000', '000001600089439', '000001600118469', '000009000533711', '000009005958114', '00019550', '0002321315', \n",
    "'0002553052', '0002662182', '0002927124', '0003016469', '0003078101', '0003078512', '0003085701', '0003092258', '0003135873', '0003150439', '0003163688', '0003164010', '0003179945', '0003196390', '0003203981', '0003207866', '0003237083', '0003244124', '0003249752', '0003279594', '0003319235', '0010106175', '00177402',\n",
    " '00203828', '003052208', '003095011', '00396272', '00416479', '00625404', '00711415', '00743861', '00761867', '00781808', '00859902', '00864357', '00917814', '01031947', '01049447', '01084537', '01097155', '01135195', '01229546', '01269551', '01304702', '01356227', '01356489', '01392562', '01404688', '01431960', '01439317', '01527862', '01534835', '01545118', '01562655', '01636772', '01761825', '01804863', '01851006', '01892885', '01918482', '01924086', '01963974', '01988781', '02',\n",
    " '02000227', '02005954', '02015551', '02018455', '02039051', '02058176', '02077893', '02093972', '02103287', '02116348', '02118901', '02120499', '02138062', '02147098', '02154840', '02173963', '0218',\n",
    " '02222513', '02254286', '02264145', '02268279', '02297996', '02301835', '02307216', '02354793', '02367601', '02374241', '02379812', '02399829', '02407124', '02407128', '02425229', '02425711', '02439169', '02441925', '02443417', '02448655', '02452689', '02458033', '02462674', '02467280', '02472921', '02473172',\n",
    " '02473180', '02517308', '02518042', '02521354', '02527534', '02546313', '02546886', '02550008', '02550763', '02559018', '02562329', '02564773', '02567339', '02570032', '02575913', '02579879', '02589335', '02591142', '02606211', '02616250', '02625424', '02627266', '02628362', '02633382', '02638738', '02658210', '02662182', '02c200224123',\n",
    " '03', '0361398', '04', '0519172', '06:06', '07', '0736273', '0736275', '083', '08:56',\n",
    " '1', '1,509,000.00', '1.', '1.-', '1.000.000', '1.070.952.898', '1.250.000.000', '1.335.000', '1.748.739.692', '1/1/0001', '10', '100', '100.000.000', '10108380',\n",
    " '10114382', '10116739', '10116982', '10118021', '10118051', '10119993', '1012363934', '10124032', '10128717', '10129149', '10130083', '10131244', '10132338', '1014',\n",
    " '1019069318', '1019081644', '1020725368', '1022327363', '1023863989', '1024534762', '1026292191', '103241260141', '1032423642', '107', '1094897872', '10:30',  '11', '110.000', '1121890101-3', '11226652-3', '1146243',\n",
    " '116.450.000', '11:26', '12', '122.422-t', '12749464', '128000', '12:00', '132', '14', '140', '1429', '143620-0', '1472197', '1497121',\n",
    " '15', \"15'000.000\", '152', '1545118', '1552691', '1585241', '15:37:42', '1600053314','16000553314', '1600072982', '1600081211', '1600084878', '1600085050-51-49-52', '1600086035', '1600089873', '1600096063', '1600097469', '1600100163', '1600100249', '1600102803','*ciudad', '*sujeto', '..acabo', '..mil', '.hay', '.ja', '.parallevar', '.por','.y', '//asistenciavirtual.ccb.org.co/portal/default.aspx',\n",
    " '//chat.millenium.com.co:8080/webchatccb/userinfo.jsp', '//linea.ccb.org.co', '//linea.ccb.org.co/certificadoselectronicos/', '//linea.ccb.org.co/clavevirtual/portalconsulta/busqueda.aspx',\n",
    " '//linea.ccb.org.co/rup/forms/selecciontramiteinscripcion.aspx', '//linea.ccb.org.co/tiendaconsultas/tienda/busqueda.aspx',\n",
    " '//linea.ccb.org.co/tiendamatricula/defaultservicios/default.aspx', '//linea.ccb.org.co/tiendamatricula/tienda/busqueda.aspx', '//rntbogota.confecamaras.co/registrar-establecimiento', '//sedevirtual.ccb.org.co/sedeelectronica/tramites/tramite.do', '//www.ccb.org.co/content/download/4738/59926/file/solicitud',\n",
    " '//www.ccb.org.co/content/download/4741/59938/file/solicitud', '//www.ccb.org.co/content/download/4744/59950/file/solicitud',\n",
    " '/03/2016', '10a', '1600104515', '1600109551', '16001095510', '1600128324.', '1600130980', '160rqykk', '1648','16g0wwfy', '17', '17101160', '171413040', '1780945',\n",
    " '18', '182', '187107144', '19', '19.141.583', '19069245', '1907563', '19137864', '19358468', '19423422', '194630531', '19480490',\n",
    " '1964586','1:30', '2', '2,3', '2.', '2.-', '2.000', '2.015', '20', '20.000.000', '200', '2000', '2001', '2006', '2009', '2010', '2010.','2012',\n",
    " '2013', '2014', '2015', '2016', '2016.', '2016/03/17', '2016003', '2016003915', '2016005473', '2016005726', '20160219-0073', '20160308556','20160391214', '20167719', '201699000644', '29', '2a', '2b',\n",
    " '3', '3.', '3830330.', '4smdlv', '5a', '6a', '9004576909.', '9xmeycgwv4z', '_', '``', 'a.', 'aa', 'aaa',\n",
    " 'aaaa', 'aademas', 'aah', 'aba', 'abajo', 'abandono', 'abansar', 'abc', 'abierta', 'abiertas', '000001600027058','abierto','sas',\n",
    "'abre','abri','abriendo' ,'abril', 'abrimos','abrir','abrire','abrirlo' ,'aca','acaba','acaban','acabe','acabo','acabé',\n",
    " 'accb', 'accer' ,'accesorios','accion','acarrea','acatas','accedieron','accedí','accesar',\n",
    "                     \n",
    "'accionista','acción','abministracion','reales','francisco','reactivarla','fu','fuera..','fuerza','full','funcion',\n",
    "'reactivar','funcionado','funcionamiento','funcionan','funcionando','reactivacion','funcionara','funcionaria','re',\n",
    "'funcionarios','funcione','fotma','realiace','fortadpays','realiz','fomulario','fonatanr','fondo','realmente',\n",
    "'realizra','ingresarlos','iovanna','ips','ira','irian','irlo','irntentar','irrevocable','isabel','ismenia','itversion6.com',\n",
    "'ior','izquierda','tiempos','jairo..','jap454','jaramillo','tesoreria','jcgg79','jd','terrible','jefferson',\n",
    "'jheferson..','j.cifuentes','iongreso','io','invitado','integrales','intenet','tm','cámara',\n",
    " 'generica','internacional','internety','internt','internte','interés','intetar','intyernet','invalido',\n",
    "'time','investigamos','interior','termnia','jm','jmm','joaquin','johanna','joralexis','jorge','joselitocarnaval13',\n",
    "'jpsingenieria.com','jramirez','jrs5143','terminos','interet','interesado','intenté','inscriben','inscribieron',\n",
    "'inscribirá','tipo=zlkvqxszgjy=','tipo=autgjcydrv8=','academias','académica','aceder','aceote','aceptables','aceptaciòn',\n",
    "'aceptaron','aceptado','ç',':','acogerse','acogio','acogió',\n",
    "'acojì','acreedor','solicitud','2015','comercio'\n",
    "                 \n",
    "\n",
    " ]\n",
    "text_chat_token = text_chat.str.cat(sep=' ').lower()"
   ]
  },
  {
   "cell_type": "code",
   "execution_count": 9,
   "metadata": {},
   "outputs": [
    {
     "data": {
      "text/plain": [
       "21631315"
      ]
     },
     "execution_count": 9,
     "metadata": {},
     "output_type": "execute_result"
    }
   ],
   "source": [
    "text_chat_token = re.sub(pattern=r\"\\d\", repl=r\"\", string=text_chat_token)\n",
    "len(text_chat_token)"
   ]
  },
  {
   "cell_type": "code",
   "execution_count": 10,
   "metadata": {},
   "outputs": [
    {
     "data": {
      "text/plain": [
       "21612039"
      ]
     },
     "execution_count": 10,
     "metadata": {},
     "output_type": "execute_result"
    }
   ],
   "source": [
    "text_chat_token = re.sub(pattern=r\"-\", repl=r\"\", string=text_chat_token)\n",
    "len(text_chat_token)"
   ]
  },
  {
   "cell_type": "code",
   "execution_count": 11,
   "metadata": {},
   "outputs": [
    {
     "data": {
      "text/plain": [
       "21611574"
      ]
     },
     "execution_count": 11,
     "metadata": {},
     "output_type": "execute_result"
    }
   ],
   "source": [
    "text_chat_token = re.sub(pattern=r\"=\", repl=r\"\", string=text_chat_token)\n",
    "len(text_chat_token)"
   ]
  },
  {
   "cell_type": "code",
   "execution_count": 12,
   "metadata": {},
   "outputs": [
    {
     "data": {
      "text/plain": [
       "21609792"
      ]
     },
     "execution_count": 12,
     "metadata": {},
     "output_type": "execute_result"
    }
   ],
   "source": [
    "text_chat_token = re.sub(pattern=r\"%\", repl=r\"\", string=text_chat_token)\n",
    "len(text_chat_token)"
   ]
  },
  {
   "cell_type": "code",
   "execution_count": 13,
   "metadata": {},
   "outputs": [
    {
     "data": {
      "text/plain": [
       "21596041"
      ]
     },
     "execution_count": 13,
     "metadata": {},
     "output_type": "execute_result"
    }
   ],
   "source": [
    "text_chat_token = re.sub(pattern=r\":\", repl=r\"\", string=text_chat_token)\n",
    "len(text_chat_token)"
   ]
  },
  {
   "cell_type": "code",
   "execution_count": 14,
   "metadata": {},
   "outputs": [
    {
     "data": {
      "text/plain": [
       "21590665"
      ]
     },
     "execution_count": 14,
     "metadata": {},
     "output_type": "execute_result"
    }
   ],
   "source": [
    "text_chat_token = re.sub(pattern=r\"@\", repl=r\"\", string=text_chat_token)\n",
    "len(text_chat_token)"
   ]
  },
  {
   "cell_type": "code",
   "execution_count": 15,
   "metadata": {},
   "outputs": [
    {
     "data": {
      "text/plain": [
       "21587729"
      ]
     },
     "execution_count": 15,
     "metadata": {},
     "output_type": "execute_result"
    }
   ],
   "source": [
    "text_chat_token = re.sub(pattern=r\"//\", repl=r\"\", string=text_chat_token)\n",
    "text_chat_token = re.sub(pattern=r\"\", repl=r\"\", string=text_chat_token)\n",
    "len(text_chat_token)"
   ]
  },
  {
   "cell_type": "code",
   "execution_count": 16,
   "metadata": {},
   "outputs": [
    {
     "data": {
      "text/plain": [
       "21584600"
      ]
     },
     "execution_count": 16,
     "metadata": {},
     "output_type": "execute_result"
    }
   ],
   "source": [
    "text_chat_token = re.sub(pattern=r\"/\", repl=r\"\", string=text_chat_token)\n",
    "text_chat_token = re.sub(pattern=r\"////\", repl=r\"\", string=text_chat_token)\n",
    "len(text_chat_token)"
   ]
  },
  {
   "cell_type": "code",
   "execution_count": 17,
   "metadata": {},
   "outputs": [
    {
     "data": {
      "text/plain": [
       "21458772"
      ]
     },
     "execution_count": 17,
     "metadata": {},
     "output_type": "execute_result"
    }
   ],
   "source": [
    "text_chat_token = re.sub(pattern=r\"!\", repl=r\"\", string=text_chat_token)\n",
    "len(text_chat_token)\n",
    "text_chat_token = re.sub(pattern=r\",\", repl=r\"\", string=text_chat_token)\n",
    "len(text_chat_token)\n",
    "text_chat_token = re.sub(pattern=r\"ok\", repl=r\"\", string=text_chat_token)\n",
    "len(text_chat_token)\n"
   ]
  },
  {
   "cell_type": "code",
   "execution_count": 18,
   "metadata": {},
   "outputs": [
    {
     "data": {
      "text/plain": [
       "21242743"
      ]
     },
     "execution_count": 18,
     "metadata": {},
     "output_type": "execute_result"
    }
   ],
   "source": [
    "#text_chat_token = re.sub(pattern=r'[^\\w]', repl='', string=text_chat_token)\n",
    "text_chat_token = text_chat_token.replace(\"$\", \"\")\n",
    "text_chat_token = text_chat_token.replace(\"?\", \"\")\n",
    "text_chat_token = text_chat_token.replace(\".\", \"\")\n",
    "text_chat_token = text_chat_token.replace(\"'\",\"\")\n",
    "len(text_chat_token)\n",
    "text_chat_token = re.sub(pattern=r\"¿\", repl=r\"\", string=text_chat_token)\n",
    "len(text_chat_token)"
   ]
  },
  {
   "cell_type": "code",
   "execution_count": 19,
   "metadata": {},
   "outputs": [],
   "source": [
    "most_token_chat = tokenize.wordpunct_tokenize(text_chat_token)"
   ]
  },
  {
   "cell_type": "code",
   "execution_count": 20,
   "metadata": {},
   "outputs": [
    {
     "data": {
      "text/plain": [
       "3695226"
      ]
     },
     "execution_count": 20,
     "metadata": {},
     "output_type": "execute_result"
    }
   ],
   "source": [
    "len(most_token_chat)"
   ]
  },
  {
   "cell_type": "markdown",
   "metadata": {},
   "source": [
    "## most_token_chat"
   ]
  },
  {
   "cell_type": "code",
   "execution_count": 21,
   "metadata": {},
   "outputs": [],
   "source": [
    "most_token_chat = [normalize('NFKD', word.lower()).encode('ascii', 'ignore').decode('utf-8') \n",
    "                 for word in most_token_chat]"
   ]
  },
  {
   "cell_type": "code",
   "execution_count": 22,
   "metadata": {},
   "outputs": [],
   "source": [
    "clean_chat = most_token_chat[:67676]\n",
    "clean_tokens =  clean_chat[:]\n",
    "stop_words = stopwords.words('spanish') + ['buenas','gracias','buena','tarde','luego',\n",
    "                                          'señora','quiero','saber','sra','quisiera','sr','mil',\n",
    "                                          'tardes','buenos','hola','gmail','com','ok',\n",
    "                                       'pregunta','decir','entiendo',\n",
    "                                           'mismo','bueno','deseo','ustede','ustedes','usted',\n",
    "                                           'Diana','deja'\n",
    "                                           ,'voy','debe','debo','hotmail','osea','nuevamente','cambio',\n",
    "                                           'siguiente','debo'\n",
    "                                           \n",
    "                                           ,'Alejandro','alejandro','Carolina','carolina','Karen', 'Francy'\n",
    "                                           ,'francy', 'natalia',\"rincon\", \"joana\", \"adriana\", \"david\", \"chavez\", \"pachon\", \"camila\",\n",
    "                                           \"leidy\", \"leydi\", \"diaz\", \"andres\", \"jimenez\", \"olga\", \"luisa\", \"marcela\", \"yeraldin\", \"yang\", \"moreno\",\n",
    "                                           \"adied\", \"carlos\", \"maria\", \"tatiana\", \"hiliany\", \"fernanda\", \"castiblanco\", \"viviana\", \"francy\", \"cortes\",\n",
    "                                           \"fracica\", \"aguirre\", \"guzman\", \"nathaly\", \"camilo\", \"buitrago\", \"diana\", \"karen\", \"natali\"\n",
    "                                           \"velasquez\", \"didier\", \"zapata\", \"gomez\", \"luz\", \"yhanira\", \"andrea\", \"barbosa\", \"yeicy\", \"luis\",\n",
    "                                            \"stefanny\", \"velasquez\", \"didier\", \"zapata\", \"gomez\", \"luz\", \"yhanira\", \"andrea\", \"barbosa\", \"yeicy\",\n",
    "                                           \"luis\", \"alejandro\", \"carolina\", \"sandra\", \"yeny\", \"torres\", \"nataly\", \"vivas\", \"mario\", \"jheferson\",\n",
    "                                           \"mendoza\",                   'pagina','aun','perdon','hora','tener','pena','cada','ser',\n",
    "                                           'correo',   'cada','tener','poder','veo','consulta','medio'\n",
    "                                           ,'inquietud', 'puedes','ayudar','realizar',\n",
    "                                           'llego','mañana','hacerlo','mucha','permite','dicen','correcto'\n",
    "                                           ,'ano','puedo','podria','muchas','encuentro','ccb','org','senor',\n",
    "                                           'senora','senorita'                                 ,'colaborar','ver','va','tenia','ver',\n",
    "                                           'vale','estan','opcion','algun','error','problema','amable',\n",
    "                                           'ayer','indicar','ir','imprimir','copia','realice','cambiar','ingresar'\n",
    "                                           ,'persona','la','?',',','.','Hola','52082905', 'termina', 'cero',\n",
    "                                           '520829050', 'ahh', 'Gracias', 'Tenemos','ninguna','Que', 'Si','alli',\n",
    "                                           'srta','q','DE','LA','...','Y','EL','QUE','NO','@','No','ME','EN',\n",
    "                                           'Buenas','haga','La','Ah','mano','En','PERFECTO','si','dias'\n",
    "                                           ,'camara', 'comercio','buen', 'dia','fj','ana', 'santana',\n",
    "                                           'alfredo_c_arenashotmailcom','caterine','s','http', '//'\n",
    "                                           , 'lineaccborgco','///','/'\n",
    "                                          ]\n",
    "clean_tokens = list(filter(lambda word: word not in stop_words, clean_tokens))\n",
    "# for token in clean_chat: \n",
    "#     if token in stop_words:\n",
    "#          clean_tokens.remove(token)"
   ]
  },
  {
   "cell_type": "code",
   "execution_count": 23,
   "metadata": {},
   "outputs": [],
   "source": [
    "from nltk import ngrams"
   ]
  },
  {
   "cell_type": "code",
   "execution_count": 24,
   "metadata": {},
   "outputs": [],
   "source": [
    "unigrams = ngrams(clean_tokens, 1)\n",
    "freq_uni = nltk.FreqDist(unigrams).most_common()\n",
    "unigrams_dataframe = pd.DataFrame(freq_uni,columns=['unigramas','conteo'])\n",
    "#writer_unigrams = pd.ExcelWriter('ngramas.xlsx')\n"
   ]
  },
  {
   "cell_type": "code",
   "execution_count": 25,
   "metadata": {},
   "outputs": [],
   "source": [
    "#unigrams"
   ]
  },
  {
   "cell_type": "code",
   "execution_count": 35,
   "metadata": {
    "collapsed": true
   },
   "outputs": [
    {
     "data": {
      "text/html": [
       "<div>\n",
       "<style scoped>\n",
       "    .dataframe tbody tr th:only-of-type {\n",
       "        vertical-align: middle;\n",
       "    }\n",
       "\n",
       "    .dataframe tbody tr th {\n",
       "        vertical-align: top;\n",
       "    }\n",
       "\n",
       "    .dataframe thead th {\n",
       "        text-align: right;\n",
       "    }\n",
       "</style>\n",
       "<table border=\"1\" class=\"dataframe\">\n",
       "  <thead>\n",
       "    <tr style=\"text-align: right;\">\n",
       "      <th></th>\n",
       "      <th>bigramas</th>\n",
       "      <th>conteo</th>\n",
       "    </tr>\n",
       "  </thead>\n",
       "  <tbody>\n",
       "    <tr>\n",
       "      <th>0</th>\n",
       "      <td>(renovacion, matricula, mercantil)</td>\n",
       "      <td>67</td>\n",
       "    </tr>\n",
       "    <tr>\n",
       "      <th>1</th>\n",
       "      <td>(renovar, matricula, mercantil)</td>\n",
       "      <td>37</td>\n",
       "    </tr>\n",
       "    <tr>\n",
       "      <th>2</th>\n",
       "      <td>(renovacion, registro, mercantil)</td>\n",
       "      <td>16</td>\n",
       "    </tr>\n",
       "    <tr>\n",
       "      <th>3</th>\n",
       "      <td>(pago, renovacion, matricula)</td>\n",
       "      <td>15</td>\n",
       "    </tr>\n",
       "    <tr>\n",
       "      <th>4</th>\n",
       "      <td>(numero, matricula, mercantil)</td>\n",
       "      <td>14</td>\n",
       "    </tr>\n",
       "    <tr>\n",
       "      <th>5</th>\n",
       "      <td>(matricula, mercantil, empresa)</td>\n",
       "      <td>14</td>\n",
       "    </tr>\n",
       "    <tr>\n",
       "      <th>6</th>\n",
       "      <td>(cancelar, matricula, mercantil)</td>\n",
       "      <td>12</td>\n",
       "    </tr>\n",
       "    <tr>\n",
       "      <th>7</th>\n",
       "      <td>(hacer, renovacion, matricula)</td>\n",
       "      <td>10</td>\n",
       "    </tr>\n",
       "    <tr>\n",
       "      <th>8</th>\n",
       "      <td>(tratando, renovar, matricula)</td>\n",
       "      <td>10</td>\n",
       "    </tr>\n",
       "    <tr>\n",
       "      <th>9</th>\n",
       "      <td>(pagar, renovacion, matricula)</td>\n",
       "      <td>9</td>\n",
       "    </tr>\n",
       "    <tr>\n",
       "      <th>10</th>\n",
       "      <td>(renovar, registro, mercantil)</td>\n",
       "      <td>9</td>\n",
       "    </tr>\n",
       "    <tr>\n",
       "      <th>11</th>\n",
       "      <td>(haciendo, renovacion, matricula)</td>\n",
       "      <td>8</td>\n",
       "    </tr>\n",
       "    <tr>\n",
       "      <th>12</th>\n",
       "      <td>(renovando, matricula, mercantil)</td>\n",
       "      <td>8</td>\n",
       "    </tr>\n",
       "    <tr>\n",
       "      <th>13</th>\n",
       "      <td>(hacer, pago, pse)</td>\n",
       "      <td>7</td>\n",
       "    </tr>\n",
       "    <tr>\n",
       "      <th>14</th>\n",
       "      <td>(genere, orden, compra)</td>\n",
       "      <td>7</td>\n",
       "    </tr>\n",
       "    <tr>\n",
       "      <th>15</th>\n",
       "      <td>(matricula, mercantil, nit)</td>\n",
       "      <td>7</td>\n",
       "    </tr>\n",
       "    <tr>\n",
       "      <th>16</th>\n",
       "      <td>(representante, legal, empresa)</td>\n",
       "      <td>7</td>\n",
       "    </tr>\n",
       "    <tr>\n",
       "      <th>17</th>\n",
       "      <td>(orden, compra, renovacion)</td>\n",
       "      <td>7</td>\n",
       "    </tr>\n",
       "    <tr>\n",
       "      <th>18</th>\n",
       "      <td>(pasaportes, mundo, aventura)</td>\n",
       "      <td>6</td>\n",
       "    </tr>\n",
       "    <tr>\n",
       "      <th>19</th>\n",
       "      <td>(realizando, renovacion, matricula)</td>\n",
       "      <td>6</td>\n",
       "    </tr>\n",
       "    <tr>\n",
       "      <th>20</th>\n",
       "      <td>(administrador, tienda, empresarial)</td>\n",
       "      <td>6</td>\n",
       "    </tr>\n",
       "    <tr>\n",
       "      <th>21</th>\n",
       "      <td>(necesito, renovar, matricula)</td>\n",
       "      <td>6</td>\n",
       "    </tr>\n",
       "    <tr>\n",
       "      <th>22</th>\n",
       "      <td>(bienvenido, chat, virtual)</td>\n",
       "      <td>6</td>\n",
       "    </tr>\n",
       "    <tr>\n",
       "      <th>23</th>\n",
       "      <td>(bienvenido, chat, bogota)</td>\n",
       "      <td>6</td>\n",
       "    </tr>\n",
       "    <tr>\n",
       "      <th>24</th>\n",
       "      <td>(numero, solicitud, fecha)</td>\n",
       "      <td>6</td>\n",
       "    </tr>\n",
       "    <tr>\n",
       "      <th>25</th>\n",
       "      <td>(chat, virtual, especializada)</td>\n",
       "      <td>6</td>\n",
       "    </tr>\n",
       "    <tr>\n",
       "      <th>26</th>\n",
       "      <td>(transferir, asesor, especializado)</td>\n",
       "      <td>6</td>\n",
       "    </tr>\n",
       "    <tr>\n",
       "      <th>27</th>\n",
       "      <td>(clave, renovar, matricula)</td>\n",
       "      <td>6</td>\n",
       "    </tr>\n",
       "    <tr>\n",
       "      <th>28</th>\n",
       "      <td>(orden, compra, pagar)</td>\n",
       "      <td>6</td>\n",
       "    </tr>\n",
       "    <tr>\n",
       "      <th>29</th>\n",
       "      <td>(matricula, mercantil, internet)</td>\n",
       "      <td>6</td>\n",
       "    </tr>\n",
       "    <tr>\n",
       "      <th>...</th>\n",
       "      <td>...</td>\n",
       "      <td>...</td>\n",
       "    </tr>\n",
       "    <tr>\n",
       "      <th>25085</th>\n",
       "      <td>(registrar, pasivos, patrimonio)</td>\n",
       "      <td>1</td>\n",
       "    </tr>\n",
       "    <tr>\n",
       "      <th>25086</th>\n",
       "      <td>(retiro, facatativa, procedimiento)</td>\n",
       "      <td>1</td>\n",
       "    </tr>\n",
       "    <tr>\n",
       "      <th>25087</th>\n",
       "      <td>(principal, misma, contabilidad)</td>\n",
       "      <td>1</td>\n",
       "    </tr>\n",
       "    <tr>\n",
       "      <th>25088</th>\n",
       "      <td>(activos, jardin, hacer)</td>\n",
       "      <td>1</td>\n",
       "    </tr>\n",
       "    <tr>\n",
       "      <th>25089</th>\n",
       "      <td>(empresa, complete, proceso)</td>\n",
       "      <td>1</td>\n",
       "    </tr>\n",
       "    <tr>\n",
       "      <th>25090</th>\n",
       "      <td>(dentro, cuanto, verlo)</td>\n",
       "      <td>1</td>\n",
       "    </tr>\n",
       "    <tr>\n",
       "      <th>25091</th>\n",
       "      <td>(linea, colabores, renovar)</td>\n",
       "      <td>1</td>\n",
       "    </tr>\n",
       "    <tr>\n",
       "      <th>25092</th>\n",
       "      <td>(anexar, certificaciones, contratos)</td>\n",
       "      <td>1</td>\n",
       "    </tr>\n",
       "    <tr>\n",
       "      <th>25093</th>\n",
       "      <td>(nit, cuentame, favor)</td>\n",
       "      <td>1</td>\n",
       "    </tr>\n",
       "    <tr>\n",
       "      <th>25094</th>\n",
       "      <td>(aver, dice, registro)</td>\n",
       "      <td>1</td>\n",
       "    </tr>\n",
       "    <tr>\n",
       "      <th>25095</th>\n",
       "      <td>(inscripcion, hace, paso)</td>\n",
       "      <td>1</td>\n",
       "    </tr>\n",
       "    <tr>\n",
       "      <th>25096</th>\n",
       "      <td>(favor, renovar, matricula)</td>\n",
       "      <td>1</td>\n",
       "    </tr>\n",
       "    <tr>\n",
       "      <th>25097</th>\n",
       "      <td>(ps, apenas, hare)</td>\n",
       "      <td>1</td>\n",
       "    </tr>\n",
       "    <tr>\n",
       "      <th>25098</th>\n",
       "      <td>(orden, compra, pagado)</td>\n",
       "      <td>1</td>\n",
       "    </tr>\n",
       "    <tr>\n",
       "      <th>25099</th>\n",
       "      <td>(cancelar, bancos, alcanzamos)</td>\n",
       "      <td>1</td>\n",
       "    </tr>\n",
       "    <tr>\n",
       "      <th>25100</th>\n",
       "      <td>(seguir, vez, pago)</td>\n",
       "      <td>1</td>\n",
       "    </tr>\n",
       "    <tr>\n",
       "      <th>25101</th>\n",
       "      <td>(datos, tarjeta, credito)</td>\n",
       "      <td>1</td>\n",
       "    </tr>\n",
       "    <tr>\n",
       "      <th>25102</th>\n",
       "      <td>(express, nit, actualizando)</td>\n",
       "      <td>1</td>\n",
       "    </tr>\n",
       "    <tr>\n",
       "      <th>25103</th>\n",
       "      <td>(descripcion, respuesta, codigo)</td>\n",
       "      <td>1</td>\n",
       "    </tr>\n",
       "    <tr>\n",
       "      <th>25104</th>\n",
       "      <td>(anos, tanta, mora)</td>\n",
       "      <td>1</td>\n",
       "    </tr>\n",
       "    <tr>\n",
       "      <th>25105</th>\n",
       "      <td>(perdera, orden, crea)</td>\n",
       "      <td>1</td>\n",
       "    </tr>\n",
       "    <tr>\n",
       "      <th>25106</th>\n",
       "      <td>(constituida, tramite, creada)</td>\n",
       "      <td>1</td>\n",
       "    </tr>\n",
       "    <tr>\n",
       "      <th>25107</th>\n",
       "      <td>(renovacion, afiliacion, salga)</td>\n",
       "      <td>1</td>\n",
       "    </tr>\n",
       "    <tr>\n",
       "      <th>25108</th>\n",
       "      <td>(pagado, autorizado, suscrito)</td>\n",
       "      <td>1</td>\n",
       "    </tr>\n",
       "    <tr>\n",
       "      <th>25109</th>\n",
       "      <td>(cabo, mira, linda)</td>\n",
       "      <td>1</td>\n",
       "    </tr>\n",
       "    <tr>\n",
       "      <th>25110</th>\n",
       "      <td>(solo, local, puedieras)</td>\n",
       "      <td>1</td>\n",
       "    </tr>\n",
       "    <tr>\n",
       "      <th>25111</th>\n",
       "      <td>(aparecen, bogota, puntos)</td>\n",
       "      <td>1</td>\n",
       "    </tr>\n",
       "    <tr>\n",
       "      <th>25112</th>\n",
       "      <td>(tramite, registrar, cambios)</td>\n",
       "      <td>1</td>\n",
       "    </tr>\n",
       "    <tr>\n",
       "      <th>25113</th>\n",
       "      <td>(dertificado, representante, legal)</td>\n",
       "      <td>1</td>\n",
       "    </tr>\n",
       "    <tr>\n",
       "      <th>25114</th>\n",
       "      <td>(refiere, certificados, renovar)</td>\n",
       "      <td>1</td>\n",
       "    </tr>\n",
       "  </tbody>\n",
       "</table>\n",
       "<p>25115 rows × 2 columns</p>\n",
       "</div>"
      ],
      "text/plain": [
       "                                   bigramas  conteo\n",
       "0        (renovacion, matricula, mercantil)      67\n",
       "1           (renovar, matricula, mercantil)      37\n",
       "2         (renovacion, registro, mercantil)      16\n",
       "3             (pago, renovacion, matricula)      15\n",
       "4            (numero, matricula, mercantil)      14\n",
       "5           (matricula, mercantil, empresa)      14\n",
       "6          (cancelar, matricula, mercantil)      12\n",
       "7            (hacer, renovacion, matricula)      10\n",
       "8            (tratando, renovar, matricula)      10\n",
       "9            (pagar, renovacion, matricula)       9\n",
       "10           (renovar, registro, mercantil)       9\n",
       "11        (haciendo, renovacion, matricula)       8\n",
       "12        (renovando, matricula, mercantil)       8\n",
       "13                       (hacer, pago, pse)       7\n",
       "14                  (genere, orden, compra)       7\n",
       "15              (matricula, mercantil, nit)       7\n",
       "16          (representante, legal, empresa)       7\n",
       "17              (orden, compra, renovacion)       7\n",
       "18            (pasaportes, mundo, aventura)       6\n",
       "19      (realizando, renovacion, matricula)       6\n",
       "20     (administrador, tienda, empresarial)       6\n",
       "21           (necesito, renovar, matricula)       6\n",
       "22              (bienvenido, chat, virtual)       6\n",
       "23               (bienvenido, chat, bogota)       6\n",
       "24               (numero, solicitud, fecha)       6\n",
       "25           (chat, virtual, especializada)       6\n",
       "26      (transferir, asesor, especializado)       6\n",
       "27              (clave, renovar, matricula)       6\n",
       "28                   (orden, compra, pagar)       6\n",
       "29         (matricula, mercantil, internet)       6\n",
       "...                                     ...     ...\n",
       "25085      (registrar, pasivos, patrimonio)       1\n",
       "25086   (retiro, facatativa, procedimiento)       1\n",
       "25087      (principal, misma, contabilidad)       1\n",
       "25088              (activos, jardin, hacer)       1\n",
       "25089          (empresa, complete, proceso)       1\n",
       "25090               (dentro, cuanto, verlo)       1\n",
       "25091           (linea, colabores, renovar)       1\n",
       "25092  (anexar, certificaciones, contratos)       1\n",
       "25093                (nit, cuentame, favor)       1\n",
       "25094                (aver, dice, registro)       1\n",
       "25095             (inscripcion, hace, paso)       1\n",
       "25096           (favor, renovar, matricula)       1\n",
       "25097                    (ps, apenas, hare)       1\n",
       "25098               (orden, compra, pagado)       1\n",
       "25099        (cancelar, bancos, alcanzamos)       1\n",
       "25100                   (seguir, vez, pago)       1\n",
       "25101             (datos, tarjeta, credito)       1\n",
       "25102          (express, nit, actualizando)       1\n",
       "25103      (descripcion, respuesta, codigo)       1\n",
       "25104                   (anos, tanta, mora)       1\n",
       "25105                (perdera, orden, crea)       1\n",
       "25106        (constituida, tramite, creada)       1\n",
       "25107       (renovacion, afiliacion, salga)       1\n",
       "25108        (pagado, autorizado, suscrito)       1\n",
       "25109                   (cabo, mira, linda)       1\n",
       "25110              (solo, local, puedieras)       1\n",
       "25111            (aparecen, bogota, puntos)       1\n",
       "25112         (tramite, registrar, cambios)       1\n",
       "25113   (dertificado, representante, legal)       1\n",
       "25114      (refiere, certificados, renovar)       1\n",
       "\n",
       "[25115 rows x 2 columns]"
      ]
     },
     "execution_count": 35,
     "metadata": {},
     "output_type": "execute_result"
    }
   ],
   "source": [
    "bigrams = ngrams(clean_tokens, 2)\n",
    "freq_bi = nltk.FreqDist(bigrams).most_common()\n",
    "bigrams_dataframe = pd.DataFrame(freq_bi,columns=['bigramas','conteo'])\n",
    "#writer_bigrams = pd.ExcelWriter('ngramas.xlsx')\n",
    "bigrams_dataframe\n",
    "trigramas_dataframe\n",
    "#unigrams_dataframe"
   ]
  },
  {
   "cell_type": "code",
   "execution_count": 112,
   "metadata": {},
   "outputs": [
    {
     "data": {
      "image/png": "[encoded data removed]",
      "text/plain": [
       "<matplotlib.figure.Figure at 0x7f3b64ecba20>"
      ]
     },
     "metadata": {},
     "output_type": "display_data"
    }
   ],
   "source": [
    "most_common_word_user = freq_bi[:10]\n",
    "\n",
    "# sort in-place from highest to lowest\n",
    "#most_common_word_user.sort(key=lambda x: x[1], reverse=True) \n",
    "\n",
    "# save the names and their respective scores separately\n",
    "# reverse the tuples to go from most frequent to least frequent \n",
    "people = list(zip(*most_common_word_user))[0]\n",
    "score = list(zip(*most_common_word_user))[1]\n",
    "x_pos = np.arange(len(people)) \n",
    "\n",
    "plt.figure(figsize=(17,6))\n",
    "#plt.bar(x_pos, score,align='center')\n",
    "plt.scatter(x_pos,score)\n",
    "plt.xticks(x_pos, people, rotation=90)\n",
    "#plt.yticks(x_pos,max(people))#min(x), max(x)+1, 1.0)\n",
    "plt.ylabel('counting Words')\n",
    "plt.xlabel('Words' )\n",
    "plt.show()\n"
   ]
  },
  {
   "cell_type": "code",
   "execution_count": 27,
   "metadata": {},
   "outputs": [],
   "source": [
    "trigrams = ngrams(clean_tokens, 3)\n",
    "freq_tri = nltk.FreqDist(trigrams).most_common()\n",
    "trigramas_dataframe = pd.DataFrame(freq_tri,columns=['bigramas','conteo'])"
   ]
  },
  {
   "cell_type": "code",
   "execution_count": 28,
   "metadata": {},
   "outputs": [],
   "source": [
    "trig_1 = trigramas_dataframe['bigramas'].copy()"
   ]
  },
  {
   "cell_type": "code",
   "execution_count": 29,
   "metadata": {},
   "outputs": [],
   "source": [
    "trig_t = trig_1.values.tolist()\n",
    "conteo = conteo.values.tolist()\n"
   ]
  },
  {
   "cell_type": "code",
   "execution_count": 65,
   "metadata": {},
   "outputs": [
    {
     "data": {
      "text/plain": [
       "[67, 37, 16, 15, 14, 14, 12, 10, 10, 9]"
      ]
     },
     "execution_count": 65,
     "metadata": {},
     "output_type": "execute_result"
    }
   ],
   "source": [
    " conteo[:10]"
   ]
  },
  {
   "cell_type": "code",
   "execution_count": 106,
   "metadata": {},
   "outputs": [
    {
     "data": {
      "image/png": "[encoded data removed]",
      "text/plain": [
       "<matplotlib.figure.Figure at 0x7f3b64d43b00>"
      ]
     },
     "metadata": {},
     "output_type": "display_data"
    }
   ],
   "source": [
    "from mpl_toolkits.mplot3d  import axes3d\n",
    "\n",
    "fig = plt.figure(figsize=(10,10))\n",
    "#plt.figure(figsize=(17,6))\n",
    "ax = fig.add_subplot(111,projection='3d')\n",
    "\n",
    "x = conteo[:10]\n",
    "y = conteo[:10]\n",
    "z = conteo[:10]\n",
    "\n",
    "#ax plt.get_xmajorticklabels\n",
    "ax.\n",
    "ax.scatter(x, y, z, c='r', marker='o')\n",
    "ax.set_xlabel('x axis')\n",
    "ax.set_ylabel('y axis')\n",
    "ax.set_zlabel('z axis')\n",
    "\n",
    "plt.show()\n"
   ]
  },
  {
   "cell_type": "markdown",
   "metadata": {},
   "source": [
    "## Export to Excel Ngrams"
   ]
  },
  {
   "cell_type": "code",
   "execution_count": 93,
   "metadata": {},
   "outputs": [],
   "source": [
    "#trigrams = list(trigrams)\n",
    "#trigrams = pd.DataFrame(trigrams,columns=['bigramas','conteo'])\n",
    "#writer_trigrams = pd.ExcelWriter('ngramas.xlsx')\n",
    "#unigrams.to_excel(writer_trigrams,sheet_name ='sheet1',index=False)\n",
    "#bigrams.to_excel(writer_trigrams,sheet_name ='sheet2',index=False)\n",
    "#trigrams.to_excel(writer_trigrams,sheet_name ='sheet3',index=False)\n",
    "\n",
    "#writer_trigrams.save()\n",
    "#writer.close()\n",
    "freq_uni_30 = []\n",
    "for word in freq_uni[:30]:\n",
    "    freq_uni_30 = word"
   ]
  },
  {
   "cell_type": "code",
   "execution_count": 95,
   "metadata": {},
   "outputs": [
    {
     "data": {
      "text/plain": [
       "[(('matricula',), 537),\n",
       " (('renovacion',), 455),\n",
       " (('hacer',), 451),\n",
       " (('pago',), 376),\n",
       " (('mercantil',), 303),\n",
       " (('favor',), 277),\n",
       " (('empresa',), 277),\n",
       " (('clave',), 230),\n",
       " (('puede',), 225),\n",
       " (('renovar',), 223),\n",
       " (('numero',), 219),\n",
       " (('nit',), 197),\n",
       " (('orden',), 190),\n",
       " (('dice',), 182),\n",
       " (('pagar',), 179),\n",
       " (('tramite',), 177),\n",
       " (('registro',), 176),\n",
       " (('necesito',), 158),\n",
       " (('informacion',), 151),\n",
       " (('establecimiento',), 143),\n",
       " (('sas',), 135),\n",
       " (('aparece',), 124),\n",
       " (('proceso',), 123),\n",
       " (('hago',), 122),\n",
       " (('solo',), 121),\n",
       " (('compra',), 120),\n",
       " (('internet',), 116),\n",
       " (('nombre',), 105),\n",
       " (('virtual',), 104),\n",
       " (('formulario',), 104)]"
      ]
     },
     "execution_count": 95,
     "metadata": {},
     "output_type": "execute_result"
    }
   ],
   "source": [
    "freq_uni[:30]"
   ]
  },
  {
   "cell_type": "code",
   "execution_count": 96,
   "metadata": {},
   "outputs": [
    {
     "data": {
      "image/png": "[encoded data removed]",
      "text/plain": [
       "<matplotlib.figure.Figure at 0x7f3b640cda90>"
      ]
     },
     "metadata": {},
     "output_type": "display_data"
    }
   ],
   "source": [
    "freq = nltk.FreqDist(clean_tokens).most_common()\n",
    "most_common_word_user = freq_uni[:30]\n",
    "\n",
    "# sort in-place from highest to lowest\n",
    "#most_common_word_user.sort(key=lambda x: x[1], reverse=True) \n",
    "\n",
    "# save the names and their respective scores separately\n",
    "# reverse the tuples to go from most frequent to least frequent \n",
    "people = list(zip(*most_common_word_user))[0]\n",
    "score = list(zip(*most_common_word_user))[1]\n",
    "x_pos = np.arange(len(people)) \n",
    "\n",
    "plt.figure(figsize=(17,6))\n",
    "#plt.bar(x_pos, score,align='center')\n",
    "plt.scatter(x_pos,score)\n",
    "plt.xticks(x_pos, people, rotation=90) \n",
    "plt.ylabel('counting Words')\n",
    "plt.xlabel('Words' )\n",
    "plt.savefig(\"unigrams.jpg\", bbox_inches='tight')\n",
    "plt.show()"
   ]
  },
  {
   "cell_type": "code",
   "execution_count": 52,
   "metadata": {},
   "outputs": [],
   "source": [
    "# bigrams = ngrams(clean_tokens, 2)\n",
    "# trigrams = ngrams(laclean_tokensbels, 3) \n",
    "# nltk.FreqDist(trigrams).most_common()\n",
    "# most_common_word_user = freq.most_common(100)[50:]"
   ]
  },
  {
   "cell_type": "code",
   "execution_count": 43,
   "metadata": {},
   "outputs": [],
   "source": [
    "trigrams= list(trigrams) \n",
    "import csv\n",
    "\n",
    "with open('trigramas.csv','w') as myfile:\n",
    "    wr = csv.writer(myfile, lineterminator='\\n')\n",
    "    wr.writerows(trigrams)"
   ]
  },
  {
   "cell_type": "code",
   "execution_count": 44,
   "metadata": {},
   "outputs": [
    {
     "ename": "KeyboardInterrupt",
     "evalue": "",
     "output_type": "error",
     "traceback": [
      "\u001b[0;31m---------------------------------------------------------------------------\u001b[0m",
      "\u001b[0;31mKeyboardInterrupt\u001b[0m                         Traceback (most recent call last)",
      "\u001b[0;32m<ipython-input-44-b5825155f74d>\u001b[0m in \u001b[0;36m<module>\u001b[0;34m()\u001b[0m\n\u001b[0;32m----> 1\u001b[0;31m \u001b[0mmost_token_chat\u001b[0m \u001b[0;34m=\u001b[0m \u001b[0mtokenize\u001b[0m\u001b[0;34m.\u001b[0m\u001b[0mword_tokenize\u001b[0m\u001b[0;34m(\u001b[0m\u001b[0mtext_chat_token\u001b[0m\u001b[0;34m)\u001b[0m\u001b[0;34m\u001b[0m\u001b[0m\n\u001b[0m\u001b[1;32m      2\u001b[0m \u001b[0mclean_chat\u001b[0m \u001b[0;34m=\u001b[0m \u001b[0mmost_token_chat\u001b[0m\u001b[0;34m[\u001b[0m\u001b[0;34m:\u001b[0m\u001b[0;36m67676\u001b[0m\u001b[0;34m]\u001b[0m\u001b[0;34m\u001b[0m\u001b[0m\n\u001b[1;32m      3\u001b[0m \u001b[0mclean_tokens\u001b[0m \u001b[0;34m=\u001b[0m  \u001b[0mclean_chat\u001b[0m\u001b[0;34m[\u001b[0m\u001b[0;34m:\u001b[0m\u001b[0;34m]\u001b[0m\u001b[0;34m\u001b[0m\u001b[0m\n\u001b[1;32m      4\u001b[0m stop_words = stopwords.words('spanish') + ['buenas','gracias','buena','tarde','luego',\n\u001b[1;32m      5\u001b[0m                                           \u001b[0;34m'señora'\u001b[0m\u001b[0;34m,\u001b[0m\u001b[0;34m'quiero'\u001b[0m\u001b[0;34m,\u001b[0m\u001b[0;34m'saber'\u001b[0m\u001b[0;34m,\u001b[0m\u001b[0;34m'sra'\u001b[0m\u001b[0;34m,\u001b[0m\u001b[0;34m'quisiera'\u001b[0m\u001b[0;34m,\u001b[0m\u001b[0;34m'sr'\u001b[0m\u001b[0;34m,\u001b[0m\u001b[0;34m'mil'\u001b[0m\u001b[0;34m,\u001b[0m\u001b[0;34m\u001b[0m\u001b[0m\n",
      "\u001b[0;32m~/miniconda3/envs/nlp3/lib/python3.5/site-packages/nltk/tokenize/__init__.py\u001b[0m in \u001b[0;36mword_tokenize\u001b[0;34m(text, language, preserve_line)\u001b[0m\n\u001b[1;32m    126\u001b[0m     \u001b[0;34m:\u001b[0m\u001b[0mtype\u001b[0m \u001b[0mpreserver_line\u001b[0m\u001b[0;34m:\u001b[0m \u001b[0mbool\u001b[0m\u001b[0;34m\u001b[0m\u001b[0m\n\u001b[1;32m    127\u001b[0m     \"\"\"\n\u001b[0;32m--> 128\u001b[0;31m     \u001b[0msentences\u001b[0m \u001b[0;34m=\u001b[0m \u001b[0;34m[\u001b[0m\u001b[0mtext\u001b[0m\u001b[0;34m]\u001b[0m \u001b[0;32mif\u001b[0m \u001b[0mpreserve_line\u001b[0m \u001b[0;32melse\u001b[0m \u001b[0msent_tokenize\u001b[0m\u001b[0;34m(\u001b[0m\u001b[0mtext\u001b[0m\u001b[0;34m,\u001b[0m \u001b[0mlanguage\u001b[0m\u001b[0;34m)\u001b[0m\u001b[0;34m\u001b[0m\u001b[0m\n\u001b[0m\u001b[1;32m    129\u001b[0m     return [token for sent in sentences\n\u001b[1;32m    130\u001b[0m             for token in _treebank_word_tokenizer.tokenize(sent)]\n",
      "\u001b[0;32m~/miniconda3/envs/nlp3/lib/python3.5/site-packages/nltk/tokenize/__init__.py\u001b[0m in \u001b[0;36msent_tokenize\u001b[0;34m(text, language)\u001b[0m\n\u001b[1;32m     93\u001b[0m     \"\"\"\n\u001b[1;32m     94\u001b[0m     \u001b[0mtokenizer\u001b[0m \u001b[0;34m=\u001b[0m \u001b[0mload\u001b[0m\u001b[0;34m(\u001b[0m\u001b[0;34m'tokenizers/punkt/{0}.pickle'\u001b[0m\u001b[0;34m.\u001b[0m\u001b[0mformat\u001b[0m\u001b[0;34m(\u001b[0m\u001b[0mlanguage\u001b[0m\u001b[0;34m)\u001b[0m\u001b[0;34m)\u001b[0m\u001b[0;34m\u001b[0m\u001b[0m\n\u001b[0;32m---> 95\u001b[0;31m     \u001b[0;32mreturn\u001b[0m \u001b[0mtokenizer\u001b[0m\u001b[0;34m.\u001b[0m\u001b[0mtokenize\u001b[0m\u001b[0;34m(\u001b[0m\u001b[0mtext\u001b[0m\u001b[0;34m)\u001b[0m\u001b[0;34m\u001b[0m\u001b[0m\n\u001b[0m\u001b[1;32m     96\u001b[0m \u001b[0;34m\u001b[0m\u001b[0m\n\u001b[1;32m     97\u001b[0m \u001b[0;31m# Standard word tokenizer.\u001b[0m\u001b[0;34m\u001b[0m\u001b[0;34m\u001b[0m\u001b[0m\n",
      "\u001b[0;32m~/miniconda3/envs/nlp3/lib/python3.5/site-packages/nltk/tokenize/punkt.py\u001b[0m in \u001b[0;36mtokenize\u001b[0;34m(self, text, realign_boundaries)\u001b[0m\n\u001b[1;32m   1235\u001b[0m         \u001b[0mGiven\u001b[0m \u001b[0ma\u001b[0m \u001b[0mtext\u001b[0m\u001b[0;34m,\u001b[0m \u001b[0mreturns\u001b[0m \u001b[0ma\u001b[0m \u001b[0mlist\u001b[0m \u001b[0mof\u001b[0m \u001b[0mthe\u001b[0m \u001b[0msentences\u001b[0m \u001b[0;32min\u001b[0m \u001b[0mthat\u001b[0m \u001b[0mtext\u001b[0m\u001b[0;34m.\u001b[0m\u001b[0;34m\u001b[0m\u001b[0m\n\u001b[1;32m   1236\u001b[0m         \"\"\"\n\u001b[0;32m-> 1237\u001b[0;31m         \u001b[0;32mreturn\u001b[0m \u001b[0mlist\u001b[0m\u001b[0;34m(\u001b[0m\u001b[0mself\u001b[0m\u001b[0;34m.\u001b[0m\u001b[0msentences_from_text\u001b[0m\u001b[0;34m(\u001b[0m\u001b[0mtext\u001b[0m\u001b[0;34m,\u001b[0m \u001b[0mrealign_boundaries\u001b[0m\u001b[0;34m)\u001b[0m\u001b[0;34m)\u001b[0m\u001b[0;34m\u001b[0m\u001b[0m\n\u001b[0m\u001b[1;32m   1238\u001b[0m \u001b[0;34m\u001b[0m\u001b[0m\n\u001b[1;32m   1239\u001b[0m     \u001b[0;32mdef\u001b[0m \u001b[0mdebug_decisions\u001b[0m\u001b[0;34m(\u001b[0m\u001b[0mself\u001b[0m\u001b[0;34m,\u001b[0m \u001b[0mtext\u001b[0m\u001b[0;34m)\u001b[0m\u001b[0;34m:\u001b[0m\u001b[0;34m\u001b[0m\u001b[0m\n",
      "\u001b[0;32m~/miniconda3/envs/nlp3/lib/python3.5/site-packages/nltk/tokenize/punkt.py\u001b[0m in \u001b[0;36msentences_from_text\u001b[0;34m(self, text, realign_boundaries)\u001b[0m\n\u001b[1;32m   1283\u001b[0m         \u001b[0mfollows\u001b[0m \u001b[0mthe\u001b[0m \u001b[0mperiod\u001b[0m\u001b[0;34m.\u001b[0m\u001b[0;34m\u001b[0m\u001b[0m\n\u001b[1;32m   1284\u001b[0m         \"\"\"\n\u001b[0;32m-> 1285\u001b[0;31m         \u001b[0;32mreturn\u001b[0m \u001b[0;34m[\u001b[0m\u001b[0mtext\u001b[0m\u001b[0;34m[\u001b[0m\u001b[0ms\u001b[0m\u001b[0;34m:\u001b[0m\u001b[0me\u001b[0m\u001b[0;34m]\u001b[0m \u001b[0;32mfor\u001b[0m \u001b[0ms\u001b[0m\u001b[0;34m,\u001b[0m \u001b[0me\u001b[0m \u001b[0;32min\u001b[0m \u001b[0mself\u001b[0m\u001b[0;34m.\u001b[0m\u001b[0mspan_tokenize\u001b[0m\u001b[0;34m(\u001b[0m\u001b[0mtext\u001b[0m\u001b[0;34m,\u001b[0m \u001b[0mrealign_boundaries\u001b[0m\u001b[0;34m)\u001b[0m\u001b[0;34m]\u001b[0m\u001b[0;34m\u001b[0m\u001b[0m\n\u001b[0m\u001b[1;32m   1286\u001b[0m \u001b[0;34m\u001b[0m\u001b[0m\n\u001b[1;32m   1287\u001b[0m     \u001b[0;32mdef\u001b[0m \u001b[0m_slices_from_text\u001b[0m\u001b[0;34m(\u001b[0m\u001b[0mself\u001b[0m\u001b[0;34m,\u001b[0m \u001b[0mtext\u001b[0m\u001b[0;34m)\u001b[0m\u001b[0;34m:\u001b[0m\u001b[0;34m\u001b[0m\u001b[0m\n",
      "\u001b[0;32m~/miniconda3/envs/nlp3/lib/python3.5/site-packages/nltk/tokenize/punkt.py\u001b[0m in \u001b[0;36mspan_tokenize\u001b[0;34m(self, text, realign_boundaries)\u001b[0m\n\u001b[1;32m   1274\u001b[0m         \u001b[0;32mif\u001b[0m \u001b[0mrealign_boundaries\u001b[0m\u001b[0;34m:\u001b[0m\u001b[0;34m\u001b[0m\u001b[0m\n\u001b[1;32m   1275\u001b[0m             \u001b[0mslices\u001b[0m \u001b[0;34m=\u001b[0m \u001b[0mself\u001b[0m\u001b[0;34m.\u001b[0m\u001b[0m_realign_boundaries\u001b[0m\u001b[0;34m(\u001b[0m\u001b[0mtext\u001b[0m\u001b[0;34m,\u001b[0m \u001b[0mslices\u001b[0m\u001b[0;34m)\u001b[0m\u001b[0;34m\u001b[0m\u001b[0m\n\u001b[0;32m-> 1276\u001b[0;31m         \u001b[0;32mreturn\u001b[0m \u001b[0;34m[\u001b[0m\u001b[0;34m(\u001b[0m\u001b[0msl\u001b[0m\u001b[0;34m.\u001b[0m\u001b[0mstart\u001b[0m\u001b[0;34m,\u001b[0m \u001b[0msl\u001b[0m\u001b[0;34m.\u001b[0m\u001b[0mstop\u001b[0m\u001b[0;34m)\u001b[0m \u001b[0;32mfor\u001b[0m \u001b[0msl\u001b[0m \u001b[0;32min\u001b[0m \u001b[0mslices\u001b[0m\u001b[0;34m]\u001b[0m\u001b[0;34m\u001b[0m\u001b[0m\n\u001b[0m\u001b[1;32m   1277\u001b[0m \u001b[0;34m\u001b[0m\u001b[0m\n\u001b[1;32m   1278\u001b[0m     \u001b[0;32mdef\u001b[0m \u001b[0msentences_from_text\u001b[0m\u001b[0;34m(\u001b[0m\u001b[0mself\u001b[0m\u001b[0;34m,\u001b[0m \u001b[0mtext\u001b[0m\u001b[0;34m,\u001b[0m \u001b[0mrealign_boundaries\u001b[0m\u001b[0;34m=\u001b[0m\u001b[0;32mTrue\u001b[0m\u001b[0;34m)\u001b[0m\u001b[0;34m:\u001b[0m\u001b[0;34m\u001b[0m\u001b[0m\n",
      "\u001b[0;32m~/miniconda3/envs/nlp3/lib/python3.5/site-packages/nltk/tokenize/punkt.py\u001b[0m in \u001b[0;36m<listcomp>\u001b[0;34m(.0)\u001b[0m\n\u001b[1;32m   1274\u001b[0m         \u001b[0;32mif\u001b[0m \u001b[0mrealign_boundaries\u001b[0m\u001b[0;34m:\u001b[0m\u001b[0;34m\u001b[0m\u001b[0m\n\u001b[1;32m   1275\u001b[0m             \u001b[0mslices\u001b[0m \u001b[0;34m=\u001b[0m \u001b[0mself\u001b[0m\u001b[0;34m.\u001b[0m\u001b[0m_realign_boundaries\u001b[0m\u001b[0;34m(\u001b[0m\u001b[0mtext\u001b[0m\u001b[0;34m,\u001b[0m \u001b[0mslices\u001b[0m\u001b[0;34m)\u001b[0m\u001b[0;34m\u001b[0m\u001b[0m\n\u001b[0;32m-> 1276\u001b[0;31m         \u001b[0;32mreturn\u001b[0m \u001b[0;34m[\u001b[0m\u001b[0;34m(\u001b[0m\u001b[0msl\u001b[0m\u001b[0;34m.\u001b[0m\u001b[0mstart\u001b[0m\u001b[0;34m,\u001b[0m \u001b[0msl\u001b[0m\u001b[0;34m.\u001b[0m\u001b[0mstop\u001b[0m\u001b[0;34m)\u001b[0m \u001b[0;32mfor\u001b[0m \u001b[0msl\u001b[0m \u001b[0;32min\u001b[0m \u001b[0mslices\u001b[0m\u001b[0;34m]\u001b[0m\u001b[0;34m\u001b[0m\u001b[0m\n\u001b[0m\u001b[1;32m   1277\u001b[0m \u001b[0;34m\u001b[0m\u001b[0m\n\u001b[1;32m   1278\u001b[0m     \u001b[0;32mdef\u001b[0m \u001b[0msentences_from_text\u001b[0m\u001b[0;34m(\u001b[0m\u001b[0mself\u001b[0m\u001b[0;34m,\u001b[0m \u001b[0mtext\u001b[0m\u001b[0;34m,\u001b[0m \u001b[0mrealign_boundaries\u001b[0m\u001b[0;34m=\u001b[0m\u001b[0;32mTrue\u001b[0m\u001b[0;34m)\u001b[0m\u001b[0;34m:\u001b[0m\u001b[0;34m\u001b[0m\u001b[0m\n",
      "\u001b[0;32m~/miniconda3/envs/nlp3/lib/python3.5/site-packages/nltk/tokenize/punkt.py\u001b[0m in \u001b[0;36m_realign_boundaries\u001b[0;34m(self, text, slices)\u001b[0m\n\u001b[1;32m   1314\u001b[0m         \"\"\"\n\u001b[1;32m   1315\u001b[0m         \u001b[0mrealign\u001b[0m \u001b[0;34m=\u001b[0m \u001b[0;36m0\u001b[0m\u001b[0;34m\u001b[0m\u001b[0m\n\u001b[0;32m-> 1316\u001b[0;31m         \u001b[0;32mfor\u001b[0m \u001b[0msl1\u001b[0m\u001b[0;34m,\u001b[0m \u001b[0msl2\u001b[0m \u001b[0;32min\u001b[0m \u001b[0m_pair_iter\u001b[0m\u001b[0;34m(\u001b[0m\u001b[0mslices\u001b[0m\u001b[0;34m)\u001b[0m\u001b[0;34m:\u001b[0m\u001b[0;34m\u001b[0m\u001b[0m\n\u001b[0m\u001b[1;32m   1317\u001b[0m             \u001b[0msl1\u001b[0m \u001b[0;34m=\u001b[0m \u001b[0mslice\u001b[0m\u001b[0;34m(\u001b[0m\u001b[0msl1\u001b[0m\u001b[0;34m.\u001b[0m\u001b[0mstart\u001b[0m \u001b[0;34m+\u001b[0m \u001b[0mrealign\u001b[0m\u001b[0;34m,\u001b[0m \u001b[0msl1\u001b[0m\u001b[0;34m.\u001b[0m\u001b[0mstop\u001b[0m\u001b[0;34m)\u001b[0m\u001b[0;34m\u001b[0m\u001b[0m\n\u001b[1;32m   1318\u001b[0m             \u001b[0;32mif\u001b[0m \u001b[0;32mnot\u001b[0m \u001b[0msl2\u001b[0m\u001b[0;34m:\u001b[0m\u001b[0;34m\u001b[0m\u001b[0m\n",
      "\u001b[0;32m~/miniconda3/envs/nlp3/lib/python3.5/site-packages/nltk/tokenize/punkt.py\u001b[0m in \u001b[0;36m_pair_iter\u001b[0;34m(it)\u001b[0m\n\u001b[1;32m    310\u001b[0m     \"\"\"\n\u001b[1;32m    311\u001b[0m     \u001b[0mit\u001b[0m \u001b[0;34m=\u001b[0m \u001b[0miter\u001b[0m\u001b[0;34m(\u001b[0m\u001b[0mit\u001b[0m\u001b[0;34m)\u001b[0m\u001b[0;34m\u001b[0m\u001b[0m\n\u001b[0;32m--> 312\u001b[0;31m     \u001b[0mprev\u001b[0m \u001b[0;34m=\u001b[0m \u001b[0mnext\u001b[0m\u001b[0;34m(\u001b[0m\u001b[0mit\u001b[0m\u001b[0;34m)\u001b[0m\u001b[0;34m\u001b[0m\u001b[0m\n\u001b[0m\u001b[1;32m    313\u001b[0m     \u001b[0;32mfor\u001b[0m \u001b[0mel\u001b[0m \u001b[0;32min\u001b[0m \u001b[0mit\u001b[0m\u001b[0;34m:\u001b[0m\u001b[0;34m\u001b[0m\u001b[0m\n\u001b[1;32m    314\u001b[0m         \u001b[0;32myield\u001b[0m \u001b[0;34m(\u001b[0m\u001b[0mprev\u001b[0m\u001b[0;34m,\u001b[0m \u001b[0mel\u001b[0m\u001b[0;34m)\u001b[0m\u001b[0;34m\u001b[0m\u001b[0m\n",
      "\u001b[0;32m~/miniconda3/envs/nlp3/lib/python3.5/site-packages/nltk/tokenize/punkt.py\u001b[0m in \u001b[0;36m_slices_from_text\u001b[0;34m(self, text)\u001b[0m\n\u001b[1;32m   1287\u001b[0m     \u001b[0;32mdef\u001b[0m \u001b[0m_slices_from_text\u001b[0m\u001b[0;34m(\u001b[0m\u001b[0mself\u001b[0m\u001b[0;34m,\u001b[0m \u001b[0mtext\u001b[0m\u001b[0;34m)\u001b[0m\u001b[0;34m:\u001b[0m\u001b[0;34m\u001b[0m\u001b[0m\n\u001b[1;32m   1288\u001b[0m         \u001b[0mlast_break\u001b[0m \u001b[0;34m=\u001b[0m \u001b[0;36m0\u001b[0m\u001b[0;34m\u001b[0m\u001b[0m\n\u001b[0;32m-> 1289\u001b[0;31m         \u001b[0;32mfor\u001b[0m \u001b[0mmatch\u001b[0m \u001b[0;32min\u001b[0m \u001b[0mself\u001b[0m\u001b[0;34m.\u001b[0m\u001b[0m_lang_vars\u001b[0m\u001b[0;34m.\u001b[0m\u001b[0mperiod_context_re\u001b[0m\u001b[0;34m(\u001b[0m\u001b[0;34m)\u001b[0m\u001b[0;34m.\u001b[0m\u001b[0mfinditer\u001b[0m\u001b[0;34m(\u001b[0m\u001b[0mtext\u001b[0m\u001b[0;34m)\u001b[0m\u001b[0;34m:\u001b[0m\u001b[0;34m\u001b[0m\u001b[0m\n\u001b[0m\u001b[1;32m   1290\u001b[0m             \u001b[0mcontext\u001b[0m \u001b[0;34m=\u001b[0m \u001b[0mmatch\u001b[0m\u001b[0;34m.\u001b[0m\u001b[0mgroup\u001b[0m\u001b[0;34m(\u001b[0m\u001b[0;34m)\u001b[0m \u001b[0;34m+\u001b[0m \u001b[0mmatch\u001b[0m\u001b[0;34m.\u001b[0m\u001b[0mgroup\u001b[0m\u001b[0;34m(\u001b[0m\u001b[0;34m'after_tok'\u001b[0m\u001b[0;34m)\u001b[0m\u001b[0;34m\u001b[0m\u001b[0m\n\u001b[1;32m   1291\u001b[0m             \u001b[0;32mif\u001b[0m \u001b[0mself\u001b[0m\u001b[0;34m.\u001b[0m\u001b[0mtext_contains_sentbreak\u001b[0m\u001b[0;34m(\u001b[0m\u001b[0mcontext\u001b[0m\u001b[0;34m)\u001b[0m\u001b[0;34m:\u001b[0m\u001b[0;34m\u001b[0m\u001b[0m\n",
      "\u001b[0;31mKeyboardInterrupt\u001b[0m: "
     ]
    }
   ],
   "source": [
    "most_token_chat = tokenize.word_tokenize(text_chat_token)\n",
    "clean_chat = most_token_chat[:67676]\n",
    "clean_tokens =  clean_chat[:]\n",
    "stop_words = stopwords.words('spanish') + ['buenas','gracias','buena','tarde','luego',\n",
    "                                          'señora','quiero','saber','sra','quisiera','sr','mil',\n",
    "                                          'tardes','buenos','hola','gmail','com','ok',\n",
    "                                       'pregunta','decir','entiendo',\n",
    "                                           'mismo','bueno','deseo','ustede','ustedes','usted','Diana','deja'\n",
    "                                           ,'voy','debe','debo','hotmail','osea','nuevamente','cambio',\n",
    "                                           'siguiente','debo','Alejandro','alejandro','Carolina','carolina',\n",
    "                                           'pagina','aun','perdon','hora','tener','pena','cada','ser',\n",
    "                                           'correo','Karen','cada','tener','poder','veo','consulta','medio'\n",
    "                                           ,'inquietud','Francy','francy','puedes','ayudar','realizar',\n",
    "                                           'llego','mañana','hacerlo','mucha','permite','dicen','correcto'\n",
    "                                           ,'ano','puedo','podria','muchas','encuentro','ccb','org','senor',\n",
    "                                           'senora','senorita','natalia','colaborar','ver','va','tenia','ver',\n",
    "                                           'vale','estan','opcion','algun','error','problema','amable',\n",
    "                                           'ayer','indicar','ir','imprimir','copia','realice','cambiar','ingresar'\n",
    "                                           ,'persona','la','?',',','.','Hola','52082905', 'termina', 'cero',\n",
    "                                           '520829050', 'ahh', 'Gracias', 'Tenemos','ninguna','Que', 'Si','alli',\n",
    "                                           'srta','q','DE','LA','...','Y','EL','QUE','NO','@','No','ME','EN',\n",
    "                                           'Buenas','haga','La','Ah','mano','En','PERFECTO','si','dias'\n",
    "                                          ]\n",
    "for token in clean_chat: \n",
    "    if token in stop_words:\n",
    "         clean_tokens.remove(token)\n",
    "freq = nltk.FreqDist(clean_tokens)\n",
    "freq.plot(30, cumulative=False)"
   ]
  },
  {
   "cell_type": "code",
   "execution_count": null,
   "metadata": {},
   "outputs": [],
   "source": [
    "from nltk import ngrams\n",
    "bigrams = ngrams(clean_tokens, 2)\n",
    "trigrams = ngrams(clean_tokens, 3)\n",
    "nltk.FreqDist(trigrams).most_common()\n",
    "freq.most_common(20)[5:]"
   ]
  },
  {
   "cell_type": "code",
   "execution_count": null,
   "metadata": {
    "scrolled": true
   },
   "outputs": [],
   "source": [
    "clean_tok = pd.DataFrame(clean_tokens,columns=['words'])\n",
    "#clean_tok['words'].value_counts()"
   ]
  },
  {
   "cell_type": "code",
   "execution_count": null,
   "metadata": {},
   "outputs": [],
   "source": [
    "clean_tok['words'].dropna(inplace=True)\n",
    "clean_tok['words'].value_counts()\n",
    "dataframe_size = clean_tok.groupby(clean_tok['words']).size()"
   ]
  },
  {
   "cell_type": "markdown",
   "metadata": {},
   "source": [
    "### porcentage por palabra"
   ]
  },
  {
   "cell_type": "code",
   "execution_count": null,
   "metadata": {},
   "outputs": [],
   "source": [
    "words_percentage = dataframe_size.div(sum(dataframe_size.values)/100).tolist()\n",
    "palabras = dataframe_size.keys().tolist() "
   ]
  },
  {
   "cell_type": "code",
   "execution_count": null,
   "metadata": {},
   "outputs": [],
   "source": [
    "dataframe_percentage = pd.DataFrame(palabras,columns=['words'])\n",
    "dataframe_percentage.insert(1,'percentage',words_percentage)\n",
    "dataframe_percentage_sort = dataframe_percentage.sort_values(by=['percentage'],ascending=False).copy()"
   ]
  },
  {
   "cell_type": "code",
   "execution_count": null,
   "metadata": {},
   "outputs": [],
   "source": [
    "words = dataframe_percentage_sort['percentage'].tolist() \n",
    "palabras_des = dataframe_percentage_sort['words'].tolist()"
   ]
  },
  {
   "cell_type": "code",
   "execution_count": null,
   "metadata": {},
   "outputs": [],
   "source": [
    "for wo in words:\n",
    "    print(wo)"
   ]
  },
  {
   "cell_type": "code",
   "execution_count": null,
   "metadata": {},
   "outputs": [],
   "source": [
    "words = dataframe_percentage_sort['percentage'].tolist() \n",
    "palabras_des = dataframe_percentage_sort['words'].tolist()\n",
    "words = words[:30]\n",
    "palabras_des = palabras_des[:30]"
   ]
  },
  {
   "cell_type": "code",
   "execution_count": null,
   "metadata": {},
   "outputs": [],
   "source": [
    "plt.figure(figsize=(17,10))\n",
    "\n",
    "bins = np.linspace(0, 400, 20)\n",
    "\n",
    "title_graph = 'Total_words',len(words)\n",
    "\n",
    "plt.bar(np.arange(len(words)), words)\n",
    "plt.ylabel(\"Palabras\")#\n",
    "plt.xlabel(\"Palabras\")\n",
    "plt.xticks(np.arange(len(words)), palabras_des, rotation=90)\n",
    "plt.title(title_graph)\n",
    "plt.savefig(\"Percentage_Label.jpg\", bbox_inches='tight')\n",
    "plt.show()\n",
    "plt.savefig(\"Percentage_Label.png\")"
   ]
  },
  {
   "cell_type": "markdown",
   "metadata": {},
   "source": [
    "### ngramas"
   ]
  },
  {
   "cell_type": "code",
   "execution_count": null,
   "metadata": {
    "scrolled": true
   },
   "outputs": [],
   "source": [
    "labels = dataframe_size.keys().tolist()"
   ]
  },
  {
   "cell_type": "markdown",
   "metadata": {},
   "source": [
    "### bigrams"
   ]
  },
  {
   "cell_type": "markdown",
   "metadata": {},
   "source": [
    "### triagrams"
   ]
  },
  {
   "cell_type": "code",
   "execution_count": null,
   "metadata": {},
   "outputs": [],
   "source": [
    "bigrams = ngrams(clean_chat, 2)\n",
    "bigrams = nltk.FreqDist(bigrams).most_common()\n",
    "for bi in bigrams:\n",
    "    print(bi)\n",
    "\n",
    "trigrams = ngrams(clean_chat, 3)\n",
    "trigrams = nltk.FreqDist(trigrams).most_common()\n",
    "for tri in trigrams:\n",
    "    print(tri)"
   ]
  },
  {
   "cell_type": "code",
   "execution_count": null,
   "metadata": {},
   "outputs": [],
   "source": []
  },
  {
   "cell_type": "code",
   "execution_count": null,
   "metadata": {},
   "outputs": [],
   "source": []
  },
  {
   "cell_type": "code",
   "execution_count": 40,
   "metadata": {
    "scrolled": false
   },
   "outputs": [
    {
     "ename": "NameError",
     "evalue": "name 'labels' is not defined",
     "output_type": "error",
     "traceback": [
      "\u001b[0;31m---------------------------------------------------------------------------\u001b[0m",
      "\u001b[0;31mNameError\u001b[0m                                 Traceback (most recent call last)",
      "\u001b[0;32m<ipython-input-40-a2dd3f91e6f3>\u001b[0m in \u001b[0;36m<module>\u001b[0;34m()\u001b[0m\n\u001b[0;32m----> 1\u001b[0;31m \u001b[0mbigrams\u001b[0m \u001b[0;34m=\u001b[0m \u001b[0mngrams\u001b[0m\u001b[0;34m(\u001b[0m\u001b[0mlabels\u001b[0m\u001b[0;34m,\u001b[0m \u001b[0;36m2\u001b[0m\u001b[0;34m)\u001b[0m\u001b[0;34m\u001b[0m\u001b[0m\n\u001b[0m\u001b[1;32m      2\u001b[0m \u001b[0mtrigrams\u001b[0m \u001b[0;34m=\u001b[0m \u001b[0mngrams\u001b[0m\u001b[0;34m(\u001b[0m\u001b[0mlabels\u001b[0m\u001b[0;34m,\u001b[0m \u001b[0;36m3\u001b[0m\u001b[0;34m)\u001b[0m\u001b[0;34m\u001b[0m\u001b[0m\n\u001b[1;32m      3\u001b[0m \u001b[0mnltk\u001b[0m\u001b[0;34m.\u001b[0m\u001b[0mFreqDist\u001b[0m\u001b[0;34m(\u001b[0m\u001b[0mtrigrams\u001b[0m\u001b[0;34m)\u001b[0m\u001b[0;34m.\u001b[0m\u001b[0mmost_common\u001b[0m\u001b[0;34m(\u001b[0m\u001b[0;34m)\u001b[0m\u001b[0;34m\u001b[0m\u001b[0m\n\u001b[1;32m      4\u001b[0m \u001b[0mmost_common_word_user\u001b[0m \u001b[0;34m=\u001b[0m \u001b[0mfreq\u001b[0m\u001b[0;34m.\u001b[0m\u001b[0mmost_common\u001b[0m\u001b[0;34m(\u001b[0m\u001b[0;36m100\u001b[0m\u001b[0;34m)\u001b[0m\u001b[0;34m[\u001b[0m\u001b[0;36m50\u001b[0m\u001b[0;34m:\u001b[0m\u001b[0;34m]\u001b[0m\u001b[0;34m\u001b[0m\u001b[0m\n\u001b[1;32m      5\u001b[0m \u001b[0;34m\u001b[0m\u001b[0m\n",
      "\u001b[0;31mNameError\u001b[0m: name 'labels' is not defined"
     ]
    }
   ],
   "source": [
    "bigrams = ngrams(labels, 2)\n",
    "trigrams = ngrams(labels, 3)\n",
    "nltk.FreqDist(trigrams).most_common()\n",
    "most_common_word_user = freq.most_common(100)[50:]\n",
    "\n",
    "title_graph = 'Total_words',len(labels)\n",
    "# sort in-place from highest to lowest\n",
    "#most_common_word_user.sort(key=lambda x: x[1], reverse=True) \n",
    "\n",
    "# save the names and their respective scores separately\n",
    "# reverse the tuples to go from most frequent to least frequent \n",
    "people = list(zip(*most_common_word_user))[0]\n",
    "score = list(zip(*most_common_word_user))[1]\n",
    "x_pos = np.arange(len(people)) \n",
    "\n",
    "plt.figure(figsize=(17,6))\n",
    "plt.bar(x_pos, score,align='center')\n",
    "plt.xticks(x_pos, people, rotation=90) \n",
    "plt.ylabel('Numer_Words')\n",
    "plt.xlabel('Words' )\n",
    "plt.title(title_graph)\n",
    "plt.show()"
   ]
  },
  {
   "cell_type": "code",
   "execution_count": null,
   "metadata": {},
   "outputs": [],
   "source": []
  },
  {
   "cell_type": "code",
   "execution_count": null,
   "metadata": {},
   "outputs": [],
   "source": []
  },
  {
   "cell_type": "code",
   "execution_count": null,
   "metadata": {},
   "outputs": [],
   "source": []
  },
  {
   "cell_type": "code",
   "execution_count": null,
   "metadata": {},
   "outputs": [],
   "source": [
    "#only_one_chat= ' '.join(chat_user['mensaje'].get_values())\n",
    "def filter_chat(dataframelist,human):\n",
    "    df = dataframelist.loc[dataframelist['id sesion'] == dataframelist['id sesion']]\n",
    "    df =  df.loc[(df['tipo participante'] == human)]\n",
    "    return df\n",
    "\n",
    "datafram_filtered_user = filter_chat(dataframe,'Usuario')\n",
    "datafram_filtered_agent = filter_chat(dataframe,'Agente')\n",
    "print(\"user-> \",len(datafram_filtered_user))\n",
    "print(\"\\nagent-> \",len(datafram_filtered_agent))\n",
    "datafram_filtered_agent.dropna(subset=['mensaje'], inplace=True)\n",
    "datafram_filtered_user.dropna(subset=['mensaje'], inplace=True)"
   ]
  },
  {
   "cell_type": "code",
   "execution_count": null,
   "metadata": {},
   "outputs": [],
   "source": []
  },
  {
   "cell_type": "code",
   "execution_count": null,
   "metadata": {},
   "outputs": [],
   "source": []
  },
  {
   "cell_type": "code",
   "execution_count": null,
   "metadata": {},
   "outputs": [],
   "source": []
  },
  {
   "cell_type": "code",
   "execution_count": null,
   "metadata": {},
   "outputs": [],
   "source": []
  },
  {
   "cell_type": "code",
   "execution_count": null,
   "metadata": {},
   "outputs": [],
   "source": []
  },
  {
   "cell_type": "code",
   "execution_count": null,
   "metadata": {},
   "outputs": [],
   "source": []
  },
  {
   "cell_type": "code",
   "execution_count": null,
   "metadata": {},
   "outputs": [],
   "source": []
  },
  {
   "cell_type": "code",
   "execution_count": null,
   "metadata": {},
   "outputs": [],
   "source": []
  },
  {
   "cell_type": "code",
   "execution_count": null,
   "metadata": {},
   "outputs": [],
   "source": []
  },
  {
   "cell_type": "markdown",
   "metadata": {},
   "source": [
    "## promedio words user/agent"
   ]
  },
  {
   "cell_type": "code",
   "execution_count": null,
   "metadata": {},
   "outputs": [],
   "source": [
    "## agent\n",
    "datafram_filtered_agent['cant_tokens'] = datafram_filtered_agent['mensaje'].apply(lambda token:len(tokenize.word_tokenize(str(token))))\n",
    "promedio_words_agent = datafram_filtered_agent.groupby('id sesion').apply(lambda row: row['cant_tokens'].sum()/len(row)).values.tolist()"
   ]
  },
  {
   "cell_type": "code",
   "execution_count": null,
   "metadata": {},
   "outputs": [],
   "source": [
    "## user\n",
    "datafram_filtered_user = datafram_filtered_user['mensaje'].apply(lambda token:tokenize.word_tokenize(str(token)))\n",
    "promedio_words_user = datafram_filtered_user.groupby('id sesion').apply(lambda row: row['cant_tokens'].sum()/len(row)).values.tolist()"
   ]
  },
  {
   "cell_type": "markdown",
   "metadata": {},
   "source": [
    "## graph_promedio_words_agent & user"
   ]
  },
  {
   "cell_type": "code",
   "execution_count": null,
   "metadata": {},
   "outputs": [],
   "source": [
    "# size_graph\n",
    "plt.figure(figsize=(10,10))\n",
    "\n",
    "bins = np.linspace(0, 45, 100)\n",
    "\n",
    "plt.hist(promedio_words_agent, bins, normed=False, histtype='stepfilled', color=\"b\", alpha=0.5, label=\"Agent\")\n",
    "plt.hist(promedio_words_user, bins, normed=False, histtype='stepfilled', color=\"r\",  alpha=0.5,label=\"User\")\n",
    "\n",
    "plt.title(\"Promedio_Word\")\n",
    "plt.ylabel(\"Number_Chats\")#\n",
    "plt.xlabel(\"Number_Words\")\n",
    "plt.legend()\n",
    "plt.savefig(\"Promedio_Word.jpg\", bbox_inches='tight')\n",
    "plt.show()"
   ]
  },
  {
   "cell_type": "markdown",
   "metadata": {},
   "source": [
    "## promedio letter user/agent"
   ]
  },
  {
   "cell_type": "code",
   "execution_count": null,
   "metadata": {},
   "outputs": [],
   "source": [
    "## agent\n",
    "datafram_filtered_agent['cant_letter'] = datafram_filtered_agent['mensaje'].apply(lambda token:len(re.sub('\\s','',re.sub('\\s','',token))))\n",
    "promedio_letter_agent = datafram_filtered_agent.groupby('id sesion').apply(lambda row: row['cant_letter'].sum()/len(row)).values.tolist()\n",
    "\n",
    "## user\n",
    "datafram_filtered_user['cant_letter'] = datafram_filtered_user['mensaje'].apply(lambda token:len(re.sub('\\s','',re.sub('\\s','',token))))\n",
    "promedio_letter_user = datafram_filtered_user.groupby('id sesion').apply(lambda row: row['cant_letter'].sum()/len(row)).values.tolist()"
   ]
  },
  {
   "cell_type": "code",
   "execution_count": null,
   "metadata": {},
   "outputs": [],
   "source": [
    "print('agent-> ',len(datafram_filtered_agent['cant_letter']))\n",
    "print('\\nuser-> ',len(datafram_filtered_user['cant_letter']))"
   ]
  },
  {
   "cell_type": "markdown",
   "metadata": {},
   "source": [
    "## graph_promedio_letter_agent & user"
   ]
  },
  {
   "cell_type": "code",
   "execution_count": null,
   "metadata": {},
   "outputs": [],
   "source": [
    "# size_graph\n",
    "plt.figure(figsize=(10,10))\n",
    "\n",
    "bins = np.linspace(0, 300, 100)\n",
    "\n",
    "plt.hist(promedio_letter_agent, bins, normed=False, histtype='stepfilled', color=\"b\", alpha=0.5, label=\"Agent\")\n",
    "plt.hist(promedio_letter_user, bins, normed=False, histtype='stepfilled', color=\"r\",  alpha=0.5, label=\"User\")\n",
    "\n",
    "plt.title(\"Promedio_letter\")\n",
    "plt.ylabel(\"Number_Chats\")#\n",
    "plt.xlabel(\"Number_letter\")\n",
    "plt.legend()\n",
    "plt.savefig(\"Promedio_letter.jpg\", bbox_inches='tight')\n",
    "plt.show()"
   ]
  },
  {
   "cell_type": "markdown",
   "metadata": {},
   "source": [
    "## cloud words most use user/agent"
   ]
  },
  {
   "cell_type": "code",
   "execution_count": null,
   "metadata": {},
   "outputs": [],
   "source": [
    "#getthis mostcomon_histograma \n",
    "## agent\n",
    "most_letter_use_agent = datafram_filtered_agent['mensaje'].str.cat(sep=' ')\n",
    "\n",
    "## user\n",
    "most_letter_use_user = datafram_filtered_user['mensaje'].str.cat(sep=' ')"
   ]
  },
  {
   "cell_type": "markdown",
   "metadata": {},
   "source": [
    "## graph_cloud_letter_agent & user"
   ]
  },
  {
   "cell_type": "code",
   "execution_count": null,
   "metadata": {},
   "outputs": [],
   "source": [
    "wordcloud = WordCloud(max_words=100, stopwords=stopwords.words('spanish'), background_color='white' ).generate(most_letter_use_agent)\n",
    "#wordcloud = wordcloud(max_words=100, stopwords=stopwords.words('spanish'), background_color='white' ).generate(most_letter_use_user)\n",
    "plt.figure(figsize=(15,8))\n",
    "plt.imshow(wordcloud)\n",
    "plt.axis(\"off\")\n",
    "plt.savefig(\"cloud_Word_agent.jpg\", bbox_inches='tight')\n",
    "plt.show()"
   ]
  },
  {
   "cell_type": "code",
   "execution_count": null,
   "metadata": {},
   "outputs": [],
   "source": [
    "stop_words = stopwords.words('spanish') + ['buenas','gracias','buena','tarde','luego','necesito',\n",
    "                                          'señora','quiero','saber','sra','quisiera','sr','mil',\n",
    "                                          'tardes','buenos','hola','gmail','com','dias','ok',\n",
    "                                           'camara', 'comercio','Cámara','Bogotá',\n",
    "                                           'puede','favor','buen','día', 'dia',\n",
    "                                          'hago','dias','hacer','si','hace','despues',\n",
    "                                           'ayuda','hoy','ahi','tambíen','tambien'\n",
    "                                           ,'ma','pue','señorita','señor','internet'\n",
    "                                          ,'parte','nombre','posible','entonce','hice','duda',\n",
    "                                          'momento','claro','dice','perfecto','asi','bogota'\n",
    "                                          ,'paso','proceso','dias','do','aparece','pues','sale'\n",
    "                                           ,'co','mas','indica','bien','verdad','año'\n",
    "                                           ,'caso','pregunta','pasa','días','ahora','listo','solo'\n",
    "                                           ,'entonces','mira','ingreso','pregunta','decir','entiendo',\n",
    "                                           'mismo','bueno','deseo','ustede','ustedes','usted','Diana','deja'\n",
    "                                           ,'voy','debe','debo','hotmail','osea','nuevamente','cambio',\n",
    "                                           'siguiente','debo','Alejandro','alejandro','Carolina','carolina',\n",
    "                                           'pagina','aun','perdon','hora','tener','pena','cada','ser',\n",
    "                                           'correo','Karen','cada','tener','poder','veo','consulta','medio'\n",
    "                                           ,'inquietud','Francy','francy','puedes','ayudar','realizar',\n",
    "                                           'llego','mañana','hacerlo','mucha','permite','dicen','correcto'\n",
    "                                           ,'ano','puedo','podria','muchas','encuentro','ccb','org','senor',\n",
    "                                           'senora','senorita','natalia','colaborar','ver','va','tenia','ver',\n",
    "                                           'vale','estan','opcion','algun','error','problema','amable',\n",
    "                                           'ayer','indicar','ir','imprimir','copia','realice','cambiar','ingresar'\n",
    "                                           ,'persona'\n",
    "                                          ]\n",
    "most_letter_use_user =  normalize('NFKD', most_letter_use_user.lower()).encode('ascii','ignore').decode('utf-8')\n",
    "wordcloud_user = WordCloud(max_words=100, stopwords=stop_words, background_color='white').generate(most_letter_use_user)\n",
    "plt.figure(figsize=(15,8))\n",
    "plt.imshow(wordcloud_user)\n",
    "plt.axis(\"off\")\n",
    "plt.savefig(\"cloud_Word_user.jpg\", bbox_inches='tight')\n",
    "plt.show()"
   ]
  },
  {
   "cell_type": "code",
   "execution_count": null,
   "metadata": {},
   "outputs": [],
   "source": [
    "#most_letter_use_user"
   ]
  },
  {
   "cell_type": "code",
   "execution_count": null,
   "metadata": {},
   "outputs": [],
   "source": [
    "most_letter_use_user_tokens = tokenize.word_tokenize(most_letter_use_user)"
   ]
  },
  {
   "cell_type": "code",
   "execution_count": null,
   "metadata": {},
   "outputs": [],
   "source": [
    "most_letter_use_Dataframe = pd.DataFrame(most_letter_use_user_tokens,columns=['words'])"
   ]
  },
  {
   "cell_type": "code",
   "execution_count": null,
   "metadata": {},
   "outputs": [],
   "source": [
    "most_letter_use_Dataframe_copy = most_letter_use_Dataframe.copy()"
   ]
  },
  {
   "cell_type": "code",
   "execution_count": null,
   "metadata": {},
   "outputs": [],
   "source": [
    "# most_letter_use_Dataframe_copy.apply(lambda text: str(text).lower().strip())\n",
    "# most_letter_use_Dataframe_copy[most_letter_use_Dataframe_copy.apply(lambda row: row['words'] != '', axis=1)]\n",
    "# most_letter_use_Dataframe_copy = most_letter_use_Dataframe_copy.drop(',',inplace=True)"
   ]
  },
  {
   "cell_type": "code",
   "execution_count": null,
   "metadata": {},
   "outputs": [],
   "source": [
    "most_letter_use_Dataframe_copy['words'].groupby(labeled).size()"
   ]
  },
  {
   "cell_type": "code",
   "execution_count": null,
   "metadata": {},
   "outputs": [],
   "source": [
    "most_letter_use_Dataframe_copy['words'].value_counts()"
   ]
  },
  {
   "cell_type": "code",
   "execution_count": null,
   "metadata": {},
   "outputs": [],
   "source": [
    "'hoal mundo'"
   ]
  },
  {
   "cell_type": "code",
   "execution_count": null,
   "metadata": {},
   "outputs": [],
   "source": []
  },
  {
   "cell_type": "code",
   "execution_count": null,
   "metadata": {},
   "outputs": [],
   "source": []
  },
  {
   "cell_type": "code",
   "execution_count": null,
   "metadata": {},
   "outputs": [],
   "source": []
  },
  {
   "cell_type": "code",
   "execution_count": null,
   "metadata": {},
   "outputs": [],
   "source": []
  },
  {
   "cell_type": "code",
   "execution_count": null,
   "metadata": {},
   "outputs": [],
   "source": []
  },
  {
   "cell_type": "markdown",
   "metadata": {},
   "source": [
    "## example histogram_graph"
   ]
  },
  {
   "cell_type": "code",
   "execution_count": null,
   "metadata": {},
   "outputs": [],
   "source": [
    "gaussian_numbers = normal(size=1000)\n",
    "uniform_numbers = uniform(low=-3, high=3, size=1000)\n",
    "plt.hist(gaussian_numbers, bins=20, histtype='stepfilled', normed=False, color='y', label='Gaussian')\n",
    "plt.hist(uniform_numbers, bins=20, histtype='stepfilled', normed=False, color='r', alpha=0.5, label='Uniform')\n",
    "plt.title(\"Gaussian/Uniform Histogram\")\n",
    "plt.xlabel(\"Value\")\n",
    "plt.ylabel(\"Probability\")\n",
    "plt.legend()\n",
    "plt.show()"
   ]
  },
  {
   "cell_type": "code",
   "execution_count": null,
   "metadata": {},
   "outputs": [],
   "source": []
  },
  {
   "cell_type": "code",
   "execution_count": null,
   "metadata": {},
   "outputs": [],
   "source": [
    "#https://www.eumus.edu.uy/eme/ensenanza/electivas/python/CursoPython_clase11.html"
   ]
  },
  {
   "cell_type": "code",
   "execution_count": null,
   "metadata": {},
   "outputs": [],
   "source": [
    "from pylab import *\n",
    "\n",
    "# make a square figure and axes\n",
    "figure(1, figsize=(6,6))\n",
    "ax = axes([0.1, 0.1, 0.8, 0.8])\n",
    "\n",
    "# The slices will be ordered and plotted counter-clockwise.\n",
    "labels = 'Frogs', 'Hogs', 'Dogs', 'Logs'\n",
    "fracs = [15, 30, 45, 10]\n",
    "explode=(0, 0.05, 0, 0)\n",
    "\n",
    "pie(promedio_letter_user,\n",
    "                autopct='%1.1f%%', shadow=True, startangle=90)\n",
    "                # The default startangle is 0, which would start\n",
    "                # the Frogs slice on the x-axis.  With startangle=90,\n",
    "                # everything is rotated counter-clockwise by 90 degrees,\n",
    "                # so the plotting starts on the positive y-axis.\n",
    "\n",
    "title('Raining Hogs and Dogs', bbox={'facecolor':'0.8', 'pad':5})\n",
    "\n",
    "show()"
   ]
  },
  {
   "cell_type": "code",
   "execution_count": null,
   "metadata": {},
   "outputs": [],
   "source": []
  },
  {
   "cell_type": "code",
   "execution_count": null,
   "metadata": {},
   "outputs": [],
   "source": []
  }
 ],
 "metadata": {
  "kernelspec": {
   "display_name": "Python 3",
   "language": "python",
   "name": "python3"
  },
  "language_info": {
   "codemirror_mode": {
    "name": "ipython",
    "version": 3
   },
   "file_extension": ".py",
   "mimetype": "text/x-python",
   "name": "python",
   "nbconvert_exporter": "python",
   "pygments_lexer": "ipython3",
   "version": "3.5.4"
  }
 },
 "nbformat": 4,
 "nbformat_minor": 2
}
