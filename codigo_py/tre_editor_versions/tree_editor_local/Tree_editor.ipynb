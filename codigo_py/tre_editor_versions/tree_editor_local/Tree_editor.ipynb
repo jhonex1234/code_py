{
 "cells": [
  {
   "cell_type": "code",
   "execution_count": 3,
   "metadata": {},
   "outputs": [],
   "source": [
    "from sklearn.externals import joblib\n",
    "import json as js\n",
    "import os\n",
    "import sqlite3 as db\n",
    "\n",
    "\n",
    "class clTree():\n",
    "    \n",
    "    def __init__(self,namefile):\n",
    "        self.namefile = namefile\n",
    "        self.route = '/home/jhonex/Documentos/codigo/codigo_py_soport/tre_editor_versions/tree_editor_local/resource_bd/bd_script/resource_dbtree.sql'\n",
    "        self.tree_config = {'initial_state': '','templates': [],'max_attempts': 0,\n",
    "            'topics':{'pendiente':'pendiente'},'transitions':[],'models': [],'final_state' : ''}\n",
    "        self.insertItemTemplate('')\n",
    "        self.validateStatedata('')\n",
    "        self.makeListPkl('')\n",
    "        self.searchmodel('','')\n",
    "        self.validateTemplate('','','','')\n",
    "        self.validatetrasition('','','','')\n",
    "        \n",
    "    def getTreeConfig(self):\n",
    "        return self.tree_config\n",
    "    \n",
    "    def makeListState(self,state):\n",
    "        if(self.namefile != '' and state != ''):\n",
    "            msj = ''\n",
    "            if(self.validateStatedata(state)):\n",
    "                msj = '!La clave no se pudo crear ya exite¡'\n",
    "            else:\n",
    "                cn = db.connect(self.route)\n",
    "                cur = cn.cursor()\n",
    "                cur.execute(\"insert into tbl_listState (nameFile,keylistState) values ('%s','%s')\"%(self.namefile,state))\n",
    "                cn.commit()\n",
    "                cur.close()\n",
    "                msj = '!clave creada¡'\n",
    "        return msj   \n",
    "    \n",
    "    def validateStatedata(self,state):\n",
    "        li_1 = []\n",
    "        cn = db.connect(self.route)\n",
    "        cur = cn.cursor()\n",
    "        cur.execute('SELECT keylistState FROM tbl_listState where nameFile=\"%s\" and keylistState=\"%s\"'%(self.namefile,state))\n",
    "        sc_list = cur.fetchall()\n",
    "        cn.commit()\n",
    "        cur.close()\n",
    "        return sc_list\n",
    "    \n",
    "    def getState(self):\n",
    "        li_1 = []\n",
    "        cn = db.connect(self.route)\n",
    "        cur = cn.cursor()\n",
    "        cur.execute(\"SELECT keylistState FROM tbl_listState where nameFile='%s'\"%(self.namefile))\n",
    "        sc_list = cur.fetchall()\n",
    "        cn.commit()\n",
    "        cur.close()\n",
    "        if(sc_list):\n",
    "            sc_list = [list(i) for i in sc_list]\n",
    "            for i in sc_list:\n",
    "                li_1.append(i[0])\n",
    "            sc_list = li_1\n",
    "        else:\n",
    "            sc_list = '!no existen estados asociados para este archivo¡'\n",
    "        return  sc_list\n",
    "    \n",
    "    def deleteState(self,state):\n",
    "        cn = db.connect(self.route)\n",
    "        cur = cn.cursor()\n",
    "        cur.execute('DELETE FROM tbl_listState WHERE keylistState=\"%s\" AND nameFile=\"%s\"'%(state,self.namefile))\n",
    "        cn.commit()\n",
    "        cur.close()\n",
    "        msj = '!Eliminado¡'\n",
    "        return msj\n",
    "    \n",
    "    def editState(self,state,modState):\n",
    "        cn = db.connect(self.route)\n",
    "        cur = cn.cursor()\n",
    "        cur.execute('UPDATE tbl_listState SET keylistState=\"%s\" WHERE nameFile=\"%s\" AND keylistState=\"%s\"'%(modState, self.namefile,state ))\n",
    "        cn.commit()\n",
    "        cur.close()\n",
    "        msj = '!Editado¡'\n",
    "        return msj\n",
    "    \n",
    "    def makeListTemplates(self,fileTemplate):\n",
    "        if(fileTemplate):   \n",
    "            try:\n",
    "                file =  json.load(open(fileTemplate,'r'))\n",
    "                file = list(file.keys())\n",
    "                msj = self.insertItemTemplate(file)\n",
    "            except OSError:\n",
    "                msj = '!No se pudo cargar archivo¡'\n",
    "        else:\n",
    "            msj = '!Ingresa un Archivo¡'\n",
    "        return msj\n",
    "    \n",
    "    def insertItemTemplate(self,lis):\n",
    "        if(lis):\n",
    "            for row in lis:\n",
    "                cn = db.connect(self.route)\n",
    "                cur = cn.cursor()\n",
    "                cur.execute('delete from tbl_keyslabel where nameFile=\"%s\" and keylabel=\"%s\"'%(self.namefile,row))\n",
    "                cur.execute('INSERT INTO tbl_keyslabel (nameFile ,keylabel) VALUES (\"%s\",\"%s\")'%(self.namefile,row))\n",
    "                cn.commit()\n",
    "                cur.close()\n",
    "                msj = '!Lista creada¡'\n",
    "        else:\n",
    "            msj = ''\n",
    "        return  msj\n",
    "    \n",
    "    def getListKeyLabel(self):\n",
    "        li_1 = []\n",
    "        cn = db.connect(self.route)\n",
    "        cur = cn.cursor()\n",
    "        cur.execute(\"SELECT keylabel FROM tbl_keyslabel where nameFile='%s'\"%(self.namefile))\n",
    "        sc_list = cur.fetchall()\n",
    "        cn.commit()\n",
    "        cur.close()\n",
    "        if(sc_list):\n",
    "            sc_list = [list(i) for i in sc_list] \n",
    "            for i in sc_list:\n",
    "                li_1.append(i[0])\n",
    "            \n",
    "            sc_list = li_1\n",
    "        else:\n",
    "            sc_list = '!no existen estados asociados para este archivo¡'\n",
    "        return sc_list\n",
    "    \n",
    "    def makeListPkl(self,filepkl):\n",
    "        if(filepkl != ''):\n",
    "            models = joblib.load(filepkl)\n",
    "        else:\n",
    "            models = ''\n",
    "        return list(models)\n",
    "    \n",
    "    def loadPKL(self,namedoc):\n",
    "        msj = ''\n",
    "        if(namedoc):\n",
    "            namedoc = self.makeListPkl(namedoc)\n",
    "            for row in namedoc:\n",
    "                cn = db.connect(self.route)\n",
    "                cur = cn.cursor()\n",
    "                cur.execute('delete from tbl_LabelPkl where nameFile=\"%s\" and keyLabelPkl=\"%s\"'%(self.namefile,row))\n",
    "                cur.execute('INSERT INTO tbl_LabelPkl (nameFile, keyLabelPkl) VALUES (\"%s\",\"%s\")'%(self.namefile,row))\n",
    "                cn.commit()\n",
    "                cur.close()\n",
    "            msj = 'quedo cargado'\n",
    "        else:\n",
    "            msj = 'no se pudo cargar datos'\n",
    "        return msj\n",
    "    \n",
    "    def deleteAllContent(self):\n",
    "        cn = db.connect(self.route)\n",
    "        cur = cn.cursor()\n",
    "        cur.execute('delete from tbl_keyslabel;')\n",
    "        cur.execute('delete from tbl_listState;')\n",
    "        cur.execute('delete from tbl_LabelPkl;')\n",
    "        cn.commit()\n",
    "        cur.close()\n",
    "    \n",
    "    def getloadPKL(self):\n",
    "        li_1 = []\n",
    "        cn = db.connect(self.route)\n",
    "        cur = cn.cursor()\n",
    "        cur.execute(\"SELECT keyLabelPkl FROM tbl_LabelPkl where nameFile='%s'\"%(self.namefile))\n",
    "        sc_list = cur.fetchall()\n",
    "        cn.commit()\n",
    "        cur.close()\n",
    "        if(sc_list):\n",
    "            sc_list = [list(i) for i in sc_list]\n",
    "            for i in sc_list:\n",
    "                li_1.append(i[0])\n",
    "            sc_list = li_1\n",
    "        else:\n",
    "            sc_list = '!no existen estados asociados para este archivo¡'\n",
    "        return  sc_list\n",
    "      \n",
    "    def searchmodel(self,i_d,state):\n",
    "        flag = True \n",
    "        if(i_d != '' and state  != '' ):     \n",
    "\n",
    "            try:    \n",
    "                model = self.tree_config['models']\n",
    "                for i in  model:\n",
    "                    if(i['id'] == i_d and i['state'] == state):\n",
    "                        flag = False\n",
    "            except KeyError as err:\n",
    "                print('el archivo cargado no tiene la estructura correcta')\n",
    "        return flag\n",
    "    \n",
    "    def makemodel(self,i_d,state):\n",
    "        if(self.searchmodel(i_d,state)):\n",
    "            self.tree_config['models'].append({'id': i_d, 'state': state})\n",
    "            msj = 'Exito al agregar modelo'\n",
    "        else:\n",
    "            msj = 'Error al crear modelo'\n",
    "        return msj\n",
    "    \n",
    "    def loadTreeConfig(self):\n",
    "        resource = {\"final_state\":0,}\n",
    "        if(self.namefile):   \n",
    "            try:\n",
    "                try:\n",
    "            \n",
    "                    file =  json.load(open(self.namefile,'r'))\n",
    "                    self.tree_config['templates'] = file['templates']\n",
    "                    self.tree_config['topics'] = file['topics']\n",
    "                    self.tree_config['models'] = file['templates']\n",
    "                    self.tree_config['transitions'] = file['transitions']\n",
    "                    self.tree_config['initial_state'] = file['initial_state']\n",
    "                    self.tree_config['final_state'] = file['final_state']\n",
    "                    self.tree_config['max_attempts'] = file['max_attempts']\n",
    "                    msj = '!Recursos cargados¡'\n",
    "                except KeyError as err:\n",
    "                      msj = '!No se pudo cargar archivo\\n la estructura del archivo no es compatible¡'\n",
    "            \n",
    "            except OSError:\n",
    "                msj = '!No se pudo cargar archivo, Archivo inexistente¡'\n",
    "        else:\n",
    "            msj = '!Ingresa un Archivo¡'\n",
    "        return msj    \n",
    "    \n",
    "    def maketemplate(self,i_d,label,state,topic):\n",
    "        msj = ''\n",
    "        if(self.validateTemplate(i_d,label,state,topic)):\n",
    "            self.tree_config['templates'].append({'id': i_d,'label': label,'state': state,'topic': topic})\n",
    "            msj = 'Template agregado'\n",
    "        else: \n",
    "            msj = 'Error al agregar template'\n",
    "        \n",
    "        return msj\n",
    "\n",
    "    \n",
    "    def validateTemplate(self,i_d,label,state,topic):\n",
    "        flag = True \n",
    "        if(i_d != '' and state  != '' and label != '' ):     \n",
    "\n",
    "            try:    \n",
    "                model = self.tree_config['templates']\n",
    "                for i in  model:\n",
    "                    if(i['id'] == i_d and i['state'] == state and i['label'] == label and i['topic'] == topic):\n",
    "                        flag = False\n",
    "            except KeyError as err:\n",
    "                print('el archivo cargado no tiene la estructura correcta')\n",
    "        return flag\n",
    "    \n",
    "    def validatetrasition(self,endstate, is_forboo,label,ini_state):\n",
    "        flag = True \n",
    "        if(endstate != '' and is_forboo != '' and label != '' and ini_state != ''):    \n",
    "            try:    \n",
    "                model = self.tree_config['transitions']\n",
    "                for i in  model:\n",
    "                    if(i['ending_state'] == endstate and i['is_forced'] == is_forboo and i['label'] == label and i['starting_state'] == ini_state):\n",
    "                        flag = False\n",
    "            except KeyError as err:\n",
    "                print('el archivo cargado no tiene la estructura correcta')\n",
    "        return flag\n",
    "    \n",
    "    def maketrasition(self,endstate, is_forboo,label,ini_state):\n",
    "        if(self.validatetrasition(endstate, is_forboo,label,ini_state)):    \n",
    "            self.tree_config['transitions'].append({'ending_state': endstate, \n",
    "                                           'is_forced': is_forboo, \n",
    "                                           'label': label,\n",
    "                                           'starting_state': ini_state})\n",
    "            msj = 'Transicion agregada'\n",
    "        else:\n",
    "            msj = 'Error al agregar template'\n",
    "        return msj\n",
    "    def makeFile(self,name,final_state, initial_state,max_attempts):\n",
    "        self.tree_config['final_state'] = final_state\n",
    "        self.tree_config['initial_state'] = initial_state\n",
    "        self.tree_config['max_attempts'] = max_attempts\n",
    "        if(self.tree_config != {} ):\n",
    "            if(name != ''):\n",
    "                file = name+'.json'\n",
    "                self.name = name+'.json'\n",
    "            else:\n",
    "                file = self.name\n",
    "        else:\n",
    "            file = name+'.json'\n",
    "            self.name = name+'.json'\n",
    "\n",
    "        with open(file, 'w', encoding='utf-8') as outfile:\n",
    "             json.dump(self.tree_config, outfile)\n",
    "        return self.name"
   ]
  },
  {
   "cell_type": "code",
   "execution_count": null,
   "metadata": {},
   "outputs": [],
   "source": [
    "import os"
   ]
  },
  {
   "cell_type": "code",
   "execution_count": 2,
   "metadata": {},
   "outputs": [
    {
     "data": {
      "text/plain": [
       "'tree_dialog_config-graph.png'"
      ]
     },
     "execution_count": 2,
     "metadata": {},
     "output_type": "execute_result"
    }
   ],
   "source": [
    "nameDoc = 'tree_dialog_config-graph.gv..png'\n",
    "newName = 'tree_dialog_config-graph.gv..png'.replace('.gv..png','.png')\n",
    "newName"
   ]
  },
  {
   "cell_type": "code",
   "execution_count": 3,
   "metadata": {},
   "outputs": [],
   "source": [
    "os.rename(nameDoc, newName)"
   ]
  },
  {
   "cell_type": "code",
   "execution_count": 4,
   "metadata": {},
   "outputs": [],
   "source": [
    "import os\n",
    "import shutil\n",
    "from os import path"
   ]
  },
  {
   "cell_type": "code",
   "execution_count": 11,
   "metadata": {},
   "outputs": [],
   "source": [
    "import os\n",
    "route = \"/home/jhonex/Documents/Nuevo codigo/repositorio/codigo_py/tre_editor_versions/tree_editor_local/gerda/\"\n",
    "old_file = os.path.join(route, \"tree_dialog_config-graph.png\")\n",
    "new_file = os.path.join(route, \"tree_dialog_config-graph_gerdaaaaaa.png\")\n",
    "os.rename(old_file, new_file)"
   ]
  },
  {
   "cell_type": "code",
   "execution_count": null,
   "metadata": {},
   "outputs": [],
   "source": []
  },
  {
   "cell_type": "code",
   "execution_count": 23,
   "metadata": {},
   "outputs": [],
   "source": [
    "tre = {\"templates\": [{\"state\": \"saludo_inicial\", \"cod\": 0, \"label\": \"s1\", \"topic\": \"saludo\", \"id\": \"ingreso\"}, {\"state\": \"costo_inscripcion\", \"cod\": 1, \"label\": \"s2\", \"topic\": \"procedimiento_primera_vez\", \"id\": \"gestion\"}, {\"state\": \"despedida\", \"cod\": 2, \"label\": \"s3\", \"topic\": \"despedida\", \"id\": \"despedida\"}], \"topics\": {\"none\": [\"s2\"], \"normal\": [\"s1\"]}, \"models\": [{\"state\": \"s1\", \"id\": \"ingreso\", \"cod\": 0, \"thresh\": \"0.5,0.5,0.5\"}, {\"state\": \"s2\", \"id\": \"gestion\", \"cod\": 1, \"thresh\": \"0.5,0.5,0.5\"}, {\"state\": \"s3\", \"id\": \"despedida\", \"cod\": 2, \"thresh\": \"0.5,0.5,0.5\"}], \"initial_state\": \"s1\", \"transitions\": [{\"cod\": 0, \"ending_state\": \"s2\", \"label\": \"pse\", \"is_forced\": \"\\n\\t\\t\\t\\t\\t\\t\\t\\t\\t\\t\\t\\t\\t\\t\\t\\t\\t\\t\\t\\t\\t\\t\\t    True\\n\\t\\t\\t\\t\\t\\t\\t\\t\\t\\t\\t\\t\\t\\t\\t\\t\\t\\t\\t\\t\\t\\t\\t    \", \"starting_state\": \"s1\"}, {\"cod\": 1, \"ending_state\": \"s3\", \"label\": \"cuantia_indeterminada\", \"is_forced\": \"\\n\\t\\t\\t\\t\\t\\t\\t\\t\\t\\t\\t\\t\\t\\t\\t\\t\\t\\t\\t\\t\\t\\t\\t    True\\n\\t\\t\\t\\t\\t\\t\\t\\t\\t\\t\\t\\t\\t\\t\\t\\t\\t\\t\\t\\t\\t\\t\\t    \", \"starting_state\": \"s2\"}, {\"cod\": 2, \"ending_state\": \"s1\", \"label\": \"otro\", \"is_forced\": \"\\n\\t\\t\\t\\t\\t\\t\\t\\t\\t\\t\\t\\t\\t\\t\\t\\t\\t\\t\\t\\t\\t\\t\\t    True\\n\\t\\t\\t\\t\\t\\t\\t\\t\\t\\t\\t\\t\\t\\t\\t\\t\\t\\t\\t\\t\\t\\t\\t    \", \"starting_state\": \"s3\"}, {\"is_forced\": \"\\n\\t\\t\\t\\t\\t\\t\\t\\t\\t\\t\\t\\t\\t\\t\\t\\t\\t\\t\\t\\t\\t\\t\\t    False\\n\\t\\t\\t\\t\\t\\t\\t\\t\\t\\t\\t\\t\\t\\t\\t\\t\\t\\t\\t\\t\\t\\t\\t    \", \"ending_state\": \"s1\", \"cod\": 3, \"label\": \"otro\", \"starting_state\": \"s3\"}], \"max_attempts\": \"1\"}"
   ]
  },
  {
   "cell_type": "code",
   "execution_count": 12,
   "metadata": {},
   "outputs": [
    {
     "data": {
      "text/plain": [
       "True"
      ]
     },
     "execution_count": 12,
     "metadata": {},
     "output_type": "execute_result"
    }
   ],
   "source": [
    "bool(tre['transitions'][0]['is_forced'].replace('\\t','').replace('\\n','').replace(' ',''))"
   ]
  },
  {
   "cell_type": "code",
   "execution_count": 24,
   "metadata": {},
   "outputs": [],
   "source": [
    "tre\n",
    "def cleanVal(tree):\n",
    "    temp1 = ''\n",
    "    temp2 = ''\n",
    "    lis2 = []\n",
    "    for item in tree['transitions']:\n",
    "        i\n",
    "            temp1 = bool(item['is_forced'].replace('\\t','').replace('\\n','').replace(' ',''))\n",
    "        \n",
    "        temp2 = item\n",
    "        temp2['is_forced'] = a\n",
    "        lis2.append(temp2)\n",
    "    tree['transitions'] = lis2\n",
    "cleanVal(tre)"
   ]
  },
  {
   "cell_type": "code",
   "execution_count": 25,
   "metadata": {},
   "outputs": [
    {
     "data": {
      "text/plain": [
       "{'initial_state': 's1',\n",
       " 'max_attempts': '1',\n",
       " 'models': [{'cod': 0,\n",
       "   'id': 'ingreso',\n",
       "   'state': 's1',\n",
       "   'thresh': '0.5,0.5,0.5'},\n",
       "  {'cod': 1, 'id': 'gestion', 'state': 's2', 'thresh': '0.5,0.5,0.5'},\n",
       "  {'cod': 2, 'id': 'despedida', 'state': 's3', 'thresh': '0.5,0.5,0.5'}],\n",
       " 'templates': [{'cod': 0,\n",
       "   'id': 'ingreso',\n",
       "   'label': 's1',\n",
       "   'state': 'saludo_inicial',\n",
       "   'topic': 'saludo'},\n",
       "  {'cod': 1,\n",
       "   'id': 'gestion',\n",
       "   'label': 's2',\n",
       "   'state': 'costo_inscripcion',\n",
       "   'topic': 'procedimiento_primera_vez'},\n",
       "  {'cod': 2,\n",
       "   'id': 'despedida',\n",
       "   'label': 's3',\n",
       "   'state': 'despedida',\n",
       "   'topic': 'despedida'}],\n",
       " 'topics': {'none': ['s2'], 'normal': ['s1']},\n",
       " 'transitions': [{'cod': 0,\n",
       "   'ending_state': 's2',\n",
       "   'is_forced': True,\n",
       "   'label': 'pse',\n",
       "   'starting_state': 's1'},\n",
       "  {'cod': 1,\n",
       "   'ending_state': 's3',\n",
       "   'is_forced': True,\n",
       "   'label': 'cuantia_indeterminada',\n",
       "   'starting_state': 's2'},\n",
       "  {'cod': 2,\n",
       "   'ending_state': 's1',\n",
       "   'is_forced': True,\n",
       "   'label': 'otro',\n",
       "   'starting_state': 's3'},\n",
       "  {'cod': 3,\n",
       "   'ending_state': 's1',\n",
       "   'is_forced': True,\n",
       "   'label': 'otro',\n",
       "   'starting_state': 's3'}]}"
      ]
     },
     "execution_count": 25,
     "metadata": {},
     "output_type": "execute_result"
    }
   ],
   "source": [
    "tre"
   ]
  },
  {
   "cell_type": "code",
   "execution_count": 26,
   "metadata": {},
   "outputs": [],
   "source": [
    "a = 'true'"
   ]
  },
  {
   "cell_type": "code",
   "execution_count": 34,
   "metadata": {},
   "outputs": [
    {
     "data": {
      "text/plain": [
       "True"
      ]
     },
     "execution_count": 34,
     "metadata": {},
     "output_type": "execute_result"
    }
   ],
   "source": [
    "a is not bool"
   ]
  },
  {
   "cell_type": "code",
   "execution_count": null,
   "metadata": {},
   "outputs": [],
   "source": [
    "%0A%09%09%09%09%09%09%09%09%09%09%09%09%09%09%09%09%09%09%09%09%09%09%09++++False%0A%09%09%09%09%09%09%09%09%09%09%09%09%09%09%09%09%09%09%09%09%09%09%09++++"
   ]
  },
  {
   "cell_type": "code",
   "execution_count": 36,
   "metadata": {},
   "outputs": [],
   "source": [
    "\n",
    "a = '\\n\\t\\t\\t\\t\\t\\t\\t\\t\\t\\t\\t\\t\\t\\t\\t\\t\\t\\t\\t\\t\\t\\t\\t    (Verdadero)\\n\\t\\t\\t\\t\\t\\t\\t\\t\\t\\t\\t\\t\\t\\t\\t\\t\\t\\t\\t\\t\\t\\t\\t    '"
   ]
  },
  {
   "cell_type": "code",
   "execution_count": 38,
   "metadata": {},
   "outputs": [
    {
     "data": {
      "text/plain": [
       "'Verdadero'"
      ]
     },
     "execution_count": 38,
     "metadata": {},
     "output_type": "execute_result"
    }
   ],
   "source": [
    "a.replace('\\n','').replace('\\t','').replace('(','').replace(')','').replace(' ','')"
   ]
  },
  {
   "cell_type": "code",
   "execution_count": null,
   "metadata": {},
   "outputs": [],
   "source": []
  },
  {
   "cell_type": "code",
   "execution_count": null,
   "metadata": {},
   "outputs": [],
   "source": []
  }
 ],
 "metadata": {
  "kernelspec": {
   "display_name": "Python 3",
   "language": "python",
   "name": "python3"
  },
  "language_info": {
   "codemirror_mode": {
    "name": "ipython",
    "version": 3
   },
   "file_extension": ".py",
   "mimetype": "text/x-python",
   "name": "python",
   "nbconvert_exporter": "python",
   "pygments_lexer": "ipython3",
   "version": "3.5.5"
  }
 },
 "nbformat": 4,
 "nbformat_minor": 2
}
