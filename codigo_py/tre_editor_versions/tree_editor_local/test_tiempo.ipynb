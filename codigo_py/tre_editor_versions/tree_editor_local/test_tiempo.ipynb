{
 "cells": [
  {
   "cell_type": "code",
   "execution_count": 1,
   "metadata": {},
   "outputs": [],
   "source": [
    "import time\n"
   ]
  },
  {
   "cell_type": "code",
   "execution_count": 2,
   "metadata": {},
   "outputs": [],
   "source": [
    "ahora = time.strftime(\"%c\")\n",
    "ahora = '_'+ahora+'.json'\n"
   ]
  },
  {
   "cell_type": "code",
   "execution_count": 44,
   "metadata": {},
   "outputs": [],
   "source": [
    "model = [\n",
    "    {\"id\": \"saludo\",               \"state\": \"s1\",  \"thresh\": [0.5, 0.5]},\n",
    "    {\"id\": \"principal\",            \"state\": \"s3\",  \"thresh\": [0.51, 0.4, 0.05, 0.25, 0.35, 0.73, 0.70]},\n",
    "    {\"id\": \"costo_procedimiento\",  \"state\": \"s6\",  \"thresh\": [0.33, 0.33, 0.33]},\n",
    "    {\"id\": \"costo_fusion\",         \"state\": \"s7\",  \"thresh\": [0.25, 0.25, 0.25, 0.25]},\n",
    "    {\"id\": \"costo_procedimiento\",  \"state\": \"s4\",  \"thresh\": [0.33, 0.33, 0.33]},\n",
    "    {\"id\": \"inscripcion\",          \"state\": \"s5\",  \"thresh\": [0.25, 0.25, 0.25, 0.25]},\n",
    "    {\"id\": \"temas_renovacion\",     \"state\": \"s9\",  \"thresh\": [0.21, 0.72, 0.39, 0.31, 0.5, 0.26, 0.41]},\n",
    "    {\"id\": \"tipo_renovacion\",      \"state\": \"s10\", \"thresh\": [0.33, 0.33, 0.33]},\n",
    "    {\"id\": \"medios_pago\",          \"state\": \"s11\", \"thresh\": [0.25, 0.25, 0.25, 0.25]},\n",
    "    {\"id\": \"clave_segura\",         \"state\": \"s12\", \"thresh\": [0.33, 0.33, 0.33]},\n",
    "    {\"id\": \"despedida\",            \"state\": \"s8\",  \"thresh\": [0.5, 0.5]}\n",
    "]"
   ]
  },
  {
   "cell_type": "code",
   "execution_count": 108,
   "metadata": {},
   "outputs": [],
   "source": [
    "tree = {'initial_state': '','templates': [],'max_attempts': 0,\n",
    "            'topics':{'normal':[],'none':[]},'transitions':[],'models': model}"
   ]
  },
  {
   "cell_type": "code",
   "execution_count": 74,
   "metadata": {},
   "outputs": [],
   "source": [
    "def returnListIdex(model):\n",
    "        a = []\n",
    "        if(model):    \n",
    "            if('cod' in model[0]):\n",
    "                temp_ = []\n",
    "                for m in model:\n",
    "                    temp_.append(m)\n",
    "                model = temp_\n",
    "            a = []\n",
    "            temp = 0\n",
    "            for dic in model:\n",
    "                temp = model.index(dic)\n",
    "                temp2 = dic\n",
    "                temp2['cod'] = temp\n",
    "                a.append(temp2)\n",
    "        else:\n",
    "            a = ['Vacio']\n",
    "        return a"
   ]
  },
  {
   "cell_type": "code",
   "execution_count": 100,
   "metadata": {},
   "outputs": [],
   "source": [
    "lista_temporal =  {\"models\":returnListIdex(model)}"
   ]
  },
  {
   "cell_type": "code",
   "execution_count": 78,
   "metadata": {},
   "outputs": [],
   "source": [
    "def deleteItemFromList(index,key):\n",
    "    if(key):\n",
    "        key.remove(key[index])    \n",
    "    return returnListIdex(key)"
   ]
  },
  {
   "cell_type": "code",
   "execution_count": 113,
   "metadata": {},
   "outputs": [],
   "source": [
    "def deleteItemFromList(index,key,tree_config):\n",
    "        if(tree_config[key]):\n",
    "            tree_config[key].pop(index)    \n",
    "        return returnListIdex(tree_config[key])\n"
   ]
  },
  {
   "cell_type": "code",
   "execution_count": 119,
   "metadata": {},
   "outputs": [
    {
     "data": {
      "text/plain": [
       "[{'cod': 0,\n",
       "  'id': 'medios_pago',\n",
       "  'state': 's11',\n",
       "  'thresh': [0.25, 0.25, 0.25, 0.25]},\n",
       " {'cod': 1,\n",
       "  'id': 'clave_segura',\n",
       "  'state': 's12',\n",
       "  'thresh': [0.33, 0.33, 0.33]},\n",
       " {'cod': 2, 'id': 'despedida', 'state': 's8', 'thresh': [0.5, 0.5]}]"
      ]
     },
     "execution_count": 119,
     "metadata": {},
     "output_type": "execute_result"
    }
   ],
   "source": [
    "deleteItemFromList(0,'models',tree)"
   ]
  },
  {
   "cell_type": "code",
   "execution_count": 122,
   "metadata": {},
   "outputs": [],
   "source": [
    "li = {'nat':'sha','cap':'itan','st':'ark','vic':'tor'}"
   ]
  },
  {
   "cell_type": "code",
   "execution_count": 124,
   "metadata": {},
   "outputs": [
    {
     "data": {
      "text/plain": [
       "['nat', 'vic', 'cap', 'st']"
      ]
     },
     "execution_count": 124,
     "metadata": {},
     "output_type": "execute_result"
    }
   ],
   "source": [
    "list(li.keys())"
   ]
  },
  {
   "cell_type": "code",
   "execution_count": 126,
   "metadata": {},
   "outputs": [],
   "source": [
    "li['lo'] ='gan'"
   ]
  },
  {
   "cell_type": "code",
   "execution_count": 127,
   "metadata": {},
   "outputs": [
    {
     "data": {
      "text/plain": [
       "{'cap': 'itan', 'lo': 'gan', 'nat': 'sha', 'st': 'ark', 'vic': 'tor'}"
      ]
     },
     "execution_count": 127,
     "metadata": {},
     "output_type": "execute_result"
    }
   ],
   "source": [
    "li."
   ]
  },
  {
   "cell_type": "code",
   "execution_count": 130,
   "metadata": {},
   "outputs": [],
   "source": [
    "foo = {}\n",
    "for dicTe in list(li.keys()):\n",
    "      foo[dicTe] = [{'id':0,'label':'hola'},{'id':1,'label':'mundo'}]\n",
    "        "
   ]
  },
  {
   "cell_type": "code",
   "execution_count": 136,
   "metadata": {},
   "outputs": [],
   "source": [
    "li = {'nat':'sha','cap':'itan','st':'ark','vic':'tor'}\n",
    "li2 = {}"
   ]
  },
  {
   "cell_type": "code",
   "execution_count": 135,
   "metadata": {},
   "outputs": [],
   "source": [
    "def deleteItemSoport(idkey,idenewkey):\n",
    "    li2[idenewkey] = li[idkey]\n",
    "    li.pop(idkey)\n",
    "    "
   ]
  },
  {
   "cell_type": "code",
   "execution_count": null,
   "metadata": {},
   "outputs": [],
   "source": [
    "if(args['opc'] == 'chageValueKey'):\n",
    "  "
   ]
  },
  {
   "cell_type": "code",
   "execution_count": null,
   "metadata": {},
   "outputs": [],
   "source": [
    "\n",
    "\n",
    "objtGenerator.crFileKeyFatherf()\n",
    "objtGenerator.setdicGen(resultDat_a)\n",
    "objtGenerator.createFileSuportKeyFather()\n",
    "\n",
    "resultData = list(resultDat_a.keys())\n",
    "objtGenerator.setdicGen(resultDat_a)\n",
    "\n",
    "\n",
    "resul_tData = []"
   ]
  },
  {
   "cell_type": "code",
   "execution_count": 139,
   "metadata": {},
   "outputs": [],
   "source": [
    "def gettheresh(self):\n",
    "        li_1 = []\n",
    "        li_2 = []\n",
    "        cn = db.connect(self.route)\n",
    "        cur = cn.cursor()\n",
    "        cur.execute(\"SELECT keyLabelPkl FROM tbl_LabelPkl where nameFile='%s'\"%(name_file.replace('.json','')))\n",
    "        sc_list2 = cur.fetchall()        \n",
    "        cur.close()\n",
    "        for key in sc_list2:\n",
    "            li_1.append(0,5)\n",
    "        return  li_1"
   ]
  },
  {
   "cell_type": "code",
   "execution_count": null,
   "metadata": {},
   "outputs": [],
   "source": []
  }
 ],
 "metadata": {
  "kernelspec": {
   "display_name": "Python 3",
   "language": "python",
   "name": "python3"
  },
  "language_info": {
   "codemirror_mode": {
    "name": "ipython",
    "version": 3
   },
   "file_extension": ".py",
   "mimetype": "text/x-python",
   "name": "python",
   "nbconvert_exporter": "python",
   "pygments_lexer": "ipython3",
   "version": "3.5.5"
  }
 },
 "nbformat": 4,
 "nbformat_minor": 2
}
