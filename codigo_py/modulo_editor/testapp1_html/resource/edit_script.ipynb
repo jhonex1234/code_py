{
 "cells": [
  {
   "cell_type": "code",
   "execution_count": 1,
   "metadata": {},
   "outputs": [],
   "source": [
    "import json"
   ]
  },
  {
   "cell_type": "markdown",
   "metadata": {},
   "source": [
    "### crud lista json"
   ]
  },
  {
   "cell_type": "code",
   "execution_count": 26,
   "metadata": {},
   "outputs": [],
   "source": [
    "#read json file, return list\n",
    "def loadJson(file):\n",
    "    try:\n",
    "        file = json.load(open(file))\n",
    "    except FileNotFoundError:\n",
    "        file = []\n",
    "    return file\n",
    "\n",
    "#make json file, with list \n",
    "def makeJson(data,name):\n",
    "    file = name+'.json'\n",
    "    with open(file, 'w') as outfile:\n",
    "         json.dump(data, outfile)\n",
    "\n",
    "#find index, method soport ---\n",
    "def findIndex(listdata,keyvalue):\n",
    "    index = []\n",
    "    try:\n",
    "        if (listdata != []):\n",
    "               for i in range(0,len(listdata)):\n",
    "                    if(listdata[i]['id'] == keyvalue):\n",
    "                        index = listdata.index(listdata[i])\n",
    "        else:\n",
    "            index = 1\n",
    "    except UnboundLocalError:\n",
    "        index = 1\n",
    "    return index\n",
    "\n",
    "## edit dictionary list\n",
    "def editJson(listdata,keyvalue,newdata):\n",
    "    if(listdata != []):\n",
    "        for i in range(0,len(listdata)):\n",
    "            if(listdata[i]['id'] == keyvalue):\n",
    "                listdata.remove(listdata[i])\n",
    "                listdata.append({'id':keyvalue,'length':len(newdata),'message':newdata})\n",
    "    else:\n",
    "        listdata = 'seleccione una llave'\n",
    "    return listdata\n",
    "\n",
    "#delete keyvalues and\n",
    "def deleteScript(listdata,keyvalue):\n",
    "    if (listdata != [] and keyvalue != ''):    \n",
    "        listdata.remove(listdata[findIndex(listdata,keyvalue)])\n",
    "    else:\n",
    "        listdata = 'seleccione una llave'\n",
    "    return listdata\n",
    "\n",
    "#create template\n",
    "def makeJsonData(listdata,keyvalue,newdata):\n",
    "    if (listdata != []):\n",
    "        a = findIndex(listdata,keyvalue)\n",
    "        if(a != [''] and a != 1):\n",
    "            listdata.append({'id':keyvalue,'length':len(newdata),'message':newdata})\n",
    "    else:\n",
    "        listdata.append({'id':keyvalue,'length':len(newdata),'message':newdata})\n",
    "    return listdata\n",
    "#create list keys\n",
    "def loadlistkey(listjson):\n",
    "    listkeys = []\n",
    "    for i in range(0,len(read_json)):\n",
    "         listkeys.append(read_json[i]['id'])\n",
    "    return listkeys"
   ]
  },
  {
   "cell_type": "markdown",
   "metadata": {},
   "source": [
    "### probando metodos"
   ]
  },
  {
   "cell_type": "code",
   "execution_count": 27,
   "metadata": {},
   "outputs": [
    {
     "data": {
      "text/plain": [
       "['agente',\n",
       " 'saludo2',\n",
       " 'despedida',\n",
       " 'reintento_principal',\n",
       " 'reintento_costo_proced_inscripcion',\n",
       " 'reintento_tipo_inscripcion',\n",
       " 'reintento_costo_proced_fusion',\n",
       " 'reintento_tipo_costo_fusion',\n",
       " 'reintento_tipo_renovacion',\n",
       " 'reintento_renovacion',\n",
       " 'costo_proced_fusion',\n",
       " 'costo_proced_inscripcion',\n",
       " 'tipo_renovacion',\n",
       " 'tema_renovacion',\n",
       " 'acceso',\n",
       " 'certificado',\n",
       " 'normas niif',\n",
       " 'tipo_inscripcion',\n",
       " 'tipo_costo_fusion',\n",
       " 'procedimiento_primera_vez',\n",
       " 'procedimiento_continuidad',\n",
       " 'procedimiento_perdida',\n",
       " 'procedimiento_fusion',\n",
       " 'costo_inscripcion',\n",
       " 'cuantia_indeterminada',\n",
       " 'aumento_capital',\n",
       " 'aporte_inmuebles',\n",
       " 'procedimiento_renovacion',\n",
       " 'pagos_renovacion',\n",
       " 'plazos_renovacion',\n",
       " 'vacio']"
      ]
     },
     "execution_count": 27,
     "metadata": {},
     "output_type": "execute_result"
    }
   ],
   "source": [
    "#read_json = []\n",
    "#read_json = loadJson('templates.json')\n",
    "#makeJson({'key':'id'},'test')\n",
    "#findIndex(read_json,'agente')\n",
    "#editJson(read_json,'agente','no necesito ayuda de una tupla porfavor')\n",
    "#deleteScript(read_json,'agente')\n",
    "#read_json = makeJsonData(read_json,'agente','buenos dias que tal')\n",
    "loadlistkey(loadJson('templates.json'))"
   ]
  },
  {
   "cell_type": "code",
   "execution_count": null,
   "metadata": {},
   "outputs": [],
   "source": []
  }
 ],
 "metadata": {
  "kernelspec": {
   "display_name": "Python 3",
   "language": "python",
   "name": "python3"
  },
  "language_info": {
   "codemirror_mode": {
    "name": "ipython",
    "version": 3
   },
   "file_extension": ".py",
   "mimetype": "text/x-python",
   "name": "python",
   "nbconvert_exporter": "python",
   "pygments_lexer": "ipython3",
   "version": "3.5.4"
  }
 },
 "nbformat": 4,
 "nbformat_minor": 2
}
