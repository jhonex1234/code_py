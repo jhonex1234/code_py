{
 "cells": [
  {
   "cell_type": "markdown",
   "metadata": {},
   "source": [
    "# first solution"
   ]
  },
  {
   "cell_type": "code",
   "execution_count": 1,
   "metadata": {},
   "outputs": [],
   "source": [
    "import os"
   ]
  },
  {
   "cell_type": "code",
   "execution_count": 2,
   "metadata": {},
   "outputs": [
    {
     "ename": "FileNotFoundError",
     "evalue": "[Errno 2] No such file or directory: '/home/jhonex/filenames_original.txt'",
     "output_type": "error",
     "traceback": [
      "\u001b[0;31m---------------------------------------------------------------------------\u001b[0m",
      "\u001b[0;31mFileNotFoundError\u001b[0m                         Traceback (most recent call last)",
      "\u001b[0;32m<ipython-input-2-cc557dae8b0a>\u001b[0m in \u001b[0;36m<module>\u001b[0;34m()\u001b[0m\n\u001b[1;32m      2\u001b[0m \u001b[0mfolders\u001b[0m \u001b[0;34m=\u001b[0m \u001b[0;34m[\u001b[0m\u001b[0mitem\u001b[0m \u001b[0;32mfor\u001b[0m \u001b[0mitem\u001b[0m \u001b[0;32min\u001b[0m \u001b[0mos\u001b[0m\u001b[0;34m.\u001b[0m\u001b[0mwalk\u001b[0m\u001b[0;34m(\u001b[0m\u001b[0;34m'/home/jhonex/sata_from_gestion/Audios Colpensiones/'\u001b[0m\u001b[0;34m)\u001b[0m\u001b[0;34m]\u001b[0m\u001b[0;34m\u001b[0m\u001b[0m\n\u001b[1;32m      3\u001b[0m \u001b[0;31m#open file xt\u001b[0m\u001b[0;34m\u001b[0m\u001b[0;34m\u001b[0m\u001b[0m\n\u001b[0;32m----> 4\u001b[0;31m \u001b[0;32mwith\u001b[0m \u001b[0mopen\u001b[0m\u001b[0;34m(\u001b[0m\u001b[0;34m'/home/jhonex/filenames_original.txt'\u001b[0m\u001b[0;34m,\u001b[0m \u001b[0;34m'r'\u001b[0m\u001b[0;34m)\u001b[0m \u001b[0;32mas\u001b[0m \u001b[0mfile\u001b[0m\u001b[0;34m:\u001b[0m\u001b[0;34m\u001b[0m\u001b[0m\n\u001b[0m\u001b[1;32m      5\u001b[0m     \u001b[0;31m#read txt file and save into val (original_info), in a great string\u001b[0m\u001b[0;34m\u001b[0m\u001b[0;34m\u001b[0m\u001b[0m\n\u001b[1;32m      6\u001b[0m     \u001b[0moriginal_info\u001b[0m \u001b[0;34m=\u001b[0m \u001b[0mfile\u001b[0m\u001b[0;34m.\u001b[0m\u001b[0mread\u001b[0m\u001b[0;34m(\u001b[0m\u001b[0;34m)\u001b[0m\u001b[0;34m\u001b[0m\u001b[0m\n",
      "\u001b[0;31mFileNotFoundError\u001b[0m: [Errno 2] No such file or directory: '/home/jhonex/filenames_original.txt'"
     ]
    }
   ],
   "source": [
    "#route file type txt,contains registration of assignments by tagger\n",
    "folders = [item for item in os.walk('/home/jhonex/sata_from_gestion/Audios Colpensiones/')]\n",
    "#open file xt\n",
    "with open('/home/jhonex/filenames_original.txt', 'r') as file:\n",
    "    #read txt file and save into val (original_info), in a great string\n",
    "    original_info = file.read()\n",
    "\n",
    "# the string is cut by ('\\t'),last element is taken and is cut by (,) make list.\n",
    "original_info = [item.split('\\t')[-1] for item in original_info.split(',')]\n",
    "# new variable type dic.\n",
    "filenames_assigned = {}\n",
    "#  with the data name agent and name.\n",
    "for item in original_info:\n",
    "    #the string is cut by ('/').\n",
    "    info = item.split('/')\n",
    "    #\n",
    "    person_name = info[1]\n",
    "    audio_name = info[-1]\n",
    "    if audio_name.endswith('wav'):\n",
    "        if person_name not in filenames_assigned:\n",
    "            filenames_assigned[person_name] = [audio_name]\n",
    "        else:\n",
    "            filenames_assigned[person_name].append(audio_name)"
   ]
  },
  {
   "cell_type": "code",
   "execution_count": null,
   "metadata": {},
   "outputs": [],
   "source": [
    "filenames_assigned"
   ]
  },
  {
   "cell_type": "code",
   "execution_count": null,
   "metadata": {},
   "outputs": [],
   "source": [
    "filenames_managed = {}\n",
    "for person_name in folders[0][1]:\n",
    "    filenames_managed[person_name] = []\n",
    "    for item in folders:\n",
    "        if person_name in item[0]:\n",
    "            filenames_managed[person_name] += [filename for filename in item[2] if filename.endswith('wav')]"
   ]
  },
  {
   "cell_type": "markdown",
   "metadata": {},
   "source": [
    "# current file count by tagger"
   ]
  },
  {
   "cell_type": "code",
   "execution_count": null,
   "metadata": {},
   "outputs": [],
   "source": [
    "{tagger: len(audio_files) for tagger, audio_files in filenames_managed.items()}"
   ]
  },
  {
   "cell_type": "code",
   "execution_count": null,
   "metadata": {},
   "outputs": [],
   "source": [
    "listFileNotFound = {}\n",
    "for tagger in filenames_assigned:\n",
    "    listFileNotFound[tagger] = set(filenames_assigned[tagger]) - set(filenames_managed[tagger])"
   ]
  },
  {
   "cell_type": "markdown",
   "metadata": {},
   "source": [
    "# current count of missing files by tagger"
   ]
  },
  {
   "cell_type": "code",
   "execution_count": null,
   "metadata": {},
   "outputs": [],
   "source": [
    "{tagger: len(audio_files) for tagger, audio_files in listFileNotFound.items()}"
   ]
  },
  {
   "cell_type": "code",
   "execution_count": null,
   "metadata": {},
   "outputs": [],
   "source": [
    "filenames_missing = {}\n",
    "for current_tagger in filenames_managed:\n",
    "    filenames_exception = []\n",
    "    for tagger, audio_files in filenames_managed.items():\n",
    "        if tagger != current_tagger:\n",
    "            filenames_exception += audio_files\n",
    "    filenames_missing[current_tagger] = set(filenames_assigned[current_tagger]) & set(filenames_exception)"
   ]
  },
  {
   "cell_type": "markdown",
   "metadata": {},
   "source": [
    "# File count changed from assigned folders"
   ]
  },
  {
   "cell_type": "code",
   "execution_count": null,
   "metadata": {},
   "outputs": [],
   "source": [
    "{tagger: len(audio_files) for tagger, audio_files in filenames_missing.items()}"
   ]
  },
  {
   "cell_type": "code",
   "execution_count": 3,
   "metadata": {},
   "outputs": [],
   "source": [
    "audio_filenames = []\n",
    "for item in folders:\n",
    "    audio_filenames += item[2]\n",
    "\n",
    "from collections import Counter\n",
    "filenames_duplicates = []\n",
    "for audio_name, quantity in Counter(audio_filenames).items():\n",
    "    if quantity > 1 and audio_name.endswith('wav'):\n",
    "        filenames_duplicates.append(audio_name)\n",
    "\n",
    "# filenames_duplicates = {}\n",
    "for filename in filenames_duplicates:\n",
    "    for item in folders:\n",
    "        if filename in item[2]:\n",
    "            next((person_name for person_name in folders[0][1] if person_name in item[0]))"
   ]
  },
  {
   "cell_type": "code",
   "execution_count": null,
   "metadata": {},
   "outputs": [],
   "source": [
    "filenames_duplicates"
   ]
  },
  {
   "cell_type": "code",
   "execution_count": null,
   "metadata": {},
   "outputs": [],
   "source": []
  },
  {
   "cell_type": "code",
   "execution_count": null,
   "metadata": {},
   "outputs": [],
   "source": []
  },
  {
   "cell_type": "code",
   "execution_count": null,
   "metadata": {},
   "outputs": [],
   "source": []
  },
  {
   "cell_type": "code",
   "execution_count": null,
   "metadata": {},
   "outputs": [],
   "source": []
  },
  {
   "cell_type": "code",
   "execution_count": null,
   "metadata": {},
   "outputs": [],
   "source": []
  }
 ],
 "metadata": {
  "kernelspec": {
   "display_name": "Python 3",
   "language": "python",
   "name": "python3"
  },
  "language_info": {
   "codemirror_mode": {
    "name": "ipython",
    "version": 3
   },
   "file_extension": ".py",
   "mimetype": "text/x-python",
   "name": "python",
   "nbconvert_exporter": "python",
   "pygments_lexer": "ipython3",
   "version": "3.5.5"
  }
 },
 "nbformat": 4,
 "nbformat_minor": 2
}
