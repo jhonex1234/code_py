{
 "cells": [
  {
   "cell_type": "code",
   "execution_count": 1,
   "metadata": {},
   "outputs": [],
   "source": [
    "#import mysql.connector as db\n",
    "import csv, operator\n",
    "import json"
   ]
  },
  {
   "cell_type": "code",
   "execution_count": 22,
   "metadata": {
    "collapsed": true
   },
   "outputs": [],
   "source": [
    "#conexion\n",
    "def conectar(user,pas,database,dire):\n",
    "    dato={\n",
    "        'user':user,\n",
    "        'password':pas,\n",
    "        'db':database,\n",
    "        'host':dire\n",
    "    }\n",
    "    cn= db.connect(** dato)\n",
    "    return cn\n",
    "#cierrar una conexion  \n",
    "def desconectar(cerrar):\n",
    "    cerrar=cn\n",
    "    return cn.close()\n",
    "\n",
    "#retorna una lista\n",
    "def datos_est_in(cur):\n",
    "        try:\n",
    "            cur.execute('select * from estados_intentos')\n",
    "            lista= cur.fetchall()\n",
    "            \n",
    "        except db.errors:\n",
    "            print('error')\n",
    "        finally:\n",
    "            desconectar(cn)\n",
    "        return lista"
   ]
  },
  {
   "cell_type": "code",
   "execution_count": 23,
   "metadata": {
    "collapsed": true
   },
   "outputs": [],
   "source": [
    " #creación de conexion   \n",
    "cn= conectar('root','','sessionspython','127.0.0.1')\n",
    " #cursor\n",
    "cur= cn.cursor()\n",
    "\n",
    "#validar_estado('S3','0')"
   ]
  },
  {
   "cell_type": "code",
   "execution_count": 24,
   "metadata": {
    "collapsed": true
   },
   "outputs": [],
   "source": [
    "def dialog(estado,intento):\n",
    "    msj='cambio de estado'\n",
    "    entrega=[]\n",
    "    entrega.append(estado)\n",
    "    entrega.append(intento)\n",
    "    entrega.append(msj)\n",
    "    return entrega"
   ]
  },
  {
   "cell_type": "code",
   "execution_count": 31,
   "metadata": {
    "collapsed": true
   },
   "outputs": [],
   "source": [
    "def gestion_id_csv(id_ex,activate_id):\n",
    "   #apertura archivo .json\n",
    "    with open('identifiers.json', 'r') as jsonfile:\n",
    "        #almacenamiento de lectura en diccionario\n",
    "        id_all = json.load(jsonfile)\n",
    "    # condicional de existencia de id en archivo\n",
    "    if id_ex in id_all:\n",
    "        # condicional de actividad de id \n",
    "        if activate_id:\n",
    "            # llamado del metodo de juan\n",
    "            listJ = dialogo(id_all[id_ex][0], id_all[id_ex][1], mensaje)\n",
    "            #cambio de valores\n",
    "            id_all[id_ex] = [listJ[0], listJ[1]]\n",
    "            #recepción de mensaje\n",
    "            mensaje = listJ[2] \n",
    "        else:\n",
    "            #elliminación de id \n",
    "            id_all.pop(id_ex)\n",
    "            mensaje = 'id eliminado'\n",
    "    else:\n",
    "        #agregación de ide en archivo\n",
    "        id_all[id_ex] = ['s1', 0]\n",
    "        mensaje = 'id agregado'\n",
    "        #almacenamiento de diccionario\n",
    "    with open('identifiers.json', 'w') as jsonfile:\n",
    "        json.dump(id_all, jsonfile)\n",
    "    \n",
    "    return mensaje     "
   ]
  },
  {
   "cell_type": "code",
   "execution_count": 32,
   "metadata": {},
   "outputs": [
    {
     "ename": "NameError",
     "evalue": "name 'json' is not defined",
     "output_type": "error",
     "traceback": [
      "\u001b[1;31m---------------------------------------------------------------------------\u001b[0m",
      "\u001b[1;31mNameError\u001b[0m                                 Traceback (most recent call last)",
      "\u001b[1;32m<ipython-input-32-360559b7a270>\u001b[0m in \u001b[0;36m<module>\u001b[1;34m()\u001b[0m\n\u001b[0;32m      1\u001b[0m \u001b[1;31m#desconectar(cn)\u001b[0m\u001b[1;33m\u001b[0m\u001b[1;33m\u001b[0m\u001b[0m\n\u001b[1;32m----> 2\u001b[1;33m \u001b[0mgestion_id_csv\u001b[0m\u001b[1;33m(\u001b[0m\u001b[1;32mTrue\u001b[0m\u001b[1;33m,\u001b[0m\u001b[1;36m3\u001b[0m\u001b[1;33m)\u001b[0m\u001b[1;33m\u001b[0m\u001b[0m\n\u001b[0m",
      "\u001b[1;32m<ipython-input-31-1967ed6816f2>\u001b[0m in \u001b[0;36mgestion_id_csv\u001b[1;34m(id_ex, activate_id)\u001b[0m\n\u001b[0;32m      3\u001b[0m     \u001b[1;32mwith\u001b[0m \u001b[0mopen\u001b[0m\u001b[1;33m(\u001b[0m\u001b[1;34m'identifiers.json'\u001b[0m\u001b[1;33m,\u001b[0m \u001b[1;34m'r'\u001b[0m\u001b[1;33m)\u001b[0m \u001b[1;32mas\u001b[0m \u001b[0mjsonfile\u001b[0m\u001b[1;33m:\u001b[0m\u001b[1;33m\u001b[0m\u001b[0m\n\u001b[0;32m      4\u001b[0m         \u001b[1;31m#almacenamiento de lectura en diccionario\u001b[0m\u001b[1;33m\u001b[0m\u001b[1;33m\u001b[0m\u001b[0m\n\u001b[1;32m----> 5\u001b[1;33m         \u001b[0mid_all\u001b[0m \u001b[1;33m=\u001b[0m \u001b[0mjson\u001b[0m\u001b[1;33m.\u001b[0m\u001b[0mload\u001b[0m\u001b[1;33m(\u001b[0m\u001b[0mjsonfile\u001b[0m\u001b[1;33m)\u001b[0m\u001b[1;33m\u001b[0m\u001b[0m\n\u001b[0m\u001b[0;32m      6\u001b[0m     \u001b[1;31m# condicional de existencia de id en archivo\u001b[0m\u001b[1;33m\u001b[0m\u001b[1;33m\u001b[0m\u001b[0m\n\u001b[0;32m      7\u001b[0m     \u001b[1;32mif\u001b[0m \u001b[0mid_ex\u001b[0m \u001b[1;32min\u001b[0m \u001b[0mid_all\u001b[0m\u001b[1;33m:\u001b[0m\u001b[1;33m\u001b[0m\u001b[0m\n",
      "\u001b[1;31mNameError\u001b[0m: name 'json' is not defined"
     ]
    }
   ],
   "source": [
    "#desconectar(cn)\n",
    "gestion_id_csv(True,3)"
   ]
  },
  {
   "cell_type": "code",
   "execution_count": 28,
   "metadata": {
    "collapsed": true
   },
   "outputs": [],
   "source": [
    "def gestion_id_bd(id_ex,activate_id):\n",
    "    final=''\n",
    "    try:\n",
    "        #consulta id\n",
    "        #cur.execute('select * from estados_intentos where id_ex='+id_ex)\n",
    "        print('ingresa')\n",
    "        \n",
    "        #almacenamiento de los datos en una lista.\n",
    "        lista= cur.fetchall()\n",
    "        \n",
    "        #primera condicional, encaso de que no exista insertar valores\n",
    "        if lista==[]:\n",
    "            cur.execute(\"insert into estados_intentos values(\"+idex+\",'S1',0 \")\n",
    "            cn.commit()            \n",
    "            final='cargado nuevo registro'\n",
    "        \n",
    "        #Segunda condicional, encaso de que exista\n",
    "        else:\n",
    "            #Segunda condicional, en caso de que la activdad del id = true\n",
    "            if actLive:\n",
    "                #llamado del metodo dialog recibe dos parametros y retorna un lista de itms 3 \n",
    "                recepcion =dialog('s1',1)\n",
    "                \n",
    "                cur.execute(\"update estados_intentos set estado='\"+recepcion[0]+\"', intento=\"+recepcion[1]+\" WHERE id_ex=\"+idex)\n",
    "                cn.commit()\n",
    "                print('hacer algo')\n",
    "                final = recepcion[1]\n",
    "            else: \n",
    "                cur.execute(\"delete from estados_intentos WHERE id_ex=\"+idex)\n",
    "                cn.commit()\n",
    "                final='muerto id'\n",
    "                 \n",
    "    except:\n",
    "        print('error')"
   ]
  },
  {
   "cell_type": "code",
   "execution_count": 30,
   "metadata": {},
   "outputs": [
    {
     "name": "stdout",
     "output_type": "stream",
     "text": [
      "ingresa\n",
      "error\n"
     ]
    }
   ],
   "source": [
    "gestion_id_bd(True,'4')"
   ]
  },
  {
   "cell_type": "code",
   "execution_count": null,
   "metadata": {
    "collapsed": true
   },
   "outputs": [],
   "source": [
    "    "
   ]
  }
 ],
 "metadata": {
  "kernelspec": {
   "display_name": "Python 3",
   "language": "python",
   "name": "python3"
  },
  "language_info": {
   "codemirror_mode": {
    "name": "ipython",
    "version": 3
   },
   "file_extension": ".py",
   "mimetype": "text/x-python",
   "name": "python",
   "nbconvert_exporter": "python",
   "pygments_lexer": "ipython3",
   "version": "3.5.4"
  }
 },
 "nbformat": 4,
 "nbformat_minor": 2
}
