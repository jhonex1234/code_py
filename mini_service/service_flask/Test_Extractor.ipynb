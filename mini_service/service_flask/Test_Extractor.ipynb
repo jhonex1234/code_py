{
 "cells": [
  {
   "cell_type": "markdown",
   "metadata": {},
   "source": [
    "## source_Extract_Field_class"
   ]
  },
  {
   "cell_type": "code",
   "execution_count": 1,
   "metadata": {},
   "outputs": [],
   "source": [
    "# -*- coding: utf-8 -*-\n",
    "from glob import glob\n",
    "import nltk \n",
    "from nltk import tokenize\n",
    "from nltk.corpus import stopwords\n",
    "import numpy as np\n",
    "import pandas as pd\n",
    "import re\n",
    "from time import time\n",
    "from unicodedata import normalize\n",
    "\n",
    "pd.set_option('display.max_colwidth',-1)\n",
    "\n",
    "import json\n",
    "import psycopg2\n",
    "import pg\n",
    "from datetime import datetime"
   ]
  },
  {
   "cell_type": "markdown",
   "metadata": {},
   "source": [
    "## datos prueba"
   ]
  },
  {
   "cell_type": "code",
   "execution_count": 2,
   "metadata": {},
   "outputs": [],
   "source": [
    "\n",
    "databese_info={\n",
    "             'localhost':'localhost',\n",
    "             'user':'postgres',\n",
    "             'pass':'',\n",
    "             'db':'pqr_electricaribe'\n",
    "}"
   ]
  },
  {
   "cell_type": "code",
   "execution_count": 3,
   "metadata": {},
   "outputs": [],
   "source": [
    "class TypeDataBase():\n",
    "    def __init__(self,json_db):\n",
    "        self.database = json_db\n",
    "        self.cn = ''\n",
    "        self.dic={'id':'','sspd':'','error':''}\n",
    "        self.conect_database(json_db)\n",
    "        self.update_flag(self.dic)\n",
    "        \n",
    "    def conect_database(self,json_db):\n",
    "        try:\n",
    "            self.cn = psycopg2.connect(\"dbname= \"\n",
    "                                  +json_db['db']+\n",
    "                                  \" user= \"\n",
    "                                  +json_db['user']+\n",
    "                                  \" host= \"\n",
    "                                  +json_db['localhost']+\n",
    "                                  \" password= \"\n",
    "                                  +json_db['pass']+\" \")\n",
    "        except psycopg2.DatabaseError as de:\n",
    "            if self.cn:\n",
    "                self.cn.rollback()\n",
    "                print('Error %s'%de)\n",
    "        return self.cn\n",
    "    \n",
    "    def serch_id(self,json):\n",
    "        self.cn = self.conect_database(self.database)\n",
    "        cur = self.cn.cursor()\n",
    "        id_bu = ''\n",
    "        try:\n",
    "            cur.execute(\"select id from businesscase where serial='%s' AND botstate is null\"%(json['sspd']))\n",
    "            id_bu = cur.fetchall()\n",
    "        except psycopg2.DatabaseError as de:\n",
    "             json['error'] = 'Error %s'%de\n",
    "        finally:\n",
    "            if self.cn:\n",
    "                self.cn.close()\n",
    "        if id_bu:\n",
    "                json['id'] = id_bu[0][0]\n",
    "        else:\n",
    "            json[\"id\"] ='none'\n",
    "                \n",
    "        return json\n",
    "    \n",
    "    def update_flag(self,jso_n):\n",
    "        self.cn = self.conect_database(self.database)\n",
    "        cur = self.cn.cursor()\n",
    "        try:\n",
    "            cur.execute(\"update businesscase set botstate=%s where id=%s\"%(1,jso_n['id']))\n",
    "            self.cn.commit()\n",
    "        except psycopg2.DatabaseError as de:\n",
    "            jso_n['error'] = 'Error %s'%de\n",
    "        finally:\n",
    "            if self.cn:\n",
    "                self.cn.close()\n",
    "                \n",
    "    def update_casoentescontrol(self,json):\n",
    "        self.cn = self.conect_database(self.database)\n",
    "        cur = self.cn.cursor()\n",
    "        try:\n",
    "            cur.execute(\"update casoentescontrol set documentoantecesor=%s,numerodecisionempresaeca=%s,\"+\n",
    "                        \"numeroradicadoportico=%s where id=%s\",(json['expediente_padre'],json['num_decision'], json['radication_RE'],json['id']))\n",
    "            self.cn.commit()\n",
    "            self.update_flag(json)\n",
    "        except psycopg2.DatabaseError as de:\n",
    "            json['error'] = 'Error %s'%de\n",
    "        finally:\n",
    "            if self.cn:\n",
    "                self.cn.close()\n",
    "        "
   ]
  },
  {
   "cell_type": "markdown",
   "metadata": {},
   "source": [
    "## Class_Database"
   ]
  },
  {
   "cell_type": "code",
   "execution_count": 4,
   "metadata": {},
   "outputs": [
    {
     "data": {
      "text/plain": [
       "{'date_decision': ' 21 julio 2017 ',\n",
       " 'date_radication_re': '',\n",
       " 'error': '',\n",
       " 'expediente_padre': '20178201051872',\n",
       " 'id': 'none',\n",
       " 'num_decision': '5116594',\n",
       " 'radication_RE': '',\n",
       " 'resolucion': 'confirmar',\n",
       " 'sspd': '20178200393215',\n",
       " 'sspd_fecha': '01112017'}"
      ]
     },
     "execution_count": 4,
     "metadata": {},
     "output_type": "execute_result"
    }
   ],
   "source": [
    "#from typeDataBase import TypeDataBase\n",
    "objDataBase = TypeDataBase(databese_info)\n",
    "field = {\n",
    "      \"date_decision\": \" 21 julio 2017 \", \n",
    "      \"date_radication_re\": \"\", \n",
    "      \"expediente_padre\": \"20178201051872\",\n",
    "      'id':0,\n",
    "      'error': '',\n",
    "      \"num_decision\": \"5116594\", \n",
    "      \"radication_RE\": \"\", \n",
    "      \"resolucion\": \"confirmar\", \n",
    "      \"sspd\": \"20178200393215\", \n",
    "      \"sspd_fecha\": \"01112017\",\n",
    "      \"error\": ''\n",
    "}\n",
    "id_json = objDataBase.serch_id(field)\n",
    "#objDataBase.update_casoentescontrol(id_json)\n",
    "\n",
    "id_json\n"
   ]
  },
  {
   "cell_type": "code",
   "execution_count": 5,
   "metadata": {},
   "outputs": [
    {
     "data": {
      "text/plain": [
       "False"
      ]
     },
     "execution_count": 5,
     "metadata": {},
     "output_type": "execute_result"
    }
   ],
   "source": [
    "type(field)\n",
    "field is dict"
   ]
  },
  {
   "cell_type": "markdown",
   "metadata": {},
   "source": [
    "## Class_Extract_Field"
   ]
  },
  {
   "cell_type": "code",
   "execution_count": 6,
   "metadata": {},
   "outputs": [
    {
     "name": "stdout",
     "output_type": "stream",
     "text": [
      "Cleaning took 21.38 seconds\n",
      "[{'sspd_fecha': '151121201', 'date_radication_re': '25 julio 2016', 'date_decision': ' 8 agosto 2016 ', 'id': 'none', 'resolucion': 'modificar', 'sspd': '20173200473935', 'expediente_padre': '', 'num_decision': '4164666', 'radication_RE': 're1180201627151', 'error': 'Error invalid input syntax for integer: \"none\"\\nLINE 1: ...666\\',numeroradicadoportico=\\'re1180201627151\\' where id=\\'none\\'\\n                                                                 ^\\n'}, {'sspd_fecha': '', 'date_radication_re': '05 julio 2017', 'date_decision': ' 16 junio 2017 ', 'id': 'none', 'resolucion': 'confirmar', 'sspd': '20178200393205', 'expediente_padre': '20178201055872', 'num_decision': '5020051', 'radication_RE': 're1110201723181', 'error': 'Error invalid input syntax for integer: \"none\"\\nLINE 1: ...051\\',numeroradicadoportico=\\'re1110201723181\\' where id=\\'none\\'\\n                                                                 ^\\n'}, {'sspd_fecha': '151122017', 'date_radication_re': '10 marzo 2017', 'date_decision': ' ', 'id': 'none', 'resolucion': 'modificar', 'sspd': '20173200479125', 'expediente_padre': '', 'num_decision': '4520836', 'radication_RE': 're3340201700968', 'error': 'Error invalid input syntax for integer: \"none\"\\nLINE 1: ...836\\',numeroradicadoportico=\\'re3340201700968\\' where id=\\'none\\'\\n                                                                 ^\\n'}, {'sspd_fecha': '', 'date_radication_re': '11 julio 2017', 'date_decision': ' ', 'id': 'none', 'resolucion': 'confirmar', 'sspd': '20178200393245', 'expediente_padre': '20178201055352', 'num_decision': '', 'radication_RE': 're1110201722568', 'error': 'Error invalid input syntax for integer: \"none\"\\nLINE 1: ...a=\\'\\',numeroradicadoportico=\\'re1110201722568\\' where id=\\'none\\'\\n                                                                 ^\\n'}, {'sspd_fecha': '1511', 'date_radication_re': '21 julio 2017', 'date_decision': ' ', 'id': 'none', 'resolucion': 'modificar', 'sspd': '20178200479175', 'expediente_padre': '', 'num_decision': '', 'radication_RE': 're2210201716576', 'error': 'Error invalid input syntax for integer: \"none\"\\nLINE 1: ...a=\\'\\',numeroradicadoportico=\\'re2210201716576\\' where id=\\'none\\'\\n                                                                 ^\\n'}, {'sspd_fecha': '15', 'date_radication_re': '11 julio 2017', 'date_decision': ' 14 julio 2017 ', 'id': 'none', 'resolucion': 'revocar', 'sspd': '20178200479045', 'expediente_padre': '', 'num_decision': '5099210', 'radication_RE': 're3110201723077', 'error': 'Error invalid input syntax for integer: \"none\"\\nLINE 1: ...210\\',numeroradicadoportico=\\'re3110201723077\\' where id=\\'none\\'\\n                                                                 ^\\n'}, {'sspd_fecha': '', 'date_radication_re': '', 'date_decision': ' 21 julio 2017 ', 'id': 'none', 'resolucion': 'confirmar', 'sspd': '20178200393395', 'expediente_padre': '20178201051872', 'num_decision': '5116594', 'radication_RE': '', 'error': 'Error invalid input syntax for integer: \"none\"\\nLINE 1: ...mpresaeca=\\'5116594\\',numeroradicadoportico=\\'\\' where id=\\'none\\'\\n                                                                 ^\\n'}, {'sspd_fecha': '01', 'date_radication_re': '09 junio 2017', 'date_decision': ' ', 'id': 'none', 'resolucion': 'confirmar', 'sspd': '20178200393225', 'expediente_padre': '20178201055392', 'num_decision': '', 'radication_RE': 're1120201722590', 'error': 'Error invalid input syntax for integer: \"none\"\\nLINE 1: ...a=\\'\\',numeroradicadoportico=\\'re1120201722590\\' where id=\\'none\\'\\n                                                                 ^\\n'}, {'sspd_fecha': '', 'date_radication_re': '23 junio 2017', 'date_decision': ' 29 junio 2017 ', 'id': 'none', 'resolucion': 'modificar', 'sspd': '', 'expediente_padre': '', 'num_decision': '5055536', 'radication_RE': 're3110201724706', 'error': 'Error invalid input syntax for integer: \"none\"\\nLINE 1: ...536\\',numeroradicadoportico=\\'re3110201724706\\' where id=\\'none\\'\\n                                                                 ^\\n'}, {'sspd_fecha': '15', 'date_radication_re': '18 julio 2017', 'date_decision': ' ', 'id': 'none', 'resolucion': 'confirmar', 'sspd': '20178200479075', 'expediente_padre': '', 'num_decision': '', 'radication_RE': 're3410201714994', 'error': 'Error invalid input syntax for integer: \"none\"\\nLINE 1: ...a=\\'\\',numeroradicadoportico=\\'re3410201714994\\' where id=\\'none\\'\\n                                                                 ^\\n'}, {'sspd_fecha': '151122017', 'date_radication_re': '15 febrero 2017', 'date_decision': ' 28 febrero 2017 ', 'id': 'none', 'resolucion': 'modificar', 'sspd': '20178200479135', 'expediente_padre': '', 'num_decision': '4696949', 'radication_RE': 're1170201705649', 'error': 'Error invalid input syntax for integer: \"none\"\\nLINE 1: ...949\\',numeroradicadoportico=\\'re1170201705649\\' where id=\\'none\\'\\n                                                                 ^\\n'}, {'sspd_fecha': '151', 'date_radication_re': '05 julio 2017', 'date_decision': ' 14 julio 2017 ', 'id': 'none', 'resolucion': 'modificar', 'sspd': '20176200476965', 'expediente_padre': '', 'num_decision': '5087666', 'radication_RE': 're1110201726206', 'error': 'Error invalid input syntax for integer: \"none\"\\nLINE 1: ...666\\',numeroradicadoportico=\\'re1110201726206\\' where id=\\'none\\'\\n                                                                 ^\\n'}, {'sspd_fecha': '01', 'date_radication_re': '13 junio 2017', 'date_decision': ' ', 'id': 'none', 'resolucion': 'confirmar', 'sspd': '20178200393215', 'expediente_padre': '20178201055852', 'num_decision': '', 'radication_RE': 're1110201723149', 'error': 'Error invalid input syntax for integer: \"none\"\\nLINE 1: ...a=\\'\\',numeroradicadoportico=\\'re1110201723149\\' where id=\\'none\\'\\n                                                                 ^\\n'}, {'sspd_fecha': '1511', 'date_radication_re': '27 febrero 2017', 'date_decision': ' 10 marzo 2017 ', 'id': 'none', 'resolucion': 'modificar', 'sspd': '20178200479165', 'expediente_padre': '', 'num_decision': '4727774', 'radication_RE': 're9411201701467', 'error': 'Error invalid input syntax for integer: \"none\"\\nLINE 1: ...774\\',numeroradicadoportico=\\'re9411201701467\\' where id=\\'none\\'\\n                                                                 ^\\n'}, {'sspd_fecha': '', 'date_radication_re': '30 mayo 2017', 'date_decision': ' ', 'id': 'none', 'resolucion': 'modificar', 'sspd': '', 'expediente_padre': '', 'num_decision': '12', 'radication_RE': 're4110201705795', 'error': 'Error invalid input syntax for integer: \"none\"\\nLINE 1: ...\\'12\\',numeroradicadoportico=\\'re4110201705795\\' where id=\\'none\\'\\n                                                                 ^\\n'}]\n"
     ]
    },
    {
     "data": {
      "text/plain": [
       "[{'date_decision': ' 8 agosto 2016 ',\n",
       "  'date_radication_re': '25 julio 2016',\n",
       "  'error': 'Error invalid input syntax for integer: \"none\"\\nLINE 1: ...666\\',numeroradicadoportico=\\'re1180201627151\\' where id=\\'none\\'\\n                                                                 ^\\n',\n",
       "  'expediente_padre': '',\n",
       "  'id': 'none',\n",
       "  'num_decision': '4164666',\n",
       "  'radication_RE': 're1180201627151',\n",
       "  'resolucion': 'modificar',\n",
       "  'sspd': '20173200473935',\n",
       "  'sspd_fecha': '151121201'},\n",
       " {'date_decision': ' 16 junio 2017 ',\n",
       "  'date_radication_re': '05 julio 2017',\n",
       "  'error': 'Error invalid input syntax for integer: \"none\"\\nLINE 1: ...051\\',numeroradicadoportico=\\'re1110201723181\\' where id=\\'none\\'\\n                                                                 ^\\n',\n",
       "  'expediente_padre': '20178201055872',\n",
       "  'id': 'none',\n",
       "  'num_decision': '5020051',\n",
       "  'radication_RE': 're1110201723181',\n",
       "  'resolucion': 'confirmar',\n",
       "  'sspd': '20178200393205',\n",
       "  'sspd_fecha': ''},\n",
       " {'date_decision': ' ',\n",
       "  'date_radication_re': '10 marzo 2017',\n",
       "  'error': 'Error invalid input syntax for integer: \"none\"\\nLINE 1: ...836\\',numeroradicadoportico=\\'re3340201700968\\' where id=\\'none\\'\\n                                                                 ^\\n',\n",
       "  'expediente_padre': '',\n",
       "  'id': 'none',\n",
       "  'num_decision': '4520836',\n",
       "  'radication_RE': 're3340201700968',\n",
       "  'resolucion': 'modificar',\n",
       "  'sspd': '20173200479125',\n",
       "  'sspd_fecha': '151122017'},\n",
       " {'date_decision': ' ',\n",
       "  'date_radication_re': '11 julio 2017',\n",
       "  'error': 'Error invalid input syntax for integer: \"none\"\\nLINE 1: ...a=\\'\\',numeroradicadoportico=\\'re1110201722568\\' where id=\\'none\\'\\n                                                                 ^\\n',\n",
       "  'expediente_padre': '20178201055352',\n",
       "  'id': 'none',\n",
       "  'num_decision': '',\n",
       "  'radication_RE': 're1110201722568',\n",
       "  'resolucion': 'confirmar',\n",
       "  'sspd': '20178200393245',\n",
       "  'sspd_fecha': ''},\n",
       " {'date_decision': ' ',\n",
       "  'date_radication_re': '21 julio 2017',\n",
       "  'error': 'Error invalid input syntax for integer: \"none\"\\nLINE 1: ...a=\\'\\',numeroradicadoportico=\\'re2210201716576\\' where id=\\'none\\'\\n                                                                 ^\\n',\n",
       "  'expediente_padre': '',\n",
       "  'id': 'none',\n",
       "  'num_decision': '',\n",
       "  'radication_RE': 're2210201716576',\n",
       "  'resolucion': 'modificar',\n",
       "  'sspd': '20178200479175',\n",
       "  'sspd_fecha': '1511'},\n",
       " {'date_decision': ' 14 julio 2017 ',\n",
       "  'date_radication_re': '11 julio 2017',\n",
       "  'error': 'Error invalid input syntax for integer: \"none\"\\nLINE 1: ...210\\',numeroradicadoportico=\\'re3110201723077\\' where id=\\'none\\'\\n                                                                 ^\\n',\n",
       "  'expediente_padre': '',\n",
       "  'id': 'none',\n",
       "  'num_decision': '5099210',\n",
       "  'radication_RE': 're3110201723077',\n",
       "  'resolucion': 'revocar',\n",
       "  'sspd': '20178200479045',\n",
       "  'sspd_fecha': '15'},\n",
       " {'date_decision': ' 21 julio 2017 ',\n",
       "  'date_radication_re': '',\n",
       "  'error': 'Error invalid input syntax for integer: \"none\"\\nLINE 1: ...mpresaeca=\\'5116594\\',numeroradicadoportico=\\'\\' where id=\\'none\\'\\n                                                                 ^\\n',\n",
       "  'expediente_padre': '20178201051872',\n",
       "  'id': 'none',\n",
       "  'num_decision': '5116594',\n",
       "  'radication_RE': '',\n",
       "  'resolucion': 'confirmar',\n",
       "  'sspd': '20178200393395',\n",
       "  'sspd_fecha': ''},\n",
       " {'date_decision': ' ',\n",
       "  'date_radication_re': '09 junio 2017',\n",
       "  'error': 'Error invalid input syntax for integer: \"none\"\\nLINE 1: ...a=\\'\\',numeroradicadoportico=\\'re1120201722590\\' where id=\\'none\\'\\n                                                                 ^\\n',\n",
       "  'expediente_padre': '20178201055392',\n",
       "  'id': 'none',\n",
       "  'num_decision': '',\n",
       "  'radication_RE': 're1120201722590',\n",
       "  'resolucion': 'confirmar',\n",
       "  'sspd': '20178200393225',\n",
       "  'sspd_fecha': '01'},\n",
       " {'date_decision': ' 29 junio 2017 ',\n",
       "  'date_radication_re': '23 junio 2017',\n",
       "  'error': 'Error invalid input syntax for integer: \"none\"\\nLINE 1: ...536\\',numeroradicadoportico=\\'re3110201724706\\' where id=\\'none\\'\\n                                                                 ^\\n',\n",
       "  'expediente_padre': '',\n",
       "  'id': 'none',\n",
       "  'num_decision': '5055536',\n",
       "  'radication_RE': 're3110201724706',\n",
       "  'resolucion': 'modificar',\n",
       "  'sspd': '',\n",
       "  'sspd_fecha': ''},\n",
       " {'date_decision': ' ',\n",
       "  'date_radication_re': '18 julio 2017',\n",
       "  'error': 'Error invalid input syntax for integer: \"none\"\\nLINE 1: ...a=\\'\\',numeroradicadoportico=\\'re3410201714994\\' where id=\\'none\\'\\n                                                                 ^\\n',\n",
       "  'expediente_padre': '',\n",
       "  'id': 'none',\n",
       "  'num_decision': '',\n",
       "  'radication_RE': 're3410201714994',\n",
       "  'resolucion': 'confirmar',\n",
       "  'sspd': '20178200479075',\n",
       "  'sspd_fecha': '15'},\n",
       " {'date_decision': ' 28 febrero 2017 ',\n",
       "  'date_radication_re': '15 febrero 2017',\n",
       "  'error': 'Error invalid input syntax for integer: \"none\"\\nLINE 1: ...949\\',numeroradicadoportico=\\'re1170201705649\\' where id=\\'none\\'\\n                                                                 ^\\n',\n",
       "  'expediente_padre': '',\n",
       "  'id': 'none',\n",
       "  'num_decision': '4696949',\n",
       "  'radication_RE': 're1170201705649',\n",
       "  'resolucion': 'modificar',\n",
       "  'sspd': '20178200479135',\n",
       "  'sspd_fecha': '151122017'},\n",
       " {'date_decision': ' 14 julio 2017 ',\n",
       "  'date_radication_re': '05 julio 2017',\n",
       "  'error': 'Error invalid input syntax for integer: \"none\"\\nLINE 1: ...666\\',numeroradicadoportico=\\'re1110201726206\\' where id=\\'none\\'\\n                                                                 ^\\n',\n",
       "  'expediente_padre': '',\n",
       "  'id': 'none',\n",
       "  'num_decision': '5087666',\n",
       "  'radication_RE': 're1110201726206',\n",
       "  'resolucion': 'modificar',\n",
       "  'sspd': '20176200476965',\n",
       "  'sspd_fecha': '151'},\n",
       " {'date_decision': ' ',\n",
       "  'date_radication_re': '13 junio 2017',\n",
       "  'error': 'Error invalid input syntax for integer: \"none\"\\nLINE 1: ...a=\\'\\',numeroradicadoportico=\\'re1110201723149\\' where id=\\'none\\'\\n                                                                 ^\\n',\n",
       "  'expediente_padre': '20178201055852',\n",
       "  'id': 'none',\n",
       "  'num_decision': '',\n",
       "  'radication_RE': 're1110201723149',\n",
       "  'resolucion': 'confirmar',\n",
       "  'sspd': '20178200393215',\n",
       "  'sspd_fecha': '01'},\n",
       " {'date_decision': ' 10 marzo 2017 ',\n",
       "  'date_radication_re': '27 febrero 2017',\n",
       "  'error': 'Error invalid input syntax for integer: \"none\"\\nLINE 1: ...774\\',numeroradicadoportico=\\'re9411201701467\\' where id=\\'none\\'\\n                                                                 ^\\n',\n",
       "  'expediente_padre': '',\n",
       "  'id': 'none',\n",
       "  'num_decision': '4727774',\n",
       "  'radication_RE': 're9411201701467',\n",
       "  'resolucion': 'modificar',\n",
       "  'sspd': '20178200479165',\n",
       "  'sspd_fecha': '1511'},\n",
       " {'date_decision': ' ',\n",
       "  'date_radication_re': '30 mayo 2017',\n",
       "  'error': 'Error invalid input syntax for integer: \"none\"\\nLINE 1: ...\\'12\\',numeroradicadoportico=\\'re4110201705795\\' where id=\\'none\\'\\n                                                                 ^\\n',\n",
       "  'expediente_padre': '',\n",
       "  'id': 'none',\n",
       "  'num_decision': '12',\n",
       "  'radication_RE': 're4110201705795',\n",
       "  'resolucion': 'modificar',\n",
       "  'sspd': '',\n",
       "  'sspd_fecha': ''}]"
      ]
     },
     "execution_count": 6,
     "metadata": {},
     "output_type": "execute_result"
    }
   ],
   "source": [
    "from extractField import extractField\n",
    "obj_test = extractField('/home/jhonex/document_e1/',databese_info)\n",
    "obj_test.organizeDocs()\n",
    "obj_test.cleanDocs()\n",
    "obj_test.extractFields()"
   ]
  },
  {
   "cell_type": "markdown",
   "metadata": {},
   "source": [
    "### shooter Extractor field"
   ]
  },
  {
   "cell_type": "code",
   "execution_count": 7,
   "metadata": {},
   "outputs": [
    {
     "ename": "NameError",
     "evalue": "name 'conect_datbase' is not defined",
     "output_type": "error",
     "traceback": [
      "\u001b[0;31m---------------------------------------------------------------------------\u001b[0m",
      "\u001b[0;31mNameError\u001b[0m                                 Traceback (most recent call last)",
      "\u001b[0;32m<ipython-input-7-760036372047>\u001b[0m in \u001b[0;36m<module>\u001b[0;34m()\u001b[0m\n\u001b[1;32m      1\u001b[0m \u001b[0mflag\u001b[0m \u001b[0;34m=\u001b[0m \u001b[0;32mTrue\u001b[0m\u001b[0;34m\u001b[0m\u001b[0m\n\u001b[1;32m      2\u001b[0m \u001b[0;32mwhile\u001b[0m \u001b[0mflag\u001b[0m\u001b[0;34m:\u001b[0m\u001b[0;34m\u001b[0m\u001b[0m\n\u001b[0;32m----> 3\u001b[0;31m     \u001b[0mcn\u001b[0m \u001b[0;34m=\u001b[0m \u001b[0mconect_datbase\u001b[0m\u001b[0;34m(\u001b[0m\u001b[0mdatabese_info\u001b[0m\u001b[0;34m)\u001b[0m\u001b[0;34m\u001b[0m\u001b[0m\n\u001b[0m\u001b[1;32m      4\u001b[0m     \u001b[0mcur\u001b[0m \u001b[0;34m=\u001b[0m \u001b[0mcn\u001b[0m\u001b[0;34m.\u001b[0m\u001b[0mcursor\u001b[0m\u001b[0;34m(\u001b[0m\u001b[0;34m)\u001b[0m\u001b[0;34m\u001b[0m\u001b[0m\n\u001b[1;32m      5\u001b[0m     \u001b[0;32mtry\u001b[0m\u001b[0;34m:\u001b[0m\u001b[0;34m\u001b[0m\u001b[0m\n",
      "\u001b[0;31mNameError\u001b[0m: name 'conect_datbase' is not defined"
     ]
    }
   ],
   "source": [
    "flag = True\n",
    "while flag:\n",
    "    cn = conect_datbase(databese_info)\n",
    "    cur = cn.cursor()\n",
    "    try:\n",
    "        cur.execute('select * from businesscase where botstate is null')\n",
    "      \n",
    "    except psycopg2.DatabaseError as de:\n",
    "        print(\"don't worry, i continue->\",de)\n",
    "                \n",
    "    finally:\n",
    "        if cn:\n",
    "            cn.close()\n",
    "    \n",
    "    "
   ]
  },
  {
   "cell_type": "code",
   "execution_count": null,
   "metadata": {},
   "outputs": [],
   "source": []
  },
  {
   "cell_type": "code",
   "execution_count": null,
   "metadata": {},
   "outputs": [],
   "source": []
  },
  {
   "cell_type": "code",
   "execution_count": null,
   "metadata": {},
   "outputs": [],
   "source": [
    "def update_casoentescontrol(self,json):\n",
    "        try:\n",
    "            cur.execute(\"update businesscase set description={0}, botstate={1} where id={2}\".format(json['date_decision'],1,json['id']))\n",
    "            self.cn.commit()\n",
    "            id_bu = cur.fetchall()\n",
    "            if id_bu:\n",
    "                json['id'] = str(id_bu[0][0])\n",
    "        except psycopg2.DatabaseError as de:\n",
    "             json['error']= psycopg2.DatabaseError\n",
    "    \n",
    "    def update_casoentescontrol(self,json):\n",
    "        self.cn = self.conect_datbase(self.database)\n",
    "        cur = self.cn.cursor()\n",
    "        try:\n",
    "            cur.execute(\"UPDATE casoentescontrol SET  documentoantecesor=%s,numerodecisionempresaeca=%s, numeroradicadoportico=%s WHERE id=%s\",\n",
    "            (json['expediente_padre'],json['num_decision'],json['radication_RE'],json['id']))\n",
    "            self.cn.commit()\n",
    "        except psycopg2.DatabaseError as de:\n",
    "             json['error']= psycopg2.DatabaseError               \n",
    "        finally:\n",
    "            if self.cn:\n",
    "                self.cn.close()"
   ]
  },
  {
   "cell_type": "code",
   "execution_count": null,
   "metadata": {},
   "outputs": [],
   "source": []
  },
  {
   "cell_type": "code",
   "execution_count": null,
   "metadata": {},
   "outputs": [],
   "source": []
  },
  {
   "cell_type": "code",
   "execution_count": null,
   "metadata": {},
   "outputs": [],
   "source": []
  },
  {
   "cell_type": "code",
   "execution_count": null,
   "metadata": {},
   "outputs": [],
   "source": []
  }
 ],
 "metadata": {
  "kernelspec": {
   "display_name": "Python 3",
   "language": "python",
   "name": "python3"
  },
  "language_info": {
   "codemirror_mode": {
    "name": "ipython",
    "version": 3
   },
   "file_extension": ".py",
   "mimetype": "text/x-python",
   "name": "python",
   "nbconvert_exporter": "python",
   "pygments_lexer": "ipython3",
   "version": "3.5.4"
  }
 },
 "nbformat": 4,
 "nbformat_minor": 2
}
