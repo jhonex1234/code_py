{
 "cells": [
  {
   "cell_type": "markdown",
   "metadata": {},
   "source": [
    "## source_Extract_Field_class"
   ]
  },
  {
   "cell_type": "code",
   "execution_count": 1,
   "metadata": {},
   "outputs": [],
   "source": [
    "# -*- coding: utf-8 -*-\n",
    "from glob import glob\n",
    "import nltk \n",
    "from nltk import tokenize\n",
    "from nltk.corpus import stopwords\n",
    "import numpy as np\n",
    "import pandas as pd\n",
    "import re\n",
    "from time import time\n",
    "from unicodedata import normalize\n",
    "pd.set_option('display.max_colwidth',-1)"
   ]
  },
  {
   "cell_type": "code",
   "execution_count": 163,
   "metadata": {},
   "outputs": [],
   "source": [
    "import json\n",
    "import psycopg2\n",
    "import pg\n",
    "from datetime import datetime"
   ]
  },
  {
   "cell_type": "code",
   "execution_count": 3,
   "metadata": {},
   "outputs": [],
   "source": [
    "field = {\n",
    "      \"date_decision\": \" 21 julio 2017 \", \n",
    "      \"date_radication_re\": \"\", \n",
    "      \"expediente_padre\": \"20178201051872\", \n",
    "      \"num_decision\": \"5116594\", \n",
    "      \"radication_RE\": \"\", \n",
    "      \"resolucion\": \"confirmar\", \n",
    "      \"sspd\": \"20178200393395\", \n",
    "      \"sspd_fecha\": \"01112017\"\n",
    "}\n",
    "databese_info={\n",
    "             'localhost':'localhost',\n",
    "             'user':'postgres',\n",
    "             'pass':'',\n",
    "             'db':'pqr_electricaribe'\n",
    "}"
   ]
  },
  {
   "cell_type": "code",
   "execution_count": 164,
   "metadata": {},
   "outputs": [],
   "source": [
    "class TypeDataBase():\n",
    "    def __init__(self,json_db):\n",
    "        self.database = json_db\n",
    "        self.cn = ''\n",
    "        self.conect_datbase(json_db)\n",
    "    def conect_datbase(self,json_db):\n",
    "        try:\n",
    "            self.cn = psycopg2.connect(\"dbname= \"\n",
    "                                  +json_db['db']+\n",
    "                                  \" user= \"\n",
    "                                  +json_db['user']+\n",
    "                                  \" host= \"\n",
    "                                  +json_db['localhost']+\n",
    "                                  \" password= \"\n",
    "                                  +json_db['pass']+\" \")\n",
    "        except psycopg2.DatabaseError as de:\n",
    "            if self.cn:\n",
    "                self.cn.rollback()\n",
    "                print('Error %s'%de)\n",
    "        return self.cn\n",
    "       \n",
    "    def serch_id(self,json):\n",
    "        self.cn = self.conect_datbase(self.database)\n",
    "        cur = self.cn.cursor()\n",
    "        try:\n",
    "            cur.execute(\"select id from businesscase where serial='\"+json['sspd']+\"'\")\n",
    "            id_bu = cur.fetchall()\n",
    "            if id_bu:\n",
    "                json['id'] = id_bu[0][0]\n",
    "                curup = self.cn.cursor()\n",
    "            try:\n",
    "                month = {'enero':'Jan','febrero':'feb','marzo':'mar','abril':'apr','mayo':'may'\n",
    "                         ,'junio':'jun','julio':'jul','agosto':'aug','septiembre':'Sep','octubre':'oct',\n",
    "                         'noviembre':'nov','diciembre':'dec'}\n",
    "                date = json['date_decision']\n",
    "                date = tokenize.word_tokenize(date)\n",
    "                mes = date[1]\n",
    "                date = date[0]+' '+month[mes]+' '+date[2]\n",
    "                \n",
    "                cur.execute(\"update businesscase set description=%s  where serial=%s\"\n",
    "                            ,((datetime.strptime(temp,'%d %b %Y')),json['sspd']))\n",
    "                self.cn.commit()\n",
    "                id_bu = curup.fetchall()\n",
    "                if id_bu:\n",
    "                    json['id'] = str(id_bu[0][0])\n",
    "            except psycopg2.DatabaseError as de:\n",
    "                if self.cn:\n",
    "                    cur=''    \n",
    "        except psycopg2.DatabaseError as de:\n",
    "            if self.cn:\n",
    "                cur=''\n",
    "        finally:\n",
    "            if self.cn:\n",
    "                self.cn.close()\n",
    "        return json\n",
    "    def update_casoentescontrol(self,json):\n",
    "        self.cn = self.conect_datbase(self.database)\n",
    "        cur = self.cn.cursor()\n",
    "        try:\n",
    "            try:\n",
    "                cur.execute(\"UPDATE public.casoentescontrol SET  documentoantecesor=%s,numerodecisionempresaeca=%s, numeroradicadoportico=%s WHERE id=%s\",\n",
    "                (json['expediente_padre'],json['num_decision'],json['radication_RE'],json['id']))\n",
    "                self.cn.commit()\n",
    "            except KeyError as k:\n",
    "                if self.cn:\n",
    "                    cur=''\n",
    "        except psycopg2.DatabaseError as de:\n",
    "            if self.cn:\n",
    "                cur = ''                \n",
    "        finally:\n",
    "            if self.cn:\n",
    "                self.cn.close()\n"
   ]
  },
  {
   "cell_type": "code",
   "execution_count": 165,
   "metadata": {},
   "outputs": [],
   "source": [
    "json_ca = {\"date_decision\": \" 16 junio 2017 \", \"date_radication_re\": \"05 julio 2017\", \n",
    "      \"expediente_padre\": \"20178201055872\",\"num_decision\": \"5020051\", \n",
    "      \"radication_RE\": \"re1110201723181\", \"resolucion\": \"confirmar\", \n",
    "      \"sspd\": \"20178200393205\", \"sspd_fecha\": \"01112017\"}   \n",
    "objDataBase = TypeDataBase(databese_info)\n",
    "id_json = objDataBase.serch_id(json_ca)\n",
    "objDataBase.update_casoentescontrol(json_ca)"
   ]
  },
  {
   "cell_type": "code",
   "execution_count": 166,
   "metadata": {},
   "outputs": [
    {
     "ename": "AttributeError",
     "evalue": "type object 'datetime.datetime' has no attribute 'datetime'",
     "output_type": "error",
     "traceback": [
      "\u001b[0;31m--------------------------------------------------------------------------\u001b[0m",
      "\u001b[0;31mAttributeError\u001b[0m                           Traceback (most recent call last)",
      "\u001b[0;32m<ipython-input-166-b4e4e3cc0875>\u001b[0m in \u001b[0;36m<module>\u001b[0;34m()\u001b[0m\n\u001b[1;32m      6\u001b[0m \u001b[0mmes\u001b[0m \u001b[0;34m=\u001b[0m \u001b[0mdate\u001b[0m\u001b[0;34m[\u001b[0m\u001b[0;36m1\u001b[0m\u001b[0;34m]\u001b[0m\u001b[0;34m\u001b[0m\u001b[0m\n\u001b[1;32m      7\u001b[0m \u001b[0mtemp\u001b[0m \u001b[0;34m=\u001b[0m \u001b[0mdate\u001b[0m\u001b[0;34m[\u001b[0m\u001b[0;36m0\u001b[0m\u001b[0;34m]\u001b[0m\u001b[0;34m+\u001b[0m\u001b[0;34m' '\u001b[0m\u001b[0;34m+\u001b[0m\u001b[0mmonth\u001b[0m\u001b[0;34m[\u001b[0m\u001b[0mmes\u001b[0m\u001b[0;34m]\u001b[0m\u001b[0;34m+\u001b[0m\u001b[0;34m' '\u001b[0m\u001b[0;34m+\u001b[0m\u001b[0mdate\u001b[0m\u001b[0;34m[\u001b[0m\u001b[0;36m2\u001b[0m\u001b[0;34m]\u001b[0m\u001b[0;34m\u001b[0m\u001b[0m\n\u001b[0;32m----> 8\u001b[0;31m \u001b[0mfecha\u001b[0m \u001b[0;34m=\u001b[0m \u001b[0mdatetime\u001b[0m\u001b[0;34m.\u001b[0m\u001b[0mdatetime\u001b[0m\u001b[0;34m.\u001b[0m\u001b[0mstrptime\u001b[0m\u001b[0;34m(\u001b[0m\u001b[0mtemp\u001b[0m\u001b[0;34m,\u001b[0m\u001b[0;34m'%d %b %Y'\u001b[0m\u001b[0;34m)\u001b[0m\u001b[0;34m\u001b[0m\u001b[0m\n\u001b[0m",
      "\u001b[0;31mAttributeError\u001b[0m: type object 'datetime.datetime' has no attribute 'datetime'"
     ]
    }
   ],
   "source": [
    "month = {'enero':'Jan','febrero':'feb','marzo':'mar','abril':'apr','mayo':'may'\n",
    "         ,'junio':'jun','julio':'jul','agosto':'aug','septiembre':'Sep','octubre':'oct',\n",
    "         'noviembre':'nov','diciembre':'dec'}\n",
    "date='05 junio 2017' \n",
    "date=tokenize.word_tokenize(date)\n",
    "mes = date[1]\n",
    "temp = date[0]+' '+month[mes]+' '+date[2]\n",
    "fecha = datetime.datetime.strptime(temp,'%d %b %Y')"
   ]
  },
  {
   "cell_type": "markdown",
   "metadata": {},
   "source": [
    "## Class_Extract_Field"
   ]
  },
  {
   "cell_type": "code",
   "execution_count": 118,
   "metadata": {},
   "outputs": [],
   "source": [
    "class extractField():\n",
    "\n",
    "    def __init__(self,filelist,json_database):\n",
    "        self.filelist = glob(filelist+'*.txt')\n",
    "        self.database = json_database\n",
    "        \n",
    "    def organizeDocs(self):\n",
    "        letters = []\n",
    "        if self.filelist:\n",
    "            for file in self.filelist:\n",
    "                #apertura de todos los documentos que concuerden con la condicion\n",
    "                with open(file, 'r') as txtfile:\n",
    "                    letters.append((tokenize.word_tokenize(txtfile.read()), re.match('.*/(.*)-.*', file).group(1)))  \n",
    "            letters = pd.DataFrame(letters, columns=['Text', 'Name'])\n",
    "            letters = pd.DataFrame([(np.concatenate(letters[letters.Name == name].Text.values), name) \n",
    "                                    for name in letters.Name.unique()], columns=['Text', 'Name'])\n",
    "            self.filelist = letters\n",
    "        else:\n",
    "            print('not found file txt')\n",
    "        return self.filelist\n",
    "    \n",
    "    def cleanDocs(self):\n",
    "        start = time()\n",
    "        clean_letters = []\n",
    "        letters = self.filelist   \n",
    "        try:\n",
    "            for _, letter in letters.iterrows():\n",
    "            #proceso de normalizacion\n",
    "                words = [normalize('NFKD', word.lower()).encode('ascii', 'ignore').decode('utf-8')\n",
    "                         for word in letter['Text']]\n",
    "                # is alphabetic character, not is a stopword, not is a custom word, has at least three letters, \n",
    "                # has at least one vowel, has at least one consonant\n",
    "                words = [word for word in words if word not in stopwords.words('spanish')]\n",
    "                clean_letters.append(' '.join(words))\n",
    "            #impresion de tiempo de ejecucion\n",
    "            print('Cleaning took %.2f seconds' % (time() - start))\n",
    "            clean_letters = pd.DataFrame(clean_letters)\n",
    "            self.filelist.insert(1,'CleanText', clean_letters)\n",
    "        except ValueError and AttributeError:\n",
    "            print('verify route')\n",
    "            \n",
    "        return self.filelist\n",
    "        \n",
    "    def extractFields(self):\n",
    "        nom_ar=0\n",
    "        list_doc=[]\n",
    "        letters = self.filelist\n",
    "        while (nom_ar<=(len(letters)-1)):\n",
    "            cleanText = re.sub('[^\\w\\s]', '', letters[letters.Name == letters['Name'][nom_ar]].CleanText.values[0])\n",
    "            nom_ar=nom_ar+1\n",
    "\n",
    "            search_result  = re.findall('\\s*resuelve\\s*articulo\\s*(primero|1)\\s*(\\w*)', cleanText)\n",
    "            # number sspd\n",
    "            val_sspd=set(re.findall('\\s*sspd\\s(\\d{14})\\s+|$', cleanText))\n",
    "            #date sspd\n",
    "            val_sspd_fe=set(re.findall('sspd\\s*\\d*\\sfecha\\s*(\\d*\\S*|\\d)', cleanText))\n",
    "            #expedient\n",
    "            val_expedient=set(re.findall('\\s(\\d*\\e)\\s', cleanText))  \n",
    "            #expedient father\n",
    "            val_expedient_father=set(re.findall('radicado\\spadre\\s(\\d{14})\\s+|$', cleanText))\n",
    "            #number solve of decision \n",
    "            val_solve_decision=re.findall('\\s*resuelve\\s*articulo\\s*(primero|1)\\s*\\w*\\s*decision\\s*(administrativa| )\\s*(no|n0| )(\\d*)\\s+|$', cleanText)\n",
    "            #date decision\n",
    "            val_decision_fe= re.findall('\\s*resuelve\\s*articulo\\s*(primero|1)\\s*\\w*\\s*decision\\s*(administrativa| )\\s*(no|n0| )\\d*(\\s*\\d*\\s\\w*\\s\\d*\\s\\d*)+|$', cleanText)\n",
    "            # number_RE\n",
    "            val_number_re=set(re.findall('(no|n0| )\\s*(re\\d*)\\s+|$', cleanText)) \n",
    "            # RE_date\n",
    "            val_re_fe=re.findall('(no|n0| )\\s*re\\d*\\s(\\d{2}\\s\\w*\\s\\d{4})+|$',cleanText)\n",
    "\n",
    "            dc = {'resolucion':search_result[0][1],\n",
    "                          'sspd' : list(val_sspd)[1],\n",
    "                          'sspd_fecha' : list(val_sspd_fe)[0],\n",
    "                          'expediente_padre' : list(val_expedient_father)[1], \n",
    "                          'num_decision':list(val_solve_decision)[0][3],\n",
    "                          'date_decision' :list(val_decision_fe)[0][3],\n",
    "                          'radication_RE':list(val_number_re)[0][1],\n",
    "                          'date_radication_re':list(val_re_fe)[0][1]}\n",
    "             #save registry one to one\n",
    "            list_doc.append(dc)\n",
    "            #objDataBase = TypeDataBase(self.database)\n",
    "            #id_json = objDataBase.serch_id(dc)\n",
    "            #objDataBase.update_casoentescontrol(id_json)\n",
    "    #add the list_doc to attribute of class     \n",
    "        #letters.insert(1, 'dictionaryDoc', list_doc)\n",
    "       # self.filelist = letters\n",
    "        return list_doc\n",
    "    "
   ]
  },
  {
   "cell_type": "code",
   "execution_count": 119,
   "metadata": {},
   "outputs": [
    {
     "name": "stdout",
     "output_type": "stream",
     "text": [
      "Cleaning took 8.37 seconds\n"
     ]
    },
    {
     "data": {
      "text/plain": [
       "[{'date_decision': ' 16 junio 2017 ',\n",
       "  'date_radication_re': '05 julio 2017',\n",
       "  'expediente_padre': '20178201055872',\n",
       "  'num_decision': '5020051',\n",
       "  'radication_RE': 're1110201723181',\n",
       "  'resolucion': 'confirmar',\n",
       "  'sspd': '20178200393205',\n",
       "  'sspd_fecha': '01112017'},\n",
       " {'date_decision': ' re1110201722568 11 ',\n",
       "  'date_radication_re': '11 julio 2017',\n",
       "  'expediente_padre': '20178201055352',\n",
       "  'num_decision': '',\n",
       "  'radication_RE': '',\n",
       "  'resolucion': 'confirmar',\n",
       "  'sspd': '20178200393245',\n",
       "  'sspd_fecha': '01112017'},\n",
       " {'date_decision': ' 21 julio 2017 ',\n",
       "  'date_radication_re': '',\n",
       "  'expediente_padre': '20178201051872',\n",
       "  'num_decision': '5116594',\n",
       "  'radication_RE': '',\n",
       "  'resolucion': 'confirmar',\n",
       "  'sspd': '20178200393395',\n",
       "  'sspd_fecha': '01112017'},\n",
       " {'date_decision': ' re1120201722590 22 ',\n",
       "  'date_radication_re': '09 junio 2017',\n",
       "  'expediente_padre': '20178201055392',\n",
       "  'num_decision': '',\n",
       "  'radication_RE': '',\n",
       "  'resolucion': 'confirmar',\n",
       "  'sspd': '20178200393225',\n",
       "  'sspd_fecha': '01112017'},\n",
       " {'date_decision': ' re1110201723149 13 ',\n",
       "  'date_radication_re': '13 junio 2017',\n",
       "  'expediente_padre': '',\n",
       "  'num_decision': '',\n",
       "  'radication_RE': 're1110201723149',\n",
       "  'resolucion': 'confirmar',\n",
       "  'sspd': '20178200393215',\n",
       "  'sspd_fecha': '01112017'}]"
      ]
     },
     "execution_count": 119,
     "metadata": {},
     "output_type": "execute_result"
    }
   ],
   "source": [
    "obj_test = extractField('/home/jhonex/document_e/',databese_info)\n",
    "obj_test.organizeDocs()\n",
    "obj_test.cleanDocs()\n",
    "obj_test.extractFields()"
   ]
  },
  {
   "cell_type": "code",
   "execution_count": 105,
   "metadata": {},
   "outputs": [],
   "source": [
    "di={}"
   ]
  },
  {
   "cell_type": "code",
   "execution_count": 130,
   "metadata": {},
   "outputs": [],
   "source": [
    "di = 'resuelve articulo primero decision administrativa no 1221 dsad 122 212'"
   ]
  },
  {
   "cell_type": "code",
   "execution_count": 131,
   "metadata": {},
   "outputs": [],
   "source": [
    "dic = re.findall('\\s*resuelve\\s*articulo\\s*(primero|1)\\s*\\w*\\s*decision\\s*(administrativa| )\\s*(no|n0| )\\d*(\\s*\\d*\\s\\w*\\s\\d*\\s\\d*)',di)"
   ]
  },
  {
   "cell_type": "code",
   "execution_count": 132,
   "metadata": {},
   "outputs": [
    {
     "data": {
      "text/plain": [
       "[('primero', 'administrativa', 'no', ' 1221 dsad 122 212')]"
      ]
     },
     "execution_count": 132,
     "metadata": {},
     "output_type": "execute_result"
    }
   ],
   "source": [
    "dic"
   ]
  },
  {
   "cell_type": "code",
   "execution_count": null,
   "metadata": {},
   "outputs": [],
   "source": []
  }
 ],
 "metadata": {
  "kernelspec": {
   "display_name": "Python 3",
   "language": "python",
   "name": "python3"
  },
  "language_info": {
   "codemirror_mode": {
    "name": "ipython",
    "version": 3
   },
   "file_extension": ".py",
   "mimetype": "text/x-python",
   "name": "python",
   "nbconvert_exporter": "python",
   "pygments_lexer": "ipython3",
   "version": "3.5.4"
  }
 },
 "nbformat": 4,
 "nbformat_minor": 2
}
