{
 "cells": [
  {
   "cell_type": "code",
   "execution_count": 1,
   "metadata": {},
   "outputs": [],
   "source": [
    "import mysql.connector as db\n",
    "import csv, operator\n",
    "import json"
   ]
  },
  {
   "cell_type": "code",
   "execution_count": 3,
   "metadata": {},
   "outputs": [],
   "source": [
    "def dialogo(estado,intento,msjg):\n",
    "    msj='cambio de estado'\n",
    "    entrega=[]\n",
    "    entrega.append(estado)\n",
    "    entrega.append(intento)\n",
    "    entrega.append(msj)\n",
    "    return entrega\n"
   ]
  },
  {
   "cell_type": "code",
   "execution_count": 2,
   "metadata": {},
   "outputs": [],
   "source": [
    "def gestion_id(id_ex, activate_id, mensaje):\n",
    "    #apertura archivo .json\n",
    "    with open('identifiers.json', 'r') as jsonfile:\n",
    "        #almacenamiento de lectura en diccionario\n",
    "        id_all = json.load(jsonfile)\n",
    "    # condicional de existencia de id en archivo\n",
    "    if id_ex in id_all:\n",
    "        # condicional de actividad de id \n",
    "        if activate_id:\n",
    "            # llamado del metodo de juan\n",
    "            listJ = dialogo(id_all[id_ex][0], id_all[id_ex][1], mensaje)\n",
    "            #cambio de valores\n",
    "            id_all[id_ex] = [listJ[0], listJ[1]]\n",
    "            #recepción de mensaje\n",
    "            mensaje = listJ[2] \n",
    "        else:\n",
    "            #elliminación de id \n",
    "            id_all.pop(id_ex)\n",
    "            mensaje = 'id eliminado'\n",
    "    else:\n",
    "        #agregación de ide en archivo\n",
    "        id_all[id_ex] = ['s1', 0]\n",
    "        mensaje = 'id agregado'\n",
    "        #almacenamiento de diccionario\n",
    "    with open('identifiers.json', 'w') as jsonfile:\n",
    "        json.dump(id_all, jsonfile)\n",
    "    \n",
    "    return mensaje    \n"
   ]
  },
  {
   "cell_type": "code",
   "execution_count": 4,
   "metadata": {},
   "outputs": [],
   "source": [
    "lista={'true':1,'false':2}"
   ]
  },
  {
   "cell_type": "code",
   "execution_count": 5,
   "metadata": {},
   "outputs": [
    {
     "data": {
      "text/plain": [
       "False"
      ]
     },
     "execution_count": 5,
     "metadata": {},
     "output_type": "execute_result"
    }
   ],
   "source": [
    "d ='d' in lista\n",
    "d"
   ]
  },
  {
   "cell_type": "code",
   "execution_count": 9,
   "metadata": {},
   "outputs": [
    {
     "data": {
      "text/plain": [
       "'id eliminado'"
      ]
     },
     "execution_count": 9,
     "metadata": {},
     "output_type": "execute_result"
    }
   ],
   "source": [
    "gestion_id('b',False,'hola necesito...')"
   ]
  },
  {
   "cell_type": "code",
   "execution_count": 10,
   "metadata": {},
   "outputs": [
    {
     "data": {
      "text/plain": [
       "{'a000': ['s1', 0],\n",
       " 'a001': ['s1', 0],\n",
       " 'a0010': ['s1', 0],\n",
       " 'a002': ['s2', 1],\n",
       " 'a003': ['s3', 3],\n",
       " 'a009': ['s1', 0]}"
      ]
     },
     "execution_count": 10,
     "metadata": {},
     "output_type": "execute_result"
    }
   ],
   "source": [
    " #apertura archivo .json\n",
    "with open('identifiers.json', 'r') as jsonfile:\n",
    "    #almacenamiento de lectura en diccionario\n",
    "    id_all = json.load(jsonfile)\n",
    "id_all"
   ]
  },
  {
   "cell_type": "code",
   "execution_count": null,
   "metadata": {},
   "outputs": [],
   "source": []
  }
 ],
 "metadata": {
  "kernelspec": {
   "display_name": "Python 3",
   "language": "python",
   "name": "python3"
  },
  "language_info": {
   "codemirror_mode": {
    "name": "ipython",
    "version": 3
   },
   "file_extension": ".py",
   "mimetype": "text/x-python",
   "name": "python",
   "nbconvert_exporter": "python",
   "pygments_lexer": "ipython3",
   "version": "3.5.4"
  }
 },
 "nbformat": 4,
 "nbformat_minor": 2
}
