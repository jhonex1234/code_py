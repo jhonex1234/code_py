{
 "cells": [
  {
   "cell_type": "code",
   "execution_count": 1,
   "metadata": {},
   "outputs": [],
   "source": [
    "from imutils.video import VideoStream\n",
    "import argparse\n",
    "import imutils\n",
    "import time\n",
    "import cv2\n",
    "import os"
   ]
  },
  {
   "cell_type": "code",
   "execution_count": 4,
   "metadata": {},
   "outputs": [],
   "source": [
    "face_cascade = cv2.CascadeClassifier('/home/jhonex/Documents/project_enroll/com_resource_flask/haarcascade_frontalface_default.xml')\n",
    "\n",
    "class VideoCamera(object):\n",
    "    def __init__(self):\n",
    "        self.video = cv2.VideoCapture(0)\n",
    "        self.frames = {}\n",
    "    def __del__(self):\n",
    "        self.video.release()\n",
    "\n",
    "    def get_frame(self):\n",
    "        success, image = self.video.read()\n",
    "        sendFrame = image\n",
    "        faces = face_cascade.detectMultiScale(image, 1.3, 5)\n",
    "        for (x, y, w, h) in faces:\n",
    "            cv2.rectangle(image, (x, y), (x + w, y + h), (0, 255, 0), 2)\n",
    "              \n",
    "        ret, jpeg = cv2.imencode('.jpg', image)\n",
    "        self.frames = {\"frame_to\":jpeg.tobytes(),\"frame_save\":sendFrame,\"frame_quick\":image}\n",
    "        return self.frames\n",
    "\n",
    "    def stopCamera(self):\n",
    "        self.video.release()\n",
    "    \n",
    "    def initVideo(self):\n",
    "        self.video = cv2.VideoCapture(0)\n",
    "        "
   ]
  },
  {
   "cell_type": "code",
   "execution_count": 6,
   "metadata": {},
   "outputs": [],
   "source": [
    "cout = 0\n",
    "ass = VideoCamera()\n",
    "time.sleep(2.0)\n",
    "while True:\n",
    "    cv2.imshow(\"Frame\", ass.get_frame()['frame_quick'])\n",
    "    key = cv2.waitKey(1) & 0xFF\n",
    "    if cout == 100:\n",
    "        cv2.destroyAllWindows()\n",
    "        ass.stopCamera()\n",
    "        break\n",
    "    cout += 1\n"
   ]
  },
  {
   "cell_type": "code",
   "execution_count": null,
   "metadata": {},
   "outputs": [],
   "source": [
    "def record_status():\n",
    "    global video_camera \n",
    "    if video_camera == None:\n",
    "        video_camera = VideoCamera()\n",
    "\n",
    "    json = request.get_json()\n",
    "\n",
    "    status = json['status']\n",
    "\n",
    "    if status == \"true\":\n",
    "        video_camera.start_record()\n",
    "        return jsonify(result=\"started\")\n",
    "    else:\n",
    "        video_camera.stop_record()\n",
    "        return jsonify(result=\"stopped\")\n"
   ]
  },
  {
   "cell_type": "code",
   "execution_count": null,
   "metadata": {},
   "outputs": [],
   "source": [
    "import cv2\n",
    "import time\n",
    "video = cv2.VideoCapture(0)\n",
    "cout = 0\n",
    "face_cascade = cv2.CascadeClassifier('/home/jhonex/Documents/project_enroll/com_resource_flask/haarcascade_frontalface_default.xml')\n",
    "time.sleep(2.0)\n",
    "while True:\n",
    "    success, image = video.read()\n",
    "    sendFrame = image\n",
    "    faces = face_cascade.detectMultiScale(image, 1.3, 5)\n",
    "    for (x, y, w, h) in faces:\n",
    "        cv2.rectangle(image, (x, y), (x + w, y + h), (0, 255, 0), 2)\n",
    "    cv2.imshow(\"Frame\", image)\n",
    "    key = cv2.waitKey(1) & 0xFF\n",
    "    ret, jpeg = cv2.imencode('.jpg', image)\n",
    "    frames = {\"frame_to\":jpeg.tobytes(),\"frame_save\":sendFrame}\n",
    "    if cout == 100:\n",
    "        cv2.destroyAllWindows()\n",
    "        video.release()\n",
    "        break\n",
    "    print(cout)\n",
    "    cout += 1"
   ]
  },
  {
   "cell_type": "code",
   "execution_count": null,
   "metadata": {},
   "outputs": [],
   "source": [
    "success, image = video.read()\n",
    "sendFrame = image\n",
    "faces = face_cascade.detectMultiScale(image, 1.3, 5)\n",
    "for (x, y, w, h) in faces:\n",
    "    cv2.rectangle(image, (x, y), (x + w, y + h), (0, 255, 0), 2)\n",
    "cv2.imshow(\"Frame\", image)\n",
    "key = cv2.waitKey(1) & 0xFF\n",
    "ret, jpeg = cv2.imencode('.jpg', image)\n",
    "frames = {\"frame_to\":jpeg.tobytes(),\"frame_save\":sendFrame}\n"
   ]
  },
  {
   "cell_type": "code",
   "execution_count": null,
   "metadata": {},
   "outputs": [],
   "source": [
    "video.release()"
   ]
  },
  {
   "cell_type": "code",
   "execution_count": null,
   "metadata": {},
   "outputs": [],
   "source": []
  }
 ],
 "metadata": {
  "kernelspec": {
   "display_name": "Python 3",
   "language": "python",
   "name": "python3"
  },
  "language_info": {
   "codemirror_mode": {
    "name": "ipython",
    "version": 3
   },
   "file_extension": ".py",
   "mimetype": "text/x-python",
   "name": "python",
   "nbconvert_exporter": "python",
   "pygments_lexer": "ipython3",
   "version": "3.5.4"
  }
 },
 "nbformat": 4,
 "nbformat_minor": 2
}
