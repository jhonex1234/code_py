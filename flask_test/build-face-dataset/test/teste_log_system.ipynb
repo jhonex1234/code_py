{
 "cells": [
  {
   "cell_type": "code",
   "execution_count": 241,
   "metadata": {},
   "outputs": [],
   "source": [
    "import psycopg2\n",
    "class connectDB():\n",
    "    def __init__(self):\n",
    "        self.data = []\n",
    "        self.dbname = 'miller_face_enrolamiento'\n",
    "        self.user = 'postgres'\n",
    "        self.password = '1234'\n",
    "        self.host='localhost'\n",
    "        self.connectDataBase()\n",
    "    def connectDataBase(self):\n",
    "        try:\n",
    "            conn=psycopg2.connect(\"host='{0}' dbname='{1}' user='{2}' password='{3}'\".format(self.host,self.dbname,\n",
    "                self.user,self.password ))\n",
    "            return conn\n",
    "        except:\n",
    "            print \"Conexion erronea\"\n",
    "    \n",
    "    def getPeople(self,cedula):\n",
    "        sql = \"\"\"select * from tbl_people where id_cedula={0}\"\"\".format(cedula)\n",
    "        msj = ''\n",
    "        people = []\n",
    "        try:\n",
    "            cn = self.connectDataBase()\n",
    "            cur = cn.cursor()\n",
    "            cur.execute(sql,)\n",
    "            people = cur.fetchall()\n",
    "            cur.close()\n",
    "            if(people):\n",
    "                msj = 'Accion exitosa, Consulta exitosa'\n",
    "            else:\n",
    "                msj = 'Accion exitosa,Usario no encontrado'\n",
    "        except (Exception, psycopg2.DatabaseError) as error:\n",
    "            msj = error\n",
    "        finally:\n",
    "            if cn is not None:\n",
    "                cn.close()\n",
    "        return {'menssage':msj,'people':people}\n",
    "    def getUser(self,cedula):\n",
    "        sql = \"\"\"select * from tbl_user where fk_people={0}\"\"\".format(cedula)\n",
    "        msj = ''\n",
    "        user = []\n",
    "        try:\n",
    "            cn = self.connectDataBase()\n",
    "            cur = cn.cursor()\n",
    "            cur.execute(sql,)\n",
    "            user = cur.fetchall()\n",
    "            cur.close()\n",
    "            if(user):\n",
    "                msj = 'Accion exitosa, consulta'\n",
    "            else:\n",
    "                msj = 'Accion exitosa, Usuario no encontrado'\n",
    "        except (Exception, psycopg2.DatabaseError) as error:\n",
    "            msj = error\n",
    "        finally:\n",
    "            if cn is not None:\n",
    "                cn.close()\n",
    "        return {'menssage':msj,'user':user}"
   ]
  },
  {
   "cell_type": "code",
   "execution_count": 242,
   "metadata": {},
   "outputs": [],
   "source": [
    "obj = connectDB()"
   ]
  },
  {
   "cell_type": "code",
   "execution_count": 248,
   "metadata": {},
   "outputs": [
    {
     "data": {
      "text/plain": [
       "[(1, 'jajoya', '1234567890', 1022403971, 1005, 2005, 3005)]"
      ]
     },
     "execution_count": 248,
     "metadata": {},
     "output_type": "execute_result"
    }
   ],
   "source": [
    "obj.getUser('1022403971')['user']"
   ]
  },
  {
   "cell_type": "code",
   "execution_count": null,
   "metadata": {},
   "outputs": [],
   "source": []
  },
  {
   "cell_type": "code",
   "execution_count": 228,
   "metadata": {},
   "outputs": [
    {
     "name": "stdout",
     "output_type": "stream",
     "text": [
      "true\n"
     ]
    }
   ],
   "source": [
    "if(['']):\n",
    "    print('true')\n",
    "else:\n",
    "    print('false')"
   ]
  },
  {
   "cell_type": "code",
   "execution_count": 257,
   "metadata": {},
   "outputs": [],
   "source": []
  },
  {
   "cell_type": "code",
   "execution_count": null,
   "metadata": {},
   "outputs": [],
   "source": []
  }
 ],
 "metadata": {
  "kernelspec": {
   "display_name": "Python 2",
   "language": "python",
   "name": "python2"
  },
  "language_info": {
   "codemirror_mode": {
    "name": "ipython",
    "version": 2
   },
   "file_extension": ".py",
   "mimetype": "text/x-python",
   "name": "python",
   "nbconvert_exporter": "python",
   "pygments_lexer": "ipython2",
   "version": "2.7.11"
  }
 },
 "nbformat": 4,
 "nbformat_minor": 2
}
