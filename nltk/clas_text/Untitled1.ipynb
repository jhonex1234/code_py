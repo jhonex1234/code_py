{
 "cells": [
  {
   "cell_type": "code",
   "execution_count": 2,
   "metadata": {
    "collapsed": true
   },
   "outputs": [],
   "source": [
    "import nltk"
   ]
  },
  {
   "cell_type": "code",
   "execution_count": 7,
   "metadata": {
    "collapsed": true
   },
   "outputs": [],
   "source": [
    "def obtener_todas_frases_contengan_en_tar_wrd(target_word, tar_passage, left_margin = 10, right_margin = 10):\n",
    "    \"\"\"\n",
    "        Función para obtener todas las frases que contienen la palabra objetivo en un texto / pasan por tar_passage.\n",
    "         Solución alternativa para guardar el resultado proporcionado por la función nltk Concordance\n",
    "         str target_word, str tar_passage int left_margin int right_margin -> list of str\n",
    "         left_margin y right_margin asignan el número de palabras / \n",
    "         pronunciación antes y después de la palabra objetivo\n",
    "         El margen izquierdo tomará nota del comienzo del texto\n",
    "     \"\"\"\n",
    "    ## Crear lista de tokens utilizando la función nltk\n",
    "    tokens = nltk.word_tokenize(tar_passage)\n",
    "     \n",
    "   ## Crea el texto de tokens\n",
    "    text = nltk.Text(tokens)\n",
    " \n",
    "    ## Recoge todo el índice o posición de desplazamiento de la palabra objetivo\n",
    "    c = nltk.ConcordanceIndex(text.tokens, key = lambda s: s.lower())\n",
    " \n",
    "    ## Recoge el rango de las palabras que está dentro de la palabra objetivo usando text.tokens [start; end].\n",
    "    ## La función de mapa se usa para que cuando la posición de desplazamiento - el rango objetivo <0, \n",
    "    ## se ajuste por defecto a \n",
    "    ceroconcordance_txt = ([text.tokens[map(lambda x: x-5 if (x-left_margin)>0 else 0,[offset])[0]:offset+right_margin]\n",
    "                        for offset in c.offsets(target_word)])\n",
    "                         \n",
    "    ## une las oraciones para cada frase objetivo y regresa\n",
    "    return [''.join([x+' ' for x in con_sub]) for con_sub in concordance_txt]## prueba de la funcion"
   ]
  },
  {
   "cell_type": "code",
   "execution_count": 6,
   "metadata": {},
   "outputs": [
    {
     "name": "stdout",
     "output_type": "stream",
     "text": [
      "No matches\n",
      "Results from function\n"
     ]
    },
    {
     "ename": "NameError",
     "evalue": "name 'get_all_phrases_containing_tar_wrd' is not defined",
     "output_type": "error",
     "traceback": [
      "\u001b[0;31m---------------------------------------------------------------------------\u001b[0m",
      "\u001b[0;31mNameError\u001b[0m                                 Traceback (most recent call last)",
      "\u001b[0;32m<ipython-input-6-73fca29842ca>\u001b[0m in \u001b[0;36m<module>\u001b[0;34m()\u001b[0m\n\u001b[1;32m     16\u001b[0m \u001b[0;34m\u001b[0m\u001b[0m\n\u001b[1;32m     17\u001b[0m \u001b[0mprint\u001b[0m \u001b[0;34m(\u001b[0m\u001b[0;34m'Results from function'\u001b[0m\u001b[0;34m)\u001b[0m\u001b[0;34m\u001b[0m\u001b[0m\n\u001b[0;32m---> 18\u001b[0;31m \u001b[0mresults\u001b[0m \u001b[0;34m=\u001b[0m \u001b[0mget_all_phrases_containing_tar_wrd\u001b[0m\u001b[0;34m(\u001b[0m\u001b[0;34m'wolf'\u001b[0m\u001b[0;34m,\u001b[0m \u001b[0mraw\u001b[0m\u001b[0;34m)\u001b[0m\u001b[0;34m\u001b[0m\u001b[0m\n\u001b[0m\u001b[1;32m     19\u001b[0m \u001b[0;32mfor\u001b[0m \u001b[0mresult\u001b[0m \u001b[0;32min\u001b[0m \u001b[0mresults\u001b[0m\u001b[0;34m:\u001b[0m\u001b[0;34m\u001b[0m\u001b[0m\n\u001b[1;32m     20\u001b[0m     \u001b[0mprint\u001b[0m \u001b[0;34m(\u001b[0m\u001b[0mresult\u001b[0m\u001b[0;34m)\u001b[0m\u001b[0;34m\u001b[0m\u001b[0m\n",
      "\u001b[0;31mNameError\u001b[0m: name 'get_all_phrases_containing_tar_wrd' is not defined"
     ]
    }
   ],
   "source": [
    "## texto de ejemplo from http://www.shol.com/agita/pigs.htm\n",
    "raw  = \"\"\"El cerdito vio al lobo trepar al techo y encendió un fuego ardiente en la chimenea y \\\n",
    "           colocó sobre ella una gran tetera de agua. Cuando el lobo finalmente encontró el agujero en la chimenea, se arrastró hacia abajo \\\n",
    "           y KERSPLASH directamente en esa olla de agua y ese fue el final de sus problemas con el lobo feroz.\n",
    "           Al día siguiente, el pequeño cerdo invitó a su madre. Ella dijo & amp;; Ves que es justo como te dije. \\\n",
    "           La forma de llevarse bien en el mundo es hacer las cosas lo mejor que puedas. & Amp; amp; quot; Afortunadamente para ese pequeño cerdo, \\\n",
    "           él aprendió esa lección. ¡Y vivió feliz para siempre!\"\"\"\n",
    "           \n",
    "tokens = nltk.word_tokenize(raw)\n",
    "text = nltk.Text(tokens)\n",
    "text.concordance('wolf') # por defecto text.concordance output\n",
    " \n",
    "## output:\n",
    "## Displaying 2 of 2 matches:\n",
    "##                                     wolf climb up on the roof and lit a roari\n",
    "## it a large kettle of water.When the wolf finally found the hole in the chimne\n",
    " \n",
    "\n",
    "print ('Results from function')\n",
    "results = get_all_phrases_containing_tar_wrd('wolf', raw)\n",
    "for result in results:\n",
    "    print (result)\n",
    " \n",
    "## output:\n",
    "## resultado de la funcion\n",
    "## The little pig saw the wolf climb up on the roof and lit a roaring\n",
    "## large kettle of water.When the wolf finally found the hole in the chimney he crawled"
   ]
  },
  {
   "cell_type": "code",
   "execution_count": null,
   "metadata": {
    "collapsed": true
   },
   "outputs": [],
   "source": []
  }
 ],
 "metadata": {
  "kernelspec": {
   "display_name": "Python 3",
   "language": "python",
   "name": "python3"
  },
  "language_info": {
   "codemirror_mode": {
    "name": "ipython",
    "version": 3
   },
   "file_extension": ".py",
   "mimetype": "text/x-python",
   "name": "python",
   "nbconvert_exporter": "python",
   "pygments_lexer": "ipython3",
   "version": "3.5.4"
  }
 },
 "nbformat": 4,
 "nbformat_minor": 2
}
