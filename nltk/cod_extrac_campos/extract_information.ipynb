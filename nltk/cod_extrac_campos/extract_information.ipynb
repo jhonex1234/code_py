{
 "cells": [
  {
   "cell_type": "code",
   "execution_count": 1,
   "metadata": {
    "collapsed": true
   },
   "outputs": [],
   "source": [
    "# from gensim.corpora import Dictionary\n",
    "from glob import glob\n",
    "import nltk \n",
    "from nltk import tokenize\n",
    "from nltk.corpus import stopwords\n",
    "import numpy as np\n",
    "import pandas as pd\n",
    "import re\n",
    "from time import time\n",
    "from unicodedata import normalize\n",
    "#import database as db"
   ]
  },
  {
   "cell_type": "code",
   "execution_count": 2,
   "metadata": {
    "scrolled": true
   },
   "outputs": [
    {
     "data": {
      "text/html": [
       "<div>\n",
       "<table border=\"1\" class=\"dataframe\">\n",
       "  <thead>\n",
       "    <tr style=\"text-align: right;\">\n",
       "      <th></th>\n",
       "      <th>Text</th>\n",
       "      <th>Name</th>\n",
       "    </tr>\n",
       "  </thead>\n",
       "  <tbody>\n",
       "    <tr>\n",
       "      <th>0</th>\n",
       "      <td>[¡, ., DNP…“, :, W, TODOS, POR, UN, ., =, —, '...</td>\n",
       "      <td>RESOLUCIрN APELACIрN</td>\n",
       "    </tr>\n",
       "  </tbody>\n",
       "</table>\n",
       "</div>"
      ],
      "text/plain": [
       "                                                Text                  Name\n",
       "0  [¡, ., DNP…“, :, W, TODOS, POR, UN, ., =, —, '...  RESOLUCIрN APELACIрN"
      ]
     },
     "execution_count": 2,
     "metadata": {},
     "output_type": "execute_result"
    }
   ],
   "source": [
    "#ruta\n",
    "#filelist = glob('/home/jhon/proyectos/natural_language_processing/entes_de_control/resolucion_entes/entes_de_control_test/part1/*.txt')\n",
    "filelist = glob('/home/jhonex/Documentos/proyectos/natural_language_processing/entes_de_control/resolucion_entes/*.txt')\n",
    "#lista \n",
    "letters = []\n",
    "for file in filelist:\n",
    "    #\n",
    "    with open(file, 'r') as txtfile: \n",
    "        letters.append((tokenize.word_tokenize(txtfile.read()), re.match('.*/(.*)-.*', file).group(1)))\n",
    "letters = pd.DataFrame(letters, columns=['Text', 'Name'])\n",
    "letters = pd.DataFrame([(np.concatenate(letters[letters.Name == name].Text.values), name) \n",
    "                        for name in letters.Name.unique()], columns=['Text', 'Name'])\n",
    "letters"
   ]
  },
  {
   "cell_type": "code",
   "execution_count": 14,
   "metadata": {},
   "outputs": [
    {
     "name": "stdout",
     "output_type": "stream",
     "text": [
      "Cleaning took 1.26 seconds\n"
     ]
    },
    {
     "ename": "ValueError",
     "evalue": "cannot insert CleanText, already exists",
     "output_type": "error",
     "traceback": [
      "\u001b[0;31m---------------------------------------------------------------------------\u001b[0m",
      "\u001b[0;31mValueError\u001b[0m                                Traceback (most recent call last)",
      "\u001b[0;32m<ipython-input-14-e8f1c3c11fea>\u001b[0m in \u001b[0;36m<module>\u001b[0;34m()\u001b[0m\n\u001b[1;32m     12\u001b[0m     \u001b[0;32mreturn\u001b[0m \u001b[0mpd\u001b[0m\u001b[0;34m.\u001b[0m\u001b[0mDataFrame\u001b[0m\u001b[0;34m(\u001b[0m\u001b[0mclean_letters\u001b[0m\u001b[0;34m)\u001b[0m\u001b[0;34m\u001b[0m\u001b[0m\n\u001b[1;32m     13\u001b[0m \u001b[0;34m\u001b[0m\u001b[0m\n\u001b[0;32m---> 14\u001b[0;31m \u001b[0mdup\u001b[0m \u001b[0;34m=\u001b[0m \u001b[0mletters\u001b[0m\u001b[0;34m.\u001b[0m\u001b[0minsert\u001b[0m\u001b[0;34m(\u001b[0m\u001b[0;36m1\u001b[0m\u001b[0;34m,\u001b[0m \u001b[0;34m'CleanText'\u001b[0m\u001b[0;34m,\u001b[0m \u001b[0mcleanDocs\u001b[0m\u001b[0;34m(\u001b[0m\u001b[0mletters\u001b[0m\u001b[0;34m)\u001b[0m\u001b[0;34m)\u001b[0m\u001b[0;34m\u001b[0m\u001b[0m\n\u001b[0m",
      "\u001b[0;32m~/miniconda3/envs/nlp/lib/python3.5/site-packages/pandas/core/frame.py\u001b[0m in \u001b[0;36minsert\u001b[0;34m(self, loc, column, value, allow_duplicates)\u001b[0m\n\u001b[1;32m   2447\u001b[0m         \u001b[0mvalue\u001b[0m \u001b[0;34m=\u001b[0m \u001b[0mself\u001b[0m\u001b[0;34m.\u001b[0m\u001b[0m_sanitize_column\u001b[0m\u001b[0;34m(\u001b[0m\u001b[0mcolumn\u001b[0m\u001b[0;34m,\u001b[0m \u001b[0mvalue\u001b[0m\u001b[0;34m)\u001b[0m\u001b[0;34m\u001b[0m\u001b[0m\n\u001b[1;32m   2448\u001b[0m         self._data.insert(loc, column, value,\n\u001b[0;32m-> 2449\u001b[0;31m                           allow_duplicates=allow_duplicates)\n\u001b[0m\u001b[1;32m   2450\u001b[0m \u001b[0;34m\u001b[0m\u001b[0m\n\u001b[1;32m   2451\u001b[0m     \u001b[0;32mdef\u001b[0m \u001b[0massign\u001b[0m\u001b[0;34m(\u001b[0m\u001b[0mself\u001b[0m\u001b[0;34m,\u001b[0m \u001b[0;34m**\u001b[0m\u001b[0mkwargs\u001b[0m\u001b[0;34m)\u001b[0m\u001b[0;34m:\u001b[0m\u001b[0;34m\u001b[0m\u001b[0m\n",
      "\u001b[0;32m~/miniconda3/envs/nlp/lib/python3.5/site-packages/pandas/core/internals.py\u001b[0m in \u001b[0;36minsert\u001b[0;34m(self, loc, item, value, allow_duplicates)\u001b[0m\n\u001b[1;32m   3508\u001b[0m         \u001b[0;32mif\u001b[0m \u001b[0;32mnot\u001b[0m \u001b[0mallow_duplicates\u001b[0m \u001b[0;32mand\u001b[0m \u001b[0mitem\u001b[0m \u001b[0;32min\u001b[0m \u001b[0mself\u001b[0m\u001b[0;34m.\u001b[0m\u001b[0mitems\u001b[0m\u001b[0;34m:\u001b[0m\u001b[0;34m\u001b[0m\u001b[0m\n\u001b[1;32m   3509\u001b[0m             \u001b[0;31m# Should this be a different kind of error??\u001b[0m\u001b[0;34m\u001b[0m\u001b[0;34m\u001b[0m\u001b[0m\n\u001b[0;32m-> 3510\u001b[0;31m             \u001b[0;32mraise\u001b[0m \u001b[0mValueError\u001b[0m\u001b[0;34m(\u001b[0m\u001b[0;34m'cannot insert %s, already exists'\u001b[0m \u001b[0;34m%\u001b[0m \u001b[0mitem\u001b[0m\u001b[0;34m)\u001b[0m\u001b[0;34m\u001b[0m\u001b[0m\n\u001b[0m\u001b[1;32m   3511\u001b[0m \u001b[0;34m\u001b[0m\u001b[0m\n\u001b[1;32m   3512\u001b[0m         \u001b[0;32mif\u001b[0m \u001b[0;32mnot\u001b[0m \u001b[0misinstance\u001b[0m\u001b[0;34m(\u001b[0m\u001b[0mloc\u001b[0m\u001b[0;34m,\u001b[0m \u001b[0mint\u001b[0m\u001b[0;34m)\u001b[0m\u001b[0;34m:\u001b[0m\u001b[0;34m\u001b[0m\u001b[0m\n",
      "\u001b[0;31mValueError\u001b[0m: cannot insert CleanText, already exists"
     ]
    }
   ],
   "source": [
    "def cleanDocs(letters):\n",
    "    start = time()\n",
    "    clean_letters = []\n",
    "    for _, letter in letters.iterrows():\n",
    "        words = [normalize('NFKD', word.lower()).encode('ascii', 'ignore').decode('utf-8') for word in letter['Text']]\n",
    "        # is alphabetic character, not is a stopword, not is a custom word, has at least three letters, \n",
    "        # has at least one vowel, has at least one consonant\n",
    "        words = [word for word in words if word not in stopwords.words('spanish')]\n",
    "        clean_letters.append(' '.join(words))\n",
    "\n",
    "    print('Cleaning took %.2f seconds' % (time() - start))\n",
    "    return pd.DataFrame(clean_letters)\n",
    "\n",
    "dup = letters.insert(1, 'CleanText', cleanDocs(letters))\n"
   ]
  },
  {
   "cell_type": "code",
   "execution_count": null,
   "metadata": {
    "collapsed": true,
    "scrolled": false
   },
   "outputs": [],
   "source": [
    "#stopwords.words('spanish')"
   ]
  },
  {
   "cell_type": "code",
   "execution_count": 15,
   "metadata": {
    "scrolled": true
   },
   "outputs": [
    {
     "data": {
      "text/plain": [
       "\" . dnp... : w . =  ''  ''  '' nuevo pais 0 . ' paz equidad educacion gb superservrcros - - * supenntendencia servicios  publicos domiciliarios ' |i|illlllllillllllllill|lllll|lllillillllllllllllllllllll illllllllllll ' pagina 1de4 resolucionno . sspd - 201,68200320445 09/12/2016 expediente . 2016820390116861 decide recurso apelacion director territorial norte superintendencia servicios publicos domiciliarios superintendencia servicios publicos ejercicio facultades , especial confiere articulo 79 numeral 29 , articulos 154 159 ley 142 1994 , modificada ley 689 2001 ; articulo 20 numeral 1 2 decreto 990 2002 ; ley 1437 2011 ; fundamento siguientes antecedentes mediante escrito radicado . re9510201614209 05 julio 2016 , ( ) senor ( ) alfredo brochado ortega , identificado ( ) codigo suscriptor . 2099214 , presento recurso reposicion subsidio apelacion decision . 3995142 15 ' unio 2016 , proferida empresa electrificadora caribe s. a. e. s. p.- electricaribe s. a. e. s. p.- jose garcia sanleandro . empresa electrificadora caribe s. a. e. s. p.- electricaribe s. a. e. s. p. - jose garcia sanleandro , identificada nit 8020076706 , mediante resolucion . 4104667 21 julio 2016 , resolvio decision impugnada concedio recurso apelacion superintendencia , radicado bajo . 20168201060262 fecha , 21/10/2016. ' , procedencia recurso apelacion verificados requisitos admisibilidad recursos interpuestos , conformidad articulo 77 c. p. a. c. a. ; 5154 ley 142 1 .,994 encuentra ( ) senor ( ) alfredo brochado ortega , presento termino lleno requisitos legales recurso reposicion subsidio apelacion , superintendencia entra resolver recurso . , l.1ihechos antecedentes mediante peticion radicada sede empresa . re9510201614209 25 mayo 2016 , ( ) usuario ( ) solicita : retire cobro estimado realizo '' empresa , debido desconoce razon mismo . empresa electrificadora caribe s. a. e. s. p. electricaribe s. a. e. s. p. - jose garcia sanleandro : mediante decision . 3995142 15 junio 2016 , resolvio reclamacion presentada , accediendo peticiones . manifiesta empresa puede establecer consumo diferencia lectura , ende procede emitirlo consumo estimadoi % 553 || . recurso reposicion sussrmo apelacion co1 415927 sede principal . carrera 18 nro . 84- 35 . bogota d.c. codigo postal : 110221 pbx ( 1 ) 691 3005 . fax ( 1 ) 691 3059- sspdsuperservicios . gov . co linea atencion ( 1 ) 691 3006 bogota . linea gratuita nacional 01 8000 91 03 05 nit : 800 . 250 984 6 0014/5927 20168200320445 : pagina 2 4 ( ) usuario ( ) alfredo brochado ortega , mediante radicado . re9510201614209 05 julio 2016 , presento recurso reposicion subsidio apelacion decision inicial , proferida empresa electrificadora caribe s.a. e. s. p. - electricaribe s. a. e. s. p- jose garcia sanleandro , ratificando peticion inicial . ||| . decision resuelve recurso reposicion empresa electrificadora caribe s. a. e. s. p. -electricaribe s. a. e. s. p. - jose garcia sanleandro mediante decision e'mpresarial . 4104667 21 julio 2016 , resolvio impugnacion confirmando decision tomada . v. problema juridico resolver apelacion supuesto factico somete segunda... instancia consideracion direccion territorial norte superintendencia servicios publicos domiciliarios constituye debate juridico resolver presente caso , ; consiste determinar si presente caso empresa cuenta diferencia lectura facturar consumo . vi . pruebas obrantesten expediente pruebas relacionan continuacion , obran dentro expediente envio empresa resolviera recurso apelacion : . derecho peticion . re95,10201614209 25 mayo 2016 . acto administrativo expedidol electrificadora caribe s.a. e. s. p. - electricaribe s.a. e. s. p. - jose garcia sanleandro , . 3995142 15 junio 2016 - recurso reposicion subsidio a'pelacion . re9510201614209 05 julio 2016 . decision recurso reposicion . 4104667 21 julio 2016 . historico facturas vu . analisis deldespacho superintendencia servicios publicos domiciliarios ejercicio funciones previstas articulo 79 ley 142 1994 , modificadas articulo 13 ley 689 2001 , control vigilancia frente prestadoras servicios publicos domiciliarios , corresponde resolver recursos apelacion interpongan usuarios conforme establecido articulo 159 ley 142 1994 ( numeral 29 ) . articulo 154 ibid , establecio mecanismos hacen posible defensa derechos usuarios suscriptores , poder presentar reclamaciones empresas prestadoras servicios publicos , mediante derecho peticion . obstante , defensa permitida encuentra limitante , cuanto establece `` ningun caso' proceden reclamaciones facturas mas cinco ( 5 ) meses haber sido expedidas empresas servicios publicos ( subrayado texto ) '' . 1' bajo anterior competencia , vez analizadas pruebas obran expediente cuenta argumentos ( ) recurrente empresa prestadora servicio publico domiciliario energia electrica , direccion permite realizar sede apelacion , siguiente analisis : numeral 9.1 articulo 9 ley 142 1994 , establece derecho usuarios obtener empresas medicion consumos reales mediante instrumentos tecnologicos apropiados . norma concordante articulo 146 misma ley dispone superintendencia servicios publicos domiciliarios www . superservicios . gov co - sspdsupersewicios . gov co 20168200320445 pagina 3 4 empresa usuario derecho consumos midan , empleen ello instrumentos medida gue tecnica hecho posibles.1 finalidades normas , senala propio articulo 146 citado , consumo elemento principal precio cobra usuario . servicio acueducto , articulo 15 decreto 302 2000 , modificado articulo 4 decreto 229 2002 compilado decreto 1077 2015 , dispone ser tecnicamente posible cada acometida debera contar correspondiente medidor acueducto , sera instalado cumplimiento programas micro medicion empresa . - ... orden ideas , regla general usuario derecho medicion individual consumos debe tener micromedicion , salvo excepciones legales , tecnicamente posible . conforme articulo 146 ley 142 de'1994 , , accion u omision partes , periodo , posible medir razonablemente instrumentos consumos , valor podra establecerse conformidad dispuesto contrato condiciones uniformes tomando cfomo base , ello posible : ( i ) consumos promedio periodos mismo suscriptor usuario , ( ii ) consumos promedios suscriptores usuarios encuentren circunstancias similares , ( iii ) base aforos individuales . caso escenario existe accion u omision partes falta medicion solo , periodo podra acudir cualquiera alternativas senaladas determinar consumo . conforme inciso 4 disposicion cita , falta medicion consumo , accion u omision empresa , hara perder derecho recibir precio . lugar accion u omision suscriptor olf ; usuario , justificara suspension servicio terminacion contrato , perjuicio queegla empresa determine consumo formas refiere inciso anterior . entendera igualmente , gue omision empresa colocacion medidores unf'periodo superior seis meses despues conexion suscriptor usuario . concordancia anterior , articulo 144 bid dispone :  ... sera obligacion suscriptor usuario cerciorarse . ios , medidores funcionen forma adecuada ; si sera obligacion hacer/os reparar reemplazar/os , satisfaccion empresa , establezca funcionamiento permite determinar forma adecuada consumos , desarrollo tecnologico ponga disposicion instrumentos medida mas precisos . usuariof suscriptor , pasado periodo facturacion , tome acciones necesarias reparar reemplazan medidores , empresa podra hacerlo cuenta usuario suscriptor ...  ( negrilla texto ) . analizar caudal probatorio reposa expediente virtual , especial historico consumos visible folios 20 24 , observa despacho empresa facturo consumo ( ) mes ( ) mayo 2016 , acorde articulo 130 paragrafo primero decreto 108 1997 , deber empresa buscar-las medidas necesarias poder tomar medida razones cuales pudo realizar , consta acervo probatorio expediente. ' razon acuerdo inciso 5 articulo 146 ley 142 1994 ,  ... falta medicion consumo accion u omision empresa hara perder derecho recibir precio. ' superintendencia servicios publicos domiciliarios www.superservicios.gov.co - ; sspdsuperservicios.gov.co 20168200320445 . ; pagina 4 4 ' dadas consideraciones facticas argumentacion juridica citada , despacho modifica decision . 3995142 15 ' junio 2016 , concluir empresa debe ajustar consumo mes mayo 2016 cero kwh , haberse facturado tener cuenta lecturas instrumento ; medida . . merito expuesto , despacho _ - i resuelve : . articulo primero.- modificar decision : administrativa . 3995142 15 junio 2016 , proferida electrificadora caribe s. a. e. s. p- electricaribe s. a. e. s. p. jose garcia sanleandro , concluir empresa debe ajustar consumo mes mayo 2016 cero kwh , haberse facturado tener cuenta lecturas instrumento medida ; conformidad expuesto parte motiva . articulo segundo.- prestado'r debera dan*cumplimiento dispuesto presente resolucion , dentro diez ( 10 ) dias habiles siguientes a-ia fecha ejecutoria . vencido termino mas tardar dia habil siguiente prestador debera enviar superintendencia servicios publicos domiciliarios constancia cumplimiento , acompanada pruebas respectivas . incumplimiento obligacion generara imposicion sanciones previstas articulo 90 ley 1437 2011 . articulo tercero.- notificari personalmente contenido resolucion senor alfredo brochado ortega recibe notificaciones calle 40 44- 61 local 2 rosario , ciudad ? barranquilla atlantico , haciendole entrega copia misma . evento pudiere surtirse notificacion personal , procedase notificacion aviso , conformidad dispuesto articulo 69 ley 1437 2011. articulo cuarto.- notificar personalmente contenido presente resolucion representante legal empresa electrificadora caribe s.a. e.s..p - electricaribe s. a. e. s. p. - jose garcia sanleandro , haga veces , puede ubicarse carrera 55 . 72 - 109 piso 7 ciudad barranquilla- atlantico , cumplimiento . articulo quinto.- presente resolucion rige apartir fecha notificacion proceden recursos encontrarse agotada via administrativa notifiquese cumplase , i | ' | elverth santos romero director territorial norte proyecto : joseph castaneda vargas - abogado ( ) contratista reviso : juan pablo porras florian  abogado ( ) cojntratista superintendericia servicios publicos domiciliarios www.superservicios.gov.co - sspdsuperservicios.gov.co\""
      ]
     },
     "execution_count": 15,
     "metadata": {},
     "output_type": "execute_result"
    }
   ],
   "source": [
    "letters.CleanText[letters.Name == 'RESOLUCIрN APELACIрN'].values[0]"
   ]
  },
  {
   "cell_type": "code",
   "execution_count": 16,
   "metadata": {
    "collapsed": true
   },
   "outputs": [],
   "source": [
    "def context(target_word, tar_passage, left_margin = 10, right_margin = 10):\n",
    "    tokens = tokenize.word_tokenize(tar_passage)\n",
    "    text = nltk.Text(tokens)\n",
    "    c = nltk.ConcordanceIndex(text.tokens, key = lambda s: s.lower())\n",
    "    concordance_txt = [text.tokens[offset - left_margin : offset + right_margin]\n",
    "                       for offset in c.offsets(target_word)]\n",
    "    return [''.join([x + ' ' for x in con_sub]) for con_sub in concordance_txt]"
   ]
  },
  {
   "cell_type": "code",
   "execution_count": 17,
   "metadata": {},
   "outputs": [
    {
     "name": "stdout",
     "output_type": "stream",
     "text": [
      "['2016820390116861']\n",
      "['20168200320445']\n",
      "{'20168201060262'}\n",
      "['modificar ']\n",
      "modificar decision administrativa 3995142 15 junio 2016 proferida electrificadora caribe \n"
     ]
    }
   ],
   "source": [
    "cleanText = re.sub('[^\\w\\s]', '', letters[letters.Name == 'RESOLUCIрN APELACIрN'].CleanText.values[0])\n",
    "val1=re.findall('(\\d{16})', cleanText)\n",
    "val2=re.findall('sspd\\s*(\\d{14})', cleanText)\n",
    "\n",
    "numero=set(re.findall('\\s(\\d{14})\\s', cleanText))\n",
    "val3=set(numero)-set(val2)\n",
    "\n",
    "#print(set(re.findall('re\\s*(\\d{13})', cleanText)))\n",
    "print(val1)\n",
    "print(val2)\n",
    "print(val3)\n",
    "resoluciones = ['requerir', 'apertura de investigacion', 'sancion', 'archivar', 'confirmar', 'revocar', \n",
    "                'rechazar', 'tramitar', 'improcedente', 'rechazo', 'procedente', 'modificar', 'inhibirse', \n",
    "                'no acceder', 'corregir', 'aclarar']\n",
    "for resolucion in resoluciones:\n",
    "    coincidence = re.findall(resolucion + ' ', cleanText)\n",
    "    if coincidence:\n",
    "        print(coincidence)\n",
    "        \n",
    "results = context('modificar', cleanText, 0, 10)\n",
    "\n",
    "for result in results:\n",
    "    print(result)\n",
    "#print(re.fidall('sancion', cleanText))\n",
    "if results == [] :\n",
    "            print('\\n:(\\n\"no se se detecto contexto\" ') "
   ]
  },
  {
   "cell_type": "code",
   "execution_count": 18,
   "metadata": {},
   "outputs": [
    {
     "data": {
      "text/html": [
       "<div>\n",
       "<table border=\"1\" class=\"dataframe\">\n",
       "  <thead>\n",
       "    <tr style=\"text-align: right;\">\n",
       "      <th></th>\n",
       "      <th>Text</th>\n",
       "      <th>CleanText</th>\n",
       "      <th>Name</th>\n",
       "    </tr>\n",
       "  </thead>\n",
       "  <tbody>\n",
       "    <tr>\n",
       "      <th>0</th>\n",
       "      <td>[¡, ., DNP…“, :, W, TODOS, POR, UN, ., =, —, '...</td>\n",
       "      <td>. dnp... : w . =  ''  ''  '' nuevo pais 0 . '...</td>\n",
       "      <td>RESOLUCIрN APELACIрN</td>\n",
       "    </tr>\n",
       "  </tbody>\n",
       "</table>\n",
       "</div>"
      ],
      "text/plain": [
       "                                                Text  \\\n",
       "0  [¡, ., DNP…“, :, W, TODOS, POR, UN, ., =, —, '...   \n",
       "\n",
       "                                           CleanText                  Name  \n",
       "0   . dnp... : w . =  ''  ''  '' nuevo pais 0 . '...  RESOLUCIрN APELACIрN  "
      ]
     },
     "execution_count": 18,
     "metadata": {},
     "output_type": "execute_result"
    }
   ],
   "source": [
    "letters"
   ]
  },
  {
   "cell_type": "code",
   "execution_count": 10,
   "metadata": {
    "scrolled": true
   },
   "outputs": [
    {
     "name": "stdout",
     "output_type": "stream",
     "text": [
      "electriqaribe  ntewenidq superservctos barranquilla  20 junio 2017 senores  superintendencia servicios publicos domiciliarios attn   dra  jenny elizabeth lindo directora territorial norte carrera 59  75  134 ciudad asunto  remision expediente tramite recurso apelacion contrato no7577626  radicado   re1110201703179   folio  s  32  mediante presente cumplimiento articulo 159 ley 142 1994 damos traslado expediente contentivo decision empresarial contrato abajo descritos surta recurso apelacion despacho  atentamente  xt sidney gomez guerrero central escritos hyepezcod1738798 aenor  aenor  h   roma    nu  n am  mu   electriqaribe  ntewenidq superservctos barranquilla  20 junio 2017 senores  superintendencia servicios publicos domiciliarios attn   dra  jenny elizabeth lindo directora territorial norte carrera 59  75  134 ciudad asunto  remision expediente tramite recurso apelacion contrato no7577626  radicado   re1110201703179   folio  s  32  mediante presente cumplimiento articulo 159 ley 142 1994 damos traslado expediente contentivo decision empresarial contrato abajo descritos surta recurso apelacion despacho  atentamente  xt sidney gomez guerrero central escritos hyepezcod1738798 aenor  aenor  h   roma    nu  n am  mu   electricaribe  intervenida superservc1os tabla contenido expediente radicado   re1110201703179  recurso apelacion nombre cliente  hugo barrios yo janett yepes radicado   re1110201703179  nic  7577626 notificacion aviso dela respuesta recurso reposicion subsidio apelacion   folio 1  guia notificacion aviso respuesta recurso reposicion subsidio apelacion  folio 1  citacion dela respuesta recurso reposicion subsidio apelacion   folio 1  guia citacion dela respuesta recurso reposicion subsidio apelacion   folio 1  respuesta recurso reposicion subsidio apelacion emitida cliente   folio 2  recurso reposicion subsidio apelacion  folio 8  notificacion aviso dela respuesta ala reclamacion inicial  folio 1  guia notificacion aviso respuesta dela reclamacion inicial  folio 1  citacion dela reclamacion inicial   folio 1  guia citacion dela reclamacion inicial   folio 1  respuesta reclamacion inicial   folio 3  reclamacion inicial   folio 4  factura  s  consumo   folio 7  ii  formato remision expedientes sspd  empresa  _  demos   datos usuario codigo identificacion 0 cuenta interna 7577626 nombre completo _ oc direooionlnmueble _ o _ tramite adjunto  marque v segun corresponda  sap  descargos  rep  reposicion  pliego cargos resolucion rap  apelacion  decision empresarial req  traslado expediente  radicado  radicado   re1110201703179  rev  traslado expediente  radicado  requerimiento radicado  uuuiuu servicio publico domiciliario objeto reclamo  marque v segun corresponda  acueducto glp  5 energia aseo telefonia alcantarillado 5 gas natural 5 clasificacion inicial reclamacion origina tramite  marque v segun corres sonda  facturacion instalacion prestacion h u facturacion  detalle causal  marque v segun corresponda  cobro desconocido cobro prestacion cobros lnoportunos cruce fuga direccion incorrecta doble cobro desviacion significativa estrato incorrecto fraude lectura incorrecta llamadas celular mala financiacion lineas comerciales larga distancia envio factura uuuuuu lllh uuuuuuu pago reportado predio desocupado solidaridad clase uso incorrecto instalacion  detalle causal  marque v segun corresponda  direccion incorrecta 5 instalacion solicitada 5 fallas enla instalacion 5 pago instalacion 5 prestacion  detalle causal  marque v segun corresponda  servicio 5 cruce fuga esm continuidad interferencia d reconectado esuspension ilegal traslado 5 cambio numero etelefonos publicos desprogramacion 5 suspension temporal eservicio solicitado competencia 5 cambio medidor esolicitud reintegro  nref \n"
     ]
    }
   ],
   "source": [
    "print(cleanText)"
   ]
  },
  {
   "cell_type": "code",
   "execution_count": 15,
   "metadata": {},
   "outputs": [
    {
     "data": {
      "text/plain": [
       "{0, 6, 8}"
      ]
     },
     "execution_count": 15,
     "metadata": {},
     "output_type": "execute_result"
    }
   ],
   "source": [
    "set([7,8,9,0,6,7,8,5])-set([5,3,7,9,2,3,4,2,3])\n",
    "le"
   ]
  },
  {
   "cell_type": "markdown",
   "metadata": {},
   "source": [
    "### RNN model"
   ]
  },
  {
   "cell_type": "code",
   "execution_count": 9,
   "metadata": {
    "collapsed": true
   },
   "outputs": [],
   "source": [
    "#dic = Dictionary(letters.CleanText.apply(lambda text: tokenize.word_tokenize(text)).values)\n",
    "#dic.token2id"
   ]
  },
  {
   "cell_type": "code",
   "execution_count": 11,
   "metadata": {
    "collapsed": true
   },
   "outputs": [],
   "source": [
    "#test = letters[letters.index == 8].CleanText.apply(lambda text: tokenize.word_tokenize(text)).values[0]\n",
    "#dic.doc2bow(['servicios', 'nuevo', 'pais', 'publicos', 'domiciliarios'])\n",
    "#test"
   ]
  },
  {
   "cell_type": "code",
   "execution_count": 32,
   "metadata": {},
   "outputs": [
    {
     "name": "stderr",
     "output_type": "stream",
     "text": [
      "Using TensorFlow backend.\n"
     ]
    },
    {
     "name": "stdout",
     "output_type": "stream",
     "text": [
      "Found 9 unique tokens.\n",
      "[ 0.  1.  0.  0.  1.  1.  0.  0.  1.  1.  0.  0.  0.  0.  0.  0.  0.  0.\n",
      "  0.  0.  0.  0.  0.  0.  0.  0.  0.  0.  0.  0.  0.  0.  0.  0.  0.  0.\n",
      "  0.  0.  0.  0.  0.  0.  0.  0.  0.  0.  0.  0.  0.  0.  0.  0.  0.  0.\n",
      "  0.  0.  0.  0.  0.  0.  0.  0.  0.  0.  0.  0.  0.  0.  0.  0.  0.  0.\n",
      "  0.  0.  0.  0.  0.  0.  0.  0.  0.  0.  0.  0.  0.  0.  0.  0.  0.  0.\n",
      "  0.  0.  0.  0.  0.  0.  0.  0.  0.  0.  0.  0.  0.  0.  0.  0.  0.  0.\n",
      "  0.  0.  0.  0.  0.  0.  0.  0.  0.  0.  0.  0.  0.  0.  0.  0.  0.  0.\n",
      "  0.  0.  0.  0.  0.  0.  0.  0.  0.  0.  0.  0.  0.  0.  0.  0.  0.  0.\n",
      "  0.  0.  0.  0.  0.  0.  0.  0.  0.  0.  0.  0.  0.  0.  0.  0.  0.  0.\n",
      "  0.  0.  0.  0.  0.  0.  0.  0.  0.  0.  0.  0.  0.  0.  0.  0.  0.  0.\n",
      "  0.  0.  0.  0.  0.  0.  0.  0.  0.  0.  0.  0.  0.  0.  0.  0.  0.  0.\n",
      "  0.  0.  0.  0.  0.  0.  0.  0.  0.  0.  0.  0.  0.  0.  0.  0.  0.  0.\n",
      "  0.  0.  0.  0.  0.  0.  0.  0.  0.  0.  0.  0.  0.  0.  0.  0.  0.  0.\n",
      "  0.  0.  0.  0.  0.  0.  0.  0.  0.  0.  0.  0.  0.  0.  0.  0.  0.  0.\n",
      "  0.  0.  0.  0.  0.  0.  0.  0.  0.  0.  0.  0.  0.  0.  0.  0.  0.  0.\n",
      "  0.  0.  0.  0.  0.  0.  0.  0.  0.  0.  0.  0.  0.  0.  0.  0.  0.  0.\n",
      "  0.  0.  0.  0.  0.  0.  0.  0.  0.  0.  0.  0.  0.  0.  0.  0.  0.  0.\n",
      "  0.  0.  0.  0.  0.  0.  0.  0.  0.  0.  0.  0.  0.  0.  0.  0.  0.  0.\n",
      "  0.  0.  0.  0.  0.  0.  0.  0.  0.  0.  0.  0.  0.  0.  0.  0.  0.  0.\n",
      "  0.  0.  0.  0.  0.  0.  0.  0.  0.  0.  0.  0.  0.  0.  0.  0.  0.  0.\n",
      "  0.  0.  0.  0.  0.  0.  0.  0.  0.  0.  0.  0.  0.  0.  0.  0.  0.  0.\n",
      "  0.  0.  0.  0.  0.  0.  0.  0.  0.  0.  0.  0.  0.  0.  0.  0.  0.  0.\n",
      "  0.  0.  0.  0.  0.  0.  0.  0.  0.  0.  0.  0.  0.  0.  0.  0.  0.  0.\n",
      "  0.  0.  0.  0.  0.  0.  0.  0.  0.  0.  0.  0.  0.  0.  0.  0.  0.  0.\n",
      "  0.  0.  0.  0.  0.  0.  0.  0.  0.  0.  0.  0.  0.  0.  0.  0.  0.  0.\n",
      "  0.  0.  0.  0.  0.  0.  0.  0.  0.  0.  0.  0.  0.  0.  0.  0.  0.  0.\n",
      "  0.  0.  0.  0.  0.  0.  0.  0.  0.  0.  0.  0.  0.  0.  0.  0.  0.  0.\n",
      "  0.  0.  0.  0.  0.  0.  0.  0.  0.  0.  0.  0.  0.  0.  0.  0.  0.  0.\n",
      "  0.  0.  0.  0.  0.  0.  0.  0.  0.  0.  0.  0.  0.  0.  0.  0.  0.  0.\n",
      "  0.  0.  0.  0.  0.  0.  0.  0.  0.  0.  0.  0.  0.  0.  0.  0.  0.  0.\n",
      "  0.  0.  0.  0.  0.  0.  0.  0.  0.  0.  0.  0.  0.  0.  0.  0.  0.  0.\n",
      "  0.  0.  0.  0.  0.  0.  0.  0.  0.  0.  0.  0.  0.  0.  0.  0.  0.  0.\n",
      "  0.  0.  0.  0.  0.  0.  0.  0.  0.  0.  0.  0.  0.  0.  0.  0.  0.  0.\n",
      "  0.  0.  0.  0.  0.  0.  0.  0.  0.  0.  0.  0.  0.  0.  0.  0.  0.  0.\n",
      "  0.  0.  0.  0.  0.  0.  0.  0.  0.  0.  0.  0.  0.  0.  0.  0.  0.  0.\n",
      "  0.  0.  0.  0.  0.  0.  0.  0.  0.  0.  0.  0.  0.  0.  0.  0.  0.  0.\n",
      "  0.  0.  0.  0.  0.  0.  0.  0.  0.  0.  0.  0.  0.  0.  0.  0.  0.  0.\n",
      "  0.  0.  0.  0.  0.  0.  0.  0.  0.  0.  0.  0.  0.  0.  0.  0.  0.  0.\n",
      "  0.  0.  0.  0.  0.  0.  0.  0.  0.  0.  0.  0.  0.  0.  0.  0.  0.  0.\n",
      "  0.  0.  0.  0.  0.  0.  0.  0.  0.  0.  0.  0.  0.  0.  0.  0.  0.  0.\n",
      "  0.  0.  0.  0.  0.  0.  0.  0.  0.  0.  0.  0.  0.  0.  0.  0.  0.  0.\n",
      "  0.  0.  0.  0.  0.  0.  0.  0.  0.  0.  0.  0.  0.  0.  0.  0.  0.  0.\n",
      "  0.  0.  0.  0.  0.  0.  0.  0.  0.  0.  0.  0.  0.  0.  0.  0.  0.  0.\n",
      "  0.  0.  0.  0.  0.  0.  0.  0.  0.  0.  0.  0.  0.  0.  0.  0.  0.  0.\n",
      "  0.  0.  0.  0.  0.  0.  0.  0.  0.  0.  0.  0.  0.  0.  0.  0.  0.  0.\n",
      "  0.  0.  0.  0.  0.  0.  0.  0.  0.  0.  0.  0.  0.  0.  0.  0.  0.  0.\n",
      "  0.  0.  0.  0.  0.  0.  0.  0.  0.  0.  0.  0.  0.  0.  0.  0.  0.  0.\n",
      "  0.  0.  0.  0.  0.  0.  0.  0.  0.  0.  0.  0.  0.  0.  0.  0.  0.  0.\n",
      "  0.  0.  0.  0.  0.  0.  0.  0.  0.  0.  0.  0.  0.  0.  0.  0.  0.  0.\n",
      "  0.  0.  0.  0.  0.  0.  0.  0.  0.  0.  0.  0.  0.  0.  0.  0.  0.  0.\n",
      "  0.  0.  0.  0.  0.  0.  0.  0.  0.  0.  0.  0.  0.  0.  0.  0.  0.  0.\n",
      "  0.  0.  0.  0.  0.  0.  0.  0.  0.  0.  0.  0.  0.  0.  0.  0.  0.  0.\n",
      "  0.  0.  0.  0.  0.  0.  0.  0.  0.  0.  0.  0.  0.  0.  0.  0.  0.  0.\n",
      "  0.  0.  0.  0.  0.  0.  0.  0.  0.  0.  0.  0.  0.  0.  0.  0.  0.  0.\n",
      "  0.  0.  0.  0.  0.  0.  0.  0.  0.  0.  0.  0.  0.  0.  0.  0.  0.  0.\n",
      "  0.  0.  0.  0.  0.  0.  0.  0.  0.  0.]\n"
     ]
    }
   ],
   "source": [
    "from keras.preprocessing.text import Tokenizer\n",
    "\n",
    "samples = ['The cat sat on the mat.', 'The dog ate my homework.']\n",
    "\n",
    "tokenizer = Tokenizer(nb_words=1000)\n",
    "tokenizer.fit_on_texts(samples)\n",
    "sequences = tokenizer.texts_to_sequences(samples)\n",
    "one_hot_results = tokenizer.texts_to_matrix(samples, mode='binary')\n",
    "word_index = tokenizer.word_index\n",
    "print('Found %s unique tokens.' % len(word_index))\n",
    "print(one_hot_results[0])"
   ]
  },
  {
   "cell_type": "code",
   "execution_count": null,
   "metadata": {
    "collapsed": true,
    "scrolled": true
   },
   "outputs": [],
   "source": []
  }
 ],
 "metadata": {
  "kernelspec": {
   "display_name": "Python 3",
   "language": "python",
   "name": "python3"
  },
  "language_info": {
   "codemirror_mode": {
    "name": "ipython",
    "version": 3
   },
   "file_extension": ".py",
   "mimetype": "text/x-python",
   "name": "python",
   "nbconvert_exporter": "python",
   "pygments_lexer": "ipython3",
   "version": "3.5.4"
  }
 },
 "nbformat": 4,
 "nbformat_minor": 2
}
