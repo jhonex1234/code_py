{
 "cells": [
  {
   "cell_type": "code",
   "execution_count": 2,
   "metadata": {},
   "outputs": [],
   "source": [
    "#librerias\n",
    "from glob import glob\n",
    "import nltk \n",
    "from nltk import tokenize\n",
    "from nltk.corpus import stopwords\n",
    "\n",
    "# nombrando la libreria\n",
    "import numpy as np\n",
    "import pandas as pd\n",
    "import re\n",
    "from time import time\n",
    "from unicodedata import normalize\n",
    "# object extract\n",
    "from extractField import extractField\n",
    "#nltk.download()\n",
    "pd.set_option('display.max_colwidth',-1)"
   ]
  },
  {
   "cell_type": "code",
   "execution_count": 3,
   "metadata": {},
   "outputs": [],
   "source": [
    "#ruta1\n",
    "filelist = sorted(glob('/home/jhonex/document_e1/*.txt'))\n",
    "#ruta2\n",
    "#filelist = glob('/home/jhonex/Documentos/codigo_py_soport/nltk/proyectos/natural_language_processing/entes_de_control/resolucion_entes/entes_de_control_test/guion_1/*.txt')\n",
    "#ruta3\n",
    "#filelist = glob('/home/jhonex/Documentos/codigo_py_soport/nltk/proyectos/natural_language_processing/entes_de_control/resolucion_entes/entes_de_control_test/guion_5/*.txt')"
   ]
  },
  {
   "cell_type": "code",
   "execution_count": 4,
   "metadata": {},
   "outputs": [],
   "source": [
    "letters = []\n",
    "for file in filelist:\n",
    "    #apertura de todos los documentos que concuerden con la condicion\n",
    "    \n",
    "    with open(file, 'r') as txtfile:\n",
    "        letters.append((tokenize.word_tokenize(txtfile.read()), re.match('.*/(.*)-.*', file).group(1)))  \n",
    "letters = pd.DataFrame(letters, columns=['Text', 'Name'])\n",
    "letters = pd.DataFrame([(np.concatenate(letters[letters.Name == name].Text.values), name) \n",
    "                        for name in letters.Name.unique()], columns=['Text', 'Name'])\n",
    "\n",
    "#letters\n"
   ]
  },
  {
   "cell_type": "code",
   "execution_count": 5,
   "metadata": {},
   "outputs": [
    {
     "data": {
      "text/html": [
       "<div>\n",
       "<style scoped>\n",
       "    .dataframe tbody tr th:only-of-type {\n",
       "        vertical-align: middle;\n",
       "    }\n",
       "\n",
       "    .dataframe tbody tr th {\n",
       "        vertical-align: top;\n",
       "    }\n",
       "\n",
       "    .dataframe thead th {\n",
       "        text-align: right;\n",
       "    }\n",
       "</style>\n",
       "<table border=\"1\" class=\"dataframe\">\n",
       "  <thead>\n",
       "    <tr style=\"text-align: right;\">\n",
       "      <th></th>\n",
       "      <th>Text</th>\n",
       "      <th>Name</th>\n",
       "    </tr>\n",
       "  </thead>\n",
       "  <tbody>\n",
       "    <tr>\n",
       "      <th>0</th>\n",
       "      <td>[TODOS, POR, UN, NUEVO, PAÍS, PAZ, EQUIDAD, EDUCACION, ., DNP, :, —=º'l—E, ., Su, erservicios, Supe, ntendencia, de, Servicios, Públicos, Domiciliarios, so……, I.…, IIIIIIIIIIIIIIII||IIIIIIIIIIIIIIIlllllllllllllllllllllIIIIIIIIIIIIIIIIIIIIIII, Página, |, de, 4, ., e, v, RESOLUCIÓN, No, ., SSPD, -, 20173200473935, DEL, 151121201, ?, Expediente, No, ., 2017820390139316E, ', Por, la, cual, Se, Decide, un, RECURSO, DE, APELACION, EL, DIRECTOR, TERRITORIAL_NORTE, DE, LA, SUPERINTENDENCIA, DE, SERVICIOS, PUBLICOS, DOMICILIARIOS, En, ejercicio, de, sus, faCultades, y, ,, en, especial, las, que, le, confiere, el, articulo, 79numeral, 29, ,, artículos, 154, y, 159, de, la, Ley, 142, de, 1994, ,, modificada, por, la, Ley, 689, de, 2001, ...]</td>\n",
       "      <td>20178200478935</td>\n",
       "    </tr>\n",
       "    <tr>\n",
       "      <th>1</th>\n",
       "      <td>[ronasponqn, NUEVO, PAIS, PAZ, EQUIDAD, EDUEAEIDN, “, ., Dip, nnnnn, to, DNP…, », ., _, de, PL.-nurión, II, ., &lt;, b-, Su, perservicios, *, Superintendencia, de, Servicios, Públicos, Domiciliarios, sc-F-ees, %, |III|II, IIIII, II|I|, Ill|l, ||I||, II|II, III|I, III, ``, |, '', I|III|III|, II||I|I, ||, II, II, |||, Página, |, de, 5, RESOLUCIÓN, No, ., SSPD, —, 20176200476965, DEL, 151, 2201, ?, Expediente, No, ., 201762039U135172E, Por, la, cual, se, decide, un, Recurso, de, Apelación, EL, DIRECTOR, TERRITORIAL'NORTE, DE, LA, SUPERINTENDENCIA, DE, SERVICIOS, PUBLICOS, DOMICILIARIOS, En, ejercicio, de, sus, facultades, y, ,, en, especial, de, las, que, le, confiere, el, ...]</td>\n",
       "      <td>20178200478985</td>\n",
       "    </tr>\n",
       "    <tr>\n",
       "      <th>2</th>\n",
       "      <td>[TODOS, POR, un, NUEVO, PAÍS, PAZ, EQUIDAD, EDUCACION, En…, …, ., ., Su, erservicios, Super, ntendencia, de, Servicios, Públicos, Domiciliarios, SC-F…5, ……, ', |, ', IIIIIIIIIIIIIIIIIIIIIIIIIIllllIll|l|IlllllllllllllllllllllllIIIIIIIIIII, |||, Pagina, 1, de, 3, RESOLUCIÓN, No, ., SSPD, -, 201782004, ?, 9035, DEL, 1511, 2l2017, Expediente, No, ., 2017820390134526E, Por, la, cual, se, decide, un, RECURSO, DE, APELACION, _, EL, DIRECTOR, TERRITORIAL_NORTE, DE, LA, SUPERINTENDENCIA, DE, SERVICIOS, PUBLICOS, DOMICILIARIOS, En, ejercicio, de, sus, facultades, y, ,, en, especial, las, que, le, confiere, el, articulo, 79, numeral, 29, ,, artícu-, los, 154, y, 159, de, la, Ley, 142, de, 1994, ,, modiñcada, porla, Ley, ...]</td>\n",
       "      <td>20178200479035</td>\n",
       "    </tr>\n",
       "    <tr>\n",
       "      <th>3</th>\n",
       "      <td>[TODOS, POR, u_u, NUEVO, PAIS, PAZ, EQUIDAD, EDUCACION, Supe, ntendencia, de, Servicios, Públicos, Domiciliarios, sc-F-oos, …, ., _, IIIII|IIIIIIIIIIIIIIHIIIIIIIIIIIIIIIIIIIIIII|IIIIIIIIIIIIIIIIII, IIIIIIIIIIIII, Página, 1, de, 4, Su, erservicios, ¡¡, RESOLUCIÓN, No, ., SSPD, —, 20178200479045, DEL, 15, !, 12¡2017, Expediente, No, ., 2017820390135106E, Por, la, cual, se, decide, un, RECURSO, DE, APELACION, EL, DIRECTOR, TERRITORIAL_NORTE, DE, LA, SUPERINTENDENCIA, DE, SERVICIOS, PUBLICOS, DOMICILIARIOS, En, ejercicio, de, sus, facultades, y, ,, en, especial, las, que, le, confiere, el, articulo, 79, numeral, 29, ,, artícu-, los, 154, y, 159, de, la, Ley, 142_de, 1994, ,, modificada, porla, Ley, 889, de, 2001, ;, y, el, artículo, ...]</td>\n",
       "      <td>20178200479045</td>\n",
       "    </tr>\n",
       "    <tr>\n",
       "      <th>4</th>\n",
       "      <td>[COI, 415927, ……, …l, Ill, …, rooos, POR, uu, NUEVO, PAÍS, Paz, EQUIDAD, EDUCACION, Su, erservicios, Super, ntendencia, de, Servicios, Públicos, Domiciliarios, sc-F-oos, ……, ,, lll||llIIIIIIIIIIillilillllIIIIIilli|lllillliIIIIIIIIIIIIIIIII, IIIIIIIIIIII, Página, ], de, 4, RESOLUCIÓN, No, ., SSPD, -, 20178200479075, DEL, 15, !, 12, !, 2017, Expediente, No, ., 2017820390134531E, Por, la, cual, se, decide, un, RECURSO, DE, APELACION, EL, DIRECTOR, TERRITORIAL_NORTE, DE, LA, SUPERINTENDENCIA, DE, SERVICIOS, PUBLICOS, DOMICILIARIOS, En, ejercicio, de, sus, facultades, y, ,, en, especial, las, que, le, confiere, el, articulo, 79, numeral, 29, ,, artícu-, los, 154, y, 159, de, la, Ley, 142, de, 1994, ,, modificada, porla, Ley, ...]</td>\n",
       "      <td>20178200479075</td>\n",
       "    </tr>\n",
       "    <tr>\n",
       "      <th>5</th>\n",
       "      <td>[TODOS, POR, un, INUENNDIHAH5, PAZ, EQUIDAD, EDUCACIÓN, Su, erservícios, Super, ntendencta, de, Servicios, Públicos, Domiciliarios, sc-F-005vs, |IIIIIIIIIIIIIIIIIII||IIIIIIII|IIIIIIIIIIIIIII|IIIIIIIIIIIIIIIIIIIIIIIII|IIIII, Página, 1, de, 5, ., ,, Adlb, $, RESOLUCIÓN, No, ., SSPD, -, 20173200479125, DEL, 15112/2017, Expediente, No, ., -2017820390134535E, Por, la, cual, se, decide, un, Recurso, de, Apelación, EL, DIRECTOR, TERRITORIAL_NORTE, DE, LA, SUPERINTENDENCIA, DE, SERVICIOS, PUBLICOS, DOMICILIARIOS, En, ejercicio_de, sus, facultades, y, ,, en, especial, de, las, que, le, confiere, el, articulo, 79, numeral, 29, ,, ar-, tículos, 154, y, 159, de, la, Ley, 142, de, 1994, ,, modificados, por, la, Ley, 689, de, 2001, y, el, artículo, 20, nu-, merales, ...]</td>\n",
       "      <td>20178200479125</td>\n",
       "    </tr>\n",
       "    <tr>\n",
       "      <th>6</th>\n",
       "      <td>[rooos, pon, un, NUEVO, PAIS, _, PAZ, EQUIDAD, EDUCACION, _—, DNP, :, .m…, ., 0, ``, Su, erservicios, v, Supe, ntendencia, de, Servicios, —, .., ¡Públicos, Domiciliarios, '', sc-F-oe, %, lll|l|l, IIIII, IIIII, IIIII, IIIII, l|l||, III|I, II…, III, '', IIIII, Illl|, IIIII, IIII|, lll|l, |||, ||, Página, |, de, 3, RESOLUCIÓN, No, ., SSPD, -, 20178200479135, DEL, 15112¡2017, Expediente, No, ., 2017820390134968E, Por, la, cual, se, decide, un, Recurso, de, Apelación, EL, DIRECTOR, TERRITORIAL_NORTE, DE, LA, SUPERINTENDENCIA, DE, SERVICIOS, PUBLICOS, DOMICILIARIOS, En, ejercicio, de, sus, facultades, y, ,, en, e3pecial, de, las, que, le, confiere, el, artículo, 79, numeral, ...]</td>\n",
       "      <td>20178200479135</td>\n",
       "    </tr>\n",
       "    <tr>\n",
       "      <th>7</th>\n",
       "      <td>[ropas, pon, un, NUEVO, PAÍS, PAZ, EQUIDAD, EDUCACION, DNP, “, ', ', ``, *…, ., ., Nx…, amm, Supe, ntendencia, de, Servicios, Públicos, Domiciliarios, s…5, ¿, |IIII|IIIIIIIIIIIIIIIIIIIIIIIIIIIIIIIIIIIIII|IIIIIIIIIIIIIIIIIIIIIIIIIIIIIIIlili, Página, 1, de, 4, ., Su, erservicios, ¡¡, RESOLUCIÓN, No, ., SSPD, -, 20178200479165, DEL, 1511, 212017, Expediente, No, ., 2017820390134511E, Por, la, cual, se, decide, un, Recurso, de, Apelación, EL, DIRECTOR, TERRITORIAL__NORTE, DE, LA, SUPERINTENDENCIA, DE, SERVICIOS, PUBLICOS, DOMICILIARIOS, En, ejercicio, de, sus, facultades, y, ,, en, especial, de, las, que, le, confiere, el, artículo, 79, numeral, 29, ,, ar-, tículos, 154, y, 159, de, la, Ley, 142, de, 1994, ,, modificados, ...]</td>\n",
       "      <td>20178200479165</td>\n",
       "    </tr>\n",
       "    <tr>\n",
       "      <th>8</th>\n",
       "      <td>[', ronos, PORUN, NUEVO, PAÍS, PAZ, EQUIDAD, EDUCACIÓN, *, ', ,, N, Hu…, __, amm, *, “, Su, erserv1c105, *, Super, ntendencia, de, Servicios, Públicos, Domiciliarios, SC…5V5, _, lIIII|IIIIIIIIIIII|IIIIIIIIIl|l|IIIIIIIIIIIIIIIIIIIIIIIIIIIIIII, IIIIIII, |||, Página, 1, de, 4, RESOLUCIÓN, No, ., SSPD, -, 20178200479175, DEL, 1511, 212017, Expediente, No, ., 2017820390134510E, Por, la, cual, se, decide, un, Recurso, de, Apelación, EL, DIRECTOR, TERRITORIAL¡NORTE, DE, LA, SUPERINTENDENCIA, DE, SERVICIOS, PUBLICOS, DOMICILIARIOS, En, ejercicio, de, sus, facultades, y, ,, en, especial, de, las, que, le, confiere, el, artículo, 79, numeral, 29, ,, ar-, ticulos, 154, y, 159, de, la, Ley, 142, de, 1994, ,, modificados, ...]</td>\n",
       "      <td>20178200479175</td>\n",
       "    </tr>\n",
       "    <tr>\n",
       "      <th>9</th>\n",
       "      <td>['', ., Depir1, ¡¡¡¡¡, DNP…, -, :, ., _, l, :, I-I, Phneu'mn, (, TODOSPORU_N, N, P, I, &amp;, Perl, !, oEuxooeeu, &amp;, mgl, ?, Superservrcros, v, Superintendencia, de, Servicios, Públicos, Domiciliarios, so—F-oosv.os, |||I|IIIII|III|I|IIII|II||II||I||I||III|III|I|||I|IIIIIIII|IIIIIIIIIIII|Il||I|, Página, |, de, 4, nesoi.uc¡ón, No, ., SSPD, -, 201732004, ?, 9395, DEL, 15, !, 12l2017, Expediente, No, ., 20173203901340095, Por, la, cual, Se, Decide, un, RECURSO, DE, APELACION, EL, DIRECTOR, TERRITORIAL'NORTE, DE, LA, SUPERINTENDENCIA, DE, SERVICIOS, PUBLICOS, DOMICILIARIOS, En, ejercicio, de, sus, facultades, y, ,, en, especial, las, que, le, confiere, el, articulo, 79, numeral, 29, ,, artículos, 154, y, 159, de, la, Ley, 142, ...]</td>\n",
       "      <td>20178200479395</td>\n",
       "    </tr>\n",
       "  </tbody>\n",
       "</table>\n",
       "</div>"
      ],
      "text/plain": [
       "                                                                                                                                                                                                                                                                                                                                                                                                                                                                                                                                                                                                                                                                                                                                                                                              Text  \\\n",
       "0  [TODOS, POR, UN, NUEVO, PAÍS, PAZ, EQUIDAD, EDUCACION, ., DNP, :, —=º'l—E, ., Su, erservicios, Supe, ntendencia, de, Servicios, Públicos, Domiciliarios, so……, I.…, IIIIIIIIIIIIIIII||IIIIIIIIIIIIIIIlllllllllllllllllllllIIIIIIIIIIIIIIIIIIIIIII, Página, |, de, 4, ., e, v, RESOLUCIÓN, No, ., SSPD, -, 20173200473935, DEL, 151121201, ?, Expediente, No, ., 2017820390139316E, ', Por, la, cual, Se, Decide, un, RECURSO, DE, APELACION, EL, DIRECTOR, TERRITORIAL_NORTE, DE, LA, SUPERINTENDENCIA, DE, SERVICIOS, PUBLICOS, DOMICILIARIOS, En, ejercicio, de, sus, faCultades, y, ,, en, especial, las, que, le, confiere, el, articulo, 79numeral, 29, ,, artículos, 154, y, 159, de, la, Ley, 142, de, 1994, ,, modificada, por, la, Ley, 689, de, 2001, ...]                              \n",
       "1  [ronasponqn, NUEVO, PAIS, PAZ, EQUIDAD, EDUEAEIDN, “, ., Dip, nnnnn, to, DNP…, », ., _, de, PL.-nurión, II, ., <, b-, Su, perservicios, *, Superintendencia, de, Servicios, Públicos, Domiciliarios, sc-F-ees, %, |III|II, IIIII, II|I|, Ill|l, ||I||, II|II, III|I, III, ``, |, '', I|III|III|, II||I|I, ||, II, II, |||, Página, |, de, 5, RESOLUCIÓN, No, ., SSPD, —, 20176200476965, DEL, 151, 2201, ?, Expediente, No, ., 201762039U135172E, Por, la, cual, se, decide, un, Recurso, de, Apelación, EL, DIRECTOR, TERRITORIAL'NORTE, DE, LA, SUPERINTENDENCIA, DE, SERVICIOS, PUBLICOS, DOMICILIARIOS, En, ejercicio, de, sus, facultades, y, ,, en, especial, de, las, que, le, confiere, el, ...]                                                                                          \n",
       "2  [TODOS, POR, un, NUEVO, PAÍS, PAZ, EQUIDAD, EDUCACION, En…, …, ., ., Su, erservicios, Super, ntendencia, de, Servicios, Públicos, Domiciliarios, SC-F…5, ……, ', |, ', IIIIIIIIIIIIIIIIIIIIIIIIIIllllIll|l|IlllllllllllllllllllllllIIIIIIIIIII, |||, Pagina, 1, de, 3, RESOLUCIÓN, No, ., SSPD, -, 201782004, ?, 9035, DEL, 1511, 2l2017, Expediente, No, ., 2017820390134526E, Por, la, cual, se, decide, un, RECURSO, DE, APELACION, _, EL, DIRECTOR, TERRITORIAL_NORTE, DE, LA, SUPERINTENDENCIA, DE, SERVICIOS, PUBLICOS, DOMICILIARIOS, En, ejercicio, de, sus, facultades, y, ,, en, especial, las, que, le, confiere, el, articulo, 79, numeral, 29, ,, artícu-, los, 154, y, 159, de, la, Ley, 142, de, 1994, ,, modiñcada, porla, Ley, ...]                                               \n",
       "3  [TODOS, POR, u_u, NUEVO, PAIS, PAZ, EQUIDAD, EDUCACION, Supe, ntendencia, de, Servicios, Públicos, Domiciliarios, sc-F-oos, …, ., _, IIIII|IIIIIIIIIIIIIIHIIIIIIIIIIIIIIIIIIIIIII|IIIIIIIIIIIIIIIIII, IIIIIIIIIIIII, Página, 1, de, 4, Su, erservicios, ¡¡, RESOLUCIÓN, No, ., SSPD, —, 20178200479045, DEL, 15, !, 12¡2017, Expediente, No, ., 2017820390135106E, Por, la, cual, se, decide, un, RECURSO, DE, APELACION, EL, DIRECTOR, TERRITORIAL_NORTE, DE, LA, SUPERINTENDENCIA, DE, SERVICIOS, PUBLICOS, DOMICILIARIOS, En, ejercicio, de, sus, facultades, y, ,, en, especial, las, que, le, confiere, el, articulo, 79, numeral, 29, ,, artícu-, los, 154, y, 159, de, la, Ley, 142_de, 1994, ,, modificada, porla, Ley, 889, de, 2001, ;, y, el, artículo, ...]                           \n",
       "4  [COI, 415927, ……, …l, Ill, …, rooos, POR, uu, NUEVO, PAÍS, Paz, EQUIDAD, EDUCACION, Su, erservicios, Super, ntendencia, de, Servicios, Públicos, Domiciliarios, sc-F-oos, ……, ,, lll||llIIIIIIIIIIillilillllIIIIIilli|lllillliIIIIIIIIIIIIIIIII, IIIIIIIIIIII, Página, ], de, 4, RESOLUCIÓN, No, ., SSPD, -, 20178200479075, DEL, 15, !, 12, !, 2017, Expediente, No, ., 2017820390134531E, Por, la, cual, se, decide, un, RECURSO, DE, APELACION, EL, DIRECTOR, TERRITORIAL_NORTE, DE, LA, SUPERINTENDENCIA, DE, SERVICIOS, PUBLICOS, DOMICILIARIOS, En, ejercicio, de, sus, facultades, y, ,, en, especial, las, que, le, confiere, el, articulo, 79, numeral, 29, ,, artícu-, los, 154, y, 159, de, la, Ley, 142, de, 1994, ,, modificada, porla, Ley, ...]                                    \n",
       "5  [TODOS, POR, un, INUENNDIHAH5, PAZ, EQUIDAD, EDUCACIÓN, Su, erservícios, Super, ntendencta, de, Servicios, Públicos, Domiciliarios, sc-F-005vs, |IIIIIIIIIIIIIIIIIII||IIIIIIII|IIIIIIIIIIIIIII|IIIIIIIIIIIIIIIIIIIIIIIII|IIIII, Página, 1, de, 5, ., ,, Adlb, $, RESOLUCIÓN, No, ., SSPD, -, 20173200479125, DEL, 15112/2017, Expediente, No, ., -2017820390134535E, Por, la, cual, se, decide, un, Recurso, de, Apelación, EL, DIRECTOR, TERRITORIAL_NORTE, DE, LA, SUPERINTENDENCIA, DE, SERVICIOS, PUBLICOS, DOMICILIARIOS, En, ejercicio_de, sus, facultades, y, ,, en, especial, de, las, que, le, confiere, el, articulo, 79, numeral, 29, ,, ar-, tículos, 154, y, 159, de, la, Ley, 142, de, 1994, ,, modificados, por, la, Ley, 689, de, 2001, y, el, artículo, 20, nu-, merales, ...]   \n",
       "6  [rooos, pon, un, NUEVO, PAIS, _, PAZ, EQUIDAD, EDUCACION, _—, DNP, :, .m…, ., 0, ``, Su, erservicios, v, Supe, ntendencia, de, Servicios, —, .., ¡Públicos, Domiciliarios, '', sc-F-oe, %, lll|l|l, IIIII, IIIII, IIIII, IIIII, l|l||, III|I, II…, III, '', IIIII, Illl|, IIIII, IIII|, lll|l, |||, ||, Página, |, de, 3, RESOLUCIÓN, No, ., SSPD, -, 20178200479135, DEL, 15112¡2017, Expediente, No, ., 2017820390134968E, Por, la, cual, se, decide, un, Recurso, de, Apelación, EL, DIRECTOR, TERRITORIAL_NORTE, DE, LA, SUPERINTENDENCIA, DE, SERVICIOS, PUBLICOS, DOMICILIARIOS, En, ejercicio, de, sus, facultades, y, ,, en, e3pecial, de, las, que, le, confiere, el, artículo, 79, numeral, ...]                                                                                        \n",
       "7  [ropas, pon, un, NUEVO, PAÍS, PAZ, EQUIDAD, EDUCACION, DNP, “, ', ', ``, *…, ., ., Nx…, amm, Supe, ntendencia, de, Servicios, Públicos, Domiciliarios, s…5, ¿, |IIII|IIIIIIIIIIIIIIIIIIIIIIIIIIIIIIIIIIIIII|IIIIIIIIIIIIIIIIIIIIIIIIIIIIIIIlili, Página, 1, de, 4, ., Su, erservicios, ¡¡, RESOLUCIÓN, No, ., SSPD, -, 20178200479165, DEL, 1511, 212017, Expediente, No, ., 2017820390134511E, Por, la, cual, se, decide, un, Recurso, de, Apelación, EL, DIRECTOR, TERRITORIAL__NORTE, DE, LA, SUPERINTENDENCIA, DE, SERVICIOS, PUBLICOS, DOMICILIARIOS, En, ejercicio, de, sus, facultades, y, ,, en, especial, de, las, que, le, confiere, el, artículo, 79, numeral, 29, ,, ar-, tículos, 154, y, 159, de, la, Ley, 142, de, 1994, ,, modificados, ...]                                      \n",
       "8  [', ronos, PORUN, NUEVO, PAÍS, PAZ, EQUIDAD, EDUCACIÓN, *, ', ,, N, Hu…, __, amm, *, “, Su, erserv1c105, *, Super, ntendencia, de, Servicios, Públicos, Domiciliarios, SC…5V5, _, lIIII|IIIIIIIIIIII|IIIIIIIIIl|l|IIIIIIIIIIIIIIIIIIIIIIIIIIIIIII, IIIIIII, |||, Página, 1, de, 4, RESOLUCIÓN, No, ., SSPD, -, 20178200479175, DEL, 1511, 212017, Expediente, No, ., 2017820390134510E, Por, la, cual, se, decide, un, Recurso, de, Apelación, EL, DIRECTOR, TERRITORIAL¡NORTE, DE, LA, SUPERINTENDENCIA, DE, SERVICIOS, PUBLICOS, DOMICILIARIOS, En, ejercicio, de, sus, facultades, y, ,, en, especial, de, las, que, le, confiere, el, artículo, 79, numeral, 29, ,, ar-, ticulos, 154, y, 159, de, la, Ley, 142, de, 1994, ,, modificados, ...]                                               \n",
       "9  ['', ., Depir1, ¡¡¡¡¡, DNP…, -, :, ., _, l, :, I-I, Phneu'mn, (, TODOSPORU_N, N, P, I, &, Perl, !, oEuxooeeu, &, mgl, ?, Superservrcros, v, Superintendencia, de, Servicios, Públicos, Domiciliarios, so—F-oosv.os, |||I|IIIII|III|I|IIII|II||II||I||I||III|III|I|||I|IIIIIIII|IIIIIIIIIIII|Il||I|, Página, |, de, 4, nesoi.uc¡ón, No, ., SSPD, -, 201732004, ?, 9395, DEL, 15, !, 12l2017, Expediente, No, ., 20173203901340095, Por, la, cual, Se, Decide, un, RECURSO, DE, APELACION, EL, DIRECTOR, TERRITORIAL'NORTE, DE, LA, SUPERINTENDENCIA, DE, SERVICIOS, PUBLICOS, DOMICILIARIOS, En, ejercicio, de, sus, facultades, y, ,, en, especial, las, que, le, confiere, el, articulo, 79, numeral, 29, ,, artículos, 154, y, 159, de, la, Ley, 142, ...]                                      \n",
       "\n",
       "             Name  \n",
       "0  20178200478935  \n",
       "1  20178200478985  \n",
       "2  20178200479035  \n",
       "3  20178200479045  \n",
       "4  20178200479075  \n",
       "5  20178200479125  \n",
       "6  20178200479135  \n",
       "7  20178200479165  \n",
       "8  20178200479175  \n",
       "9  20178200479395  "
      ]
     },
     "execution_count": 5,
     "metadata": {},
     "output_type": "execute_result"
    }
   ],
   "source": [
    "letters"
   ]
  },
  {
   "cell_type": "code",
   "execution_count": 6,
   "metadata": {},
   "outputs": [
    {
     "name": "stdout",
     "output_type": "stream",
     "text": [
      "Cleaning took 14.40 seconds\n"
     ]
    }
   ],
   "source": [
    "#funcion de limpieza\n",
    "def cleanDocs(letters):\n",
    "    start = time()\n",
    "    clean_letters = []\n",
    "    for _, letter in letters.iterrows():\n",
    "    #proceso de normalizacion\n",
    "        words = [normalize('NFKD', word.lower()).encode('ascii', 'ignore').decode('utf-8') \n",
    "                 for word in letter['Text']]\n",
    "        # is alphabetic character, not is a stopword, not is a custom word, has at least three letters, \n",
    "        # has at least one vowel, has at least one consonant\n",
    "        words = [word for word in words if word not in stopwords.words('spanish')]\n",
    "        clean_letters.append(' '.join(words))\n",
    "    #impresion de tiempo de ejecucion\n",
    "    print('Cleaning took %.2f seconds' % (time() - start))\n",
    "    return pd.DataFrame(clean_letters)\n",
    "dup = letters.insert(1, 'CleanText', cleanDocs(letters))\n",
    "#6.38 minutos = 245 registros\n",
    "#238\n",
    "#322.76 seconds = 251"
   ]
  },
  {
   "cell_type": "code",
   "execution_count": 7,
   "metadata": {},
   "outputs": [],
   "source": [
    "#  resolucion sspd y la fecha, radicado padre, (articulo primero) y numero de decision junto la fecha de decision, \n",
    "#  extraer radicado re junto su fecha de radicacion"
   ]
  },
  {
   "cell_type": "code",
   "execution_count": 8,
   "metadata": {},
   "outputs": [],
   "source": [
    "def getfields(cleanText):\n",
    "             #resolution art first\n",
    "    search_result  = re.findall('\\s*resuelve\\s*articulo\\s*(primero|1)\\s*(\\w*)+|$', cleanText)\n",
    "    # number sspd\n",
    "    val_sspd=set(re.findall('\\s*sspd\\s(\\d{14})\\s', cleanText))\n",
    "    #date sspd\n",
    "    val_sspd_fe=set(re.findall('sspd\\s*\\d*\\sfecha\\s*(\\d*\\S*|\\d)', cleanText))\n",
    "    #expedient\n",
    "    val_expedient=set(re.findall('\\s(\\d*\\e)\\s', cleanText))  \n",
    "    #expedient father\n",
    "    val_expedient_father=set(re.findall('radicado\\spadre\\s(\\d{14})\\s', cleanText))\n",
    "    #number solve of decision \n",
    "    val_solve_decision=re.findall('\\s*resuelve\\s*articulo\\s*(primero|1)\\s*\\w*\\s*decision\\s*(administrativa| )\\s*(no|n0| )(\\d*)\\s', cleanText)\n",
    "    #date decision\n",
    "    val_decision_fe_2 = re.findall('\\s*resuelve\\s*articulo\\s*(primero|1)\\s*\\w*\\s*decision\\s*(administrativa| )\\s*(no|n0| )\\d*(\\s*\\d*\\s\\w*\\s\\d*\\s\\d*)+|$', cleanText)\n",
    "    val_decision_fe= re.findall('\\s*resuelve\\s*articulo\\s*(primero|1)\\s*\\w*\\s*decision\\s*(administrativa| )\\s*(no|n0| )\\d*(\\s*\\d*\\s\\w*\\s\\d*\\s\\d*)', cleanText)\n",
    "    # number_RE\n",
    "    val_number_re=set(re.findall('(no|n0| )\\s*(re{13})\\s', cleanText)) \n",
    "    # RE_date\n",
    "    val_re_fe=re.findall('(no|n0| )\\s*re\\d*\\s(\\d{2}\\s\\w*\\s\\d{4})',cleanText)\n",
    "\n",
    "\n",
    "    dc = {'resolucion':search_result,\n",
    "                  'sspd' : list(val_sspd)[0],\n",
    "                  'sspd_fecha' : list(val_sspd_fe)[0],\n",
    "                  'expediente_padre' : list(val_expedient_father)[0], \n",
    "                  'num_decision':val_solve_decision,\n",
    "                  'date_decision' :val_decision_fe,\n",
    "                  'radication_RE':list(val_number_re),\n",
    "                  'date_radication':val_re_fe}\n",
    "    return dc"
   ]
  },
  {
   "cell_type": "code",
   "execution_count": 20,
   "metadata": {},
   "outputs": [
    {
     "data": {
      "text/plain": [
       "'20178200478935'"
      ]
     },
     "execution_count": 20,
     "metadata": {},
     "output_type": "execute_result"
    }
   ],
   "source": [
    "letters['Name'].iloc[0] #[letters.Name == letters['Name']]"
   ]
  },
  {
   "cell_type": "code",
   "execution_count": 45,
   "metadata": {
    "scrolled": false
   },
   "outputs": [
    {
     "name": "stdout",
     "output_type": "stream",
     "text": [
      "Name doc 0  : 20178200478935 ->  {'sspd_fecha': ['151121201'], 'expediente_padre': [''], 'sspd': ['20173200473935'], 'radication_RE': 're1180201627151', 'date_radication_re': '25 julio 2016', 'date_decision': ' 8 agosto 2016 ', 'resolucion': 'modificar', 'num_decision': '4164666'}  \n",
      "\n",
      "Name doc 1  : 20178200478985 ->  {'sspd_fecha': ['151'], 'expediente_padre': [''], 'sspd': ['20176200476965'], 'radication_RE': 're1110201726206', 'date_radication_re': '05 julio 2017', 'date_decision': ' 14 julio 2017 ', 'resolucion': 'modificar', 'num_decision': '5087666'}  \n",
      "\n",
      "Name doc 2  : 20178200479035 ->  {'sspd_fecha': [], 'expediente_padre': [''], 'sspd': [], 'radication_RE': 're3110201721169', 'date_radication_re': '23 junio 2017', 'date_decision': ' 29 junio 2017 ', 'resolucion': 'modificar', 'num_decision': '5055536'}  \n",
      "\n",
      "Name doc 3  : 20178200479045 ->  {'sspd_fecha': ['15'], 'expediente_padre': [''], 'sspd': ['20178200479045'], 'radication_RE': 're3110201723077', 'date_radication_re': '11 julio 2017', 'date_decision': ' 14 julio 2017 ', 'resolucion': 'revocar', 'num_decision': '5099210'}  \n",
      "\n",
      "Name doc 4  : 20178200479075 ->  {'sspd_fecha': ['15'], 'expediente_padre': [''], 'sspd': ['20178200479075'], 'radication_RE': 're3410201714994', 'date_radication_re': '18 julio 2017', 'date_decision': '', 'resolucion': 'confirmar', 'num_decision': ''}  \n",
      "\n",
      "Name doc 5  : 20178200479125 ->  {'sspd_fecha': ['151122017'], 'expediente_padre': [''], 'sspd': ['20173200479125'], 'radication_RE': 're3340201700968', 'date_radication_re': '10 marzo 2017', 'date_decision': '', 'resolucion': 'modificar', 'num_decision': '4520836'}  \n",
      "\n",
      "Name doc 6  : 20178200479135 ->  {'sspd_fecha': ['151122017'], 'expediente_padre': [''], 'sspd': ['20178200479135'], 'radication_RE': 're1170201705649', 'date_radication_re': '15 febrero 2017', 'date_decision': ' 28 febrero 2017 ', 'resolucion': 'modificar', 'num_decision': '4696949'}  \n",
      "\n",
      "Name doc 7  : 20178200479165 ->  {'sspd_fecha': ['1511'], 'expediente_padre': [''], 'sspd': ['20178200479165'], 'radication_RE': 're9411201701467', 'date_radication_re': '27 febrero 2017', 'date_decision': '', 'resolucion': 'modificar', 'num_decision': ''}  \n",
      "\n",
      "Name doc 8  : 20178200479175 ->  {'sspd_fecha': ['1511'], 'expediente_padre': [''], 'sspd': ['20178200479175'], 'radication_RE': 're2210201716576', 'date_radication_re': '21 julio 2017', 'date_decision': '', 'resolucion': 'modificar', 'num_decision': ''}  \n",
      "\n",
      "Name doc 9  : 20178200479395 ->  {'sspd_fecha': [], 'expediente_padre': [''], 'sspd': [], 'radication_RE': 're4110201705795', 'date_radication_re': '30 mayo 2017', 'date_decision': '', 'resolucion': 'modificar', 'num_decision': '12'}  \n",
      "\n"
     ]
    }
   ],
   "source": [
    "nom_ar=0\n",
    "list_doc=[]\n",
    "while (nom_ar<=(len(letters)-1)):\n",
    "    cleanText = re.sub('[^\\w\\s]', '', letters[letters.Name == letters['Name'][nom_ar]].CleanText.values[0])\n",
    "    \n",
    "    search_result  = re.findall('\\s*resuelve\\s*articulo\\s*(primero|1)\\s*(\\w*)', cleanText)\n",
    "    # number sspd\n",
    "    val_sspd = set(re.findall('\\s*sspd\\s*(\\d{14})\\s', cleanText))\n",
    "    #date sspd\n",
    "    val_sspd_fe = set(re.findall('sspd\\s*\\d{14}\\s*\\s*(\\d*)\\s*', cleanText))\n",
    "    #expedient\n",
    "    val_expedient = set(re.findall('\\s(\\d*\\e)\\s', cleanText))  \n",
    "    #expedient father\n",
    "    val_expedient_father = set(re.findall('radicado\\spadre\\s(\\d{14})\\s+|$', cleanText))\n",
    "    #number solve of decision \n",
    "    val_solve_decision = re.findall('\\s*resuelve\\s*articulo\\s*(primero|1)\\s*\\w*\\s*decision\\s*(administrativa| )\\s*(no|n0| )(\\d*)\\s+|$', cleanText)\n",
    "    #date decision\n",
    "    val_decision_fe = re.findall('\\s*resuelve\\s*articulo\\s*(primero|1)\\s*\\w*\\s*decision\\s*(administrativa| )\\s*(no|n0| )\\d{7}(\\s*\\d*\\s\\w*\\s\\d*\\s\\d*)+|$', cleanText)\n",
    "    # number_RE\n",
    "    val_number_re = set(re.findall('\\s*(re\\d*)\\s+|$', cleanText)) \n",
    "    # RE_date\n",
    "    val_re_fe = re.findall('(no|n0| )\\s*re\\d*\\s(\\d{2}\\s\\w*\\s\\d{4})+|$',cleanText)\n",
    "\n",
    "    if list(val_number_re) != [('', '')]:\n",
    "        if list(val_number_re)[0][1] != '':\n",
    "            val_number_re = list(val_number_re)[2]\n",
    "        elif list(val_number_re)[0][1] != '':\n",
    "            val_number_re = list(val_number_re)\n",
    "    else:\n",
    "        val_number_re = list(val_number_re)[0][0]\n",
    "\n",
    "    dc = {'resolucion':search_result[0][1],\n",
    "                  'sspd' : list(val_sspd),\n",
    "                  'sspd_fecha' : list(val_sspd_fe),\n",
    "                  'expediente_padre' : list(val_expedient_father), \n",
    "                  'num_decision':list(val_solve_decision)[0][3],\n",
    "                  'date_decision' :list(val_decision_fe)[0][3],\n",
    "                  'radication_RE':val_number_re,\n",
    "                  'date_radication_re':list(val_re_fe)[0][1]}\n",
    "    print('Name doc',nom_ar,' :',letters['Name'].iloc[nom_ar],'-> ',dc,' \\n')\n",
    "    nom_ar=nom_ar+1\n",
    "    #save registry one to one\n",
    "    list_doc.append(dc)\n",
    "#add the list_doc to attribute of class    \n",
    "#letters.insert(1, 'dictionaryDoc', list_doc)\n",
    "\n",
    "#letters"
   ]
  },
  {
   "cell_type": "code",
   "execution_count": 10,
   "metadata": {},
   "outputs": [],
   "source": [
    "#20178200479035"
   ]
  },
  {
   "cell_type": "code",
   "execution_count": 52,
   "metadata": {},
   "outputs": [
    {
     "data": {
      "text/plain": [
       "'ropas pon nuevo pais paz equidad educacion dnp        nx amm supe ntendencia servicios publicos domiciliarios s5  iiiiiiiiiiiiiiiiiiiiiiiiiiiiiiiiiiiiiiiiiiiiiiiiiiiiiiiiiiiiiiiiiiiiiiiiilili pagina 1 4  erservicios  resolucion  sspd  20178200479165 1511 212017 expediente  2017820390134511e decide recurso apelacion director territorial__norte superintendencia servicios publicos domiciliarios ejercicio facultades  especial confiere articulo 79 numeral 29  ar ticulos 154 159 ley 142 1994  modificados porla ley 689 2001 articulo 20 nu merales 1 2 decreto 990 2002  modificado articulo 2 decreto 2590 2007  ley 1437 2011 fundamento siguientes  i antecedentes mediante peticion radicada sede prestador  re9411201701467 27 febrero 2017    husuario   nic  7559431 solicita  revocar cobro energia consumida dejada facturar valor  285980 facturada el periodo febrero 2017    prestador electrificadora caribe sa esp   electricaribe sa  esp   javier alonso lastra fuscaldo  mediante decision  4727774 10 marzo 2017  resolvio reclamacion presentada  acceder peticion    usuario   luis eduardo perez gamero  mediante radicado  re9411201701467 22 marzo 2017  presento rchrso reposicion subsidio apelacion decision tomada prestador  prestador electrificadora caribe sa esp   electricaribe sa esp   javier alonso lastra fuscaldo  identificada nit 8020076706  mediante acto administrativo  5178586 10 agosto 2017  resolvio decision recurrida concedio apelacion superintendencia  confirmar decision radicado bajo  20178201317722 fecha  1911012017    procedencia recurso apelacion verincados requisitos admisibilidad recursos interpuestos  conformidad articulo 77 cpa  ca   154 159 ley 142 1994  encuentra   senor   luis eduardo perez gamero  presento termino lleno requisitos legales recurso reposicion subsidio apelacion  superintendencia entra resolver recurso     lll  problema juridico resolver apelacion supuesto factico somete segunda instancia consideracion direccion territorial norte superintendencia servicios publicos domiciliarios constituye debate juridico resolver presente caso  consiste determinar si recuperacion consumos realizada empresa encuentra ajustado alcontrato condiciones sede principal  carrera 18 nro  8435  bogota dc codigo postal  110221 pbx  1  691 3005_fax  1  691 3059  sspdsuperserviciosgovco  linea atencion  1  691 3006 bogota  linea gratuita nacional 01 8000 91 03 05 nit  8002509846 calle 54  31  94  bucaramanga  colombia  codigo postal  680003 calle 26 norte  6 bis  19  cali  colombia  codigo postal  760046 cra  59  75 134 barranquilla  colombia  codigo postal  080001 calle 32 f diagonal 74 876 medellin  colombia  codigo postal  050031 avenida calle 19  13 12  bogota dc  codigo postal  110311 wwwsuperserviciosgovco c0145927 201782004  9165 pagina 2 4 uniformes  normatividad servicios publicos domiciliarios llevada cabo respeto garantias constitucionales derecho defensa asisten usuario  iv  pruebas obrantes expediente pruebas relacionan continuacion  obran dentro expediente envio prestador resolviera recurso apelacion  liquidacion ecdf  folio 50  factura ecdf  folio 49  acta revision 3900992 03022017  folio 5156   fundamentos soportes ecdf  folios 4648  facturas  folio 5761  v analisis despacho superintendencia servicios publicos domiciliarios ejercicio funciones previstas articulo 79  ley 142 1994  modificadas articulo 13 ley 689 2001  control vigilancia frente prestadoras servicios publicos domiciliarios  corresponde resolver recursos apelacion interpongan usuarios conforme establecido articulo 159 ley 142 1994  numeral 29   articulo 154  establecio mecanismos hacen posible defensa derechos usuarios suscriptores  poder presentar reclamaciones empresas prestadoras servicios publicos  mediante derecho peticion  obstante  defensa permitida encuentra limitante  cuanto establece  ningun caso  _groceden reclamaciones facturas gue mas cinco  5  meses haber sido expedidas empresas servicios publicos  subrayado texto    bajo anterior competencia  vez analizadas pruebas obran expediente cuenta argumentos   recurrente empresa prestadora servicio publico domiciliario energia electrica  direccion permite realizar sede apelacion  siguiente analisis  articulo 150 ley 142 1994  establece favor empresas posibilidad recuperar consumos  limite  lado caducidad cinco meses  respeto garantias fundamentales minimas asisten usuarios  respecto  debe precisar actuaciones administrativas empresas prestadoras servicios publicos domiciliarios  regladas  deben cenirse ley  mas aplicar cobros trata  forma tal comunidad quede sometida arbitrariedad capricho empleados empresa prestadora servicio publico domiciliario  manera  materializa mandato constitucional contenido articulo 4o superior cuanto deber toda persona colombia  acatar constitucion leyes   asi mismo relaciones juridicas empresas prestan servicios publicos domiciliarios usuarios  rigen constitucion politica  ley  especialmente leyes   1994 y__6i9_ 2001  regulacion respectivas comisiones  particular  contrato condiciones uniformes contrato servicios publicos domiciliarios  tal senala articulo _12_8_ dela ley 142 1994  asi todas aquellas estipulaciones empresa manera uniforme aplica prestacion servicio  anterior implica hace parte dicho contrato  compromete  sujetarse condiciones alli previstas prestacion   decir empresa usuario deben respetar cada clausulas contenidas contrato condiciones uniformes  parte  usuario hacer uso correcto servicio contratado  manipular conexiones  acometidas medidores  garantizar prestador pueda tomar forma oportuna real superintendencia servicios publicos domiciliarios wwwsuperserviciosgovco  sspdsuperserviciosgovco 201782004  9165 pagina 3 4 lectura consumo siendo elemento principal precio paga servicio recibido  medida  suscriptor usuario incurra alguna conductas  ademas hacerse acreedor consecuencias previstas articulos 140 ___4_1 ley 142 19942  dicho paso  solo pueden corresponder suspension servicio terminacion contrato  debe recbnocer prestador valor real  consumo efectivamente realizado causas  corresponde prestador probar  pudo determinarse  ahora si bien cierto empresa virtud articulo 150 ley 142 1994  puede efectuar facturacion dichos consumos  determinacion ser rewperado  procede unica exclusivamente dispone inciso segundo articulo 146 ley 142 1994    i  promedio ultimos consumos registrados mismo suscriptor   ii  promedio suscriptores usuarios esten circunstancias similares  0  iii  aforos individuales  situacion debe encontrarse definida contrato condiciones uniformes  cabe resaltar limitacion temporal establecida articulo 150 ley 142 1994  impone ademas carga legal prestadores solo pueden recuperar consumos aquellos periodos_en efectivamente puedan probar claro causas existio irregularidad anomalia permitio tomar forma oportuna real lecturas consumo finalmente viabiliza recuperacion cobro mismos  consecuencia  hacer efectivo derecho constitucional debido proceso derecho defensa necesario contratos servicios publicos exista acapite regule procedimientos  asi forma determinar claridad consumos dejados facturar  descendiendo caso quenos ocupaencontramos electrificadora caribe sa esp   electricaribe sa esp   javier alonso lastra fuscaldo allega expediente fundamento decision recuperacion consumos  acta visita hallazgo 3900992 03022017  folio 5156   mediante pretende recuperar periodo 5 meses  septiembre  octubre  noviembre  diciembre 2016 enero 2017 valor  285980  asi mismo cuenta contrato condiciones uniformes senala  clausula 49  factura debera acompanada liquidacion efectuada arreglo criterios defi nidos procedimiento anterior  debera informar usuario precision hechos  anomalias irregularidades encontrados  resultados delas verificaciones inspecciones  informacion demas documentos valorados  valor consumo medido registrado  forma calcularlo  senalar fundamentos tecnicos juridicos decision  docu mento acompanara copia actas inspecciones  revisiones demas documentos teni dos cuenta permitan usuario ejercer derecho contradiccion  acuerdo dos parrafos anteriores  comparativamente  decir cumplio requi sitos articulo 150 ley 42 1994  recuperar consumos  cuenta acta revision aportada dentro expediente virtual folio 5156 determina irregularidad presentado 5 periodos empresa pretenderecuperar co rrespondientes aseptiembre  octubre  noviembre  diciembre 2016  enero 2017 valor  285980 ello solo procedente recuperacion consumo periodo enero 2017  conforme anterior cuenta electrificadora caribe sa  esp   electricaribe sa esp   javier alonso lastra fuscaldo  probo anomalia presentado   periodo  3  pretende recuperar septiembre  octubre  noviembre diciembre 2016 valor  285980 valor  147100  asi tampoco podria recuperar perse solo manifestacion prestadora periodo alguno facturacion prueba razon impide ausencia medicion 0 toma lectura  cuenta acta aportada empresa determina irregularidad presentado losperiodos pretende recuperar empresa  anterior existe presuncion naturaleza constitucional  legal  reglamentaria regulatoria permita prestadores recuperar consumos periodos respecto cuales prueba plenamente existencia irregularidades impidan efectiva medicion consumo  determinacion consumo facturable   ausencia elementos probatorios adicionales  prestadorelectrlflcadora caribe sa esp   electricaribe sa esp   javier alonso lastra superintendencia servicios publicos domiciliarios wwwsuperserviciosgovco  sspdsuperserviciosgovco 20178200479165 pagina 4 4 fuscaldo podra recuperar consumos pretenden facturar septiembre  octubre  noviembre diciembre 2016 valor  285980  acuerdo expuesto despacho decide modificar decision empresarial 4727774 10 marzo 2017  recuperacion consumos  ordenando retirar 594kwh periodos septiembre  octubre  noviembre diciembre 2016  conforme razones anteriormente expuestas  merito expuesto  despacho resuelve  articulo primero modificar decision empresarial 4727774 10 marzo 2017  adelantado empresaelectrificadora caribe sa  esp   electricari be sa esp   javier alonso lastra fuscaldo  cuenta suscriptor  7559431  or denando retiro 594kwh periodos septiembre  octubre  noviembre diciembre 2016  conforme razones expuestas decision  paragrafo  prestador debera dar cumplimiento dispuesto presente resolucion  dentro diez  10  dias habiles siguientes fecha ejecutoria vencido termino mas tardar dia habil siguiente prestador debera enviar superintendencia servicios publicos domiciliarios constancia cumplimiento  acompanada pruebas respectivas  incumplimiento obligacion generara imposicion sanciones previstas articulo 90 ley 1437 2011  articulo segundo  notificar personalmente contenido resolucion senor luis eduardo perez gamero recibe notificaciones manzana k lt 9 manuel jimenez  ciudad monteria  cordoba  haciendole entrega copia misma  caso poderse surtir notificacion personal  procedase notificacion aviso  conformidad dispuesto articulo 69 ley 1437 2011 igual forma evento existir autorizacion expresa efectuar notificacion correo electronico procedera conforme establece articulo 67 cpaca direccion electronica   articulo tercero  notificar personalmente contenido resolucion representante legal empresa electrificadora caribe sa  esp   electricaribe sa  esp   javier alonso lastra fuscaldo  haga veces  puede ubicarse carrera 55  72  109 piso 7 ciudad barranquilla  atlantico  cumplimiento  haciendole entrega copia misma  caso poderse surtir notificacion personal  procedase notificacion aviso  conformidad dispuesto articulo 69 ley 1437 2011  igual forma evento existir autorizacion expresa prestadora efectuar notificacion correo electronico procedera conforme establece articulo 67 cpaca direccion electronica  servicios  uridicosecaelectricaribe    articulo cuarto presente resoluc n rig partir fecha notificacion proceden recursos encon rse ag tada via administrativa notifi c  mplase  ada bar quilla  _ _f     f f gust 0 adolfo dela  rosa berdejo directoraterritorial norte   f  proyecto  lvan chavez bonett abogado   contratista reviso  roxana ariza fortich  abogado   contratista superintendencia servicios publicos domiciliarios wwwsuperserviciosgovco  sspdsuperserviciosgovco'"
      ]
     },
     "execution_count": 52,
     "metadata": {},
     "output_type": "execute_result"
    }
   ],
   "source": [
    "re.sub('[^\\w\\s]', '', letters[letters.Name == '20178200479165'].CleanText.values[0]) "
   ]
  },
  {
   "cell_type": "code",
   "execution_count": 11,
   "metadata": {},
   "outputs": [],
   "source": [
    "#http://adventuresinmachinelearning.com/neural-networks-tutorial/"
   ]
  },
  {
   "cell_type": "code",
   "execution_count": 12,
   "metadata": {},
   "outputs": [],
   "source": [
    "lista = [('', ''), (' ', 're1110201723181')]"
   ]
  },
  {
   "cell_type": "code",
   "execution_count": 41,
   "metadata": {},
   "outputs": [],
   "source": [
    "lista3 = [(' ', ''), ('', '')]"
   ]
  },
  {
   "cell_type": "code",
   "execution_count": 42,
   "metadata": {},
   "outputs": [
    {
     "data": {
      "text/plain": [
       "True"
      ]
     },
     "execution_count": 42,
     "metadata": {},
     "output_type": "execute_result"
    }
   ],
   "source": [
    "lista2[1][1] != ''"
   ]
  },
  {
   "cell_type": "code",
   "execution_count": 47,
   "metadata": {},
   "outputs": [
    {
     "name": "stdout",
     "output_type": "stream",
     "text": [
      "re1110201723181\n"
     ]
    }
   ],
   "source": [
    "lista2[1][1]\n",
    "lista3[0][1]\n",
    "if lista[1][1] != '':\n",
    "    print(lista2[1][1])\n",
    "elif lista[0][1] != '':\n",
    "    print(lista3[0][1])"
   ]
  },
  {
   "cell_type": "code",
   "execution_count": null,
   "metadata": {},
   "outputs": [],
   "source": []
  }
 ],
 "metadata": {
  "kernelspec": {
   "display_name": "Python 3",
   "language": "python",
   "name": "python3"
  },
  "language_info": {
   "codemirror_mode": {
    "name": "ipython",
    "version": 3
   },
   "file_extension": ".py",
   "mimetype": "text/x-python",
   "name": "python",
   "nbconvert_exporter": "python",
   "pygments_lexer": "ipython3",
   "version": "3.5.4"
  }
 },
 "nbformat": 4,
 "nbformat_minor": 2
}
