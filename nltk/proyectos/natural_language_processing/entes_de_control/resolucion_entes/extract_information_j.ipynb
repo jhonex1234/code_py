{
 "cells": [
  {
   "cell_type": "code",
   "execution_count": 8,
   "metadata": {
    "collapsed": true
   },
   "outputs": [],
   "source": [
    "#librerias\n",
    "from glob import glob\n",
    "import nltk \n",
    "from nltk import tokenize\n",
    "from nltk.corpus import stopwords\n",
    "\n",
    "# nombrando la libreria\n",
    "import numpy as np\n",
    "import pandas as pd\n",
    "import re\n",
    "from time import time\n",
    "from unicodedata import normalize\n",
    "# object extract\n",
    "from extractField import extractField\n",
    "#nltk.download()\n",
    "pd.set_option('display.max_colwidth',-1)"
   ]
  },
  {
   "cell_type": "code",
   "execution_count": 9,
   "metadata": {
    "collapsed": true
   },
   "outputs": [],
   "source": [
    "#ruta1\n",
    "filelist = sorted(glob('/home/jhonex/document_e/*.txt'))\n",
    "#ruta2\n",
    "#filelist = glob('/home/jhonex/Documentos/codigo_py/proyectos/natural_language_processing/entes_de_control/resolucion_entes/entes_de_control_test/guion_1/*.txt')\n",
    "#ruta3\n",
    "#filelist = glob('/home/jhonex/Documentos/codigo_py/proyectos/natural_language_processing/entes_de_control/resolucion_entes/entes_de_control_test/guion_5/*.txt')"
   ]
  },
  {
   "cell_type": "code",
   "execution_count": 10,
   "metadata": {},
   "outputs": [
    {
     "data": {
      "text/html": [
       "<div>\n",
       "<table border=\"1\" class=\"dataframe\">\n",
       "  <thead>\n",
       "    <tr style=\"text-align: right;\">\n",
       "      <th></th>\n",
       "      <th>Text</th>\n",
       "      <th>Name</th>\n",
       "    </tr>\n",
       "  </thead>\n",
       "  <tbody>\n",
       "    <tr>\n",
       "      <th>0</th>\n",
       "      <td>[…, ., íb, Superservícios, …, ``, '', '', '', '', '', …, Tonos, »…, ., POR, UN, v, Superintendencia, de, Servicios, …, ..., “, ', ,, í, ,, '', ñfff'ºá_, ELECTRICARIBE, ¡yzquuxºe£vg, !, ñ, llllIllllllllIllllllllllllllllllljllllllllll, lllllllllllllllllllllllllllllllllI|ll|llllllllllllllilIll|llll, lllllll, Al, contestar, por, favor, cite, estos, datos, :, Radicado, No, ., :, 20178203064581, —, Í, Fecha, :, 2017-11-22, Rndleación, de, Entradn, -, Correspondencia, NT-F-OOG, V.2, Barranquilla, D.E.I.P, ., Página, 26, de, 62, Señor, (, a, ), ELECTRIFICADORA, DEL, CARIBE, S.A., E.S.P, ., CARRERA, 55, NO, ., 72, -, 109, PISO, 7, BARRANQUILLA, -, ATLANTICO, LA, DIRECCION, TERRITORIAL, NORTE, TENIENDO, EN, CUENTA, QUE, :, ...]</td>\n",
       "      <td>11122017132607 confirma</td>\n",
       "    </tr>\n",
       "    <tr>\n",
       "      <th>1</th>\n",
       "      <td>[erserVí, 55, '', Pel£endencia, de, SerScígs, ;, “, —-, ,, TODOS, POR, ``, …, Públicos, Domiciliarios, N, ``, EV, º, PAÍS, PAZ, EQUIDAD, EDUCACION, WWW…, …lilllilillllgiliilriiilll'itiiiiiliiggilinliil, ,, ., _Rad, do, No…, 20178203064571, *, ,, ``, Fecha, :, 2017-11-22, Radl, NT—F-006, v.2, º'º'º, '', de, Eflfrada, ., Correspond, enc, :, Barranquilla, D.E.I.P, ., %, Pág…, 25, de, 62, Señor, (, a, ), I, ., ELECTRIFICADORA, DEL, CARIBE, S.A., E., s., P., I, ºº'7, …, º, I, II, ', 1, IR, CARRERA, 55, No, 72, 109, PISO, 7, BARRANQUILLA-, ATLANTICO, “ff, %, %, $, U, 55IUBQ, ;, 1L, ,, x…, ., ¿UI, ...]</td>\n",
       "      <td>11122017132933 confirma</td>\n",
       "    </tr>\n",
       "    <tr>\n",
       "      <th>2</th>\n",
       "      <td>[.., Su, ', ', ``, DNp¿—¿, TODOS, Pon, un, ¿5, …, ?, .53£52£253£, $, uuevoms, Públicos, Domiciliarios, …, EQUIDAD, EDUCACION, IIIIIIIIIIIIIIIIIIIIIIIIII, ..'II'IIIEIIII, '', III, '', IIIII, '', III'ILIIILI, '', IIIIIII, —, :, I,3a, ;, ¿íix, do, No, ., :, 20178203064561, encia, NT-F-006, V, 2, Radicación, de, Entrada-, Correspº“d, ;, ', __…, .…ch, wf¡, …o, “F, Fecha, ', 2017_11_22, Página, 24, de, 62, Barranquilla, D.E.I.P, ., Señor, (, a, ), ELECTRIFICADORA, DEL, CARIBE, S.A., E.S.P, ., CARRERA, 55, NO, ., 72, -, 109, PISO, 7, BARRANQUILLA, -, ATLANTICO, -, ww..c……—u….., .…, ¿, ., &lt;, ., ., ,, ., NOTIFICACIÓN, P, ', ...]</td>\n",
       "      <td>11122017133150 confirma</td>\n",
       "    </tr>\n",
       "    <tr>\n",
       "      <th>3</th>\n",
       "      <td>[Q, íº, Superservícío, 5, ``, TODOS, mau, ., g, :, g¡fgfggºggfgggfº…ººs, NUEVO, PAÍg, PAZ, EQUIDAD, EDUCACION, ,, ], AIi¡IlllilillllllliliIIIIlllili, !, IIIIIlili, ), IIIIii/, !, IIIIIIIIIIIIIH/IHIII, lllllllllllllllllllli, estarpouavorc.te, estos, …, 3, 9, 4, 5, 5, u, '”, Amd—……, do, No.., 20178203064541, Fecha, :, 2017-11-22, …, ,, .__, &lt;, …, w, =—, “, ', c-¿“iu, ¡, ', ., NT'F'006, V-2, Radicación, de, Entrada, -, Correspondencia, -, —*»““…3ia, %, I, ,, w, Ú, Barranquilla, D.EQI.P, ., Pagina, 22, de, 62, Señor, (, a, ), ELECTRIFICADORA, DEL, CARIBE, S., A., E., S., P., CARRERA, 55, NO, ., 72-, 109, PISO, 7, BARRANQUILLA-, ATLANTICO, 207, ...]</td>\n",
       "      <td>11122017133429 confirma</td>\n",
       "    </tr>\n",
       "    <tr>\n",
       "      <th>4</th>\n",
       "      <td>[Superintendencia, de, Servicios, NUEVO, PA'S, Públicos, Domiciliarios, ``, “, ººº'º“º, ººº”º'º, '', allilllllllllllllllllll, …'Ei, '', lllºlllll, '', 'ill'l, '', 'll, !, '', l'í, !, !, 'l'l, !, l'J, !, '', !, !, £, !, 'li, !, l, _, Y, :, ', $, Superservicios, DN, ``, '', '', …a, :, Tonos, von, un, …“l“……, x¿, 3, 9, ¿, ., 5, 3, a, |, No, ., :, 20178203064401, NT—F-006, V, ¡, Radicación, de, Entrada, -, Correspondencla, .¿, ”_, Fecha, :, 2017-11-22, Página, 8, de, 62, Barranquilla, D.E.I.P.., Señor, (, a, ), ELECTRIFICADORA, DEL, CARIBE, S.A., E.S.P, ., CARRERA, 55, NO, ., 72, ...]</td>\n",
       "      <td>11122017133637 confirma</td>\n",
       "    </tr>\n",
       "  </tbody>\n",
       "</table>\n",
       "</div>"
      ],
      "text/plain": [
       "                                                                                                                                                                                                                                                                                                                                                                                                                                                                                                                                                                                                                                                                                                                                                      Text  \\\n",
       "0  […, ., íb, Superservícios, …, ``, '', '', '', '', '', …, Tonos, »…, ., POR, UN, v, Superintendencia, de, Servicios, …, ..., “, ', ,, í, ,, '', ñfff'ºá_, ELECTRICARIBE, ¡yzquuxºe£vg, !, ñ, llllIllllllllIllllllllllllllllllljllllllllll, lllllllllllllllllllllllllllllllllI|ll|llllllllllllllilIll|llll, lllllll, Al, contestar, por, favor, cite, estos, datos, :, Radicado, No, ., :, 20178203064581, —, Í, Fecha, :, 2017-11-22, Rndleación, de, Entradn, -, Correspondencia, NT-F-OOG, V.2, Barranquilla, D.E.I.P, ., Página, 26, de, 62, Señor, (, a, ), ELECTRIFICADORA, DEL, CARIBE, S.A., E.S.P, ., CARRERA, 55, NO, ., 72, -, 109, PISO, 7, BARRANQUILLA, -, ATLANTICO, LA, DIRECCION, TERRITORIAL, NORTE, TENIENDO, EN, CUENTA, QUE, :, ...]   \n",
       "1  [erserVí, 55, '', Pel£endencia, de, SerScígs, ;, “, —-, ,, TODOS, POR, ``, …, Públicos, Domiciliarios, N, ``, EV, º, PAÍS, PAZ, EQUIDAD, EDUCACION, WWW…, …lilllilillllgiliilriiilll'itiiiiiliiggilinliil, ,, ., _Rad, do, No…, 20178203064571, *, ,, ``, Fecha, :, 2017-11-22, Radl, NT—F-006, v.2, º'º'º, '', de, Eflfrada, ., Correspond, enc, :, Barranquilla, D.E.I.P, ., %, Pág…, 25, de, 62, Señor, (, a, ), I, ., ELECTRIFICADORA, DEL, CARIBE, S.A., E., s., P., I, ºº'7, …, º, I, II, ', 1, IR, CARRERA, 55, No, 72, 109, PISO, 7, BARRANQUILLA-, ATLANTICO, “ff, %, %, $, U, 55IUBQ, ;, 1L, ,, x…, ., ¿UI, ...]                                                                                                                                \n",
       "2  [.., Su, ', ', ``, DNp¿—¿, TODOS, Pon, un, ¿5, …, ?, .53£52£253£, $, uuevoms, Públicos, Domiciliarios, …, EQUIDAD, EDUCACION, IIIIIIIIIIIIIIIIIIIIIIIIII, ..'II'IIIEIIII, '', III, '', IIIII, '', III'ILIIILI, '', IIIIIII, —, :, I,3a, ;, ¿íix, do, No, ., :, 20178203064561, encia, NT-F-006, V, 2, Radicación, de, Entrada-, Correspº“d, ;, ', __…, .…ch, wf¡, …o, “F, Fecha, ', 2017_11_22, Página, 24, de, 62, Barranquilla, D.E.I.P, ., Señor, (, a, ), ELECTRIFICADORA, DEL, CARIBE, S.A., E.S.P, ., CARRERA, 55, NO, ., 72, -, 109, PISO, 7, BARRANQUILLA, -, ATLANTICO, -, ww..c……—u….., .…, ¿, ., <, ., ., ,, ., NOTIFICACIÓN, P, ', ...]                                                                                                       \n",
       "3  [Q, íº, Superservícío, 5, ``, TODOS, mau, ., g, :, g¡fgfggºggfgggfº…ººs, NUEVO, PAÍg, PAZ, EQUIDAD, EDUCACION, ,, ], AIi¡IlllilillllllliliIIIIlllili, !, IIIIIlili, ), IIIIii/, !, IIIIIIIIIIIIIH/IHIII, lllllllllllllllllllli, estarpouavorc.te, estos, …, 3, 9, 4, 5, 5, u, '”, Amd—……, do, No.., 20178203064541, Fecha, :, 2017-11-22, …, ,, .__, <, …, w, =—, “, ', c-¿“iu, ¡, ', ., NT'F'006, V-2, Radicación, de, Entrada, -, Correspondencia, -, —*»““…3ia, %, I, ,, w, Ú, Barranquilla, D.EQI.P, ., Pagina, 22, de, 62, Señor, (, a, ), ELECTRIFICADORA, DEL, CARIBE, S., A., E., S., P., CARRERA, 55, NO, ., 72-, 109, PISO, 7, BARRANQUILLA-, ATLANTICO, 207, ...]                                                                              \n",
       "4  [Superintendencia, de, Servicios, NUEVO, PA'S, Públicos, Domiciliarios, ``, “, ººº'º“º, ººº”º'º, '', allilllllllllllllllllll, …'Ei, '', lllºlllll, '', 'ill'l, '', 'll, !, '', l'í, !, !, 'l'l, !, l'J, !, '', !, !, £, !, 'li, !, l, _, Y, :, ', $, Superservicios, DN, ``, '', '', …a, :, Tonos, von, un, …“l“……, x¿, 3, 9, ¿, ., 5, 3, a, |, No, ., :, 20178203064401, NT—F-006, V, ¡, Radicación, de, Entrada, -, Correspondencla, .¿, ”_, Fecha, :, 2017-11-22, Página, 8, de, 62, Barranquilla, D.E.I.P.., Señor, (, a, ), ELECTRIFICADORA, DEL, CARIBE, S.A., E.S.P, ., CARRERA, 55, NO, ., 72, ...]                                                                                                                                               \n",
       "\n",
       "                      Name  \n",
       "0  11122017132607 confirma  \n",
       "1  11122017132933 confirma  \n",
       "2  11122017133150 confirma  \n",
       "3  11122017133429 confirma  \n",
       "4  11122017133637 confirma  "
      ]
     },
     "execution_count": 10,
     "metadata": {},
     "output_type": "execute_result"
    }
   ],
   "source": [
    "letters = []\n",
    "for file in filelist:\n",
    "    #apertura de todos los documentos que concuerden con la condicion\n",
    "    \n",
    "    with open(file, 'r') as txtfile:\n",
    "        letters.append((tokenize.word_tokenize(txtfile.read()), re.match('.*/(.*)-.*', file).group(1)))  \n",
    "letters = pd.DataFrame(letters, columns=['Text', 'Name'])\n",
    "letters = pd.DataFrame([(np.concatenate(letters[letters.Name == name].Text.values), name) \n",
    "                        for name in letters.Name.unique()], columns=['Text', 'Name'])\n",
    "\n",
    "letters\n"
   ]
  },
  {
   "cell_type": "code",
   "execution_count": 11,
   "metadata": {},
   "outputs": [
    {
     "name": "stdout",
     "output_type": "stream",
     "text": [
      "Cleaning took 7.68 seconds\n"
     ]
    }
   ],
   "source": [
    "    #funcion de limpieza\n",
    "\n",
    "    def cleanDocs(letters):\n",
    "        start = time()\n",
    "        clean_letters = []\n",
    "        for _, letter in letters.iterrows():\n",
    "        #proceso de normalizacion\n",
    "            words = [normalize('NFKD', word.lower()).encode('ascii', 'ignore').decode('utf-8') for word in letter['Text']]\n",
    "            # is alphabetic character, not is a stopword, not is a custom word, has at least three letters, \n",
    "            # has at least one vowel, has at least one consonant\n",
    "            words = [word for word in words if word not in stopwords.words('spanish')]\n",
    "            clean_letters.append(' '.join(words))\n",
    "        #impresion de tiempo de ejecucion\n",
    "        print('Cleaning took %.2f seconds' % (time() - start))\n",
    "        return pd.DataFrame(clean_letters)\n",
    "    dup = letters.insert(1, 'CleanText', cleanDocs(letters))\n",
    "    #6.38 minutos = 245 registros\n",
    "    #238\n",
    "    #322.76 seconds = 251\n"
   ]
  },
  {
   "cell_type": "code",
   "execution_count": 13,
   "metadata": {
    "scrolled": false
   },
   "outputs": [
    {
     "name": "stdout",
     "output_type": "stream",
     "text": [
      "_____________________________________________________________________________doc 0 \n",
      "\n",
      "doc-> 11122017132607 confirma  \n",
      " {'num_decision': ([('primero', 'administrativa', ' ', '5020051')], [('primero', 'administrativa', ' ', ' 16 junio 2017 ')]), 'sspd': ({'20178200393205'}, {'01112017'}), 'resolucion': [('primero', 'confirmar')], 'expediente_padre': {'20178201055872'}, 'radicado_RE': ({(' ', 're1110201723181')}, [(' ', '05 julio 2017')])} \n",
      "\n",
      "_____________________________________________________________________________doc 1 \n",
      "\n",
      "doc-> 11122017132933 confirma  \n",
      " {'num_decision': ([('primero', 'administrativa', ' ', '')], [('primero', 'administrativa', ' ', ' re1110201723149 13 ')]), 'sspd': ({'20178200393215'}, {'01112017'}), 'resolucion': [('primero', 'confirmar')], 'expediente_padre': {'20178201055852'}, 'radicado_RE': ({(' ', 're1110201723149')}, [(' ', '13 junio 2017'), (' ', '07 julio 2017'), (' ', '13 junio 2017')])} \n",
      "\n",
      "_____________________________________________________________________________doc 2 \n",
      "\n",
      "doc-> 11122017133150 confirma  \n",
      " {'num_decision': ([('primero', 'administrativa', ' ', '')], [('primero', 'administrativa', ' ', ' re1120201722590 22 ')]), 'sspd': ({'20178200393225'}, {'01112017'}), 'resolucion': [('primero', 'confirmar')], 'expediente_padre': {'20178201055392'}, 'radicado_RE': ({(' ', 're1120201722590')}, [(' ', '09 junio 2017'), (' ', '22 junio 2017'), (' ', '10 julio 2017'), (' ', '22 junio 2017')])} \n",
      "\n",
      "_____________________________________________________________________________doc 3 \n",
      "\n",
      "doc-> 11122017133429 confirma  \n",
      " {'num_decision': ([('primero', 'administrativa', ' ', '')], [('primero', 'administrativa', ' ', ' re1110201722568 11 ')]), 'sspd': ({'20178200393245'}, {'01112017'}), 'resolucion': [('primero', 'confirmar')], 'expediente_padre': {'20178201055352'}, 'radicado_RE': ({(' ', 're1110201722568')}, [(' ', '09 junio 2017'), (' ', '11 julio 2017'), (' ', '11 julio 2017'), (' ', '11 julio 2017')])} \n",
      "\n",
      "_____________________________________________________________________________doc 4 \n",
      "\n",
      "doc-> 11122017133637 confirma  \n",
      " {'num_decision': ([('primero', 'administrativa', 'no', '5116594')], [('primero', 'administrativa', 'no', ' 21 julio 2017 ')]), 'sspd': ({'20178200393395'}, {'01112017'}), 'resolucion': [('primero', 'confirmar')], 'expediente_padre': {'20178201051872'}, 'radicado_RE': (set(), [])} \n",
      "\n"
     ]
    }
   ],
   "source": [
    "nom_ar,valor=0,0\n",
    "lista=[]\n",
    "\n",
    "while (nom_ar<=(len(letters)-1)):\n",
    "    \n",
    "    cleanText = re.sub('[^\\w\\s]', '', letters[letters.Name == letters['Name'][nom_ar]].CleanText.values[0])\n",
    "        \n",
    "    nom_ar=nom_ar+1\n",
    "    \n",
    "    #resolution art first\n",
    "    search_result  = re.findall('\\s*resuelve\\s*articulo\\s*(primero|1)\\s*(\\w*)', cleanText)\n",
    "    # number sspd\n",
    "    val_sspd=set(re.findall('\\s*sspd\\s(\\d{14})\\s', cleanText))\n",
    "    #date sspd\n",
    "    val_sspd_fe=set(re.findall('sspd\\s*\\d*\\sfecha\\s*(\\d*\\S*|\\d)', cleanText))\n",
    "    #expedient\n",
    "    val_expedient=set(re.findall('\\s(\\d*\\e)\\s', cleanText))  \n",
    "    #expedient father\n",
    "    val_expedient_father=set(re.findall('radicado\\spadre\\s(\\d{14})\\s', cleanText))\n",
    "    #number solve of decision \n",
    "    val_solve_decision=re.findall('\\s*resuelve\\s*articulo\\s*(primero|1)\\s*\\w*\\s*decision\\s*(administrativa| )\\s*(no|n0| )(\\d*)\\s', cleanText)\n",
    "    #date decision\n",
    "    val_decision_fe= re.findall('\\s*resuelve\\s*articulo\\s*(primero|1)\\s*\\w*\\s*decision\\s*(administrativa| )\\s*(no|n0| )\\d*(\\s*\\d*\\s\\w*\\s\\d*\\s\\d*)', cleanText)\n",
    "    # number_RE\n",
    "    val_number_re=set(re.findall('(no|n0| )\\s*(re\\d*)\\s', cleanText)) \n",
    "    # RE_date\n",
    "    val_re_fe=re.findall('(no|n0| )\\s*re\\d*\\s(\\d{2}\\s\\w*\\s\\d{4})',cleanText)\n",
    "\n",
    "    \n",
    "    dc = {'resolucion':search_result,'sspd' : (val_sspd, val_sspd_fe),'expediente_padre' : val_expedient_father , \n",
    "          'num_decision':(val_solve_decision , val_decision_fe) , 'radicado_RE':(val_number_re , val_re_fe)}\n",
    "    \n",
    "    lista.append(dc)\n",
    "    print('_____________________________________________________________________________doc',valor,'\\n')\n",
    "    print('doc->',letters['Name'][valor],' \\n',dc,'\\n')\n",
    "    valor = valor+1"
   ]
  },
  {
   "cell_type": "code",
   "execution_count": null,
   "metadata": {
    "collapsed": true
   },
   "outputs": [],
   "source": [
    "#  resolucion sspd y la fecha, radicado padre, (articulo primero) y numero de decision junto la fecha de decision, \n",
    "#  extraer radicado re junto su fecha de radicacion"
   ]
  },
  {
   "cell_type": "code",
   "execution_count": 7,
   "metadata": {},
   "outputs": [
    {
     "data": {
      "text/plain": [
       "[('primero', '. decicion')]"
      ]
     },
     "execution_count": 7,
     "metadata": {},
     "output_type": "execute_result"
    }
   ],
   "source": [
    "re.findall('\\s*resuelve\\s*articulo\\s*(primero|1)\\s*(.*).*', '    resuelve   articulo primero. decicion')"
   ]
  },
  {
   "cell_type": "code",
   "execution_count": 8,
   "metadata": {
    "collapsed": true
   },
   "outputs": [],
   "source": [
    "#  resolucion sspd y la fecha sspd\n",
    "ToTest = re.sub('[^\\w\\s]', '', letters[letters.Name == '11122017133429 confirma'].CleanText.values[0])  \n",
    "    \n",
    "# number_RE\n",
    "#number solve of decision \n",
    "# decision administrativa  re1210201617685 26 diciembre 2016\n",
    "#val3=re.findall('\\s*resuelve\\s*articulo\\s*(primero|1)\\s*\\w*\\s*decision\\s*(administrativa| )\\s*(\\d*)\\s', ToTest)\n",
    "\n",
    "#date decision\n",
    "#val3_fe= re.findall('\\s*resuelve\\s*articulo\\s*(primero|1)\\s*\\w*\\s*decision\\s*(administrativa\\s*| )\\d*(\\s*\\d*\\s\\w*\\s\\d*\\s\\d*)',ToTest)"
   ]
  },
  {
   "cell_type": "code",
   "execution_count": 9,
   "metadata": {},
   "outputs": [
    {
     "data": {
      "text/plain": [
       "'confirmar'"
      ]
     },
     "execution_count": 9,
     "metadata": {},
     "output_type": "execute_result"
    }
   ],
   "source": [
    "#resolucion articulo primero\n",
    "results = re.findall('\\s*resuelve\\s*articulo\\s*(primero|1)\\s*(\\w*)', ToTest)\n",
    "results[0][1]"
   ]
  },
  {
   "cell_type": "code",
   "execution_count": 10,
   "metadata": {},
   "outputs": [
    {
     "data": {
      "text/plain": [
       "'confirmar'"
      ]
     },
     "execution_count": 10,
     "metadata": {},
     "output_type": "execute_result"
    }
   ],
   "source": [
    "#resolution art first\n",
    "results = re.findall('\\s*resuelve\\s*articulo\\s*(primero|1)\\s*(\\w*)', ToTest)\n",
    "results[0][1]"
   ]
  },
  {
   "cell_type": "code",
   "execution_count": 11,
   "metadata": {},
   "outputs": [
    {
     "data": {
      "text/plain": [
       "{'20178200393245'}"
      ]
     },
     "execution_count": 11,
     "metadata": {},
     "output_type": "execute_result"
    }
   ],
   "source": [
    "# number sspd\n",
    "val1=set(re.findall('n\\s*sspd\\s*(\\d{14})\\s', ToTest))\n",
    "val1"
   ]
  },
  {
   "cell_type": "code",
   "execution_count": 12,
   "metadata": {},
   "outputs": [
    {
     "data": {
      "text/plain": [
       "{'01112017'}"
      ]
     },
     "execution_count": 12,
     "metadata": {},
     "output_type": "execute_result"
    }
   ],
   "source": [
    "#date sspd\n",
    "val1_fe=set(re.findall('sspd\\s*\\d*\\sfecha\\s*(\\d*\\S*|\\d)', ToTest))\n",
    "val1_fe"
   ]
  },
  {
   "cell_type": "code",
   "execution_count": 13,
   "metadata": {},
   "outputs": [
    {
     "data": {
      "text/plain": [
       "{'2017820390127512e', 'e'}"
      ]
     },
     "execution_count": 13,
     "metadata": {},
     "output_type": "execute_result"
    }
   ],
   "source": [
    "#expedient\n",
    "val2=set(re.findall('\\s(\\d*\\e)\\s', ToTest))\n",
    "val2"
   ]
  },
  {
   "cell_type": "code",
   "execution_count": 14,
   "metadata": {},
   "outputs": [
    {
     "data": {
      "text/plain": [
       "{'20178201055352'}"
      ]
     },
     "execution_count": 14,
     "metadata": {},
     "output_type": "execute_result"
    }
   ],
   "source": [
    "#expedient father\n",
    "numero=set(re.findall('radicado\\spadre\\s(\\d{14})\\s', ToTest))\n",
    "numero"
   ]
  },
  {
   "cell_type": "code",
   "execution_count": 15,
   "metadata": {},
   "outputs": [
    {
     "data": {
      "text/plain": [
       "[('primero', 'administrativa', '')]"
      ]
     },
     "execution_count": 15,
     "metadata": {},
     "output_type": "execute_result"
    }
   ],
   "source": [
    "#number solve of decision \n",
    "val3=re.findall('\\s*resuelve\\s*articulo\\s*(primero|1)\\s*\\w*\\s*decision\\s*(administrativa| )\\s*(\\d*)\\s', ToTest)\n",
    "val3"
   ]
  },
  {
   "cell_type": "code",
   "execution_count": 16,
   "metadata": {},
   "outputs": [
    {
     "data": {
      "text/plain": [
       "[('primero', 'administrativa ', ' re1110201722568 11 ')]"
      ]
     },
     "execution_count": 16,
     "metadata": {},
     "output_type": "execute_result"
    }
   ],
   "source": [
    "#date decision\n",
    "val3_fe= re.findall('\\s*resuelve\\s*articulo\\s*(primero|1)\\s*\\w*\\s*decision\\s*(administrativa\\s*| )\\d*(\\s*\\d*\\s\\w*\\s\\d*\\s\\d*)', ToTest)\n",
    "val3_fe"
   ]
  },
  {
   "cell_type": "code",
   "execution_count": 17,
   "metadata": {},
   "outputs": [
    {
     "data": {
      "text/plain": [
       "{(' ', 're1110201722568')}"
      ]
     },
     "execution_count": 17,
     "metadata": {},
     "output_type": "execute_result"
    }
   ],
   "source": [
    "# number_RE\n",
    "val4=set(re.findall('(no|n0| )\\s*(re\\d*)\\s', ToTest))    \n",
    "val4"
   ]
  },
  {
   "cell_type": "code",
   "execution_count": 18,
   "metadata": {},
   "outputs": [
    {
     "data": {
      "text/plain": [
       "[(' ', '09 junio 2017'),\n",
       " (' ', '11 julio 2017'),\n",
       " (' ', '11 julio 2017'),\n",
       " (' ', '11 julio 2017')]"
      ]
     },
     "execution_count": 18,
     "metadata": {},
     "output_type": "execute_result"
    }
   ],
   "source": [
    "# RE_date\n",
    "val4_fe=re.findall('(no|n0| )\\s*re\\d*\\s(\\d{2}\\s\\w*\\s\\d{4})',ToTest)\n",
    "val4_fe"
   ]
  },
  {
   "cell_type": "code",
   "execution_count": 19,
   "metadata": {},
   "outputs": [
    {
     "data": {
      "text/plain": [
       "{'expediente_padre': {'20178201055352'},\n",
       " 'num_decision': ([('primero', 'administrativa', '')],\n",
       "  [('primero', 'administrativa ', ' re1110201722568 11 ')]),\n",
       " 'radicado_RE': ({(' ', 're1110201722568')},\n",
       "  [(' ', '09 junio 2017'),\n",
       "   (' ', '11 julio 2017'),\n",
       "   (' ', '11 julio 2017'),\n",
       "   (' ', '11 julio 2017')]),\n",
       " 'resolucion': [('primero', 'confirmar')],\n",
       " 'sspd': ({'20178200393245'}, {'01112017'})}"
      ]
     },
     "execution_count": 19,
     "metadata": {},
     "output_type": "execute_result"
    }
   ],
   "source": [
    "dic = {'resolucion':results,'sspd' : (val1,val1_fe),'expediente_padre' : numero,\n",
    "          'num_decision':(val3,val3_fe),'radicado_RE':(val4,val4_fe)}\n",
    "dic"
   ]
  },
  {
   "cell_type": "code",
   "execution_count": null,
   "metadata": {
    "collapsed": true
   },
   "outputs": [],
   "source": [
    "ToTest"
   ]
  },
  {
   "cell_type": "code",
   "execution_count": null,
   "metadata": {
    "collapsed": true
   },
   "outputs": [],
   "source": []
  },
  {
   "cell_type": "code",
   "execution_count": null,
   "metadata": {
    "collapsed": true
   },
   "outputs": [],
   "source": []
  }
 ],
 "metadata": {
  "kernelspec": {
   "display_name": "Python 3",
   "language": "python",
   "name": "python3"
  },
  "language_info": {
   "codemirror_mode": {
    "name": "ipython",
    "version": 3
   },
   "file_extension": ".py",
   "mimetype": "text/x-python",
   "name": "python",
   "nbconvert_exporter": "python",
   "pygments_lexer": "ipython3",
   "version": "3.5.4"
  }
 },
 "nbformat": 4,
 "nbformat_minor": 2
}
