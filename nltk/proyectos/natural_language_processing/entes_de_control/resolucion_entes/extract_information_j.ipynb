{
 "cells": [
  {
   "cell_type": "code",
   "execution_count": 1,
   "metadata": {},
   "outputs": [],
   "source": [
    "#librerias\n",
    "from glob import glob\n",
    "import nltk \n",
    "from nltk import tokenize\n",
    "from nltk.corpus import stopwords\n",
    "\n",
    "# nombrando la libreria\n",
    "import numpy as np\n",
    "import pandas as pd\n",
    "import re\n",
    "from time import time\n",
    "from unicodedata import normalize\n",
    "# object extract\n",
    "from extractField import extractField\n",
    "#nltk.download()\n",
    "pd.set_option('display.max_colwidth',-1)\n",
    "import json\n",
    "import psycopg2\n",
    "import pg\n",
    "from datetime import datetime"
   ]
  },
  {
   "cell_type": "code",
   "execution_count": 2,
   "metadata": {},
   "outputs": [],
   "source": [
    "#ruta1\n",
    "filelist = sorted(glob('/home/jhonex/document_e1/*.txt'))\n",
    "#ruta2\n",
    "#filelist = glob('/home/jhonex/Documentos/codigo_py_soport/nltk/proyectos/natural_language_processing/entes_de_control/resolucion_entes/entes_de_control_test/guion_1/*.txt')\n",
    "#ruta3\n",
    "#filelist = glob('/home/jhonex/Documentos/codigo_py_soport/nltk/proyectos/natural_language_processing/entes_de_control/resolucion_entes/entes_de_control_test/guion_5/*.txt')"
   ]
  },
  {
   "cell_type": "code",
   "execution_count": 3,
   "metadata": {},
   "outputs": [],
   "source": [
    "letters = []\n",
    "for file in filelist:\n",
    "    #apertura de todos los documentos que concuerden con la condicion\n",
    "    \n",
    "    with open(file, 'r') as txtfile:\n",
    "        letters.append((tokenize.word_tokenize(txtfile.read()), re.match('.*/(.*)-.*', file).group(1)))  \n",
    "letters = pd.DataFrame(letters, columns=['Text', 'Name'])\n",
    "letters = pd.DataFrame([(np.concatenate(letters[letters.Name == name].Text.values), name) \n",
    "                        for name in letters.Name.unique()], columns=['Text', 'Name'])\n",
    "\n",
    "#letters\n"
   ]
  },
  {
   "cell_type": "code",
   "execution_count": 4,
   "metadata": {},
   "outputs": [
    {
     "data": {
      "text/html": [
       "<div>\n",
       "<style scoped>\n",
       "    .dataframe tbody tr th:only-of-type {\n",
       "        vertical-align: middle;\n",
       "    }\n",
       "\n",
       "    .dataframe tbody tr th {\n",
       "        vertical-align: top;\n",
       "    }\n",
       "\n",
       "    .dataframe thead th {\n",
       "        text-align: right;\n",
       "    }\n",
       "</style>\n",
       "<table border=\"1\" class=\"dataframe\">\n",
       "  <thead>\n",
       "    <tr style=\"text-align: right;\">\n",
       "      <th></th>\n",
       "      <th>Text</th>\n",
       "      <th>Name</th>\n",
       "    </tr>\n",
       "  </thead>\n",
       "  <tbody>\n",
       "    <tr>\n",
       "      <th>0</th>\n",
       "      <td>[…, ., íb, Superservícios, …, ``, '', '', '', '', '', …, Tonos, », …, ., POR, UN, v, Superintendencia, de, Servicios, …, ..., “, ', ,, í, ,, '', ñfff'ºá_, ELECTRICARIBE, ¡yzquuxºe£vg, !, ñ, llllIllllllllIllllllllllllllllllljllllllllll, lllllllllllllllllllllllllllllllllI|ll|llllllllllllllilIll|llll, lllllll, Al, contestar, por, favor, cite, estos, datos, :, Radicado, No, ., :, 20178203064581, —, Í, Fecha, :, 2017-11-22, Rndleación, de, Entradn, -, Correspondencia, NT-F-OOG, V.2, Barranquilla, D.E.I.P, ., Página, 26, de, 62, Señor, (, a, ), ELECTRIFICADORA, DEL, CARIBE, S.A., E.S.P, ., CARRERA, 55, NO, ., 72, -, 109, PISO, 7, BARRANQUILLA, -, ATLANTICO, LA, DIRECCION, TERRITORIAL, NORTE, TENIENDO, EN, CUENTA, QUE, ...]</td>\n",
       "      <td>11122017132607 confirma</td>\n",
       "    </tr>\n",
       "    <tr>\n",
       "      <th>1</th>\n",
       "      <td>[erserVí, 55, '', Pel£endencia, de, SerScígs, ;, “, —-, ,, TODOS, POR, ``, …, Públicos, Domiciliarios, N, ``, EV, º, PAÍS, PAZ, EQUIDAD, EDUCACION, WWW…, …lilllilillllgiliilriiilll'itiiiiiliiggilinliil, ,, ., _Rad, do, No…, 20178203064571, *, ,, ``, Fecha, :, 2017-11-22, Radl, NT—F-006, v.2, º'º'º, '', de, Eflfrada, ., Correspond, enc, :, Barranquilla, D.E.I.P, ., %, Pág…, 25, de, 62, Señor, (, a, ), I, ., ELECTRIFICADORA, DEL, CARIBE, S.A., E., s., P., I, ºº'7, …, º, I, II, ', 1, IR, CARRERA, 55, No, 72, 109, PISO, 7, BARRANQUILLA-, ATLANTICO, “, ff, %, %, $, U, 55IUBQ, ;, 1L, ,, x…, ., ...]</td>\n",
       "      <td>11122017132933 confirma</td>\n",
       "    </tr>\n",
       "    <tr>\n",
       "      <th>2</th>\n",
       "      <td>[.., Su, ', ', ``, DNp¿—¿, TODOS, Pon, un, ¿5, …, ?, .53£52£253£, $, uuevoms, Públicos, Domiciliarios, …, EQUIDAD, EDUCACION, IIIIIIIIIIIIIIIIIIIIIIIIII, ..'II'IIIEIIII, '', III, '', IIIII, '', III'ILIIILI, '', IIIIIII, —, :, I,3a, ;, ¿íix, do, No, ., :, 20178203064561, encia, NT-F-006, V, 2, Radicación, de, Entrada-, Correspº, “, d, ;, ', __…, .…ch, wf¡, …o, “, F, Fecha, ', 2017_11_22, Página, 24, de, 62, Barranquilla, D.E.I.P, ., Señor, (, a, ), ELECTRIFICADORA, DEL, CARIBE, S.A., E.S.P, ., CARRERA, 55, NO, ., 72, -, 109, PISO, 7, BARRANQUILLA, -, ATLANTICO, -, ww..c……—u….., .…, ¿, ., &lt;, ., ., ,, ., ...]</td>\n",
       "      <td>11122017133150 confirma</td>\n",
       "    </tr>\n",
       "    <tr>\n",
       "      <th>3</th>\n",
       "      <td>[Q, íº, Superservícío, 5, ``, TODOS, mau, ., g, :, g¡fgfggºggfgggfº…ººs, NUEVO, PAÍg, PAZ, EQUIDAD, EDUCACION, ,, ], AIi¡IlllilillllllliliIIIIlllili, !, IIIIIlili, ), IIIIii/, !, IIIIIIIIIIIIIH/IHIII, lllllllllllllllllllli, estarpouavorc.te, estos, …, 3, 9, 4, 5, 5, u, ', ”, Amd—……, do, No.., 20178203064541, Fecha, :, 2017-11-22, …, ,, .__, &lt;, …, w, =—, “, ', c-¿, “, iu, ¡, ', ., NT'F'006, V-2, Radicación, de, Entrada, -, Correspondencia, -, —*, », “, “, …3ia, %, I, ,, w, Ú, Barranquilla, D.EQI.P, ., Pagina, 22, de, 62, Señor, (, a, ), ELECTRIFICADORA, DEL, CARIBE, S., A., E., S., P., CARRERA, 55, NO, ., ...]</td>\n",
       "      <td>11122017133429 confirma</td>\n",
       "    </tr>\n",
       "    <tr>\n",
       "      <th>4</th>\n",
       "      <td>[Superintendencia, de, Servicios, NUEVO, PA'S, Públicos, Domiciliarios, ``, “, ººº'º, “, º, ººº, ”, º'º, '', allilllllllllllllllllll, …'Ei, '', lllºlllll, '', 'ill'l, '', 'll, !, '', l'í, !, !, 'l'l, !, l'J, !, '', !, !, £, !, 'li, !, l, _, Y, :, ', $, Superservicios, DN, ``, '', '', …a, :, Tonos, von, un, …, “, l, “, ……, x¿, 3, 9, ¿, ., 5, 3, a, |, No, ., :, 20178203064401, NT—F-006, V, ¡, Radicación, de, Entrada, -, Correspondencla, .¿, ”, _, Fecha, :, 2017-11-22, Página, 8, de, 62, Barranquilla, D.E.I.P.., Señor, (, a, ), ELECTRIFICADORA, DEL, ...]</td>\n",
       "      <td>11122017133637 confirma</td>\n",
       "    </tr>\n",
       "    <tr>\n",
       "      <th>5</th>\n",
       "      <td>[TODOS, POR, UN, NUEVO, PAÍS, PAZ, EQUIDAD, EDUCACION, ., DNP, :, —=º'l—E, ., Su, erservicios, Supe, ntendencia, de, Servicios, Públicos, Domiciliarios, so……, I.…, IIIIIIIIIIIIIIII||IIIIIIIIIIIIIIIlllllllllllllllllllllIIIIIIIIIIIIIIIIIIIIIII, Página, |, de, 4, ., e, v, RESOLUCIÓN, No, ., SSPD, -, 20173200473935, DEL, 151121201, ?, Expediente, No, ., 2017820390139316E, ', Por, la, cual, Se, Decide, un, RECURSO, DE, APELACION, EL, DIRECTOR, TERRITORIAL_NORTE, DE, LA, SUPERINTENDENCIA, DE, SERVICIOS, PUBLICOS, DOMICILIARIOS, En, ejercicio, de, sus, faCultades, y, ,, en, especial, las, que, le, confiere, el, articulo, 79numeral, 29, ,, artículos, 154, y, 159, de, la, Ley, 142, de, 1994, ,, modificada, por, la, Ley, 689, de, 2001, ...]</td>\n",
       "      <td>20178200478935</td>\n",
       "    </tr>\n",
       "    <tr>\n",
       "      <th>6</th>\n",
       "      <td>[ronasponqn, NUEVO, PAIS, PAZ, EQUIDAD, EDUEAEIDN, “, ., Dip, nnnnn, to, DNP…, », ., _, de, PL.-nurión, II, ., &lt;, b-, Su, perservicios, *, Superintendencia, de, Servicios, Públicos, Domiciliarios, sc-F-ees, %, |III|II, IIIII, II|I|, Ill|l, ||I||, II|II, III|I, III, ``, |, '', I|III|III|, II||I|I, ||, II, II, |||, Página, |, de, 5, RESOLUCIÓN, No, ., SSPD, —, 20176200476965, DEL, 151, 2201, ?, Expediente, No, ., 201762039U135172E, Por, la, cual, se, decide, un, Recurso, de, Apelación, EL, DIRECTOR, TERRITORIAL'NORTE, DE, LA, SUPERINTENDENCIA, DE, SERVICIOS, PUBLICOS, DOMICILIARIOS, En, ejercicio, de, sus, facultades, y, ,, en, especial, de, las, que, le, confiere, el, ...]</td>\n",
       "      <td>20178200478985</td>\n",
       "    </tr>\n",
       "    <tr>\n",
       "      <th>7</th>\n",
       "      <td>[TODOS, POR, un, NUEVO, PAÍS, PAZ, EQUIDAD, EDUCACION, En…, …, ., ., Su, erservicios, Super, ntendencia, de, Servicios, Públicos, Domiciliarios, SC-F…5, ……, ', |, ', IIIIIIIIIIIIIIIIIIIIIIIIIIllllIll|l|IlllllllllllllllllllllllIIIIIIIIIII, |||, Pagina, 1, de, 3, RESOLUCIÓN, No, ., SSPD, -, 201782004, ?, 9035, DEL, 1511, 2l2017, Expediente, No, ., 2017820390134526E, Por, la, cual, se, decide, un, RECURSO, DE, APELACION, _, EL, DIRECTOR, TERRITORIAL_NORTE, DE, LA, SUPERINTENDENCIA, DE, SERVICIOS, PUBLICOS, DOMICILIARIOS, En, ejercicio, de, sus, facultades, y, ,, en, especial, las, que, le, confiere, el, articulo, 79, numeral, 29, ,, artícu-, los, 154, y, 159, de, la, Ley, 142, de, 1994, ,, modiñcada, porla, Ley, ...]</td>\n",
       "      <td>20178200479035</td>\n",
       "    </tr>\n",
       "    <tr>\n",
       "      <th>8</th>\n",
       "      <td>[TODOS, POR, u_u, NUEVO, PAIS, PAZ, EQUIDAD, EDUCACION, Supe, ntendencia, de, Servicios, Públicos, Domiciliarios, sc-F-oos, …, ., _, IIIII|IIIIIIIIIIIIIIHIIIIIIIIIIIIIIIIIIIIIII|IIIIIIIIIIIIIIIIII, IIIIIIIIIIIII, Página, 1, de, 4, Su, erservicios, ¡¡, RESOLUCIÓN, No, ., SSPD, —, 20178200479045, DEL, 15, !, 12¡2017, Expediente, No, ., 2017820390135106E, Por, la, cual, se, decide, un, RECURSO, DE, APELACION, EL, DIRECTOR, TERRITORIAL_NORTE, DE, LA, SUPERINTENDENCIA, DE, SERVICIOS, PUBLICOS, DOMICILIARIOS, En, ejercicio, de, sus, facultades, y, ,, en, especial, las, que, le, confiere, el, articulo, 79, numeral, 29, ,, artícu-, los, 154, y, 159, de, la, Ley, 142_de, 1994, ,, modificada, porla, Ley, 889, de, 2001, ;, y, el, artículo, ...]</td>\n",
       "      <td>20178200479045</td>\n",
       "    </tr>\n",
       "    <tr>\n",
       "      <th>9</th>\n",
       "      <td>[COI, 415927, ……, …l, Ill, …, rooos, POR, uu, NUEVO, PAÍS, Paz, EQUIDAD, EDUCACION, Su, erservicios, Super, ntendencia, de, Servicios, Públicos, Domiciliarios, sc-F-oos, ……, ,, lll||llIIIIIIIIIIillilillllIIIIIilli|lllillliIIIIIIIIIIIIIIIII, IIIIIIIIIIII, Página, ], de, 4, RESOLUCIÓN, No, ., SSPD, -, 20178200479075, DEL, 15, !, 12, !, 2017, Expediente, No, ., 2017820390134531E, Por, la, cual, se, decide, un, RECURSO, DE, APELACION, EL, DIRECTOR, TERRITORIAL_NORTE, DE, LA, SUPERINTENDENCIA, DE, SERVICIOS, PUBLICOS, DOMICILIARIOS, En, ejercicio, de, sus, facultades, y, ,, en, especial, las, que, le, confiere, el, articulo, 79, numeral, 29, ,, artícu-, los, 154, y, 159, de, la, Ley, 142, de, 1994, ,, modificada, porla, Ley, ...]</td>\n",
       "      <td>20178200479075</td>\n",
       "    </tr>\n",
       "    <tr>\n",
       "      <th>10</th>\n",
       "      <td>[TODOS, POR, un, INUENNDIHAH5, PAZ, EQUIDAD, EDUCACIÓN, Su, erservícios, Super, ntendencta, de, Servicios, Públicos, Domiciliarios, sc-F-005vs, |IIIIIIIIIIIIIIIIIII||IIIIIIII|IIIIIIIIIIIIIII|IIIIIIIIIIIIIIIIIIIIIIIII|IIIII, Página, 1, de, 5, ., ,, Adlb, $, RESOLUCIÓN, No, ., SSPD, -, 20173200479125, DEL, 15112/2017, Expediente, No, ., -2017820390134535E, Por, la, cual, se, decide, un, Recurso, de, Apelación, EL, DIRECTOR, TERRITORIAL_NORTE, DE, LA, SUPERINTENDENCIA, DE, SERVICIOS, PUBLICOS, DOMICILIARIOS, En, ejercicio_de, sus, facultades, y, ,, en, especial, de, las, que, le, confiere, el, articulo, 79, numeral, 29, ,, ar-, tículos, 154, y, 159, de, la, Ley, 142, de, 1994, ,, modificados, por, la, Ley, 689, de, 2001, y, el, artículo, 20, nu-, merales, ...]</td>\n",
       "      <td>20178200479125</td>\n",
       "    </tr>\n",
       "    <tr>\n",
       "      <th>11</th>\n",
       "      <td>[rooos, pon, un, NUEVO, PAIS, _, PAZ, EQUIDAD, EDUCACION, _—, DNP, :, .m…, ., 0, ``, Su, erservicios, v, Supe, ntendencia, de, Servicios, —, .., ¡Públicos, Domiciliarios, '', sc-F-oe, %, lll|l|l, IIIII, IIIII, IIIII, IIIII, l|l||, III|I, II…, III, '', IIIII, Illl|, IIIII, IIII|, lll|l, |||, ||, Página, |, de, 3, RESOLUCIÓN, No, ., SSPD, -, 20178200479135, DEL, 15112¡2017, Expediente, No, ., 2017820390134968E, Por, la, cual, se, decide, un, Recurso, de, Apelación, EL, DIRECTOR, TERRITORIAL_NORTE, DE, LA, SUPERINTENDENCIA, DE, SERVICIOS, PUBLICOS, DOMICILIARIOS, En, ejercicio, de, sus, facultades, y, ,, en, e3pecial, de, las, que, le, confiere, el, artículo, 79, numeral, ...]</td>\n",
       "      <td>20178200479135</td>\n",
       "    </tr>\n",
       "    <tr>\n",
       "      <th>12</th>\n",
       "      <td>[ropas, pon, un, NUEVO, PAÍS, PAZ, EQUIDAD, EDUCACION, DNP, “, ', ', ``, *…, ., ., Nx…, amm, Supe, ntendencia, de, Servicios, Públicos, Domiciliarios, s…5, ¿, |IIII|IIIIIIIIIIIIIIIIIIIIIIIIIIIIIIIIIIIIII|IIIIIIIIIIIIIIIIIIIIIIIIIIIIIIIlili, Página, 1, de, 4, ., Su, erservicios, ¡¡, RESOLUCIÓN, No, ., SSPD, -, 20178200479165, DEL, 1511, 212017, Expediente, No, ., 2017820390134511E, Por, la, cual, se, decide, un, Recurso, de, Apelación, EL, DIRECTOR, TERRITORIAL__NORTE, DE, LA, SUPERINTENDENCIA, DE, SERVICIOS, PUBLICOS, DOMICILIARIOS, En, ejercicio, de, sus, facultades, y, ,, en, especial, de, las, que, le, confiere, el, artículo, 79, numeral, 29, ,, ar-, tículos, 154, y, 159, de, la, Ley, 142, de, 1994, ,, modificados, ...]</td>\n",
       "      <td>20178200479165</td>\n",
       "    </tr>\n",
       "    <tr>\n",
       "      <th>13</th>\n",
       "      <td>[', ronos, PORUN, NUEVO, PAÍS, PAZ, EQUIDAD, EDUCACIÓN, *, ', ,, N, Hu…, __, amm, *, “, Su, erserv1c105, *, Super, ntendencia, de, Servicios, Públicos, Domiciliarios, SC…5V5, _, lIIII|IIIIIIIIIIII|IIIIIIIIIl|l|IIIIIIIIIIIIIIIIIIIIIIIIIIIIIII, IIIIIII, |||, Página, 1, de, 4, RESOLUCIÓN, No, ., SSPD, -, 20178200479175, DEL, 1511, 212017, Expediente, No, ., 2017820390134510E, Por, la, cual, se, decide, un, Recurso, de, Apelación, EL, DIRECTOR, TERRITORIAL¡NORTE, DE, LA, SUPERINTENDENCIA, DE, SERVICIOS, PUBLICOS, DOMICILIARIOS, En, ejercicio, de, sus, facultades, y, ,, en, especial, de, las, que, le, confiere, el, artículo, 79, numeral, 29, ,, ar-, ticulos, 154, y, 159, de, la, Ley, 142, de, 1994, ,, modificados, ...]</td>\n",
       "      <td>20178200479175</td>\n",
       "    </tr>\n",
       "    <tr>\n",
       "      <th>14</th>\n",
       "      <td>['', ., Depir1, ¡¡¡¡¡, DNP…, -, :, ., _, l, :, I-I, Phneu'mn, (, TODOSPORU_N, N, P, I, &amp;, Perl, !, oEuxooeeu, &amp;, mgl, ?, Superservrcros, v, Superintendencia, de, Servicios, Públicos, Domiciliarios, so—F-oosv.os, |||I|IIIII|III|I|IIII|II||II||I||I||III|III|I|||I|IIIIIIII|IIIIIIIIIIII|Il||I|, Página, |, de, 4, nesoi.uc¡ón, No, ., SSPD, -, 201732004, ?, 9395, DEL, 15, !, 12l2017, Expediente, No, ., 20173203901340095, Por, la, cual, Se, Decide, un, RECURSO, DE, APELACION, EL, DIRECTOR, TERRITORIAL'NORTE, DE, LA, SUPERINTENDENCIA, DE, SERVICIOS, PUBLICOS, DOMICILIARIOS, En, ejercicio, de, sus, facultades, y, ,, en, especial, las, que, le, confiere, el, articulo, 79, numeral, 29, ,, artículos, 154, y, 159, de, la, Ley, 142, ...]</td>\n",
       "      <td>20178200479395</td>\n",
       "    </tr>\n",
       "  </tbody>\n",
       "</table>\n",
       "</div>"
      ],
      "text/plain": [
       "                                                                                                                                                                                                                                                                                                                                                                                                                                                                                                                                                                                                                                                                                                                                                                                               Text  \\\n",
       "0   […, ., íb, Superservícios, …, ``, '', '', '', '', '', …, Tonos, », …, ., POR, UN, v, Superintendencia, de, Servicios, …, ..., “, ', ,, í, ,, '', ñfff'ºá_, ELECTRICARIBE, ¡yzquuxºe£vg, !, ñ, llllIllllllllIllllllllllllllllllljllllllllll, lllllllllllllllllllllllllllllllllI|ll|llllllllllllllilIll|llll, lllllll, Al, contestar, por, favor, cite, estos, datos, :, Radicado, No, ., :, 20178203064581, —, Í, Fecha, :, 2017-11-22, Rndleación, de, Entradn, -, Correspondencia, NT-F-OOG, V.2, Barranquilla, D.E.I.P, ., Página, 26, de, 62, Señor, (, a, ), ELECTRIFICADORA, DEL, CARIBE, S.A., E.S.P, ., CARRERA, 55, NO, ., 72, -, 109, PISO, 7, BARRANQUILLA, -, ATLANTICO, LA, DIRECCION, TERRITORIAL, NORTE, TENIENDO, EN, CUENTA, QUE, ...]                                            \n",
       "1   [erserVí, 55, '', Pel£endencia, de, SerScígs, ;, “, —-, ,, TODOS, POR, ``, …, Públicos, Domiciliarios, N, ``, EV, º, PAÍS, PAZ, EQUIDAD, EDUCACION, WWW…, …lilllilillllgiliilriiilll'itiiiiiliiggilinliil, ,, ., _Rad, do, No…, 20178203064571, *, ,, ``, Fecha, :, 2017-11-22, Radl, NT—F-006, v.2, º'º'º, '', de, Eflfrada, ., Correspond, enc, :, Barranquilla, D.E.I.P, ., %, Pág…, 25, de, 62, Señor, (, a, ), I, ., ELECTRIFICADORA, DEL, CARIBE, S.A., E., s., P., I, ºº'7, …, º, I, II, ', 1, IR, CARRERA, 55, No, 72, 109, PISO, 7, BARRANQUILLA-, ATLANTICO, “, ff, %, %, $, U, 55IUBQ, ;, 1L, ,, x…, ., ...]                                                                                                                                                                           \n",
       "2   [.., Su, ', ', ``, DNp¿—¿, TODOS, Pon, un, ¿5, …, ?, .53£52£253£, $, uuevoms, Públicos, Domiciliarios, …, EQUIDAD, EDUCACION, IIIIIIIIIIIIIIIIIIIIIIIIII, ..'II'IIIEIIII, '', III, '', IIIII, '', III'ILIIILI, '', IIIIIII, —, :, I,3a, ;, ¿íix, do, No, ., :, 20178203064561, encia, NT-F-006, V, 2, Radicación, de, Entrada-, Correspº, “, d, ;, ', __…, .…ch, wf¡, …o, “, F, Fecha, ', 2017_11_22, Página, 24, de, 62, Barranquilla, D.E.I.P, ., Señor, (, a, ), ELECTRIFICADORA, DEL, CARIBE, S.A., E.S.P, ., CARRERA, 55, NO, ., 72, -, 109, PISO, 7, BARRANQUILLA, -, ATLANTICO, -, ww..c……—u….., .…, ¿, ., <, ., ., ,, ., ...]                                                                                                                                                             \n",
       "3   [Q, íº, Superservícío, 5, ``, TODOS, mau, ., g, :, g¡fgfggºggfgggfº…ººs, NUEVO, PAÍg, PAZ, EQUIDAD, EDUCACION, ,, ], AIi¡IlllilillllllliliIIIIlllili, !, IIIIIlili, ), IIIIii/, !, IIIIIIIIIIIIIH/IHIII, lllllllllllllllllllli, estarpouavorc.te, estos, …, 3, 9, 4, 5, 5, u, ', ”, Amd—……, do, No.., 20178203064541, Fecha, :, 2017-11-22, …, ,, .__, <, …, w, =—, “, ', c-¿, “, iu, ¡, ', ., NT'F'006, V-2, Radicación, de, Entrada, -, Correspondencia, -, —*, », “, “, …3ia, %, I, ,, w, Ú, Barranquilla, D.EQI.P, ., Pagina, 22, de, 62, Señor, (, a, ), ELECTRIFICADORA, DEL, CARIBE, S., A., E., S., P., CARRERA, 55, NO, ., ...]                                                                                                                                                          \n",
       "4   [Superintendencia, de, Servicios, NUEVO, PA'S, Públicos, Domiciliarios, ``, “, ººº'º, “, º, ººº, ”, º'º, '', allilllllllllllllllllll, …'Ei, '', lllºlllll, '', 'ill'l, '', 'll, !, '', l'í, !, !, 'l'l, !, l'J, !, '', !, !, £, !, 'li, !, l, _, Y, :, ', $, Superservicios, DN, ``, '', '', …a, :, Tonos, von, un, …, “, l, “, ……, x¿, 3, 9, ¿, ., 5, 3, a, |, No, ., :, 20178203064401, NT—F-006, V, ¡, Radicación, de, Entrada, -, Correspondencla, .¿, ”, _, Fecha, :, 2017-11-22, Página, 8, de, 62, Barranquilla, D.E.I.P.., Señor, (, a, ), ELECTRIFICADORA, DEL, ...]                                                                                                                                                                                                                     \n",
       "5   [TODOS, POR, UN, NUEVO, PAÍS, PAZ, EQUIDAD, EDUCACION, ., DNP, :, —=º'l—E, ., Su, erservicios, Supe, ntendencia, de, Servicios, Públicos, Domiciliarios, so……, I.…, IIIIIIIIIIIIIIII||IIIIIIIIIIIIIIIlllllllllllllllllllllIIIIIIIIIIIIIIIIIIIIIII, Página, |, de, 4, ., e, v, RESOLUCIÓN, No, ., SSPD, -, 20173200473935, DEL, 151121201, ?, Expediente, No, ., 2017820390139316E, ', Por, la, cual, Se, Decide, un, RECURSO, DE, APELACION, EL, DIRECTOR, TERRITORIAL_NORTE, DE, LA, SUPERINTENDENCIA, DE, SERVICIOS, PUBLICOS, DOMICILIARIOS, En, ejercicio, de, sus, faCultades, y, ,, en, especial, las, que, le, confiere, el, articulo, 79numeral, 29, ,, artículos, 154, y, 159, de, la, Ley, 142, de, 1994, ,, modificada, por, la, Ley, 689, de, 2001, ...]                              \n",
       "6   [ronasponqn, NUEVO, PAIS, PAZ, EQUIDAD, EDUEAEIDN, “, ., Dip, nnnnn, to, DNP…, », ., _, de, PL.-nurión, II, ., <, b-, Su, perservicios, *, Superintendencia, de, Servicios, Públicos, Domiciliarios, sc-F-ees, %, |III|II, IIIII, II|I|, Ill|l, ||I||, II|II, III|I, III, ``, |, '', I|III|III|, II||I|I, ||, II, II, |||, Página, |, de, 5, RESOLUCIÓN, No, ., SSPD, —, 20176200476965, DEL, 151, 2201, ?, Expediente, No, ., 201762039U135172E, Por, la, cual, se, decide, un, Recurso, de, Apelación, EL, DIRECTOR, TERRITORIAL'NORTE, DE, LA, SUPERINTENDENCIA, DE, SERVICIOS, PUBLICOS, DOMICILIARIOS, En, ejercicio, de, sus, facultades, y, ,, en, especial, de, las, que, le, confiere, el, ...]                                                                                          \n",
       "7   [TODOS, POR, un, NUEVO, PAÍS, PAZ, EQUIDAD, EDUCACION, En…, …, ., ., Su, erservicios, Super, ntendencia, de, Servicios, Públicos, Domiciliarios, SC-F…5, ……, ', |, ', IIIIIIIIIIIIIIIIIIIIIIIIIIllllIll|l|IlllllllllllllllllllllllIIIIIIIIIII, |||, Pagina, 1, de, 3, RESOLUCIÓN, No, ., SSPD, -, 201782004, ?, 9035, DEL, 1511, 2l2017, Expediente, No, ., 2017820390134526E, Por, la, cual, se, decide, un, RECURSO, DE, APELACION, _, EL, DIRECTOR, TERRITORIAL_NORTE, DE, LA, SUPERINTENDENCIA, DE, SERVICIOS, PUBLICOS, DOMICILIARIOS, En, ejercicio, de, sus, facultades, y, ,, en, especial, las, que, le, confiere, el, articulo, 79, numeral, 29, ,, artícu-, los, 154, y, 159, de, la, Ley, 142, de, 1994, ,, modiñcada, porla, Ley, ...]                                               \n",
       "8   [TODOS, POR, u_u, NUEVO, PAIS, PAZ, EQUIDAD, EDUCACION, Supe, ntendencia, de, Servicios, Públicos, Domiciliarios, sc-F-oos, …, ., _, IIIII|IIIIIIIIIIIIIIHIIIIIIIIIIIIIIIIIIIIIII|IIIIIIIIIIIIIIIIII, IIIIIIIIIIIII, Página, 1, de, 4, Su, erservicios, ¡¡, RESOLUCIÓN, No, ., SSPD, —, 20178200479045, DEL, 15, !, 12¡2017, Expediente, No, ., 2017820390135106E, Por, la, cual, se, decide, un, RECURSO, DE, APELACION, EL, DIRECTOR, TERRITORIAL_NORTE, DE, LA, SUPERINTENDENCIA, DE, SERVICIOS, PUBLICOS, DOMICILIARIOS, En, ejercicio, de, sus, facultades, y, ,, en, especial, las, que, le, confiere, el, articulo, 79, numeral, 29, ,, artícu-, los, 154, y, 159, de, la, Ley, 142_de, 1994, ,, modificada, porla, Ley, 889, de, 2001, ;, y, el, artículo, ...]                           \n",
       "9   [COI, 415927, ……, …l, Ill, …, rooos, POR, uu, NUEVO, PAÍS, Paz, EQUIDAD, EDUCACION, Su, erservicios, Super, ntendencia, de, Servicios, Públicos, Domiciliarios, sc-F-oos, ……, ,, lll||llIIIIIIIIIIillilillllIIIIIilli|lllillliIIIIIIIIIIIIIIIII, IIIIIIIIIIII, Página, ], de, 4, RESOLUCIÓN, No, ., SSPD, -, 20178200479075, DEL, 15, !, 12, !, 2017, Expediente, No, ., 2017820390134531E, Por, la, cual, se, decide, un, RECURSO, DE, APELACION, EL, DIRECTOR, TERRITORIAL_NORTE, DE, LA, SUPERINTENDENCIA, DE, SERVICIOS, PUBLICOS, DOMICILIARIOS, En, ejercicio, de, sus, facultades, y, ,, en, especial, las, que, le, confiere, el, articulo, 79, numeral, 29, ,, artícu-, los, 154, y, 159, de, la, Ley, 142, de, 1994, ,, modificada, porla, Ley, ...]                                    \n",
       "10  [TODOS, POR, un, INUENNDIHAH5, PAZ, EQUIDAD, EDUCACIÓN, Su, erservícios, Super, ntendencta, de, Servicios, Públicos, Domiciliarios, sc-F-005vs, |IIIIIIIIIIIIIIIIIII||IIIIIIII|IIIIIIIIIIIIIII|IIIIIIIIIIIIIIIIIIIIIIIII|IIIII, Página, 1, de, 5, ., ,, Adlb, $, RESOLUCIÓN, No, ., SSPD, -, 20173200479125, DEL, 15112/2017, Expediente, No, ., -2017820390134535E, Por, la, cual, se, decide, un, Recurso, de, Apelación, EL, DIRECTOR, TERRITORIAL_NORTE, DE, LA, SUPERINTENDENCIA, DE, SERVICIOS, PUBLICOS, DOMICILIARIOS, En, ejercicio_de, sus, facultades, y, ,, en, especial, de, las, que, le, confiere, el, articulo, 79, numeral, 29, ,, ar-, tículos, 154, y, 159, de, la, Ley, 142, de, 1994, ,, modificados, por, la, Ley, 689, de, 2001, y, el, artículo, 20, nu-, merales, ...]   \n",
       "11  [rooos, pon, un, NUEVO, PAIS, _, PAZ, EQUIDAD, EDUCACION, _—, DNP, :, .m…, ., 0, ``, Su, erservicios, v, Supe, ntendencia, de, Servicios, —, .., ¡Públicos, Domiciliarios, '', sc-F-oe, %, lll|l|l, IIIII, IIIII, IIIII, IIIII, l|l||, III|I, II…, III, '', IIIII, Illl|, IIIII, IIII|, lll|l, |||, ||, Página, |, de, 3, RESOLUCIÓN, No, ., SSPD, -, 20178200479135, DEL, 15112¡2017, Expediente, No, ., 2017820390134968E, Por, la, cual, se, decide, un, Recurso, de, Apelación, EL, DIRECTOR, TERRITORIAL_NORTE, DE, LA, SUPERINTENDENCIA, DE, SERVICIOS, PUBLICOS, DOMICILIARIOS, En, ejercicio, de, sus, facultades, y, ,, en, e3pecial, de, las, que, le, confiere, el, artículo, 79, numeral, ...]                                                                                        \n",
       "12  [ropas, pon, un, NUEVO, PAÍS, PAZ, EQUIDAD, EDUCACION, DNP, “, ', ', ``, *…, ., ., Nx…, amm, Supe, ntendencia, de, Servicios, Públicos, Domiciliarios, s…5, ¿, |IIII|IIIIIIIIIIIIIIIIIIIIIIIIIIIIIIIIIIIIII|IIIIIIIIIIIIIIIIIIIIIIIIIIIIIIIlili, Página, 1, de, 4, ., Su, erservicios, ¡¡, RESOLUCIÓN, No, ., SSPD, -, 20178200479165, DEL, 1511, 212017, Expediente, No, ., 2017820390134511E, Por, la, cual, se, decide, un, Recurso, de, Apelación, EL, DIRECTOR, TERRITORIAL__NORTE, DE, LA, SUPERINTENDENCIA, DE, SERVICIOS, PUBLICOS, DOMICILIARIOS, En, ejercicio, de, sus, facultades, y, ,, en, especial, de, las, que, le, confiere, el, artículo, 79, numeral, 29, ,, ar-, tículos, 154, y, 159, de, la, Ley, 142, de, 1994, ,, modificados, ...]                                      \n",
       "13  [', ronos, PORUN, NUEVO, PAÍS, PAZ, EQUIDAD, EDUCACIÓN, *, ', ,, N, Hu…, __, amm, *, “, Su, erserv1c105, *, Super, ntendencia, de, Servicios, Públicos, Domiciliarios, SC…5V5, _, lIIII|IIIIIIIIIIII|IIIIIIIIIl|l|IIIIIIIIIIIIIIIIIIIIIIIIIIIIIII, IIIIIII, |||, Página, 1, de, 4, RESOLUCIÓN, No, ., SSPD, -, 20178200479175, DEL, 1511, 212017, Expediente, No, ., 2017820390134510E, Por, la, cual, se, decide, un, Recurso, de, Apelación, EL, DIRECTOR, TERRITORIAL¡NORTE, DE, LA, SUPERINTENDENCIA, DE, SERVICIOS, PUBLICOS, DOMICILIARIOS, En, ejercicio, de, sus, facultades, y, ,, en, especial, de, las, que, le, confiere, el, artículo, 79, numeral, 29, ,, ar-, ticulos, 154, y, 159, de, la, Ley, 142, de, 1994, ,, modificados, ...]                                               \n",
       "14  ['', ., Depir1, ¡¡¡¡¡, DNP…, -, :, ., _, l, :, I-I, Phneu'mn, (, TODOSPORU_N, N, P, I, &, Perl, !, oEuxooeeu, &, mgl, ?, Superservrcros, v, Superintendencia, de, Servicios, Públicos, Domiciliarios, so—F-oosv.os, |||I|IIIII|III|I|IIII|II||II||I||I||III|III|I|||I|IIIIIIII|IIIIIIIIIIII|Il||I|, Página, |, de, 4, nesoi.uc¡ón, No, ., SSPD, -, 201732004, ?, 9395, DEL, 15, !, 12l2017, Expediente, No, ., 20173203901340095, Por, la, cual, Se, Decide, un, RECURSO, DE, APELACION, EL, DIRECTOR, TERRITORIAL'NORTE, DE, LA, SUPERINTENDENCIA, DE, SERVICIOS, PUBLICOS, DOMICILIARIOS, En, ejercicio, de, sus, facultades, y, ,, en, especial, las, que, le, confiere, el, articulo, 79, numeral, 29, ,, artículos, 154, y, 159, de, la, Ley, 142, ...]                                      \n",
       "\n",
       "                       Name  \n",
       "0   11122017132607 confirma  \n",
       "1   11122017132933 confirma  \n",
       "2   11122017133150 confirma  \n",
       "3   11122017133429 confirma  \n",
       "4   11122017133637 confirma  \n",
       "5   20178200478935           \n",
       "6   20178200478985           \n",
       "7   20178200479035           \n",
       "8   20178200479045           \n",
       "9   20178200479075           \n",
       "10  20178200479125           \n",
       "11  20178200479135           \n",
       "12  20178200479165           \n",
       "13  20178200479175           \n",
       "14  20178200479395           "
      ]
     },
     "execution_count": 4,
     "metadata": {},
     "output_type": "execute_result"
    }
   ],
   "source": [
    "letters"
   ]
  },
  {
   "cell_type": "code",
   "execution_count": 5,
   "metadata": {},
   "outputs": [
    {
     "name": "stdout",
     "output_type": "stream",
     "text": [
      "Cleaning took 21.11 seconds\n"
     ]
    }
   ],
   "source": [
    "#funcion de limpieza\n",
    "def cleanDocs(letters):\n",
    "    start = time()\n",
    "    clean_letters = []\n",
    "    for _, letter in letters.iterrows():\n",
    "    #proceso de normalizacion\n",
    "        words = [normalize('NFKD', word.lower()).encode('ascii', 'ignore').decode('utf-8') \n",
    "                 for word in letter['Text']]\n",
    "        # is alphabetic character, not is a stopword, not is a custom word, has at least three letters, \n",
    "        # has at least one vowel, has at least one consonant\n",
    "        words = [word for word in words if word not in stopwords.words('spanish')]\n",
    "        clean_letters.append(' '.join(words))\n",
    "    #impresion de tiempo de ejecucion\n",
    "    print('Cleaning took %.2f seconds' % (time() - start))\n",
    "    return pd.DataFrame(clean_letters)\n",
    "dup = letters.insert(1, 'CleanText', cleanDocs(letters))\n",
    "#6.38 minutos = 245 registros\n",
    "#238\n",
    "#322.76 seconds = 251"
   ]
  },
  {
   "cell_type": "code",
   "execution_count": 6,
   "metadata": {},
   "outputs": [],
   "source": [
    "#  resolucion sspd y la fecha, radicado padre, (articulo primero) y numero de decision junto la fecha de decision, \n",
    "#  extraer radicado re junto su fecha de radicacion"
   ]
  },
  {
   "cell_type": "code",
   "execution_count": 7,
   "metadata": {},
   "outputs": [],
   "source": [
    " databese_info={\n",
    "             'localhost':'localhost',\n",
    "             'user':'postgres',\n",
    "             'pass':'',\n",
    "             'db':'pqr_electricaribe'\n",
    "}"
   ]
  },
  {
   "cell_type": "code",
   "execution_count": 46,
   "metadata": {},
   "outputs": [
    {
     "name": "stdout",
     "output_type": "stream",
     "text": [
      "-> \n",
      " {'date_decision': '16 junio 2017 ', 'num_decision': '5020051', 'date_radication_re': '05 julio 2017', 'sspd': '20178200393205', 'expediente_padre': '20178201055872', 'resolucion': 'confirmar', 'sspd_fecha': '', 'radication_RE': 're1110201723181'}\n",
      "\n",
      "----------------------------------------------------------------------------\n",
      "-> \n",
      " {'date_decision': ' ', 'num_decision': '', 'date_radication_re': '13 junio 2017', 'sspd': '20178200393215', 'expediente_padre': '20178201055852', 'resolucion': 'confirmar', 'sspd_fecha': '', 'radication_RE': 're1110201723149'}\n",
      "\n",
      "----------------------------------------------------------------------------\n",
      "-> \n",
      " {'date_decision': ' ', 'num_decision': '', 'date_radication_re': '09 junio 2017', 'sspd': '20178200393225', 'expediente_padre': '20178201055392', 'resolucion': 'confirmar', 'sspd_fecha': '', 'radication_RE': 're1120201722590'}\n",
      "\n",
      "----------------------------------------------------------------------------\n",
      "-> \n",
      " {'date_decision': ' ', 'num_decision': '', 'date_radication_re': '09 junio 2017', 'sspd': '20178200393245', 'expediente_padre': '20178201055352', 'resolucion': 'confirmar', 'sspd_fecha': '', 'radication_RE': 're1110201722568'}\n",
      "\n",
      "----------------------------------------------------------------------------\n",
      "-> \n",
      " {'date_decision': '21 julio 2017 ', 'num_decision': '5116594', 'date_radication_re': '', 'sspd': '20178200393395', 'expediente_padre': '20178201051872', 'resolucion': 'confirmar', 'sspd_fecha': '', 'radication_RE': ''}\n",
      "\n",
      "----------------------------------------------------------------------------\n",
      "-> \n",
      " {'date_decision': '8 agosto 2016 ', 'num_decision': '4164666', 'date_radication_re': '25 julio 2016', 'sspd': '20173200473935', 'expediente_padre': '', 'resolucion': 'modificar', 'sspd_fecha': '151121201', 'radication_RE': 're1180201627151'}\n",
      "\n",
      "----------------------------------------------------------------------------\n",
      "-> \n",
      " {'date_decision': '14 julio 2017 ', 'num_decision': '5087666', 'date_radication_re': '05 julio 2017', 'sspd': '20176200476965', 'expediente_padre': '', 'resolucion': 'modificar', 'sspd_fecha': '151', 'radication_RE': 're110201726206'}\n",
      "\n",
      "----------------------------------------------------------------------------\n",
      "-> \n",
      " {'date_decision': '29 junio 2017 ', 'num_decision': '5055536', 'date_radication_re': '23 junio 2017', 'sspd': '', 'expediente_padre': '', 'resolucion': 'modificar', 'sspd_fecha': '', 'radication_RE': 're3110201724706'}\n",
      "\n",
      "----------------------------------------------------------------------------\n",
      "-> \n",
      " {'date_decision': '14 julio 2017 ', 'num_decision': '5099210', 'date_radication_re': '11 julio 2017', 'sspd': '20178200479045', 'expediente_padre': '', 'resolucion': 'revocar', 'sspd_fecha': '15', 'radication_RE': 're3110201723077'}\n",
      "\n",
      "----------------------------------------------------------------------------\n",
      "-> \n",
      " {'date_decision': ' ', 'num_decision': '', 'date_radication_re': '18 julio 2017', 'sspd': '20178200479075', 'expediente_padre': '', 'resolucion': 'confirmar', 'sspd_fecha': '15', 'radication_RE': 're3410201714994'}\n",
      "\n",
      "----------------------------------------------------------------------------\n",
      "-> \n",
      " {'date_decision': ' ', 'num_decision': '4520836', 'date_radication_re': '10 marzo 2017', 'sspd': '20173200479125', 'expediente_padre': '', 'resolucion': 'modificar', 'sspd_fecha': '151122017', 'radication_RE': 're3340201700968'}\n",
      "\n",
      "----------------------------------------------------------------------------\n",
      "-> \n",
      " {'date_decision': '28 febrero 2017 ', 'num_decision': '4696949', 'date_radication_re': '15 febrero 2017', 'sspd': '20178200479135', 'expediente_padre': '', 'resolucion': 'modificar', 'sspd_fecha': '151122017', 'radication_RE': 're1170201705649'}\n",
      "\n",
      "----------------------------------------------------------------------------\n",
      "-> \n",
      " {'date_decision': ' ', 'num_decision': '', 'date_radication_re': '27 febrero 2017', 'sspd': '20178200479165', 'expediente_padre': '', 'resolucion': 'modificar', 'sspd_fecha': '1511', 'radication_RE': 're9411201701467'}\n",
      "\n",
      "----------------------------------------------------------------------------\n",
      "-> \n",
      " {'date_decision': ' ', 'num_decision': '', 'date_radication_re': '21 julio 2017', 'sspd': '20178200479175', 'expediente_padre': '', 'resolucion': 'modificar', 'sspd_fecha': '1511', 'radication_RE': 're2210201716576'}\n",
      "\n",
      "----------------------------------------------------------------------------\n",
      "-> \n",
      " {'date_decision': ' ', 'num_decision': '12', 'date_radication_re': '30 mayo 2017', 'sspd': '', 'expediente_padre': '', 'resolucion': 'modificar', 'sspd_fecha': '', 'radication_RE': 're4110201705795'}\n",
      "\n",
      "----------------------------------------------------------------------------\n"
     ]
    },
    {
     "name": "stderr",
     "output_type": "stream",
     "text": [
      "/home/jhonex/miniconda3/envs/nlp3/lib/python3.5/site-packages/ipykernel_launcher.py:27: DeprecationWarning: bad escape \\e\n"
     ]
    },
    {
     "data": {
      "text/plain": [
       "'\\n\\n'"
      ]
     },
     "execution_count": 46,
     "metadata": {},
     "output_type": "execute_result"
    }
   ],
   "source": [
    "nom_ar=0\n",
    "list_doc=[]\n",
    "def conect_datbase(json_db):\n",
    "        try:\n",
    "            cn = psycopg2.connect(\"dbname= \"\n",
    "                                  +json_db['db']+\n",
    "                                  \" user= \"\n",
    "                                  +json_db['user']+\n",
    "                                  \" host= \"\n",
    "                                  +json_db['localhost']+\n",
    "                                  \" password= \"\n",
    "                                  +json_db['pass']+\" \")\n",
    "        except psycopg2.DatabaseError as de:\n",
    "            if self.cn:\n",
    "                self.cn.rollback()\n",
    "                print('Error %s'%de)\n",
    "        return cn\n",
    "while (nom_ar<=(len(letters)-1)):\n",
    "    cleanText = re.sub('[^\\w\\s]', '', letters[letters.Name == letters['Name'][nom_ar]].CleanText.values[0])\n",
    "    \n",
    "    search_result  = re.findall('\\s*resuelve\\s*articulo\\s*(primero|1)\\s*(\\w*)', cleanText)\n",
    "    # number sspd\n",
    "    val_sspd = set(re.findall('\\s*sspd\\s*(\\d{14})\\s', cleanText))\n",
    "    #date sspd\n",
    "    val_sspd_fe = set(re.findall('sspd\\s*\\d{14}\\s*\\s*(\\d*)\\s*', cleanText))\n",
    "    #expedient\n",
    "    val_expedient = set(re.findall('\\s(\\d*\\e)\\s', cleanText))  \n",
    "    #expedient father\n",
    "    val_expedient_father = set(re.findall('radicado\\spadre\\s(\\d{14})\\s', cleanText))\n",
    "    #number solve of decision \n",
    "    val_solve_decision = re.findall('\\s*resuelve\\s*articulo\\s*(primero|1)\\s*\\w*\\s*decision\\s*(administrativa| )\\s*(no|n0| )(\\d*)\\s', cleanText)\n",
    "    #date decision\n",
    "    val_decision_fe = re.findall('\\s*resuelve\\s*articulo\\s*(primero|1)\\s*\\w*\\s*decision\\s*(administrativa| )\\s*(no|n0| )\\s*\\d{7}\\s*(\\d*\\s\\w*\\s\\d*\\s\\d*)', cleanText)\n",
    "    # number_RE\n",
    "    val_number_re = set(re.findall('\\s*(re\\d*)\\s', cleanText)) \n",
    "    # RE_date\n",
    "    val_re_fe = re.findall('(no|n0| )\\s*re\\d*\\s(\\d{2}\\s\\w*\\s\\d{4})',cleanText)\n",
    "    \n",
    "    #validation\n",
    "    \n",
    "    val_number_re = list(val_number_re) + [('', '', '')] + [('', '', '')] + [('', '', '')]\n",
    "    if val_number_re[0] !=  ('', '', '') and val_number_re[0] != '' and val_number_re[0] != 're':\n",
    "          val_number_re = val_number_re[0]\n",
    "    elif val_number_re[1] !=  ('', '', '') and val_number_re[1] != '' and val_number_re[1] != 're':\n",
    "        val_number_re = val_number_re[1]\n",
    "    elif val_number_re[2] !=  ('', '', '')  and val_number_re[2] != '' and val_number_re[2] != 're':\n",
    "        val_number_re = val_number_re[2]\n",
    "    else:\n",
    "        val_number_re = ''\n",
    "    \n",
    "    val_re_fe = list(val_re_fe) + [('', '','')] \n",
    "    if val_re_fe != [('', '','')]:\n",
    "        val_re_fe = val_re_fe[0][1] \n",
    "    else:\n",
    "        val_re_fe = ''\n",
    "        \n",
    "    val_solve_decision = list(val_solve_decision) + [('', '', '', '')]\n",
    "    if val_solve_decision != [('', '', '', '')]:\n",
    "        val_solve_decision = list(val_solve_decision)[0][3]\n",
    "    else:\n",
    "        val_solve_decision = ''\n",
    "    \n",
    "    val_decision_fe = val_decision_fe + [(' ', ' ', ' ', ' ')]\n",
    "    if val_decision_fe != [('', '', '', '')]:\n",
    "        val_decision_fe = list(val_decision_fe)[0][3]\n",
    "    else:\n",
    "        val_decision_fe = ''\n",
    "    \n",
    "    search_result = list(search_result)+[('')] + [('','')]\n",
    "    if search_result !=  [('','')]:\n",
    "        search_result = search_result[0][1]\n",
    "    else:\n",
    "        search_result = ''\n",
    "    \n",
    "    val_sspd_fe = list(val_sspd_fe)+[('','')]+[('','')]\n",
    "    if val_sspd_fe[0] != ('',''):\n",
    "        val_sspd_fe = val_sspd_fe[0]\n",
    "    else:\n",
    "        val_sspd_fe = ''\n",
    "        \n",
    "    val_expedient_father = list(val_expedient_father)+[('')]\n",
    "    if val_expedient_father[0] != '':\n",
    "        val_expedient_father = val_expedient_father[0]\n",
    "    else:\n",
    "        val_expedient_father = ''\n",
    "    val_sspd = list(val_sspd)+[('','')]\n",
    "    if val_sspd[0] != ('',''):\n",
    "        val_sspd=val_sspd[0]\n",
    "    else:\n",
    "        val_sspd = ''\n",
    "    \n",
    "    dc = {'resolucion':search_result,\n",
    "                  'sspd' : val_sspd,\n",
    "                  'sspd_fecha' : val_sspd_fe,\n",
    "                  'expediente_padre' : val_expedient_father, \n",
    "                  'num_decision':val_solve_decision,\n",
    "                  'date_decision' :val_decision_fe,\n",
    "                  'radication_RE':val_number_re,\n",
    "                  'date_radication_re':val_re_fe}\n",
    "    print('-> \\n',dc)\n",
    "    print('\\n----------------------------------------------------------------------------')\n",
    "    \n",
    "    nom_ar=nom_ar+1\n",
    "    #save registry one to one\n",
    "    list_doc.append(dc)\n",
    "#add the list_doc to attribute of class    \n",
    "#letters.insert(1, 'dictionaryDoc', list_doc)\n",
    "\n",
    "#letters\n",
    "'''\n",
    "\n",
    "'''"
   ]
  },
  {
   "cell_type": "code",
   "execution_count": 55,
   "metadata": {},
   "outputs": [],
   "source": [
    "a = re.sub('[^\\w\\s]', '', letters[letters.Name == '20178200479395'].CleanText.values[0]) "
   ]
  },
  {
   "cell_type": "code",
   "execution_count": 56,
   "metadata": {},
   "outputs": [
    {
     "data": {
      "text/plain": [
       "'  depir1  dnp    _ l  ii phneumn  todosporu_n n p i  perl  oeuxooeeu  mgl  superservrcros v superintendencia servicios publicos domiciliarios sofoosvos iiiiiiiiiiiiiiiiiiiiiiiiiiiiiiiiiiiiiiiiiiiiiiiiili pagina  4 nesoiucon  sspd  201732004  9395 15  12l2017 expediente  20173203901340095 decide recurso apelacion director territorialnorte superintendencia servicios publicos domiciliarios ejercicio facultades  especial confiere articulo 79 numeral 29  articulos 154 159 ley 142 1994  modificada ley 689 2001  articulo 20 numerales 1 2 decreto 990 2002  ley 1437 2011  fundamento siguientes antecedentes mediante peticion radicada sede prestador nore4110201705795 5 abril 2017    senor   mauricio zuniga solicita  reliquide retire cobro materiales facturados periodo mayo17  reliquide alto consumo abril17  prestador electrificadora caribe sa  esp   electricaribe sa  esp   javier alonso lastra fuscaldo  mediante decision 12 abril 2017  resolvio reclamacion presentada  accediendo  s  peticione  s   mediante escrito radicado re4110201705795 30 mayo 2017    peticionario   codigo suscriptor no7604350  presento recurso reposicion subsidio apelacion decision proferida prestador  traves resolucion no4988306 8 junio 2017  prestador resolvio recurso concedio apelacion superintendencia  radicada bajo  20178201302112 fecha  1711012017    procedencia recurso apelacion verificados requisitos admisibilidad recursos interpuestos  conformidad articulo 77 cpa  ca   154 159 ley 142 1994  encuentraque   senor   mauricio zuniga  presento termino lleno requisitos legales recurso reposicion subsidio apelacion  superintendencia entra resolver recurso  ill problema juridico resolver apelacion supuesto factico somete segunda instancia consideracion superintendencia servicios publicos domiciliarios constituye debate juridico resolver presente caso  consiste determinar si ocurrio desviacion significativa consumo periodos reclamados   usuario    si empresa obro conforme establece ley  asimismo  determinara si cobro mano obra procedente  vi  pruebas obrantes expediente  oo sgsi _ co1erseer sede principal  carrera 18 nro  8435  bogotar0c  codigo postal  110221 pbx  1  591 3005  fax  1  691 3059  sspdsuperserviciesgevce linea atencion  1  691 3006 bogota  linea gratuita nacional 01 3000 91 03 05 nit  3002509846 direccion territorial oriente calle 54 3194  bucaramanga  codigo postal  630003 pbx  7  6433140  fax  7  6437b13 dtorientesuperserviciesgevcu wwweupersewiciosgovco gd147592  zorrs2oo4rssss pagina 4 pruebas relacionan continuacion  obran dentro expediente envio empresa resolviera recurso apelacion   facturas  tl1822 vn  analisis despacho superintendencia servicios publicos domiciliarios  sspd  ejercicio funciones previstas articulo 79 ley 142 1994  modificadas articulo 13 ley 889 2001  control vigilancia frente empresas prestadoras servicios publicos domiciliarios  corresponde resolver recursos apelacion interpongan usuarios conforme establecido articulo 159 ley 142 1994  modificado articulo 20 ley 889 2001   bajo anterior competencia  vez analizadas pruebas obran expediente cuenta argumentos recurrente empresa prestadora servicio publico domiciliario energia  direccion territorial permite realizar sede apelacion  siguiente analisis   cobro mano obra  contrato condiciones uniformes empresa electricaribe  clausula 31  establece  clausula 3io revisiones medidores instalaciones suscriptor usuario  empresa podra adelantar revisiones yo verificaciones tecnicas  asi efectuar registros visuales instalaciones electricas equipos medida suscriptores usuarios  cualquier momento  fin cerciorarse correcto funcionamiento ios equipos instalados  adoptar medidas eficaces prevenir controlar cualquier hecho pueda implicar uso autorizado servicio energia electrica  suscriptor usuario debera permitir ia revision medidores  acometidas yla lectura periodica consumos  destinar  instalacion medidores  sitios facil acceso funcionarios autorizados empresa puedan llevar cabo dichas re visiones yo verificaciones   clausula 25   propiedad conexiones   propiedad redes  equipos eiementos integran acometida externa sera pagado ello  salvo inmuebles adhesion  caso perteneceran propietario inmueble adhieren  ello exime suscriptor usuario obligaciones resultantes contrato refieran bienes   cuanto caso subexamine  usuario reclama cobro mano obra facturado revision medidor  inmueble ningun funcionario empresa realizar tal revision  empresa servicios publicos afirma si realizo revision medidor  empero aporta prueba alguna fe ello  seria acta revision  anterior  ordenara retirar concepto facturacion realiza usuario   consumo abril 2017 caso ocupa articulo 37 resolucion creg 108 1997 senala paragrafo 1  entendera desviacion significativa  periodo facturacion correspondiente  aumentos reducciones consumos  comparados promedios ultimos tres periodos  si facturacion bimestral  ultimos seis periodos si facturacion mensual  mayores porcentajes fijen empresas condiciones uniformes contrato  asi mismo acuerdo contrato condiciones uniformes electrificadora caribe sa esp   electricaribe sa esp   superintendencia servicios publicos domiciliarios wwsupersewiciosgovco  sspdsuperserviciosgovco 201732004  9395 pagina 3 4 javier alonso lastra fuscaldo clausula 39   dispone rangos porcentajes configure desviacion significativa  acuerdo ello facturas historico consumos aportados  despacho procede realizar siguiente analisis  asi  dar aplicacion senalado regimen servicios publicos domiciliarios  tendra cuenta consumo promedio historico predio objeto reclamacion  factura consumo consumo mes prom  historico porcentaje mt3 mts3 desviacion abril 2017 210 _ 126 anterior analisis deduce bajo formula porcentaje expuesta empresa electrificadora caribe sa esp   electricaribe sa esp   javier alonso lastra fuscaldo dentro contrato condiciones uniformes  presento desviacion significativa consumo periodo abril 2017  toda vez consumos superan limites establecidos contrato condiciones uniformes empresa  cuenta anterior conforme articulo 149 ley 142 1994  empresa solo estara obligada realizar visita previa eventos configure desviacion significativa  casos energia conforme senalado contrato condiciones uniformes  acuerdo analisis anterior electrificadora caribe sa esp   electricaribe sa esp   javier alonso lastra fuscaldo encontraba obligada realizar revision previa conforme establecido articulo 149 ley 149 1994  modificar consumo facturado  dadas consideraciones facticas argumentacion juridica citada  despacho modifi ca decision empresarial 12 abril 2017  ordenara prestado ra retirar concepto cobro mano obra  46100  facturado mayo 2017  merito expuesto  despacho resuelve  articulo primero  modificar decision administrativa 12 abril 2017  proferi da electrificadora caribe sa esp   electricaribe sa esp   javier alonso lastra fuscaldo  ordenara prestadora retirar concep to cobro mano obra  46100  facturado mayo 2017  conformidad ex puesto parte motiva  paragrafo  prestador debera dar cumplimiento dispuesto presente resolucion  dentro diez  10  dias habiles siguientes fecha ejecutoria  vencido termino mas tardar dia habil siguiente prestador debera enviar superintendencia servicios publicos domiciliarios constancia cumplimiento  acompanada tes pruebas respectivas  incumplimiento obligacion generara imposicion sanciones previstas articulo 90 ley 1437 2011  articulo segundo  notificar personalmente contenido resolucion senor mauricio zuniga recibe notificaciones calle 51 14d53 urb monte verde  ciudad monteria  cordoba  haciendole entrega copia misma  caso poderse surtir notificacion personal  procedase notificacion aviso  conformidad dispuesto articulo 69 ley 1437 2011  igual forma evento existir autorizacion expresa efectuar notificacion correo electronico  procedera conforme establece articulo 67 cpaca direccion electronica   superintendencia servicios publicos domiciliarios wwwsuperserviciosgovco  sspdsuperserviciosgovco 201782004  9395 pagina 4 4 articulo tercero  notificar personalmente contenido resolucion representante legal empresa electrificadora caribe sa esp   electricaribe sa esp   javier alonso lastra fuscaldo  haga veces  puede ubicarse carrera 55  72  109 piso 7 ciudad barranquilla  atlantico  cumplimiento  haciendole entrega copia misma  caso poderse surtir notificacion personal  procedase notificacion aviso  conformidad dispuesto articulo 69 ley 1437 2011  igual forma evento existir autorizacion expresa prestadora efectuar notificacion correo electronico  procedera conforme establece articulo 67 cpaca direccion electronica  servicios  uridicosecaelectricaribecom  articulo cuarto  presente resolucr rige partir fecha notificacion proceden recursos encon arse agotada via administrativa  cumplase  dada barranquilla gus avo adolfo rosa berdejo   territorial norte proyecto  erika patricia gomez martinez  abogado   contratista revisa  jorge enrique prieto  abogado   contratista superintendencia servicios publicos domiciliarios wwwsuperserviciosgovco  sspdsuperserviciosgovco'"
      ]
     },
     "execution_count": 56,
     "metadata": {},
     "output_type": "execute_result"
    }
   ],
   "source": [
    "a"
   ]
  },
  {
   "cell_type": "code",
   "execution_count": 54,
   "metadata": {},
   "outputs": [],
   "source": [
    "val_decision_fe = re.findall('\\s*resuelve\\s*articulo\\s*(primero|1)\\s*\\w*\\s*decision\\s*(administrativa| )\\s*(no|n0| )\\s*\\d*(\\s*\\d*\\s\\w*\\s\\d*\\s\\d)', a)"
   ]
  },
  {
   "cell_type": "code",
   "execution_count": 53,
   "metadata": {},
   "outputs": [
    {
     "data": {
      "text/plain": [
       "[]"
      ]
     },
     "execution_count": 53,
     "metadata": {},
     "output_type": "execute_result"
    }
   ],
   "source": [
    "val_decision_fe"
   ]
  },
  {
   "cell_type": "code",
   "execution_count": null,
   "metadata": {},
   "outputs": [],
   "source": []
  },
  {
   "cell_type": "code",
   "execution_count": null,
   "metadata": {},
   "outputs": [],
   "source": []
  },
  {
   "cell_type": "code",
   "execution_count": null,
   "metadata": {},
   "outputs": [],
   "source": []
  },
  {
   "cell_type": "code",
   "execution_count": null,
   "metadata": {},
   "outputs": [],
   "source": []
  },
  {
   "cell_type": "code",
   "execution_count": null,
   "metadata": {},
   "outputs": [],
   "source": []
  },
  {
   "cell_type": "code",
   "execution_count": null,
   "metadata": {},
   "outputs": [],
   "source": []
  },
  {
   "cell_type": "code",
   "execution_count": null,
   "metadata": {},
   "outputs": [],
   "source": []
  },
  {
   "cell_type": "code",
   "execution_count": null,
   "metadata": {},
   "outputs": [],
   "source": []
  },
  {
   "cell_type": "code",
   "execution_count": null,
   "metadata": {},
   "outputs": [],
   "source": []
  },
  {
   "cell_type": "code",
   "execution_count": null,
   "metadata": {},
   "outputs": [],
   "source": []
  }
 ],
 "metadata": {
  "kernelspec": {
   "display_name": "Python 3",
   "language": "python",
   "name": "python3"
  },
  "language_info": {
   "codemirror_mode": {
    "name": "ipython",
    "version": 3
   },
   "file_extension": ".py",
   "mimetype": "text/x-python",
   "name": "python",
   "nbconvert_exporter": "python",
   "pygments_lexer": "ipython3",
   "version": "3.5.4"
  }
 },
 "nbformat": 4,
 "nbformat_minor": 2
}
