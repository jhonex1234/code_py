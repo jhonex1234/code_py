{
 "cells": [
  {
   "cell_type": "code",
   "execution_count": 1,
   "metadata": {},
   "outputs": [],
   "source": [
    "from unicodedata import normalize\n",
    "import pandas as pd\n",
    "from nltk import tokenize\n",
    "import nltk \n",
    "\n",
    "from nltk.corpus import gutenberg\n",
    "import random\n",
    "import re\n",
    "import numpy as np\n",
    "from numpy.random import normal, uniform\n",
    "\n",
    "import matplotlib.mlab as mlab\n",
    "from matplotlib import pyplot as  plt\n",
    "import plotly.plotly as py\n",
    "from time import time\n",
    "from nltk.corpus import stopwords\n",
    "from wordcloud import WordCloud, STOPWORDS\n",
    "from unicodedata import normalize"
   ]
  },
  {
   "cell_type": "code",
   "execution_count": null,
   "metadata": {},
   "outputs": [],
   "source": []
  }
 ],
 "metadata": {
  "kernelspec": {
   "display_name": "Python 3",
   "language": "python",
   "name": "python3"
  },
  "language_info": {
   "codemirror_mode": {
    "name": "ipython",
    "version": 3
   },
   "file_extension": ".py",
   "mimetype": "text/x-python",
   "name": "python",
   "nbconvert_exporter": "python",
   "pygments_lexer": "ipython3",
   "version": "3.5.4"
  }
 },
 "nbformat": 4,
 "nbformat_minor": 2
}
