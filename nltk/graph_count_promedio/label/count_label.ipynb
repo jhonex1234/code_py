{
 "cells": [
  {
   "cell_type": "code",
   "execution_count": 3,
   "metadata": {},
   "outputs": [],
   "source": [
    "import pandas as pd\n",
    "\n",
    "from matplotlib import pyplot as  plt\n",
    "\n",
    "import numpy as np\n",
    "\n",
    "import os"
   ]
  },
  {
   "cell_type": "code",
   "execution_count": 4,
   "metadata": {},
   "outputs": [],
   "source": [
    "def chatccb_data(mounts,years):\n",
    "    output_df = pd.DataFrame()\n",
    "    for mounth in mounts:\n",
    "        for year in years:\n",
    "            filepath = 'chatccb_{0}_{1}.xlsx'.format(mounth,year)\n",
    "            if os.path.isfile(filepath):\n",
    "                print(filepath)\n",
    "                input_df = pd.ExcelFile(filepath).parse('sheet1')\n",
    "                output_df = pd.concat([output_df,input_df],ignore_index=True)\n",
    "    return output_df"
   ]
  },
  {
   "cell_type": "code",
   "execution_count": 5,
   "metadata": {},
   "outputs": [],
   "source": [
    "mounts = ['ene','feb','mar']\n",
    "years = ['2015','2016','2017']"
   ]
  },
  {
   "cell_type": "markdown",
   "metadata": {},
   "source": [
    "### load_files.xlsx"
   ]
  },
  {
   "cell_type": "code",
   "execution_count": null,
   "metadata": {},
   "outputs": [],
   "source": [
    "dataframe = chatccb_data(mounts,years)"
   ]
  },
  {
   "cell_type": "code",
   "execution_count": 323,
   "metadata": {
    "scrolled": true
   },
   "outputs": [
    {
     "data": {
      "text/plain": [
       "2590"
      ]
     },
     "execution_count": 323,
     "metadata": {},
     "output_type": "execute_result"
    }
   ],
   "source": [
    "dataframe_chatccb = dataframe.copy()\n",
    "dataframe_chatccb = dataframe_chatccb[['sub_label', 'sub']]\n",
    "#dataframe_chatccb.drop(dataframe_chatccb.columns[0], axis=1, inplace=True)\n",
    "dataframe_chatccb.dropna(subset=['sub_label'], inplace=True)\n",
    "dataframe_chatccb['sub_label'] = dataframe_chatccb['sub_label'].apply(lambda text: str(text).lower().strip())\n",
    "dataframe_chatccb['sub'] = dataframe_chatccb['sub'].apply(lambda text: str(text).lower().strip())\n",
    "dataframe_chatccb = dataframe_chatccb[dataframe_chatccb.apply(lambda row: row['sub_label'] != '', axis=1)]\n",
    "len(dataframe_chatccb)"
   ]
  },
  {
   "cell_type": "code",
   "execution_count": 325,
   "metadata": {
    "scrolled": true
   },
   "outputs": [
    {
     "data": {
      "text/plain": [
       "otros                                 555\n",
       "rmmv                                  232\n",
       "clave virtual                         226\n",
       "rmm                                   156\n",
       "agente                                131\n",
       "rrup                                  104\n",
       "disolucion                             96\n",
       "plataforma                             75\n",
       "certificado                            53\n",
       "certificados                           53\n",
       "inconveniente clave virtual            49\n",
       "renovacion                             49\n",
       "procedimiento                          45\n",
       "costos                                 39\n",
       "problemas plataforma                   37\n",
       "aumento capital                        37\n",
       "constitucion                           36\n",
       "actualizacion                          35\n",
       "rup                                    34\n",
       "normas niif                            33\n",
       "registro mercantil                     33\n",
       "actualizar                             31\n",
       "ilpv                                   30\n",
       "reforma                                29\n",
       "años vencidos                          29\n",
       "pagos                                  27\n",
       "rmmf                                   26\n",
       "plazos                                 22\n",
       "aumento de capital                     21\n",
       "niif                                   20\n",
       "                                     ... \n",
       "informacion                             5\n",
       "modificacion                            5\n",
       "disminucion capital                     5\n",
       "base de datos                           5\n",
       "copia documentos                        5\n",
       "puntos de atencion                      4\n",
       "plazo                                   4\n",
       "mutacion                                4\n",
       "ciiu                                    4\n",
       "reactivacion empresa                    3\n",
       "r rup                                   3\n",
       "devolucion dinero                       2\n",
       "renovacion mercantil                    2\n",
       "circulo afiliados                       2\n",
       "cesion establecimiento de comercio      2\n",
       "sancion                                 2\n",
       "cancelacion                             2\n",
       "eventos                                 2\n",
       "cesion de acciones                      1\n",
       "firma digital                           1\n",
       "rruneol                                 1\n",
       "puntos atencion                         1\n",
       "renovacion rup                          1\n",
       "creacion empresa                        1\n",
       "ilpv sas                                1\n",
       "correcion                               1\n",
       "traslado domicio                        1\n",
       "rut                                     1\n",
       "cambio                                  1\n",
       "cesion de establecimiento               1\n",
       "Name: sub_label, Length: 75, dtype: int64"
      ]
     },
     "execution_count": 325,
     "metadata": {},
     "output_type": "execute_result"
    }
   ],
   "source": [
    "dataframe_chatccb['sub_label'].value_counts()"
   ]
  },
  {
   "cell_type": "code",
   "execution_count": 327,
   "metadata": {
    "scrolled": true
   },
   "outputs": [
    {
     "data": {
      "text/plain": [
       "nan                            1382\n",
       "generacion                      183\n",
       "procedimientos                  128\n",
       "procedimiento                   123\n",
       "                                 98\n",
       "activos                          65\n",
       "costos                           61\n",
       "certificado                      43\n",
       "ayuda                            36\n",
       "estados financieros              36\n",
       "requisitos                       28\n",
       "asistencia                       26\n",
       "beneficios                       26\n",
       "agente                           25\n",
       "acceso                           23\n",
       "pago                             22\n",
       "sas                              20\n",
       "inconvenientes                   16\n",
       "formulario                       15\n",
       "establecimiento de comercio      15\n",
       "orden de compra                  12\n",
       "costo                            12\n",
       "tramite                          12\n",
       "cancelacion                      12\n",
       "fechas                           11\n",
       "plazo                            10\n",
       "correccion                       10\n",
       "plataforma                        9\n",
       "pagos                             7\n",
       "tarifas                           7\n",
       "                               ... \n",
       "certificados                      2\n",
       "establecimiento                   2\n",
       "ciiu                              2\n",
       "vigencia                          2\n",
       "certificacion                     2\n",
       "homonimia                         2\n",
       "s.a.s                             2\n",
       "procedmiento                      2\n",
       "estado empresa                    2\n",
       "tiempo                            2\n",
       "razon social                      2\n",
       "error                             2\n",
       "proceso                           1\n",
       "estados financerios               1\n",
       "estado matricula                  1\n",
       "fecha                             1\n",
       "formato                           1\n",
       "estado                            1\n",
       "libros                            1\n",
       "procedimeintos                    1\n",
       "recibo pago                       1\n",
       "sucursal                          1\n",
       "formularios                       1\n",
       "objeto social                     1\n",
       "verificacion actas                1\n",
       "procedimentos                     1\n",
       "ciuu                              1\n",
       "empresa juridica                  1\n",
       "revisor fiscal                    1\n",
       "presencial                        1\n",
       "Name: sub, Length: 77, dtype: int64"
      ]
     },
     "execution_count": 327,
     "metadata": {},
     "output_type": "execute_result"
    }
   ],
   "source": [
    "dataframe_chatccb['sub'].value_counts()"
   ]
  },
  {
   "cell_type": "code",
   "execution_count": 224,
   "metadata": {},
   "outputs": [],
   "source": [
    "#dataframe_chatccb['sub_label'].unique().tolist()"
   ]
  },
  {
   "cell_type": "code",
   "execution_count": 225,
   "metadata": {
    "scrolled": true
   },
   "outputs": [],
   "source": [
    "#dataframe_chatccb['sub_label'].value_counts()"
   ]
  },
  {
   "cell_type": "markdown",
   "metadata": {},
   "source": [
    "### creacion reeplazo de palabras "
   ]
  },
  {
   "cell_type": "code",
   "execution_count": 359,
   "metadata": {},
   "outputs": [],
   "source": [
    "dic_key = {\n",
    "     'acceso':'otros',\n",
    "     'beneficios':'otros',\n",
    "     'costo':'costos',\n",
    "     'estados financieros':'normas niif',\n",
    "     'asistencia':'otros',\n",
    "     'ayuda':'otros',\n",
    "     'pago':'pagos',\n",
    "     'tarifas':'costos',\n",
    "     'error':'otros',\n",
    "     'activos':'costos',\n",
    "     'ordenes de pago':'orden de compra',   \n",
    "     'orden de pago':'orden de compra',\n",
    "     'actualizar':'actualizacion',\n",
    "     'agente':'otros',\n",
    "     'aumento capital':'aumento de capital',\n",
    "     'base de datos':'otros',\n",
    "     'cambio':'otros',\n",
    "     'cancelacion':'otros',\n",
    "     'certificado':'certificados',\n",
    "     'cesion de acciones':'otros',\n",
    "     'cesion de establecimiento':'otros',\n",
    "     'cesion establecimiento de comercio':'otros',\n",
    "     'ciiu':'actualizacion',\n",
    "     'ciuu':'actualizacion',\n",
    "     'circulo afiliados':'otros',\n",
    "     'clave virtual':'generar clave virtual',\n",
    "     'constitucion':'otros',\n",
    "     'constitucion sas':'otros',\n",
    "     'copia documentos':'otros',\n",
    "     'correcion':'correccion',\n",
    "     'creacion empresa':'otros',\n",
    "     'devolucion dinero':'otros',\n",
    "     'disminucion capital':'otros',\n",
    "     'eventos':'otros',\n",
    "     'firma digital':'otros',\n",
    "     'formularios':'otros',\n",
    "     'formulario':'otros',\n",
    "     'ilpc':'otros',\n",
    "     'ilpp':'otros',\n",
    "     'ilpv':'otros',\n",
    "     'ilpv sas':'otros',\n",
    "     'informacion':'procedimiento',\n",
    "     'matricula mercantil':'otros',\n",
    "     'mutacion':'otros',\n",
    "     'niif':'normas niif',\n",
    "     'nombramiento':'actualizacion',\n",
    "     'plataforma':'problemas plataforma',\n",
    "     'plazo':'plazos',\n",
    "     'procedimientos':'procedimiento',\n",
    "     'puntos atencion':'otros',\n",
    "     'puntos de atencion':'otros',\n",
    "     'r rup':'otros',\n",
    "     'reactivacion empresa':'otros',\n",
    "     'reforma':'otros',\n",
    "     'registro mercantil':'otros',\n",
    "     'registro rup':'otros',\n",
    "     'renovacion mercantil':'otros',\n",
    "     'renovacion rup':'otros',\n",
    "     'rnt':'otros',\n",
    "     'rruneol':'otros',\n",
    "     'rrup':'otros',\n",
    "     'rrupf':'otros',\n",
    "     'rrupv':'otros',\n",
    "     'rup':'otros',\n",
    "     'rup renovacion':'otros',\n",
    "     'renovacion rup':'otros',\n",
    "     'rut':'otros',\n",
    "     'sancion':'otros',\n",
    "     'traslado domicio':'otros',\n",
    "     'requisitos':'procedimiento',\n",
    "     'tramite':'procedimiento',\n",
    "     'estados financieros':'costos',\n",
    "     'estados financerios':'costos',\n",
    "     'años anteriores':'años vencidos',\n",
    "     'recibo pago':'otros',\n",
    "     'tarifa': 'costos',\n",
    "     'reliquidacion':'otros',\n",
    "     'certificacion':'certificados',\n",
    "     'fechas':'años vencidos'\n",
    "}\n",
    "dic_key_sub = [\n",
    "    'renovacion v',\n",
    "    'renovacion',\n",
    "    'rmm',\n",
    "    'rmmf',\n",
    "    'rmmv'\n",
    "]"
   ]
  },
  {
   "cell_type": "code",
   "execution_count": 372,
   "metadata": {},
   "outputs": [],
   "source": [
    "dataframe_chatccb_test = dataframe_chatccb.copy()\n",
    "dataframe_chatccb_test['sub_label'] = dataframe_chatccb_test['sub_label'].apply(lambda text : dic_key[text] if text in dic_key else text)\n",
    "labeled = dataframe_chatccb_test.apply(lambda row: dic_key[row['sub']] if row['sub'] in dic_key else row['sub'] if row['sub_label'] in dic_key_sub else row['sub_label'], axis=1)\n",
    "labeled.dropna(inplace=True)"
   ]
  },
  {
   "cell_type": "code",
   "execution_count": 375,
   "metadata": {},
   "outputs": [
    {
     "data": {
      "text/plain": [
       "otros                          1093\n",
       "generar clave virtual           243\n",
       "procedimiento                   241\n",
       "costos                          204\n",
       "certificados                    148\n",
       "problemas plataforma            121\n",
       "disolucion                       93\n",
       "actualizacion                    78\n",
       "pagos                            55\n",
       "normas niif                      53\n",
       "aumento de capital               51\n",
       "años vencidos                    51\n",
       "inconveniente clave virtual      49\n",
       "plazos                           36\n",
       "orden de compra                  34\n",
       "correccion                       20\n",
       "nan                              15\n",
       "modificacion                      5\n",
       "dtype: int64"
      ]
     },
     "execution_count": 375,
     "metadata": {},
     "output_type": "execute_result"
    }
   ],
   "source": [
    "labeled.value_counts() #.unique().tolist()"
   ]
  },
  {
   "cell_type": "markdown",
   "metadata": {},
   "source": [
    "### remove_label_otro"
   ]
  },
  {
   "cell_type": "code",
   "execution_count": 380,
   "metadata": {},
   "outputs": [],
   "source": [
    "dataframe_chatccb_size = labeled.groupby(labeled).size()\n",
    "dataframe_chatccb_size.drop(['otros', 'nan'], inplace=True)\n",
    "dataframe_chatccb_size_div = dataframe_chatccb_size.div(sum(dataframe_chatccb_size.values)/100).tolist()"
   ]
  },
  {
   "cell_type": "code",
   "execution_count": 381,
   "metadata": {},
   "outputs": [
    {
     "data": {
      "text/plain": [
       "actualizacion                   78\n",
       "aumento de capital              51\n",
       "años vencidos                   51\n",
       "certificados                   148\n",
       "correccion                      20\n",
       "costos                         204\n",
       "disolucion                      93\n",
       "generar clave virtual          243\n",
       "inconveniente clave virtual     49\n",
       "modificacion                     5\n",
       "normas niif                     53\n",
       "orden de compra                 34\n",
       "pagos                           55\n",
       "plazos                          36\n",
       "problemas plataforma           121\n",
       "procedimiento                  241\n",
       "dtype: int64"
      ]
     },
     "execution_count": 381,
     "metadata": {},
     "output_type": "execute_result"
    }
   ],
   "source": [
    "dataframe_chatccb_size"
   ]
  },
  {
   "cell_type": "markdown",
   "metadata": {},
   "source": [
    "### promedio_otros_categoria"
   ]
  },
  {
   "cell_type": "code",
   "execution_count": 382,
   "metadata": {},
   "outputs": [],
   "source": [
    "fracs = []\n",
    "label_all = len(dataframe_chatccb_test)-len(dataframe_chatccb_test.loc[dataframe_chatccb_test['sub_label'] == 'otros'])\n",
    "label_otros = len(dataframe.loc[dataframe['sub_label'] == 'otros'])\n",
    "fracs.append(label_otros)\n",
    "fracs.append(label_all)\n"
   ]
  },
  {
   "cell_type": "code",
   "execution_count": 383,
   "metadata": {},
   "outputs": [
    {
     "data": {
      "text/plain": [
       "['actualizacion',\n",
       " 'aumento de capital',\n",
       " 'años vencidos',\n",
       " 'certificados',\n",
       " 'correccion',\n",
       " 'costos',\n",
       " 'disolucion',\n",
       " 'generar clave virtual',\n",
       " 'inconveniente clave virtual',\n",
       " 'modificacion',\n",
       " 'normas niif',\n",
       " 'orden de compra',\n",
       " 'pagos',\n",
       " 'plazos',\n",
       " 'problemas plataforma',\n",
       " 'procedimiento']"
      ]
     },
     "execution_count": 383,
     "metadata": {},
     "output_type": "execute_result"
    }
   ],
   "source": [
    "labels = dataframe_chatccb_size.keys().tolist()\n",
    "labels"
   ]
  },
  {
   "cell_type": "code",
   "execution_count": 384,
   "metadata": {},
   "outputs": [
    {
     "data": {
      "text/plain": [
       "[5.263157894736842,\n",
       " 3.4412955465587043,\n",
       " 3.4412955465587043,\n",
       " 9.986504723346828,\n",
       " 1.349527665317139,\n",
       " 13.765182186234817,\n",
       " 6.275303643724696,\n",
       " 16.39676113360324,\n",
       " 3.3063427800269904,\n",
       " 0.33738191632928477,\n",
       " 3.576248313090418,\n",
       " 2.294197031039136,\n",
       " 3.711201079622132,\n",
       " 2.42914979757085,\n",
       " 8.164642375168691,\n",
       " 16.261808367071524]"
      ]
     },
     "execution_count": 384,
     "metadata": {},
     "output_type": "execute_result"
    }
   ],
   "source": [
    "dataframe_chatccb_size_div"
   ]
  },
  {
   "cell_type": "code",
   "execution_count": 386,
   "metadata": {
    "scrolled": false
   },
   "outputs": [
    {
     "data": {
      "image/png": "[encoded data removed]",
      "text/plain": [
       "<matplotlib.figure.Figure at 0x7ff54ad597b8>"
      ]
     },
     "metadata": {},
     "output_type": "display_data"
    }
   ],
   "source": [
    "#dataframe\n",
    "plt.figure(figsize=(17,10))\n",
    "\n",
    "bins = np.linspace(0, 400, 20)\n",
    "#plt.hist(dataframe_chatccb_size, bins, normed=False, histtype='stepfilled', color=\"r\",  alpha=1, label=\"label\")\n",
    "plt.bar(np.arange(len(dataframe_chatccb_size_div)), dataframe_chatccb_size_div)\n",
    "\n",
    "\n",
    "#plt.title(\"Percentage_Label\")\n",
    "plt.ylabel(\"Porcentaje\")#\n",
    "plt.xlabel(\"Categoria\")\n",
    "plt.xticks(np.arange(len(dataframe_chatccb_size_div)), labels, rotation=90)\n",
    "plt.savefig(\"Percentage_Label.jpg\", bbox_inches='tight')\n",
    "#plt.legend()\n",
    "plt.show()\n",
    "#plt.savefig(\"Percentage_Label.png\")"
   ]
  },
  {
   "cell_type": "code",
   "execution_count": null,
   "metadata": {},
   "outputs": [],
   "source": [
    "#labels\n",
    "len(dataframe_chatccb_size_div)\n",
    "fracs"
   ]
  },
  {
   "cell_type": "code",
   "execution_count": null,
   "metadata": {},
   "outputs": [],
   "source": []
  },
  {
   "cell_type": "code",
   "execution_count": 268,
   "metadata": {},
   "outputs": [
    {
     "data": {
      "image/png": "[encoded data removed]",
      "text/plain": [
       "<matplotlib.figure.Figure at 0x7ff54a976ef0>"
      ]
     },
     "metadata": {},
     "output_type": "display_data"
    }
   ],
   "source": [
    "from pylab import *\n",
    "\n",
    "# make a square figure and axes\n",
    "figure(1, figsize=(9,9))\n",
    "ax = axes([0.1, 0.1, 0.8, 0.8])\n",
    "\n",
    "# The slices will be ordered and plotted counter-clockwise.\n",
    "labels1 = 'otros', 'categorias'\n",
    "fracs\n",
    "explode= (0, 0)\n",
    "\n",
    "pie(fracs, explode=explode, labels=labels1,\n",
    "                autopct='%1.1f%%', shadow=True, startangle=90)\n",
    "                # The default startangle is 0, which would start\n",
    "                # the Frogs slice on the x-axis.  With startangle=90,\n",
    "                # everything is rotated counter-clockwise by 90 degrees,\n",
    "                # so the plotting starts on the positive y-axis.\n",
    "\n",
    "title('porcetage de categorias', bbox={'facecolor':'0.8', 'pad':5})\n",
    "\n",
    "show()"
   ]
  },
  {
   "cell_type": "code",
   "execution_count": 269,
   "metadata": {},
   "outputs": [
    {
     "data": {
      "text/plain": [
       "[16.862745098039213,\n",
       " 4.6498599439775905,\n",
       " 3.2492997198879547,\n",
       " 1.6246498599439774,\n",
       " 5.938375350140055,\n",
       " 0.5602240896358543,\n",
       " 2.1848739495798317,\n",
       " 5.378151260504201,\n",
       " 13.61344537815126,\n",
       " 2.745098039215686,\n",
       " 0.2801120448179272,\n",
       " 2.9691876750700277,\n",
       " 1.0644257703081232,\n",
       " 1.5126050420168067,\n",
       " 1.4565826330532212,\n",
       " 6.2745098039215685,\n",
       " 2.8011204481792715,\n",
       " 2.745098039215686,\n",
       " 0.8963585434173669,\n",
       " 8.739495798319327,\n",
       " 1.4565826330532212,\n",
       " 12.997198879551819]"
      ]
     },
     "execution_count": 269,
     "metadata": {},
     "output_type": "execute_result"
    }
   ],
   "source": [
    "dataframe_chatccb_size_div"
   ]
  },
  {
   "cell_type": "code",
   "execution_count": null,
   "metadata": {},
   "outputs": [],
   "source": []
  },
  {
   "cell_type": "code",
   "execution_count": null,
   "metadata": {},
   "outputs": [],
   "source": []
  },
  {
   "cell_type": "code",
   "execution_count": null,
   "metadata": {},
   "outputs": [],
   "source": []
  },
  {
   "cell_type": "code",
   "execution_count": null,
   "metadata": {},
   "outputs": [],
   "source": []
  },
  {
   "cell_type": "code",
   "execution_count": null,
   "metadata": {},
   "outputs": [],
   "source": []
  },
  {
   "cell_type": "code",
   "execution_count": null,
   "metadata": {},
   "outputs": [],
   "source": []
  }
 ],
 "metadata": {
  "kernelspec": {
   "display_name": "Python 3",
   "language": "python",
   "name": "python3"
  },
  "language_info": {
   "codemirror_mode": {
    "name": "ipython",
    "version": 3
   },
   "file_extension": ".py",
   "mimetype": "text/x-python",
   "name": "python",
   "nbconvert_exporter": "python",
   "pygments_lexer": "ipython3",
   "version": "3.5.4"
  }
 },
 "nbformat": 4,
 "nbformat_minor": 2
}
