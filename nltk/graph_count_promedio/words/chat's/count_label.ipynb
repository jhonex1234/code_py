{
 "cells": [
  {
   "cell_type": "code",
   "execution_count": 1,
   "metadata": {},
   "outputs": [],
   "source": [
    "import pandas as pd\n",
    "\n",
    "from matplotlib import pyplot as  plt\n",
    "\n",
    "import numpy as np\n",
    "\n",
    "import os"
   ]
  },
  {
   "cell_type": "code",
   "execution_count": 2,
   "metadata": {},
   "outputs": [],
   "source": [
    "def chatccb_data(mounts,years):\n",
    "    output_df = pd.DataFrame()\n",
    "    for mounth in mounts:\n",
    "        for year in years:\n",
    "            filepath = 'chatccb_{0}_{1}.xlsx'.format(mounth,year)\n",
    "            if os.path.isfile(filepath):\n",
    "                print(filepath)\n",
    "                input_df = pd.ExcelFile(filepath).parse('sheet1')\n",
    "                output_df = pd.concat([output_df,input_df],ignore_index=True)\n",
    "    return output_df"
   ]
  },
  {
   "cell_type": "code",
   "execution_count": 4,
   "metadata": {},
   "outputs": [],
   "source": [
    "mounts = ['ene']\n",
    "years = ['2015','2016','2017']"
   ]
  },
  {
   "cell_type": "markdown",
   "metadata": {},
   "source": [
    "### load_files.xlsx"
   ]
  },
  {
   "cell_type": "code",
   "execution_count": 23,
   "metadata": {},
   "outputs": [
    {
     "name": "stdout",
     "output_type": "stream",
     "text": [
      "chatccb_ene_2017.xlsx\n"
     ]
    }
   ],
   "source": [
    "dataframe = chatccb_data(mounts,years)"
   ]
  },
  {
   "cell_type": "code",
   "execution_count": 21,
   "metadata": {
    "scrolled": true
   },
   "outputs": [
    {
     "ename": "KeyError",
     "evalue": "\"['sub'] not in index\"",
     "output_type": "error",
     "traceback": [
      "\u001b[0;31m--------------------------------------------------------------------------\u001b[0m",
      "\u001b[0;31mKeyError\u001b[0m                                 Traceback (most recent call last)",
      "\u001b[0;32m<ipython-input-21-09dece994fcd>\u001b[0m in \u001b[0;36m<module>\u001b[0;34m()\u001b[0m\n\u001b[1;32m      1\u001b[0m \u001b[0mdataframe_chatccb\u001b[0m \u001b[0;34m=\u001b[0m \u001b[0mdataframe\u001b[0m\u001b[0;34m.\u001b[0m\u001b[0mcopy\u001b[0m\u001b[0;34m(\u001b[0m\u001b[0;34m)\u001b[0m\u001b[0;34m\u001b[0m\u001b[0m\n\u001b[0;32m----> 2\u001b[0;31m \u001b[0mdataframe_chatccb\u001b[0m \u001b[0;34m=\u001b[0m \u001b[0mdataframe_chatccb\u001b[0m\u001b[0;34m[\u001b[0m\u001b[0;34m[\u001b[0m\u001b[0;34m'sub_label'\u001b[0m\u001b[0;34m,\u001b[0m \u001b[0;34m'sub'\u001b[0m\u001b[0;34m]\u001b[0m\u001b[0;34m]\u001b[0m\u001b[0;34m\u001b[0m\u001b[0m\n\u001b[0m\u001b[1;32m      3\u001b[0m \u001b[0;31m#dataframe_chatccb.drop(dataframe_chatccb.columns[0], axis=1, inplace=True)\u001b[0m\u001b[0;34m\u001b[0m\u001b[0;34m\u001b[0m\u001b[0m\n\u001b[1;32m      4\u001b[0m \u001b[0mdataframe_chatccb\u001b[0m\u001b[0;34m.\u001b[0m\u001b[0mdropna\u001b[0m\u001b[0;34m(\u001b[0m\u001b[0msubset\u001b[0m\u001b[0;34m=\u001b[0m\u001b[0;34m[\u001b[0m\u001b[0;34m'sub_label'\u001b[0m\u001b[0;34m]\u001b[0m\u001b[0;34m,\u001b[0m \u001b[0minplace\u001b[0m\u001b[0;34m=\u001b[0m\u001b[0;32mTrue\u001b[0m\u001b[0;34m)\u001b[0m\u001b[0;34m\u001b[0m\u001b[0m\n\u001b[1;32m      5\u001b[0m \u001b[0mdataframe_chatccb\u001b[0m\u001b[0;34m[\u001b[0m\u001b[0;34m'sub_label'\u001b[0m\u001b[0;34m]\u001b[0m \u001b[0;34m=\u001b[0m \u001b[0mdataframe_chatccb\u001b[0m\u001b[0;34m[\u001b[0m\u001b[0;34m'sub_label'\u001b[0m\u001b[0;34m]\u001b[0m\u001b[0;34m.\u001b[0m\u001b[0mapply\u001b[0m\u001b[0;34m(\u001b[0m\u001b[0;32mlambda\u001b[0m \u001b[0mtext\u001b[0m\u001b[0;34m:\u001b[0m \u001b[0mstr\u001b[0m\u001b[0;34m(\u001b[0m\u001b[0mtext\u001b[0m\u001b[0;34m)\u001b[0m\u001b[0;34m.\u001b[0m\u001b[0mlower\u001b[0m\u001b[0;34m(\u001b[0m\u001b[0;34m)\u001b[0m\u001b[0;34m.\u001b[0m\u001b[0mstrip\u001b[0m\u001b[0;34m(\u001b[0m\u001b[0;34m)\u001b[0m\u001b[0;34m)\u001b[0m\u001b[0;34m\u001b[0m\u001b[0m\n",
      "\u001b[0;32m~/miniconda3/envs/nlp3/lib/python3.5/site-packages/pandas/core/frame.py\u001b[0m in \u001b[0;36m__getitem__\u001b[0;34m(self, key)\u001b[0m\n\u001b[1;32m   2131\u001b[0m         \u001b[0;32mif\u001b[0m \u001b[0misinstance\u001b[0m\u001b[0;34m(\u001b[0m\u001b[0mkey\u001b[0m\u001b[0;34m,\u001b[0m \u001b[0;34m(\u001b[0m\u001b[0mSeries\u001b[0m\u001b[0;34m,\u001b[0m \u001b[0mnp\u001b[0m\u001b[0;34m.\u001b[0m\u001b[0mndarray\u001b[0m\u001b[0;34m,\u001b[0m \u001b[0mIndex\u001b[0m\u001b[0;34m,\u001b[0m \u001b[0mlist\u001b[0m\u001b[0;34m)\u001b[0m\u001b[0;34m)\u001b[0m\u001b[0;34m:\u001b[0m\u001b[0;34m\u001b[0m\u001b[0m\n\u001b[1;32m   2132\u001b[0m             \u001b[0;31m# either boolean or fancy integer index\u001b[0m\u001b[0;34m\u001b[0m\u001b[0;34m\u001b[0m\u001b[0m\n\u001b[0;32m-> 2133\u001b[0;31m             \u001b[0;32mreturn\u001b[0m \u001b[0mself\u001b[0m\u001b[0;34m.\u001b[0m\u001b[0m_getitem_array\u001b[0m\u001b[0;34m(\u001b[0m\u001b[0mkey\u001b[0m\u001b[0;34m)\u001b[0m\u001b[0;34m\u001b[0m\u001b[0m\n\u001b[0m\u001b[1;32m   2134\u001b[0m         \u001b[0;32melif\u001b[0m \u001b[0misinstance\u001b[0m\u001b[0;34m(\u001b[0m\u001b[0mkey\u001b[0m\u001b[0;34m,\u001b[0m \u001b[0mDataFrame\u001b[0m\u001b[0;34m)\u001b[0m\u001b[0;34m:\u001b[0m\u001b[0;34m\u001b[0m\u001b[0m\n\u001b[1;32m   2135\u001b[0m             \u001b[0;32mreturn\u001b[0m \u001b[0mself\u001b[0m\u001b[0;34m.\u001b[0m\u001b[0m_getitem_frame\u001b[0m\u001b[0;34m(\u001b[0m\u001b[0mkey\u001b[0m\u001b[0;34m)\u001b[0m\u001b[0;34m\u001b[0m\u001b[0m\n",
      "\u001b[0;32m~/miniconda3/envs/nlp3/lib/python3.5/site-packages/pandas/core/frame.py\u001b[0m in \u001b[0;36m_getitem_array\u001b[0;34m(self, key)\u001b[0m\n\u001b[1;32m   2175\u001b[0m             \u001b[0;32mreturn\u001b[0m \u001b[0mself\u001b[0m\u001b[0;34m.\u001b[0m\u001b[0m_take\u001b[0m\u001b[0;34m(\u001b[0m\u001b[0mindexer\u001b[0m\u001b[0;34m,\u001b[0m \u001b[0maxis\u001b[0m\u001b[0;34m=\u001b[0m\u001b[0;36m0\u001b[0m\u001b[0;34m,\u001b[0m \u001b[0mconvert\u001b[0m\u001b[0;34m=\u001b[0m\u001b[0;32mFalse\u001b[0m\u001b[0;34m)\u001b[0m\u001b[0;34m\u001b[0m\u001b[0m\n\u001b[1;32m   2176\u001b[0m         \u001b[0;32melse\u001b[0m\u001b[0;34m:\u001b[0m\u001b[0;34m\u001b[0m\u001b[0m\n\u001b[0;32m-> 2177\u001b[0;31m             \u001b[0mindexer\u001b[0m \u001b[0;34m=\u001b[0m \u001b[0mself\u001b[0m\u001b[0;34m.\u001b[0m\u001b[0mloc\u001b[0m\u001b[0;34m.\u001b[0m\u001b[0m_convert_to_indexer\u001b[0m\u001b[0;34m(\u001b[0m\u001b[0mkey\u001b[0m\u001b[0;34m,\u001b[0m \u001b[0maxis\u001b[0m\u001b[0;34m=\u001b[0m\u001b[0;36m1\u001b[0m\u001b[0;34m)\u001b[0m\u001b[0;34m\u001b[0m\u001b[0m\n\u001b[0m\u001b[1;32m   2178\u001b[0m             \u001b[0;32mreturn\u001b[0m \u001b[0mself\u001b[0m\u001b[0;34m.\u001b[0m\u001b[0m_take\u001b[0m\u001b[0;34m(\u001b[0m\u001b[0mindexer\u001b[0m\u001b[0;34m,\u001b[0m \u001b[0maxis\u001b[0m\u001b[0;34m=\u001b[0m\u001b[0;36m1\u001b[0m\u001b[0;34m,\u001b[0m \u001b[0mconvert\u001b[0m\u001b[0;34m=\u001b[0m\u001b[0;32mTrue\u001b[0m\u001b[0;34m)\u001b[0m\u001b[0;34m\u001b[0m\u001b[0m\n\u001b[1;32m   2179\u001b[0m \u001b[0;34m\u001b[0m\u001b[0m\n",
      "\u001b[0;32m~/miniconda3/envs/nlp3/lib/python3.5/site-packages/pandas/core/indexing.py\u001b[0m in \u001b[0;36m_convert_to_indexer\u001b[0;34m(self, obj, axis, is_setter)\u001b[0m\n\u001b[1;32m   1267\u001b[0m                 \u001b[0;32mif\u001b[0m \u001b[0mmask\u001b[0m\u001b[0;34m.\u001b[0m\u001b[0many\u001b[0m\u001b[0;34m(\u001b[0m\u001b[0;34m)\u001b[0m\u001b[0;34m:\u001b[0m\u001b[0;34m\u001b[0m\u001b[0m\n\u001b[1;32m   1268\u001b[0m                     raise KeyError('{mask} not in index'\n\u001b[0;32m-> 1269\u001b[0;31m                                    .format(mask=objarr[mask]))\n\u001b[0m\u001b[1;32m   1270\u001b[0m \u001b[0;34m\u001b[0m\u001b[0m\n\u001b[1;32m   1271\u001b[0m                 \u001b[0;32mreturn\u001b[0m \u001b[0m_values_from_object\u001b[0m\u001b[0;34m(\u001b[0m\u001b[0mindexer\u001b[0m\u001b[0;34m)\u001b[0m\u001b[0;34m\u001b[0m\u001b[0m\n",
      "\u001b[0;31mKeyError\u001b[0m: \"['sub'] not in index\""
     ]
    }
   ],
   "source": [
    "dataframe_chatccb = dataframe.copy()\n",
    "dataframe_chatccb = dataframe_chatccb[['sub_label', 'sub']]\n",
    "#dataframe_chatccb.drop(dataframe_chatccb.columns[0], axis=1, inplace=True)\n",
    "dataframe_chatccb.dropna(subset=['sub_label'], inplace=True)\n",
    "dataframe_chatccb['sub_label'] = dataframe_chatccb['sub_label'].apply(lambda text: str(text).lower().strip())\n",
    "dataframe_chatccb['sub'] = dataframe_chatccb['sub'].apply(lambda text: str(text).lower().strip())\n",
    "dataframe_chatccb = dataframe_chatccb[dataframe_chatccb.apply(lambda row: row['sub_label'] != '', axis=1)]\n",
    "len(dataframe_chatccb)"
   ]
  },
  {
   "cell_type": "code",
   "execution_count": null,
   "metadata": {
    "scrolled": true
   },
   "outputs": [],
   "source": [
    "type(dataframe_chatccb['sub_label']) #.value_counts()"
   ]
  },
  {
   "cell_type": "code",
   "execution_count": null,
   "metadata": {
    "scrolled": true
   },
   "outputs": [],
   "source": [
    "#dataframe_chatccb['sub'].value_counts()"
   ]
  },
  {
   "cell_type": "code",
   "execution_count": 8,
   "metadata": {},
   "outputs": [],
   "source": [
    "#dataframe_chatccb['sub_label'].unique().tolist()"
   ]
  },
  {
   "cell_type": "code",
   "execution_count": 9,
   "metadata": {
    "scrolled": true
   },
   "outputs": [],
   "source": [
    "#dataframe_chatccb['sub_label'].value_counts()"
   ]
  },
  {
   "cell_type": "markdown",
   "metadata": {},
   "source": [
    "### creacion reeplazo de palabras "
   ]
  },
  {
   "cell_type": "code",
   "execution_count": null,
   "metadata": {},
   "outputs": [],
   "source": [
    "dic_key = {\n",
    "     'acceso':'otros',\n",
    "     'beneficios':'otros',\n",
    "     'costo':'costos',\n",
    "     'estados financieros':'normas niif',\n",
    "     'asistencia':'otros',\n",
    "     'ayuda':'otros',\n",
    "     'pago':'pagos',\n",
    "     'tarifas':'costos',\n",
    "     'error':'otros',\n",
    "     'activos':'costos',\n",
    "     'ordenes de pago':'orden de compra',   \n",
    "     'orden de pago':'orden de compra',\n",
    "     'actualizar':'actualizacion',\n",
    "     'agente':'otros',\n",
    "     'aumento capital':'aumento de capital',\n",
    "     'base de datos':'otros',\n",
    "     'cambio':'otros',\n",
    "     'cancelacion':'otros',\n",
    "     'certificado':'certificados',\n",
    "     'cesion de acciones':'otros',\n",
    "     'cesion de establecimiento':'otros',\n",
    "     'cesion establecimiento de comercio':'otros',\n",
    "     'ciiu':'actualizacion',\n",
    "     'ciuu':'actualizacion',\n",
    "     'circulo afiliados':'otros',\n",
    "     'clave virtual':'generar clave virtual',\n",
    "     'constitucion':'otros',\n",
    "     'constitucion sas':'otros',\n",
    "     'copia documentos':'otros',\n",
    "     'correcion':'correccion',\n",
    "     'creacion empresa':'otros',\n",
    "     'devolucion dinero':'otros',\n",
    "     'disminucion capital':'otros',\n",
    "     'eventos':'otros',\n",
    "     'firma digital':'otros',\n",
    "     'formularios':'otros',\n",
    "     'formulario':'otros',\n",
    "     'ilpc':'otros',\n",
    "     'ilpp':'otros',\n",
    "     'ilpv':'otros',\n",
    "     'ilpv sas':'otros',\n",
    "     'informacion':'procedimiento',\n",
    "     'matricula mercantil':'otros',\n",
    "     'mutacion':'otros',\n",
    "     'niif':'normas niif',\n",
    "     'nombramiento':'actualizacion',\n",
    "     'plataforma':'problemas plataforma',\n",
    "     'plazo':'plazos',\n",
    "     'procedimientos':'procedimiento',\n",
    "     'puntos atencion':'otros',\n",
    "     'puntos de atencion':'otros',\n",
    "     'r rup':'otros',\n",
    "     'reactivacion empresa':'otros',\n",
    "     'reforma':'otros',\n",
    "     'registro mercantil':'otros',\n",
    "     'registro rup':'otros',\n",
    "     'renovacion mercantil':'otros',\n",
    "     'renovacion rup':'otros',\n",
    "     'rnt':'otros',\n",
    "     'rruneol':'otros',\n",
    "     'rrup':'otros',\n",
    "     'rrupf':'otros',\n",
    "     'rrupv':'otros',\n",
    "     'rup':'otros',\n",
    "     'rup renovacion':'otros',\n",
    "     'renovacion rup':'otros',\n",
    "     'rut':'otros',\n",
    "     'sancion':'otros',\n",
    "     'traslado domicio':'otros',\n",
    "     'requisitos':'procedimiento',\n",
    "     'tramite':'procedimiento',\n",
    "     'estados financieros':'costos',\n",
    "     'estados financerios':'costos',\n",
    "     'años anteriores':'años vencidos',\n",
    "     'recibo pago':'otros',\n",
    "     'tarifa': 'costos',\n",
    "     'reliquidacion':'otros',\n",
    "     'certificacion':'certificados',\n",
    "     'fechas':'años vencidos'\n",
    "}\n",
    "dic_key_sub = [\n",
    "    'renovacion v',\n",
    "    'renovacion',\n",
    "    'rmm',\n",
    "    'rmmf',\n",
    "    'rmmv'\n",
    "]"
   ]
  },
  {
   "cell_type": "code",
   "execution_count": null,
   "metadata": {},
   "outputs": [],
   "source": [
    "dataframe_chatccb_test = dataframe_chatccb.copy()\n",
    "dataframe_chatccb_test['sub_label'] = dataframe_chatccb_test['sub_label'].apply(lambda text : dic_key[text] if text in dic_key else text)\n",
    "labeled = dataframe_chatccb_test.apply(lambda row: dic_key[row['sub']] if row['sub'] in dic_key else row['sub'] if row['sub_label'] in dic_key_sub else row['sub_label'], axis=1)\n",
    "labeled.dropna(inplace=True)"
   ]
  },
  {
   "cell_type": "code",
   "execution_count": null,
   "metadata": {},
   "outputs": [],
   "source": [
    "labeled.value_counts() #.unique().tolist()"
   ]
  },
  {
   "cell_type": "markdown",
   "metadata": {},
   "source": [
    "### remove_label_otro"
   ]
  },
  {
   "cell_type": "code",
   "execution_count": null,
   "metadata": {},
   "outputs": [],
   "source": [
    "dataframe_chatccb_size = dataframe_chatccb_test.groupby(dataframe_chatccb_test).size()\n",
    "dataframe_chatccb_size.drop(['otros', 'nan'], inplace=True)\n",
    "dataframe_chatccb_size_div = dataframe_chatccb_size.div(sum(dataframe_chatccb_size.values)/100).tolist()"
   ]
  },
  {
   "cell_type": "code",
   "execution_count": null,
   "metadata": {},
   "outputs": [],
   "source": [
    "dataframe_chatccb_size"
   ]
  },
  {
   "cell_type": "markdown",
   "metadata": {},
   "source": [
    "### promedio_otros_categoria"
   ]
  },
  {
   "cell_type": "code",
   "execution_count": null,
   "metadata": {},
   "outputs": [],
   "source": [
    "fracs = []\n",
    "label_all = len(dataframe_chatccb_test)-len(dataframe_chatccb_test.loc[dataframe_chatccb_test['sub_label'] == 'otros'])\n",
    "label_otros = len(dataframe.loc[dataframe['sub_label'] == 'otros'])\n",
    "fracs.append(label_otros)\n",
    "fracs.append(label_all)\n"
   ]
  },
  {
   "cell_type": "code",
   "execution_count": null,
   "metadata": {},
   "outputs": [],
   "source": [
    "labels = dataframe_chatccb_size.keys().tolist()\n",
    "labels"
   ]
  },
  {
   "cell_type": "code",
   "execution_count": null,
   "metadata": {},
   "outputs": [],
   "source": [
    "dataframe_chatccb_size_div"
   ]
  },
  {
   "cell_type": "code",
   "execution_count": null,
   "metadata": {
    "scrolled": false
   },
   "outputs": [],
   "source": [
    "#dataframe\n",
    "plt.figure(figsize=(17,10))\n",
    "\n",
    "bins = np.linspace(0, 400, 20)\n",
    "#plt.hist(dataframe_chatccb_size, bins, normed=False, histtype='stepfilled', color=\"r\",  alpha=1, label=\"label\")\n",
    "plt.bar(np.arange(len(dataframe_chatccb_size_div)), dataframe_chatccb_size_div)\n",
    "\n",
    "\n",
    "#plt.title(\"Percentage_Label\")\n",
    "plt.ylabel(\"Porcentaje\")#\n",
    "plt.xlabel(\"Categoria\")\n",
    "plt.xticks(np.arange(len(dataframe_chatccb_size_div)), labels, rotation=90)\n",
    "plt.savefig(\"Percentage_Label.jpg\", bbox_inches='tight')\n",
    "#plt.legend()\n",
    "plt.show()\n",
    "#plt.savefig(\"Percentage_Label.png\")"
   ]
  },
  {
   "cell_type": "code",
   "execution_count": null,
   "metadata": {},
   "outputs": [],
   "source": [
    "#labels\n",
    "len(dataframe_chatccb_size_div)\n",
    "fracs"
   ]
  },
  {
   "cell_type": "code",
   "execution_count": null,
   "metadata": {},
   "outputs": [],
   "source": []
  },
  {
   "cell_type": "code",
   "execution_count": null,
   "metadata": {},
   "outputs": [],
   "source": [
    "from pylab import *\n",
    "\n",
    "# make a square figure and axes\n",
    "figure(1, figsize=(9,9))\n",
    "ax = axes([0.1, 0.1, 0.8, 0.8])\n",
    "\n",
    "# The slices will be ordered and plotted counter-clockwise.\n",
    "labels1 = 'otros', 'categorias'\n",
    "fracs\n",
    "explode= (0, 0)\n",
    "\n",
    "pie(fracs, explode=explode, labels=labels1,\n",
    "                autopct='%1.1f%%', shadow=True, startangle=90)\n",
    "                # The default startangle is 0, which would start\n",
    "                # the Frogs slice on the x-axis.  With startangle=90,\n",
    "                # everything is rotated counter-clockwise by 90 degrees,\n",
    "                # so the plotting starts on the positive y-axis.\n",
    "\n",
    "title('porcetage de categorias', bbox={'facecolor':'0.8', 'pad':5})\n",
    "\n",
    "show()"
   ]
  },
  {
   "cell_type": "code",
   "execution_count": null,
   "metadata": {},
   "outputs": [],
   "source": [
    "dataframe_chatccb_size_div"
   ]
  },
  {
   "cell_type": "code",
   "execution_count": null,
   "metadata": {},
   "outputs": [],
   "source": []
  },
  {
   "cell_type": "code",
   "execution_count": null,
   "metadata": {},
   "outputs": [],
   "source": []
  },
  {
   "cell_type": "code",
   "execution_count": null,
   "metadata": {},
   "outputs": [],
   "source": []
  },
  {
   "cell_type": "code",
   "execution_count": null,
   "metadata": {},
   "outputs": [],
   "source": []
  },
  {
   "cell_type": "code",
   "execution_count": null,
   "metadata": {},
   "outputs": [],
   "source": []
  },
  {
   "cell_type": "code",
   "execution_count": null,
   "metadata": {},
   "outputs": [],
   "source": []
  },
  {
   "cell_type": "code",
   "execution_count": null,
   "metadata": {},
   "outputs": [],
   "source": []
  }
 ],
 "metadata": {
  "kernelspec": {
   "display_name": "Python 3",
   "language": "python",
   "name": "python3"
  },
  "language_info": {
   "codemirror_mode": {
    "name": "ipython",
    "version": 3
   },
   "file_extension": ".py",
   "mimetype": "text/x-python",
   "name": "python",
   "nbconvert_exporter": "python",
   "pygments_lexer": "ipython3",
   "version": "3.5.4"
  }
 },
 "nbformat": 4,
 "nbformat_minor": 2
}
