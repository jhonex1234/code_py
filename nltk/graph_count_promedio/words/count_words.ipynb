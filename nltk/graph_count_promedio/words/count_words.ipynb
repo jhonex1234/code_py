{
 "cells": [
  {
   "cell_type": "code",
   "execution_count": null,
   "metadata": {},
   "outputs": [],
   "source": [
    "from unicodedata import normalize\n",
    "import pandas as pd\n",
    "from nltk import tokenize\n",
    "import nltk \n",
    "\n",
    "from nltk.corpus import gutenberg\n",
    "import random\n",
    "import re\n",
    "import numpy as np\n",
    "from numpy.random import normal, uniform\n",
    "\n",
    "import matplotlib.mlab as mlab\n",
    "from matplotlib import pyplot as  plt\n",
    "import plotly.plotly as py\n",
    "from time import time\n",
    "from nltk.corpus import stopwords\n",
    "from wordcloud import WordCloud, STOPWORDS"
   ]
  },
  {
   "cell_type": "code",
   "execution_count": null,
   "metadata": {},
   "outputs": [],
   "source": [
    "def reading_csv(dir):\n",
    "    start = time()\n",
    "    dataframe = pd.read_excel(dir)\n",
    "    print('Save '+dir+' in dataframe %.2f seconds' % (time() - start))\n",
    "    return dataframe\n",
    "\n",
    "def filter_chat(dataframelist):\n",
    "    df = dataframelist.loc[dataframelist['id sesion'] == dataframelist['id sesion']]\n",
    "    df =  df.loc[(df['tipo participante'] == 'Usuario')]\n",
    "    return df"
   ]
  },
  {
   "cell_type": "code",
   "execution_count": null,
   "metadata": {},
   "outputs": [],
   "source": [
    "dataframe = reading_csv('chatccb_full_mar_2016.xlsx')"
   ]
  },
  {
   "cell_type": "code",
   "execution_count": null,
   "metadata": {},
   "outputs": [],
   "source": [
    "#only_one_chat= ' '.join(chat_user['mensaje'].get_values())\n",
    "def filter_chat(dataframelist,human):\n",
    "    df = dataframelist.loc[dataframelist['id sesion'] == dataframelist['id sesion']]\n",
    "    df =  df.loc[(df['tipo participante'] == human)]\n",
    "    return df\n",
    "\n",
    "datafram_filtered_user = filter_chat(dataframe,'Usuario')\n",
    "datafram_filtered_agent = filter_chat(dataframe,'Agente')\n",
    "print(\"user-> \",len(datafram_filtered_user))\n",
    "print(\"\\nagent-> \",len(datafram_filtered_agent))\n",
    "datafram_filtered_agent.dropna(subset=['mensaje'], inplace=True)\n",
    "datafram_filtered_user.dropna(subset=['mensaje'], inplace=True)"
   ]
  },
  {
   "cell_type": "markdown",
   "metadata": {},
   "source": [
    "## promedio words user/agent"
   ]
  },
  {
   "cell_type": "code",
   "execution_count": null,
   "metadata": {},
   "outputs": [],
   "source": [
    "## agent\n",
    "datafram_filtered_agent['cant_tokens'] = datafram_filtered_agent['mensaje'].apply(lambda token:len(tokenize.word_tokenize(str(token))))\n",
    "promedio_words_agent = datafram_filtered_agent.groupby('id sesion').apply(lambda row: row['cant_tokens'].sum()/len(row)).values.tolist()\n",
    "\n",
    "## user\n",
    "datafram_filtered_user['cant_tokens'] = datafram_filtered_user['mensaje'].apply(lambda token:len(tokenize.word_tokenize(str(token))))\n",
    "promedio_words_user = datafram_filtered_user.groupby('id sesion').apply(lambda row: row['cant_tokens'].sum()/len(row)).values.tolist()"
   ]
  },
  {
   "cell_type": "markdown",
   "metadata": {},
   "source": [
    "## graph_promedio_words_agent & user"
   ]
  },
  {
   "cell_type": "code",
   "execution_count": null,
   "metadata": {},
   "outputs": [],
   "source": [
    "# size_graph\n",
    "plt.figure(figsize=(10,10))\n",
    "\n",
    "bins = np.linspace(0, 45, 100)\n",
    "\n",
    "plt.hist(promedio_words_agent, bins, normed=False, histtype='stepfilled', color=\"b\", alpha=0.5, label=\"Agent\")\n",
    "plt.hist(promedio_words_user, bins, normed=False, histtype='stepfilled', color=\"r\",  alpha=0.5,label=\"User\")\n",
    "\n",
    "plt.title(\"Promedio_Word\")\n",
    "plt.ylabel(\"Number_Chats\")#\n",
    "plt.xlabel(\"Number_Words\")\n",
    "plt.legend()\n",
    "plt.savefig(\"Promedio_Word.jpg\", bbox_inches='tight')\n",
    "plt.show()"
   ]
  },
  {
   "cell_type": "markdown",
   "metadata": {},
   "source": [
    "## promedio letter user/agent"
   ]
  },
  {
   "cell_type": "code",
   "execution_count": null,
   "metadata": {},
   "outputs": [],
   "source": [
    "## agent\n",
    "datafram_filtered_agent['cant_letter'] = datafram_filtered_agent['mensaje'].apply(lambda token:len(re.sub('\\s','',re.sub('\\s','',token))))\n",
    "promedio_letter_agent = datafram_filtered_agent.groupby('id sesion').apply(lambda row: row['cant_letter'].sum()/len(row)).values.tolist()\n",
    "\n",
    "## user\n",
    "datafram_filtered_user['cant_letter'] = datafram_filtered_user['mensaje'].apply(lambda token:len(re.sub('\\s','',re.sub('\\s','',token))))\n",
    "promedio_letter_user = datafram_filtered_user.groupby('id sesion').apply(lambda row: row['cant_letter'].sum()/len(row)).values.tolist()"
   ]
  },
  {
   "cell_type": "code",
   "execution_count": null,
   "metadata": {},
   "outputs": [],
   "source": [
    "print('agent-> ',len(datafram_filtered_agent['cant_letter']))\n",
    "print('\\nuser-> ',len(datafram_filtered_user['cant_letter']))"
   ]
  },
  {
   "cell_type": "markdown",
   "metadata": {},
   "source": [
    "## graph_promedio_letter_agent & user"
   ]
  },
  {
   "cell_type": "code",
   "execution_count": null,
   "metadata": {},
   "outputs": [],
   "source": [
    "# size_graph\n",
    "plt.figure(figsize=(10,10))\n",
    "\n",
    "bins = np.linspace(0, 300, 100)\n",
    "\n",
    "plt.hist(promedio_letter_agent, bins, normed=False, histtype='stepfilled', color=\"b\", alpha=0.5, label=\"Agent\")\n",
    "plt.hist(promedio_letter_user, bins, normed=False, histtype='stepfilled', color=\"r\",  alpha=0.5, label=\"User\")\n",
    "\n",
    "plt.title(\"Promedio_letter\")\n",
    "plt.ylabel(\"Number_Chats\")#\n",
    "plt.xlabel(\"Number_letter\")\n",
    "plt.legend()\n",
    "plt.savefig(\"Promedio_letter.jpg\", bbox_inches='tight')\n",
    "plt.show()"
   ]
  },
  {
   "cell_type": "markdown",
   "metadata": {},
   "source": [
    "## cloud words most use user/agent"
   ]
  },
  {
   "cell_type": "code",
   "execution_count": null,
   "metadata": {},
   "outputs": [],
   "source": [
    "## agent\n",
    "most_letter_use_agent = datafram_filtered_agent['mensaje'].str.cat(sep=' ')\n",
    "\n",
    "## user\n",
    "most_letter_use_user = datafram_filtered_user['mensaje'].str.cat(sep=' ')"
   ]
  },
  {
   "cell_type": "markdown",
   "metadata": {},
   "source": [
    "## graph_cloud_letter_agent & user"
   ]
  },
  {
   "cell_type": "code",
   "execution_count": null,
   "metadata": {},
   "outputs": [],
   "source": [
    "wordcloud = WordCloud(max_words=100, stopwords=stopwords.words('spanish'), background_color='white' ).generate(most_letter_use_agent)\n",
    "#wordcloud = wordcloud(max_words=100, stopwords=stopwords.words('spanish'), background_color='white' ).generate(most_letter_use_user)\n",
    "plt.figure(figsize=(15,8))\n",
    "plt.imshow(wordcloud)\n",
    "plt.axis(\"off\")\n",
    "plt.savefig(\"cloud_Word_agent.jpg\", bbox_inches='tight')\n",
    "plt.show()"
   ]
  },
  {
   "cell_type": "code",
   "execution_count": null,
   "metadata": {},
   "outputs": [],
   "source": [
    "stop_words = stopwords.words('spanish') + ['buenas','gracias','buena','tarde','luego','necesito',\n",
    "                                          'señora','quiero','saber','sra','quisiera','sr','mil',\n",
    "                                          'tardes','buenos','hola','gmail','com','dias','ok',\n",
    "                                           'camara', 'comercio','Cámara','Bogotá',\n",
    "                                           'puede','favor','buen','día', 'dia',\n",
    "                                          'hago','dias','hacer','si','hace','despues',\n",
    "                                           'ayuda','hoy','ahi','tambíen','tambien'\n",
    "                                           ,'ma','pue','señorita','señor','internet'\n",
    "                                          ,'parte','nombre','posible','entonce','hice','duda',\n",
    "                                          'momento','claro','dice','perfecto','asi','bogota'\n",
    "                                          ,'paso','proceso','dias','do','aparece','pues','sale'\n",
    "                                           ,'co','mas','indica','bien','verdad','año'\n",
    "                                           ,'caso','pregunta','pasa','días','ahora','listo','solo'\n",
    "                                           ,'entonces','mira','ingreso','pregunta','decir','entiendo',\n",
    "                                           'mismo','bueno','deseo','ustede','ustedes','usted','Diana','deja'\n",
    "                                           ,'voy','debe','debo','hotmail','osea','nuevamente','cambio',\n",
    "                                           'siguiente','debo','Alejandro','alejandro','Carolina','carolina',\n",
    "                                           'pagina','aun','perdon','hora','tener','pena','cada','ser',\n",
    "                                           'correo','Karen','cada','tener','poder','veo','consulta','medio'\n",
    "                                           ,'inquietud','Francy','francy','puedes','ayudar','realizar',\n",
    "                                           'llego','mañana','hacerlo','mucha','permite','dicen','correcto'\n",
    "                                           ,'ano','puedo','podria','muchas','encuentro','ccb','org','senor',\n",
    "                                           'senora','senorita','natalia','colaborar','ver','va','tenia','ver',\n",
    "                                           'vale','estan','opcion','algun','error','problema','amable',\n",
    "                                           'ayer','indicar','ir','imprimir','copia','realice','cambiar','ingresar'\n",
    "                                           ,'persona'\n",
    "                                          ]\n",
    "most_letter_use_user =  normalize('NFKD', most_letter_use_user.lower()).encode('ascii','ignore').decode('utf-8')\n",
    "wordcloud_user = WordCloud(max_words=100, stopwords=stop_words, background_color='white' ).generate(most_letter_use_user)\n",
    "plt.figure(figsize=(15,8))\n",
    "plt.imshow(wordcloud_user)\n",
    "plt.axis(\"off\")\n",
    "plt.savefig(\"cloud_Word_user.jpg\", bbox_inches='tight')\n",
    "plt.show()"
   ]
  },
  {
   "cell_type": "code",
   "execution_count": null,
   "metadata": {},
   "outputs": [],
   "source": []
  },
  {
   "cell_type": "markdown",
   "metadata": {},
   "source": [
    "## example histogram_graph"
   ]
  },
  {
   "cell_type": "code",
   "execution_count": null,
   "metadata": {},
   "outputs": [],
   "source": [
    "gaussian_numbers = normal(size=1000)\n",
    "uniform_numbers = uniform(low=-3, high=3, size=1000)\n",
    "plt.hist(gaussian_numbers, bins=20, histtype='stepfilled', normed=False, color='y', label='Gaussian')\n",
    "plt.hist(uniform_numbers, bins=20, histtype='stepfilled', normed=False, color='r', alpha=0.5, label='Uniform')\n",
    "plt.title(\"Gaussian/Uniform Histogram\")\n",
    "plt.xlabel(\"Value\")\n",
    "plt.ylabel(\"Probability\")\n",
    "plt.legend()\n",
    "plt.show()"
   ]
  },
  {
   "cell_type": "code",
   "execution_count": null,
   "metadata": {},
   "outputs": [],
   "source": []
  },
  {
   "cell_type": "code",
   "execution_count": null,
   "metadata": {},
   "outputs": [],
   "source": [
    "#https://www.eumus.edu.uy/eme/ensenanza/electivas/python/CursoPython_clase11.html"
   ]
  },
  {
   "cell_type": "code",
   "execution_count": null,
   "metadata": {},
   "outputs": [],
   "source": [
    "from pylab import *\n",
    "\n",
    "# make a square figure and axes\n",
    "figure(1, figsize=(6,6))\n",
    "ax = axes([0.1, 0.1, 0.8, 0.8])\n",
    "\n",
    "# The slices will be ordered and plotted counter-clockwise.\n",
    "labels = 'Frogs', 'Hogs', 'Dogs', 'Logs'\n",
    "fracs = [15, 30, 45, 10]\n",
    "explode=(0, 0.05, 0, 0)\n",
    "\n",
    "pie(promedio_letter_user,\n",
    "                autopct='%1.1f%%', shadow=True, startangle=90)\n",
    "                # The default startangle is 0, which would start\n",
    "                # the Frogs slice on the x-axis.  With startangle=90,\n",
    "                # everything is rotated counter-clockwise by 90 degrees,\n",
    "                # so the plotting starts on the positive y-axis.\n",
    "\n",
    "title('Raining Hogs and Dogs', bbox={'facecolor':'0.8', 'pad':5})\n",
    "\n",
    "show()"
   ]
  },
  {
   "cell_type": "code",
   "execution_count": null,
   "metadata": {},
   "outputs": [],
   "source": []
  }
 ],
 "metadata": {
  "kernelspec": {
   "display_name": "Python 3",
   "language": "python",
   "name": "python3"
  },
  "language_info": {
   "codemirror_mode": {
    "name": "ipython",
    "version": 3
   },
   "file_extension": ".py",
   "mimetype": "text/x-python",
   "name": "python",
   "nbconvert_exporter": "python",
   "pygments_lexer": "ipython3",
   "version": "3.5.4"
  }
 },
 "nbformat": 4,
 "nbformat_minor": 2
}
